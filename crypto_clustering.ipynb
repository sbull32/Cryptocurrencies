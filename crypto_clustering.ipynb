{
 "cells": [
  {
   "cell_type": "markdown",
   "metadata": {},
   "source": [
    "# Clustering Crypto"
   ]
  },
  {
   "cell_type": "code",
   "execution_count": 87,
   "metadata": {},
   "outputs": [],
   "source": [
    "# Initial imports\n",
    "import pandas as pd\n",
    "import hvplot.pandas\n",
    "from path import Path\n",
    "import plotly.express as px\n",
    "from sklearn.preprocessing import StandardScaler, MinMaxScaler\n",
    "from sklearn.decomposition import PCA\n",
    "from sklearn.cluster import KMeans"
   ]
  },
  {
   "cell_type": "markdown",
   "metadata": {},
   "source": [
    "### Deliverable 1: Preprocessing the Data for PCA"
   ]
  },
  {
   "cell_type": "code",
   "execution_count": 54,
   "metadata": {},
   "outputs": [
    {
     "data": {
      "text/html": [
       "<div>\n",
       "<style scoped>\n",
       "    .dataframe tbody tr th:only-of-type {\n",
       "        vertical-align: middle;\n",
       "    }\n",
       "\n",
       "    .dataframe tbody tr th {\n",
       "        vertical-align: top;\n",
       "    }\n",
       "\n",
       "    .dataframe thead th {\n",
       "        text-align: right;\n",
       "    }\n",
       "</style>\n",
       "<table border=\"1\" class=\"dataframe\">\n",
       "  <thead>\n",
       "    <tr style=\"text-align: right;\">\n",
       "      <th></th>\n",
       "      <th>Unnamed: 0</th>\n",
       "      <th>CoinName</th>\n",
       "      <th>Algorithm</th>\n",
       "      <th>IsTrading</th>\n",
       "      <th>ProofType</th>\n",
       "      <th>TotalCoinsMined</th>\n",
       "      <th>TotalCoinSupply</th>\n",
       "    </tr>\n",
       "  </thead>\n",
       "  <tbody>\n",
       "    <tr>\n",
       "      <th>0</th>\n",
       "      <td>42</td>\n",
       "      <td>42 Coin</td>\n",
       "      <td>Scrypt</td>\n",
       "      <td>True</td>\n",
       "      <td>PoW/PoS</td>\n",
       "      <td>4.199995e+01</td>\n",
       "      <td>42</td>\n",
       "    </tr>\n",
       "    <tr>\n",
       "      <th>1</th>\n",
       "      <td>365</td>\n",
       "      <td>365Coin</td>\n",
       "      <td>X11</td>\n",
       "      <td>True</td>\n",
       "      <td>PoW/PoS</td>\n",
       "      <td>NaN</td>\n",
       "      <td>2300000000</td>\n",
       "    </tr>\n",
       "    <tr>\n",
       "      <th>2</th>\n",
       "      <td>404</td>\n",
       "      <td>404Coin</td>\n",
       "      <td>Scrypt</td>\n",
       "      <td>True</td>\n",
       "      <td>PoW/PoS</td>\n",
       "      <td>1.055185e+09</td>\n",
       "      <td>532000000</td>\n",
       "    </tr>\n",
       "    <tr>\n",
       "      <th>3</th>\n",
       "      <td>611</td>\n",
       "      <td>SixEleven</td>\n",
       "      <td>SHA-256</td>\n",
       "      <td>True</td>\n",
       "      <td>PoW</td>\n",
       "      <td>NaN</td>\n",
       "      <td>611000</td>\n",
       "    </tr>\n",
       "    <tr>\n",
       "      <th>4</th>\n",
       "      <td>808</td>\n",
       "      <td>808</td>\n",
       "      <td>SHA-256</td>\n",
       "      <td>True</td>\n",
       "      <td>PoW/PoS</td>\n",
       "      <td>0.000000e+00</td>\n",
       "      <td>0</td>\n",
       "    </tr>\n",
       "    <tr>\n",
       "      <th>...</th>\n",
       "      <td>...</td>\n",
       "      <td>...</td>\n",
       "      <td>...</td>\n",
       "      <td>...</td>\n",
       "      <td>...</td>\n",
       "      <td>...</td>\n",
       "      <td>...</td>\n",
       "    </tr>\n",
       "    <tr>\n",
       "      <th>1247</th>\n",
       "      <td>XBC</td>\n",
       "      <td>BitcoinPlus</td>\n",
       "      <td>Scrypt</td>\n",
       "      <td>True</td>\n",
       "      <td>PoS</td>\n",
       "      <td>1.283270e+05</td>\n",
       "      <td>1000000</td>\n",
       "    </tr>\n",
       "    <tr>\n",
       "      <th>1248</th>\n",
       "      <td>DVTC</td>\n",
       "      <td>DivotyCoin</td>\n",
       "      <td>Scrypt</td>\n",
       "      <td>False</td>\n",
       "      <td>PoW/PoS</td>\n",
       "      <td>2.149121e+07</td>\n",
       "      <td>100000000</td>\n",
       "    </tr>\n",
       "    <tr>\n",
       "      <th>1249</th>\n",
       "      <td>GIOT</td>\n",
       "      <td>Giotto Coin</td>\n",
       "      <td>Scrypt</td>\n",
       "      <td>False</td>\n",
       "      <td>PoW/PoS</td>\n",
       "      <td>NaN</td>\n",
       "      <td>233100000</td>\n",
       "    </tr>\n",
       "    <tr>\n",
       "      <th>1250</th>\n",
       "      <td>OPSC</td>\n",
       "      <td>OpenSourceCoin</td>\n",
       "      <td>SHA-256</td>\n",
       "      <td>False</td>\n",
       "      <td>PoW/PoS</td>\n",
       "      <td>NaN</td>\n",
       "      <td>21000000</td>\n",
       "    </tr>\n",
       "    <tr>\n",
       "      <th>1251</th>\n",
       "      <td>PUNK</td>\n",
       "      <td>SteamPunk</td>\n",
       "      <td>PoS</td>\n",
       "      <td>False</td>\n",
       "      <td>PoS</td>\n",
       "      <td>NaN</td>\n",
       "      <td>40000000</td>\n",
       "    </tr>\n",
       "  </tbody>\n",
       "</table>\n",
       "<p>1252 rows × 7 columns</p>\n",
       "</div>"
      ],
      "text/plain": [
       "     Unnamed: 0        CoinName Algorithm  IsTrading ProofType  \\\n",
       "0            42         42 Coin    Scrypt       True   PoW/PoS   \n",
       "1           365         365Coin       X11       True   PoW/PoS   \n",
       "2           404         404Coin    Scrypt       True   PoW/PoS   \n",
       "3           611       SixEleven   SHA-256       True       PoW   \n",
       "4           808             808   SHA-256       True   PoW/PoS   \n",
       "...         ...             ...       ...        ...       ...   \n",
       "1247        XBC     BitcoinPlus    Scrypt       True       PoS   \n",
       "1248       DVTC      DivotyCoin    Scrypt      False   PoW/PoS   \n",
       "1249       GIOT     Giotto Coin    Scrypt      False   PoW/PoS   \n",
       "1250       OPSC  OpenSourceCoin   SHA-256      False   PoW/PoS   \n",
       "1251       PUNK       SteamPunk       PoS      False       PoS   \n",
       "\n",
       "      TotalCoinsMined TotalCoinSupply  \n",
       "0        4.199995e+01              42  \n",
       "1                 NaN      2300000000  \n",
       "2        1.055185e+09       532000000  \n",
       "3                 NaN          611000  \n",
       "4        0.000000e+00               0  \n",
       "...               ...             ...  \n",
       "1247     1.283270e+05         1000000  \n",
       "1248     2.149121e+07       100000000  \n",
       "1249              NaN       233100000  \n",
       "1250              NaN        21000000  \n",
       "1251              NaN        40000000  \n",
       "\n",
       "[1252 rows x 7 columns]"
      ]
     },
     "execution_count": 54,
     "metadata": {},
     "output_type": "execute_result"
    }
   ],
   "source": [
    "# Load the crypto_data.csv dataset\n",
    "file = \"Resources/crypto_data.csv\"\n",
    "crypto_df = pd.read_csv(file)\n",
    "crypto_df"
   ]
  },
  {
   "cell_type": "code",
   "execution_count": 55,
   "metadata": {},
   "outputs": [
    {
     "data": {
      "text/plain": [
       "Unnamed: 0          object\n",
       "CoinName            object\n",
       "Algorithm           object\n",
       "IsTrading             bool\n",
       "ProofType           object\n",
       "TotalCoinsMined    float64\n",
       "TotalCoinSupply     object\n",
       "dtype: object"
      ]
     },
     "execution_count": 55,
     "metadata": {},
     "output_type": "execute_result"
    }
   ],
   "source": [
    "crypto_df.dtypes"
   ]
  },
  {
   "cell_type": "code",
   "execution_count": 56,
   "metadata": {},
   "outputs": [
    {
     "data": {
      "text/html": [
       "<div>\n",
       "<style scoped>\n",
       "    .dataframe tbody tr th:only-of-type {\n",
       "        vertical-align: middle;\n",
       "    }\n",
       "\n",
       "    .dataframe tbody tr th {\n",
       "        vertical-align: top;\n",
       "    }\n",
       "\n",
       "    .dataframe thead th {\n",
       "        text-align: right;\n",
       "    }\n",
       "</style>\n",
       "<table border=\"1\" class=\"dataframe\">\n",
       "  <thead>\n",
       "    <tr style=\"text-align: right;\">\n",
       "      <th></th>\n",
       "      <th>Unnamed: 0</th>\n",
       "      <th>CoinName</th>\n",
       "      <th>Algorithm</th>\n",
       "      <th>IsTrading</th>\n",
       "      <th>ProofType</th>\n",
       "      <th>TotalCoinsMined</th>\n",
       "      <th>TotalCoinSupply</th>\n",
       "    </tr>\n",
       "  </thead>\n",
       "  <tbody>\n",
       "    <tr>\n",
       "      <th>0</th>\n",
       "      <td>42</td>\n",
       "      <td>42 Coin</td>\n",
       "      <td>Scrypt</td>\n",
       "      <td>True</td>\n",
       "      <td>PoW/PoS</td>\n",
       "      <td>4.199995e+01</td>\n",
       "      <td>42</td>\n",
       "    </tr>\n",
       "    <tr>\n",
       "      <th>1</th>\n",
       "      <td>365</td>\n",
       "      <td>365Coin</td>\n",
       "      <td>X11</td>\n",
       "      <td>True</td>\n",
       "      <td>PoW/PoS</td>\n",
       "      <td>NaN</td>\n",
       "      <td>2300000000</td>\n",
       "    </tr>\n",
       "    <tr>\n",
       "      <th>2</th>\n",
       "      <td>404</td>\n",
       "      <td>404Coin</td>\n",
       "      <td>Scrypt</td>\n",
       "      <td>True</td>\n",
       "      <td>PoW/PoS</td>\n",
       "      <td>1.055185e+09</td>\n",
       "      <td>532000000</td>\n",
       "    </tr>\n",
       "    <tr>\n",
       "      <th>3</th>\n",
       "      <td>611</td>\n",
       "      <td>SixEleven</td>\n",
       "      <td>SHA-256</td>\n",
       "      <td>True</td>\n",
       "      <td>PoW</td>\n",
       "      <td>NaN</td>\n",
       "      <td>611000</td>\n",
       "    </tr>\n",
       "    <tr>\n",
       "      <th>4</th>\n",
       "      <td>808</td>\n",
       "      <td>808</td>\n",
       "      <td>SHA-256</td>\n",
       "      <td>True</td>\n",
       "      <td>PoW/PoS</td>\n",
       "      <td>0.000000e+00</td>\n",
       "      <td>0</td>\n",
       "    </tr>\n",
       "    <tr>\n",
       "      <th>...</th>\n",
       "      <td>...</td>\n",
       "      <td>...</td>\n",
       "      <td>...</td>\n",
       "      <td>...</td>\n",
       "      <td>...</td>\n",
       "      <td>...</td>\n",
       "      <td>...</td>\n",
       "    </tr>\n",
       "    <tr>\n",
       "      <th>1243</th>\n",
       "      <td>SERO</td>\n",
       "      <td>Super Zero</td>\n",
       "      <td>Ethash</td>\n",
       "      <td>True</td>\n",
       "      <td>PoW</td>\n",
       "      <td>NaN</td>\n",
       "      <td>1000000000</td>\n",
       "    </tr>\n",
       "    <tr>\n",
       "      <th>1244</th>\n",
       "      <td>UOS</td>\n",
       "      <td>UOS</td>\n",
       "      <td>SHA-256</td>\n",
       "      <td>True</td>\n",
       "      <td>DPoI</td>\n",
       "      <td>NaN</td>\n",
       "      <td>1000000000</td>\n",
       "    </tr>\n",
       "    <tr>\n",
       "      <th>1245</th>\n",
       "      <td>BDX</td>\n",
       "      <td>Beldex</td>\n",
       "      <td>CryptoNight</td>\n",
       "      <td>True</td>\n",
       "      <td>PoW</td>\n",
       "      <td>9.802226e+08</td>\n",
       "      <td>1400222610</td>\n",
       "    </tr>\n",
       "    <tr>\n",
       "      <th>1246</th>\n",
       "      <td>ZEN</td>\n",
       "      <td>Horizen</td>\n",
       "      <td>Equihash</td>\n",
       "      <td>True</td>\n",
       "      <td>PoW</td>\n",
       "      <td>7.296538e+06</td>\n",
       "      <td>21000000</td>\n",
       "    </tr>\n",
       "    <tr>\n",
       "      <th>1247</th>\n",
       "      <td>XBC</td>\n",
       "      <td>BitcoinPlus</td>\n",
       "      <td>Scrypt</td>\n",
       "      <td>True</td>\n",
       "      <td>PoS</td>\n",
       "      <td>1.283270e+05</td>\n",
       "      <td>1000000</td>\n",
       "    </tr>\n",
       "  </tbody>\n",
       "</table>\n",
       "<p>1144 rows × 7 columns</p>\n",
       "</div>"
      ],
      "text/plain": [
       "     Unnamed: 0     CoinName    Algorithm  IsTrading ProofType  \\\n",
       "0            42      42 Coin       Scrypt       True   PoW/PoS   \n",
       "1           365      365Coin          X11       True   PoW/PoS   \n",
       "2           404      404Coin       Scrypt       True   PoW/PoS   \n",
       "3           611    SixEleven      SHA-256       True       PoW   \n",
       "4           808          808      SHA-256       True   PoW/PoS   \n",
       "...         ...          ...          ...        ...       ...   \n",
       "1243       SERO   Super Zero       Ethash       True       PoW   \n",
       "1244        UOS          UOS      SHA-256       True      DPoI   \n",
       "1245        BDX       Beldex  CryptoNight       True       PoW   \n",
       "1246        ZEN      Horizen     Equihash       True       PoW   \n",
       "1247        XBC  BitcoinPlus       Scrypt       True       PoS   \n",
       "\n",
       "      TotalCoinsMined TotalCoinSupply  \n",
       "0        4.199995e+01              42  \n",
       "1                 NaN      2300000000  \n",
       "2        1.055185e+09       532000000  \n",
       "3                 NaN          611000  \n",
       "4        0.000000e+00               0  \n",
       "...               ...             ...  \n",
       "1243              NaN      1000000000  \n",
       "1244              NaN      1000000000  \n",
       "1245     9.802226e+08      1400222610  \n",
       "1246     7.296538e+06        21000000  \n",
       "1247     1.283270e+05         1000000  \n",
       "\n",
       "[1144 rows x 7 columns]"
      ]
     },
     "execution_count": 56,
     "metadata": {},
     "output_type": "execute_result"
    }
   ],
   "source": [
    "# Keep all the cryptocurrencies that are being traded.\n",
    "crypto_df = crypto_df.loc[crypto_df.IsTrading, :]\n",
    "crypto_df"
   ]
  },
  {
   "cell_type": "code",
   "execution_count": 57,
   "metadata": {},
   "outputs": [
    {
     "data": {
      "text/html": [
       "<div>\n",
       "<style scoped>\n",
       "    .dataframe tbody tr th:only-of-type {\n",
       "        vertical-align: middle;\n",
       "    }\n",
       "\n",
       "    .dataframe tbody tr th {\n",
       "        vertical-align: top;\n",
       "    }\n",
       "\n",
       "    .dataframe thead th {\n",
       "        text-align: right;\n",
       "    }\n",
       "</style>\n",
       "<table border=\"1\" class=\"dataframe\">\n",
       "  <thead>\n",
       "    <tr style=\"text-align: right;\">\n",
       "      <th></th>\n",
       "      <th>Unnamed: 0</th>\n",
       "      <th>CoinName</th>\n",
       "      <th>Algorithm</th>\n",
       "      <th>ProofType</th>\n",
       "      <th>TotalCoinsMined</th>\n",
       "      <th>TotalCoinSupply</th>\n",
       "    </tr>\n",
       "  </thead>\n",
       "  <tbody>\n",
       "    <tr>\n",
       "      <th>0</th>\n",
       "      <td>42</td>\n",
       "      <td>42 Coin</td>\n",
       "      <td>Scrypt</td>\n",
       "      <td>PoW/PoS</td>\n",
       "      <td>4.199995e+01</td>\n",
       "      <td>42</td>\n",
       "    </tr>\n",
       "    <tr>\n",
       "      <th>1</th>\n",
       "      <td>365</td>\n",
       "      <td>365Coin</td>\n",
       "      <td>X11</td>\n",
       "      <td>PoW/PoS</td>\n",
       "      <td>NaN</td>\n",
       "      <td>2300000000</td>\n",
       "    </tr>\n",
       "    <tr>\n",
       "      <th>2</th>\n",
       "      <td>404</td>\n",
       "      <td>404Coin</td>\n",
       "      <td>Scrypt</td>\n",
       "      <td>PoW/PoS</td>\n",
       "      <td>1.055185e+09</td>\n",
       "      <td>532000000</td>\n",
       "    </tr>\n",
       "    <tr>\n",
       "      <th>3</th>\n",
       "      <td>611</td>\n",
       "      <td>SixEleven</td>\n",
       "      <td>SHA-256</td>\n",
       "      <td>PoW</td>\n",
       "      <td>NaN</td>\n",
       "      <td>611000</td>\n",
       "    </tr>\n",
       "    <tr>\n",
       "      <th>4</th>\n",
       "      <td>808</td>\n",
       "      <td>808</td>\n",
       "      <td>SHA-256</td>\n",
       "      <td>PoW/PoS</td>\n",
       "      <td>0.000000e+00</td>\n",
       "      <td>0</td>\n",
       "    </tr>\n",
       "    <tr>\n",
       "      <th>...</th>\n",
       "      <td>...</td>\n",
       "      <td>...</td>\n",
       "      <td>...</td>\n",
       "      <td>...</td>\n",
       "      <td>...</td>\n",
       "      <td>...</td>\n",
       "    </tr>\n",
       "    <tr>\n",
       "      <th>1243</th>\n",
       "      <td>SERO</td>\n",
       "      <td>Super Zero</td>\n",
       "      <td>Ethash</td>\n",
       "      <td>PoW</td>\n",
       "      <td>NaN</td>\n",
       "      <td>1000000000</td>\n",
       "    </tr>\n",
       "    <tr>\n",
       "      <th>1244</th>\n",
       "      <td>UOS</td>\n",
       "      <td>UOS</td>\n",
       "      <td>SHA-256</td>\n",
       "      <td>DPoI</td>\n",
       "      <td>NaN</td>\n",
       "      <td>1000000000</td>\n",
       "    </tr>\n",
       "    <tr>\n",
       "      <th>1245</th>\n",
       "      <td>BDX</td>\n",
       "      <td>Beldex</td>\n",
       "      <td>CryptoNight</td>\n",
       "      <td>PoW</td>\n",
       "      <td>9.802226e+08</td>\n",
       "      <td>1400222610</td>\n",
       "    </tr>\n",
       "    <tr>\n",
       "      <th>1246</th>\n",
       "      <td>ZEN</td>\n",
       "      <td>Horizen</td>\n",
       "      <td>Equihash</td>\n",
       "      <td>PoW</td>\n",
       "      <td>7.296538e+06</td>\n",
       "      <td>21000000</td>\n",
       "    </tr>\n",
       "    <tr>\n",
       "      <th>1247</th>\n",
       "      <td>XBC</td>\n",
       "      <td>BitcoinPlus</td>\n",
       "      <td>Scrypt</td>\n",
       "      <td>PoS</td>\n",
       "      <td>1.283270e+05</td>\n",
       "      <td>1000000</td>\n",
       "    </tr>\n",
       "  </tbody>\n",
       "</table>\n",
       "<p>1144 rows × 6 columns</p>\n",
       "</div>"
      ],
      "text/plain": [
       "     Unnamed: 0     CoinName    Algorithm ProofType  TotalCoinsMined  \\\n",
       "0            42      42 Coin       Scrypt   PoW/PoS     4.199995e+01   \n",
       "1           365      365Coin          X11   PoW/PoS              NaN   \n",
       "2           404      404Coin       Scrypt   PoW/PoS     1.055185e+09   \n",
       "3           611    SixEleven      SHA-256       PoW              NaN   \n",
       "4           808          808      SHA-256   PoW/PoS     0.000000e+00   \n",
       "...         ...          ...          ...       ...              ...   \n",
       "1243       SERO   Super Zero       Ethash       PoW              NaN   \n",
       "1244        UOS          UOS      SHA-256      DPoI              NaN   \n",
       "1245        BDX       Beldex  CryptoNight       PoW     9.802226e+08   \n",
       "1246        ZEN      Horizen     Equihash       PoW     7.296538e+06   \n",
       "1247        XBC  BitcoinPlus       Scrypt       PoS     1.283270e+05   \n",
       "\n",
       "     TotalCoinSupply  \n",
       "0                 42  \n",
       "1         2300000000  \n",
       "2          532000000  \n",
       "3             611000  \n",
       "4                  0  \n",
       "...              ...  \n",
       "1243      1000000000  \n",
       "1244      1000000000  \n",
       "1245      1400222610  \n",
       "1246        21000000  \n",
       "1247         1000000  \n",
       "\n",
       "[1144 rows x 6 columns]"
      ]
     },
     "execution_count": 57,
     "metadata": {},
     "output_type": "execute_result"
    }
   ],
   "source": [
    "# Remove the \"IsTrading\" column. \n",
    "crypto_df = crypto_df.drop([\"IsTrading\"], axis=1)\n",
    "crypto_df"
   ]
  },
  {
   "cell_type": "code",
   "execution_count": 58,
   "metadata": {},
   "outputs": [
    {
     "data": {
      "text/html": [
       "<div>\n",
       "<style scoped>\n",
       "    .dataframe tbody tr th:only-of-type {\n",
       "        vertical-align: middle;\n",
       "    }\n",
       "\n",
       "    .dataframe tbody tr th {\n",
       "        vertical-align: top;\n",
       "    }\n",
       "\n",
       "    .dataframe thead th {\n",
       "        text-align: right;\n",
       "    }\n",
       "</style>\n",
       "<table border=\"1\" class=\"dataframe\">\n",
       "  <thead>\n",
       "    <tr style=\"text-align: right;\">\n",
       "      <th></th>\n",
       "      <th>Unnamed: 0</th>\n",
       "      <th>CoinName</th>\n",
       "      <th>Algorithm</th>\n",
       "      <th>ProofType</th>\n",
       "      <th>TotalCoinsMined</th>\n",
       "      <th>TotalCoinSupply</th>\n",
       "    </tr>\n",
       "  </thead>\n",
       "  <tbody>\n",
       "    <tr>\n",
       "      <th>0</th>\n",
       "      <td>42</td>\n",
       "      <td>42 Coin</td>\n",
       "      <td>Scrypt</td>\n",
       "      <td>PoW/PoS</td>\n",
       "      <td>4.199995e+01</td>\n",
       "      <td>42</td>\n",
       "    </tr>\n",
       "    <tr>\n",
       "      <th>2</th>\n",
       "      <td>404</td>\n",
       "      <td>404Coin</td>\n",
       "      <td>Scrypt</td>\n",
       "      <td>PoW/PoS</td>\n",
       "      <td>1.055185e+09</td>\n",
       "      <td>532000000</td>\n",
       "    </tr>\n",
       "    <tr>\n",
       "      <th>4</th>\n",
       "      <td>808</td>\n",
       "      <td>808</td>\n",
       "      <td>SHA-256</td>\n",
       "      <td>PoW/PoS</td>\n",
       "      <td>0.000000e+00</td>\n",
       "      <td>0</td>\n",
       "    </tr>\n",
       "    <tr>\n",
       "      <th>5</th>\n",
       "      <td>1337</td>\n",
       "      <td>EliteCoin</td>\n",
       "      <td>X13</td>\n",
       "      <td>PoW/PoS</td>\n",
       "      <td>2.927942e+10</td>\n",
       "      <td>314159265359</td>\n",
       "    </tr>\n",
       "    <tr>\n",
       "      <th>7</th>\n",
       "      <td>BTC</td>\n",
       "      <td>Bitcoin</td>\n",
       "      <td>SHA-256</td>\n",
       "      <td>PoW</td>\n",
       "      <td>1.792718e+07</td>\n",
       "      <td>21000000</td>\n",
       "    </tr>\n",
       "    <tr>\n",
       "      <th>...</th>\n",
       "      <td>...</td>\n",
       "      <td>...</td>\n",
       "      <td>...</td>\n",
       "      <td>...</td>\n",
       "      <td>...</td>\n",
       "      <td>...</td>\n",
       "    </tr>\n",
       "    <tr>\n",
       "      <th>1238</th>\n",
       "      <td>ZEPH</td>\n",
       "      <td>ZEPHYR</td>\n",
       "      <td>SHA-256</td>\n",
       "      <td>DPoS</td>\n",
       "      <td>2.000000e+09</td>\n",
       "      <td>2000000000</td>\n",
       "    </tr>\n",
       "    <tr>\n",
       "      <th>1242</th>\n",
       "      <td>GAP</td>\n",
       "      <td>Gapcoin</td>\n",
       "      <td>Scrypt</td>\n",
       "      <td>PoW/PoS</td>\n",
       "      <td>1.493105e+07</td>\n",
       "      <td>250000000</td>\n",
       "    </tr>\n",
       "    <tr>\n",
       "      <th>1245</th>\n",
       "      <td>BDX</td>\n",
       "      <td>Beldex</td>\n",
       "      <td>CryptoNight</td>\n",
       "      <td>PoW</td>\n",
       "      <td>9.802226e+08</td>\n",
       "      <td>1400222610</td>\n",
       "    </tr>\n",
       "    <tr>\n",
       "      <th>1246</th>\n",
       "      <td>ZEN</td>\n",
       "      <td>Horizen</td>\n",
       "      <td>Equihash</td>\n",
       "      <td>PoW</td>\n",
       "      <td>7.296538e+06</td>\n",
       "      <td>21000000</td>\n",
       "    </tr>\n",
       "    <tr>\n",
       "      <th>1247</th>\n",
       "      <td>XBC</td>\n",
       "      <td>BitcoinPlus</td>\n",
       "      <td>Scrypt</td>\n",
       "      <td>PoS</td>\n",
       "      <td>1.283270e+05</td>\n",
       "      <td>1000000</td>\n",
       "    </tr>\n",
       "  </tbody>\n",
       "</table>\n",
       "<p>685 rows × 6 columns</p>\n",
       "</div>"
      ],
      "text/plain": [
       "     Unnamed: 0     CoinName    Algorithm ProofType  TotalCoinsMined  \\\n",
       "0            42      42 Coin       Scrypt   PoW/PoS     4.199995e+01   \n",
       "2           404      404Coin       Scrypt   PoW/PoS     1.055185e+09   \n",
       "4           808          808      SHA-256   PoW/PoS     0.000000e+00   \n",
       "5          1337    EliteCoin          X13   PoW/PoS     2.927942e+10   \n",
       "7           BTC      Bitcoin      SHA-256       PoW     1.792718e+07   \n",
       "...         ...          ...          ...       ...              ...   \n",
       "1238       ZEPH       ZEPHYR      SHA-256      DPoS     2.000000e+09   \n",
       "1242        GAP      Gapcoin       Scrypt   PoW/PoS     1.493105e+07   \n",
       "1245        BDX       Beldex  CryptoNight       PoW     9.802226e+08   \n",
       "1246        ZEN      Horizen     Equihash       PoW     7.296538e+06   \n",
       "1247        XBC  BitcoinPlus       Scrypt       PoS     1.283270e+05   \n",
       "\n",
       "     TotalCoinSupply  \n",
       "0                 42  \n",
       "2          532000000  \n",
       "4                  0  \n",
       "5       314159265359  \n",
       "7           21000000  \n",
       "...              ...  \n",
       "1238      2000000000  \n",
       "1242       250000000  \n",
       "1245      1400222610  \n",
       "1246        21000000  \n",
       "1247         1000000  \n",
       "\n",
       "[685 rows x 6 columns]"
      ]
     },
     "execution_count": 58,
     "metadata": {},
     "output_type": "execute_result"
    }
   ],
   "source": [
    "# Remove rows that have at least 1 null value\n",
    "crypto_df = crypto_df.dropna()\n",
    "crypto_df"
   ]
  },
  {
   "cell_type": "code",
   "execution_count": 59,
   "metadata": {},
   "outputs": [
    {
     "data": {
      "text/html": [
       "<div>\n",
       "<style scoped>\n",
       "    .dataframe tbody tr th:only-of-type {\n",
       "        vertical-align: middle;\n",
       "    }\n",
       "\n",
       "    .dataframe tbody tr th {\n",
       "        vertical-align: top;\n",
       "    }\n",
       "\n",
       "    .dataframe thead th {\n",
       "        text-align: right;\n",
       "    }\n",
       "</style>\n",
       "<table border=\"1\" class=\"dataframe\">\n",
       "  <thead>\n",
       "    <tr style=\"text-align: right;\">\n",
       "      <th></th>\n",
       "      <th>Unnamed: 0</th>\n",
       "      <th>CoinName</th>\n",
       "      <th>Algorithm</th>\n",
       "      <th>ProofType</th>\n",
       "      <th>TotalCoinsMined</th>\n",
       "      <th>TotalCoinSupply</th>\n",
       "    </tr>\n",
       "  </thead>\n",
       "  <tbody>\n",
       "    <tr>\n",
       "      <th>0</th>\n",
       "      <td>42</td>\n",
       "      <td>42 Coin</td>\n",
       "      <td>Scrypt</td>\n",
       "      <td>PoW/PoS</td>\n",
       "      <td>4.199995e+01</td>\n",
       "      <td>42</td>\n",
       "    </tr>\n",
       "    <tr>\n",
       "      <th>2</th>\n",
       "      <td>404</td>\n",
       "      <td>404Coin</td>\n",
       "      <td>Scrypt</td>\n",
       "      <td>PoW/PoS</td>\n",
       "      <td>1.055185e+09</td>\n",
       "      <td>532000000</td>\n",
       "    </tr>\n",
       "    <tr>\n",
       "      <th>5</th>\n",
       "      <td>1337</td>\n",
       "      <td>EliteCoin</td>\n",
       "      <td>X13</td>\n",
       "      <td>PoW/PoS</td>\n",
       "      <td>2.927942e+10</td>\n",
       "      <td>314159265359</td>\n",
       "    </tr>\n",
       "    <tr>\n",
       "      <th>7</th>\n",
       "      <td>BTC</td>\n",
       "      <td>Bitcoin</td>\n",
       "      <td>SHA-256</td>\n",
       "      <td>PoW</td>\n",
       "      <td>1.792718e+07</td>\n",
       "      <td>21000000</td>\n",
       "    </tr>\n",
       "    <tr>\n",
       "      <th>8</th>\n",
       "      <td>ETH</td>\n",
       "      <td>Ethereum</td>\n",
       "      <td>Ethash</td>\n",
       "      <td>PoW</td>\n",
       "      <td>1.076842e+08</td>\n",
       "      <td>0</td>\n",
       "    </tr>\n",
       "    <tr>\n",
       "      <th>...</th>\n",
       "      <td>...</td>\n",
       "      <td>...</td>\n",
       "      <td>...</td>\n",
       "      <td>...</td>\n",
       "      <td>...</td>\n",
       "      <td>...</td>\n",
       "    </tr>\n",
       "    <tr>\n",
       "      <th>1238</th>\n",
       "      <td>ZEPH</td>\n",
       "      <td>ZEPHYR</td>\n",
       "      <td>SHA-256</td>\n",
       "      <td>DPoS</td>\n",
       "      <td>2.000000e+09</td>\n",
       "      <td>2000000000</td>\n",
       "    </tr>\n",
       "    <tr>\n",
       "      <th>1242</th>\n",
       "      <td>GAP</td>\n",
       "      <td>Gapcoin</td>\n",
       "      <td>Scrypt</td>\n",
       "      <td>PoW/PoS</td>\n",
       "      <td>1.493105e+07</td>\n",
       "      <td>250000000</td>\n",
       "    </tr>\n",
       "    <tr>\n",
       "      <th>1245</th>\n",
       "      <td>BDX</td>\n",
       "      <td>Beldex</td>\n",
       "      <td>CryptoNight</td>\n",
       "      <td>PoW</td>\n",
       "      <td>9.802226e+08</td>\n",
       "      <td>1400222610</td>\n",
       "    </tr>\n",
       "    <tr>\n",
       "      <th>1246</th>\n",
       "      <td>ZEN</td>\n",
       "      <td>Horizen</td>\n",
       "      <td>Equihash</td>\n",
       "      <td>PoW</td>\n",
       "      <td>7.296538e+06</td>\n",
       "      <td>21000000</td>\n",
       "    </tr>\n",
       "    <tr>\n",
       "      <th>1247</th>\n",
       "      <td>XBC</td>\n",
       "      <td>BitcoinPlus</td>\n",
       "      <td>Scrypt</td>\n",
       "      <td>PoS</td>\n",
       "      <td>1.283270e+05</td>\n",
       "      <td>1000000</td>\n",
       "    </tr>\n",
       "  </tbody>\n",
       "</table>\n",
       "<p>532 rows × 6 columns</p>\n",
       "</div>"
      ],
      "text/plain": [
       "     Unnamed: 0     CoinName    Algorithm ProofType  TotalCoinsMined  \\\n",
       "0            42      42 Coin       Scrypt   PoW/PoS     4.199995e+01   \n",
       "2           404      404Coin       Scrypt   PoW/PoS     1.055185e+09   \n",
       "5          1337    EliteCoin          X13   PoW/PoS     2.927942e+10   \n",
       "7           BTC      Bitcoin      SHA-256       PoW     1.792718e+07   \n",
       "8           ETH     Ethereum       Ethash       PoW     1.076842e+08   \n",
       "...         ...          ...          ...       ...              ...   \n",
       "1238       ZEPH       ZEPHYR      SHA-256      DPoS     2.000000e+09   \n",
       "1242        GAP      Gapcoin       Scrypt   PoW/PoS     1.493105e+07   \n",
       "1245        BDX       Beldex  CryptoNight       PoW     9.802226e+08   \n",
       "1246        ZEN      Horizen     Equihash       PoW     7.296538e+06   \n",
       "1247        XBC  BitcoinPlus       Scrypt       PoS     1.283270e+05   \n",
       "\n",
       "     TotalCoinSupply  \n",
       "0                 42  \n",
       "2          532000000  \n",
       "5       314159265359  \n",
       "7           21000000  \n",
       "8                  0  \n",
       "...              ...  \n",
       "1238      2000000000  \n",
       "1242       250000000  \n",
       "1245      1400222610  \n",
       "1246        21000000  \n",
       "1247         1000000  \n",
       "\n",
       "[532 rows x 6 columns]"
      ]
     },
     "execution_count": 59,
     "metadata": {},
     "output_type": "execute_result"
    }
   ],
   "source": [
    "# Keep the rows where coins are mined\n",
    "crypto_df = crypto_df[crypto_df.TotalCoinsMined > 0]\n",
    "crypto_df"
   ]
  },
  {
   "cell_type": "code",
   "execution_count": 60,
   "metadata": {},
   "outputs": [
    {
     "data": {
      "text/html": [
       "<div>\n",
       "<style scoped>\n",
       "    .dataframe tbody tr th:only-of-type {\n",
       "        vertical-align: middle;\n",
       "    }\n",
       "\n",
       "    .dataframe tbody tr th {\n",
       "        vertical-align: top;\n",
       "    }\n",
       "\n",
       "    .dataframe thead th {\n",
       "        text-align: right;\n",
       "    }\n",
       "</style>\n",
       "<table border=\"1\" class=\"dataframe\">\n",
       "  <thead>\n",
       "    <tr style=\"text-align: right;\">\n",
       "      <th></th>\n",
       "      <th>CoinName</th>\n",
       "      <th>Algorithm</th>\n",
       "      <th>ProofType</th>\n",
       "      <th>TotalCoinsMined</th>\n",
       "      <th>TotalCoinSupply</th>\n",
       "    </tr>\n",
       "    <tr>\n",
       "      <th>Unnamed: 0</th>\n",
       "      <th></th>\n",
       "      <th></th>\n",
       "      <th></th>\n",
       "      <th></th>\n",
       "      <th></th>\n",
       "    </tr>\n",
       "  </thead>\n",
       "  <tbody>\n",
       "    <tr>\n",
       "      <th>42</th>\n",
       "      <td>42 Coin</td>\n",
       "      <td>Scrypt</td>\n",
       "      <td>PoW/PoS</td>\n",
       "      <td>4.199995e+01</td>\n",
       "      <td>42</td>\n",
       "    </tr>\n",
       "    <tr>\n",
       "      <th>404</th>\n",
       "      <td>404Coin</td>\n",
       "      <td>Scrypt</td>\n",
       "      <td>PoW/PoS</td>\n",
       "      <td>1.055185e+09</td>\n",
       "      <td>532000000</td>\n",
       "    </tr>\n",
       "    <tr>\n",
       "      <th>1337</th>\n",
       "      <td>EliteCoin</td>\n",
       "      <td>X13</td>\n",
       "      <td>PoW/PoS</td>\n",
       "      <td>2.927942e+10</td>\n",
       "      <td>314159265359</td>\n",
       "    </tr>\n",
       "    <tr>\n",
       "      <th>BTC</th>\n",
       "      <td>Bitcoin</td>\n",
       "      <td>SHA-256</td>\n",
       "      <td>PoW</td>\n",
       "      <td>1.792718e+07</td>\n",
       "      <td>21000000</td>\n",
       "    </tr>\n",
       "    <tr>\n",
       "      <th>ETH</th>\n",
       "      <td>Ethereum</td>\n",
       "      <td>Ethash</td>\n",
       "      <td>PoW</td>\n",
       "      <td>1.076842e+08</td>\n",
       "      <td>0</td>\n",
       "    </tr>\n",
       "    <tr>\n",
       "      <th>...</th>\n",
       "      <td>...</td>\n",
       "      <td>...</td>\n",
       "      <td>...</td>\n",
       "      <td>...</td>\n",
       "      <td>...</td>\n",
       "    </tr>\n",
       "    <tr>\n",
       "      <th>ZEPH</th>\n",
       "      <td>ZEPHYR</td>\n",
       "      <td>SHA-256</td>\n",
       "      <td>DPoS</td>\n",
       "      <td>2.000000e+09</td>\n",
       "      <td>2000000000</td>\n",
       "    </tr>\n",
       "    <tr>\n",
       "      <th>GAP</th>\n",
       "      <td>Gapcoin</td>\n",
       "      <td>Scrypt</td>\n",
       "      <td>PoW/PoS</td>\n",
       "      <td>1.493105e+07</td>\n",
       "      <td>250000000</td>\n",
       "    </tr>\n",
       "    <tr>\n",
       "      <th>BDX</th>\n",
       "      <td>Beldex</td>\n",
       "      <td>CryptoNight</td>\n",
       "      <td>PoW</td>\n",
       "      <td>9.802226e+08</td>\n",
       "      <td>1400222610</td>\n",
       "    </tr>\n",
       "    <tr>\n",
       "      <th>ZEN</th>\n",
       "      <td>Horizen</td>\n",
       "      <td>Equihash</td>\n",
       "      <td>PoW</td>\n",
       "      <td>7.296538e+06</td>\n",
       "      <td>21000000</td>\n",
       "    </tr>\n",
       "    <tr>\n",
       "      <th>XBC</th>\n",
       "      <td>BitcoinPlus</td>\n",
       "      <td>Scrypt</td>\n",
       "      <td>PoS</td>\n",
       "      <td>1.283270e+05</td>\n",
       "      <td>1000000</td>\n",
       "    </tr>\n",
       "  </tbody>\n",
       "</table>\n",
       "<p>532 rows × 5 columns</p>\n",
       "</div>"
      ],
      "text/plain": [
       "               CoinName    Algorithm ProofType  TotalCoinsMined  \\\n",
       "Unnamed: 0                                                        \n",
       "42              42 Coin       Scrypt   PoW/PoS     4.199995e+01   \n",
       "404             404Coin       Scrypt   PoW/PoS     1.055185e+09   \n",
       "1337          EliteCoin          X13   PoW/PoS     2.927942e+10   \n",
       "BTC             Bitcoin      SHA-256       PoW     1.792718e+07   \n",
       "ETH            Ethereum       Ethash       PoW     1.076842e+08   \n",
       "...                 ...          ...       ...              ...   \n",
       "ZEPH             ZEPHYR      SHA-256      DPoS     2.000000e+09   \n",
       "GAP             Gapcoin       Scrypt   PoW/PoS     1.493105e+07   \n",
       "BDX              Beldex  CryptoNight       PoW     9.802226e+08   \n",
       "ZEN             Horizen     Equihash       PoW     7.296538e+06   \n",
       "XBC         BitcoinPlus       Scrypt       PoS     1.283270e+05   \n",
       "\n",
       "           TotalCoinSupply  \n",
       "Unnamed: 0                  \n",
       "42                      42  \n",
       "404              532000000  \n",
       "1337          314159265359  \n",
       "BTC               21000000  \n",
       "ETH                      0  \n",
       "...                    ...  \n",
       "ZEPH            2000000000  \n",
       "GAP              250000000  \n",
       "BDX             1400222610  \n",
       "ZEN               21000000  \n",
       "XBC                1000000  \n",
       "\n",
       "[532 rows x 5 columns]"
      ]
     },
     "execution_count": 60,
     "metadata": {},
     "output_type": "execute_result"
    }
   ],
   "source": [
    "# Set df index\n",
    "crypto_df = crypto_df.set_index(\"Unnamed: 0\")\n",
    "crypto_df"
   ]
  },
  {
   "cell_type": "code",
   "execution_count": 61,
   "metadata": {},
   "outputs": [
    {
     "data": {
      "text/html": [
       "<div>\n",
       "<style scoped>\n",
       "    .dataframe tbody tr th:only-of-type {\n",
       "        vertical-align: middle;\n",
       "    }\n",
       "\n",
       "    .dataframe tbody tr th {\n",
       "        vertical-align: top;\n",
       "    }\n",
       "\n",
       "    .dataframe thead th {\n",
       "        text-align: right;\n",
       "    }\n",
       "</style>\n",
       "<table border=\"1\" class=\"dataframe\">\n",
       "  <thead>\n",
       "    <tr style=\"text-align: right;\">\n",
       "      <th></th>\n",
       "      <th>CoinName</th>\n",
       "    </tr>\n",
       "    <tr>\n",
       "      <th>Unnamed: 0</th>\n",
       "      <th></th>\n",
       "    </tr>\n",
       "  </thead>\n",
       "  <tbody>\n",
       "    <tr>\n",
       "      <th>42</th>\n",
       "      <td>42 Coin</td>\n",
       "    </tr>\n",
       "    <tr>\n",
       "      <th>404</th>\n",
       "      <td>404Coin</td>\n",
       "    </tr>\n",
       "    <tr>\n",
       "      <th>1337</th>\n",
       "      <td>EliteCoin</td>\n",
       "    </tr>\n",
       "    <tr>\n",
       "      <th>BTC</th>\n",
       "      <td>Bitcoin</td>\n",
       "    </tr>\n",
       "    <tr>\n",
       "      <th>ETH</th>\n",
       "      <td>Ethereum</td>\n",
       "    </tr>\n",
       "    <tr>\n",
       "      <th>...</th>\n",
       "      <td>...</td>\n",
       "    </tr>\n",
       "    <tr>\n",
       "      <th>ZEPH</th>\n",
       "      <td>ZEPHYR</td>\n",
       "    </tr>\n",
       "    <tr>\n",
       "      <th>GAP</th>\n",
       "      <td>Gapcoin</td>\n",
       "    </tr>\n",
       "    <tr>\n",
       "      <th>BDX</th>\n",
       "      <td>Beldex</td>\n",
       "    </tr>\n",
       "    <tr>\n",
       "      <th>ZEN</th>\n",
       "      <td>Horizen</td>\n",
       "    </tr>\n",
       "    <tr>\n",
       "      <th>XBC</th>\n",
       "      <td>BitcoinPlus</td>\n",
       "    </tr>\n",
       "  </tbody>\n",
       "</table>\n",
       "<p>532 rows × 1 columns</p>\n",
       "</div>"
      ],
      "text/plain": [
       "               CoinName\n",
       "Unnamed: 0             \n",
       "42              42 Coin\n",
       "404             404Coin\n",
       "1337          EliteCoin\n",
       "BTC             Bitcoin\n",
       "ETH            Ethereum\n",
       "...                 ...\n",
       "ZEPH             ZEPHYR\n",
       "GAP             Gapcoin\n",
       "BDX              Beldex\n",
       "ZEN             Horizen\n",
       "XBC         BitcoinPlus\n",
       "\n",
       "[532 rows x 1 columns]"
      ]
     },
     "execution_count": 61,
     "metadata": {},
     "output_type": "execute_result"
    }
   ],
   "source": [
    "# Create a new DataFrame that holds only the cryptocurrencies names.\n",
    "crypto_coins_df = crypto_df.filter(['CoinName'])\n",
    "crypto_coins_df"
   ]
  },
  {
   "cell_type": "code",
   "execution_count": 62,
   "metadata": {},
   "outputs": [
    {
     "data": {
      "text/html": [
       "<div>\n",
       "<style scoped>\n",
       "    .dataframe tbody tr th:only-of-type {\n",
       "        vertical-align: middle;\n",
       "    }\n",
       "\n",
       "    .dataframe tbody tr th {\n",
       "        vertical-align: top;\n",
       "    }\n",
       "\n",
       "    .dataframe thead th {\n",
       "        text-align: right;\n",
       "    }\n",
       "</style>\n",
       "<table border=\"1\" class=\"dataframe\">\n",
       "  <thead>\n",
       "    <tr style=\"text-align: right;\">\n",
       "      <th></th>\n",
       "      <th>Algorithm</th>\n",
       "      <th>ProofType</th>\n",
       "      <th>TotalCoinsMined</th>\n",
       "      <th>TotalCoinSupply</th>\n",
       "    </tr>\n",
       "    <tr>\n",
       "      <th>Unnamed: 0</th>\n",
       "      <th></th>\n",
       "      <th></th>\n",
       "      <th></th>\n",
       "      <th></th>\n",
       "    </tr>\n",
       "  </thead>\n",
       "  <tbody>\n",
       "    <tr>\n",
       "      <th>42</th>\n",
       "      <td>Scrypt</td>\n",
       "      <td>PoW/PoS</td>\n",
       "      <td>4.199995e+01</td>\n",
       "      <td>42</td>\n",
       "    </tr>\n",
       "    <tr>\n",
       "      <th>404</th>\n",
       "      <td>Scrypt</td>\n",
       "      <td>PoW/PoS</td>\n",
       "      <td>1.055185e+09</td>\n",
       "      <td>532000000</td>\n",
       "    </tr>\n",
       "    <tr>\n",
       "      <th>1337</th>\n",
       "      <td>X13</td>\n",
       "      <td>PoW/PoS</td>\n",
       "      <td>2.927942e+10</td>\n",
       "      <td>314159265359</td>\n",
       "    </tr>\n",
       "    <tr>\n",
       "      <th>BTC</th>\n",
       "      <td>SHA-256</td>\n",
       "      <td>PoW</td>\n",
       "      <td>1.792718e+07</td>\n",
       "      <td>21000000</td>\n",
       "    </tr>\n",
       "    <tr>\n",
       "      <th>ETH</th>\n",
       "      <td>Ethash</td>\n",
       "      <td>PoW</td>\n",
       "      <td>1.076842e+08</td>\n",
       "      <td>0</td>\n",
       "    </tr>\n",
       "    <tr>\n",
       "      <th>...</th>\n",
       "      <td>...</td>\n",
       "      <td>...</td>\n",
       "      <td>...</td>\n",
       "      <td>...</td>\n",
       "    </tr>\n",
       "    <tr>\n",
       "      <th>ZEPH</th>\n",
       "      <td>SHA-256</td>\n",
       "      <td>DPoS</td>\n",
       "      <td>2.000000e+09</td>\n",
       "      <td>2000000000</td>\n",
       "    </tr>\n",
       "    <tr>\n",
       "      <th>GAP</th>\n",
       "      <td>Scrypt</td>\n",
       "      <td>PoW/PoS</td>\n",
       "      <td>1.493105e+07</td>\n",
       "      <td>250000000</td>\n",
       "    </tr>\n",
       "    <tr>\n",
       "      <th>BDX</th>\n",
       "      <td>CryptoNight</td>\n",
       "      <td>PoW</td>\n",
       "      <td>9.802226e+08</td>\n",
       "      <td>1400222610</td>\n",
       "    </tr>\n",
       "    <tr>\n",
       "      <th>ZEN</th>\n",
       "      <td>Equihash</td>\n",
       "      <td>PoW</td>\n",
       "      <td>7.296538e+06</td>\n",
       "      <td>21000000</td>\n",
       "    </tr>\n",
       "    <tr>\n",
       "      <th>XBC</th>\n",
       "      <td>Scrypt</td>\n",
       "      <td>PoS</td>\n",
       "      <td>1.283270e+05</td>\n",
       "      <td>1000000</td>\n",
       "    </tr>\n",
       "  </tbody>\n",
       "</table>\n",
       "<p>532 rows × 4 columns</p>\n",
       "</div>"
      ],
      "text/plain": [
       "              Algorithm ProofType  TotalCoinsMined TotalCoinSupply\n",
       "Unnamed: 0                                                        \n",
       "42               Scrypt   PoW/PoS     4.199995e+01              42\n",
       "404              Scrypt   PoW/PoS     1.055185e+09       532000000\n",
       "1337                X13   PoW/PoS     2.927942e+10    314159265359\n",
       "BTC             SHA-256       PoW     1.792718e+07        21000000\n",
       "ETH              Ethash       PoW     1.076842e+08               0\n",
       "...                 ...       ...              ...             ...\n",
       "ZEPH            SHA-256      DPoS     2.000000e+09      2000000000\n",
       "GAP              Scrypt   PoW/PoS     1.493105e+07       250000000\n",
       "BDX         CryptoNight       PoW     9.802226e+08      1400222610\n",
       "ZEN            Equihash       PoW     7.296538e+06        21000000\n",
       "XBC              Scrypt       PoS     1.283270e+05         1000000\n",
       "\n",
       "[532 rows x 4 columns]"
      ]
     },
     "execution_count": 62,
     "metadata": {},
     "output_type": "execute_result"
    }
   ],
   "source": [
    "# Drop the 'CoinName' column since it's not going to be used on the clustering algorithm.\n",
    "crypto_df = crypto_df.drop([\"CoinName\"], axis=1)\n",
    "crypto_df"
   ]
  },
  {
   "cell_type": "code",
   "execution_count": 64,
   "metadata": {},
   "outputs": [],
   "source": [
    "crypto_df['TotalCoinSupply'] = crypto_df['TotalCoinSupply'].astype('float64')"
   ]
  },
  {
   "cell_type": "code",
   "execution_count": 66,
   "metadata": {},
   "outputs": [
    {
     "data": {
      "text/html": [
       "<div>\n",
       "<style scoped>\n",
       "    .dataframe tbody tr th:only-of-type {\n",
       "        vertical-align: middle;\n",
       "    }\n",
       "\n",
       "    .dataframe tbody tr th {\n",
       "        vertical-align: top;\n",
       "    }\n",
       "\n",
       "    .dataframe thead th {\n",
       "        text-align: right;\n",
       "    }\n",
       "</style>\n",
       "<table border=\"1\" class=\"dataframe\">\n",
       "  <thead>\n",
       "    <tr style=\"text-align: right;\">\n",
       "      <th></th>\n",
       "      <th>TotalCoinsMined</th>\n",
       "      <th>TotalCoinSupply</th>\n",
       "      <th>Algorithm_1GB AES Pattern Search</th>\n",
       "      <th>Algorithm_536</th>\n",
       "      <th>Algorithm_Argon2d</th>\n",
       "      <th>Algorithm_BLAKE256</th>\n",
       "      <th>Algorithm_Blake</th>\n",
       "      <th>Algorithm_Blake2S</th>\n",
       "      <th>Algorithm_Blake2b</th>\n",
       "      <th>Algorithm_C11</th>\n",
       "      <th>...</th>\n",
       "      <th>ProofType_PoW/PoS</th>\n",
       "      <th>ProofType_PoW/PoS</th>\n",
       "      <th>ProofType_PoW/PoW</th>\n",
       "      <th>ProofType_PoW/nPoS</th>\n",
       "      <th>ProofType_Pos</th>\n",
       "      <th>ProofType_Proof of Authority</th>\n",
       "      <th>ProofType_Proof of Trust</th>\n",
       "      <th>ProofType_TPoS</th>\n",
       "      <th>ProofType_Zero-Knowledge Proof</th>\n",
       "      <th>ProofType_dPoW/PoW</th>\n",
       "    </tr>\n",
       "    <tr>\n",
       "      <th>Unnamed: 0</th>\n",
       "      <th></th>\n",
       "      <th></th>\n",
       "      <th></th>\n",
       "      <th></th>\n",
       "      <th></th>\n",
       "      <th></th>\n",
       "      <th></th>\n",
       "      <th></th>\n",
       "      <th></th>\n",
       "      <th></th>\n",
       "      <th></th>\n",
       "      <th></th>\n",
       "      <th></th>\n",
       "      <th></th>\n",
       "      <th></th>\n",
       "      <th></th>\n",
       "      <th></th>\n",
       "      <th></th>\n",
       "      <th></th>\n",
       "      <th></th>\n",
       "      <th></th>\n",
       "    </tr>\n",
       "  </thead>\n",
       "  <tbody>\n",
       "    <tr>\n",
       "      <th>42</th>\n",
       "      <td>4.199995e+01</td>\n",
       "      <td>4.200000e+01</td>\n",
       "      <td>0</td>\n",
       "      <td>0</td>\n",
       "      <td>0</td>\n",
       "      <td>0</td>\n",
       "      <td>0</td>\n",
       "      <td>0</td>\n",
       "      <td>0</td>\n",
       "      <td>0</td>\n",
       "      <td>...</td>\n",
       "      <td>1</td>\n",
       "      <td>0</td>\n",
       "      <td>0</td>\n",
       "      <td>0</td>\n",
       "      <td>0</td>\n",
       "      <td>0</td>\n",
       "      <td>0</td>\n",
       "      <td>0</td>\n",
       "      <td>0</td>\n",
       "      <td>0</td>\n",
       "    </tr>\n",
       "    <tr>\n",
       "      <th>404</th>\n",
       "      <td>1.055185e+09</td>\n",
       "      <td>5.320000e+08</td>\n",
       "      <td>0</td>\n",
       "      <td>0</td>\n",
       "      <td>0</td>\n",
       "      <td>0</td>\n",
       "      <td>0</td>\n",
       "      <td>0</td>\n",
       "      <td>0</td>\n",
       "      <td>0</td>\n",
       "      <td>...</td>\n",
       "      <td>1</td>\n",
       "      <td>0</td>\n",
       "      <td>0</td>\n",
       "      <td>0</td>\n",
       "      <td>0</td>\n",
       "      <td>0</td>\n",
       "      <td>0</td>\n",
       "      <td>0</td>\n",
       "      <td>0</td>\n",
       "      <td>0</td>\n",
       "    </tr>\n",
       "    <tr>\n",
       "      <th>1337</th>\n",
       "      <td>2.927942e+10</td>\n",
       "      <td>3.141593e+11</td>\n",
       "      <td>0</td>\n",
       "      <td>0</td>\n",
       "      <td>0</td>\n",
       "      <td>0</td>\n",
       "      <td>0</td>\n",
       "      <td>0</td>\n",
       "      <td>0</td>\n",
       "      <td>0</td>\n",
       "      <td>...</td>\n",
       "      <td>1</td>\n",
       "      <td>0</td>\n",
       "      <td>0</td>\n",
       "      <td>0</td>\n",
       "      <td>0</td>\n",
       "      <td>0</td>\n",
       "      <td>0</td>\n",
       "      <td>0</td>\n",
       "      <td>0</td>\n",
       "      <td>0</td>\n",
       "    </tr>\n",
       "    <tr>\n",
       "      <th>BTC</th>\n",
       "      <td>1.792718e+07</td>\n",
       "      <td>2.100000e+07</td>\n",
       "      <td>0</td>\n",
       "      <td>0</td>\n",
       "      <td>0</td>\n",
       "      <td>0</td>\n",
       "      <td>0</td>\n",
       "      <td>0</td>\n",
       "      <td>0</td>\n",
       "      <td>0</td>\n",
       "      <td>...</td>\n",
       "      <td>0</td>\n",
       "      <td>0</td>\n",
       "      <td>0</td>\n",
       "      <td>0</td>\n",
       "      <td>0</td>\n",
       "      <td>0</td>\n",
       "      <td>0</td>\n",
       "      <td>0</td>\n",
       "      <td>0</td>\n",
       "      <td>0</td>\n",
       "    </tr>\n",
       "    <tr>\n",
       "      <th>ETH</th>\n",
       "      <td>1.076842e+08</td>\n",
       "      <td>0.000000e+00</td>\n",
       "      <td>0</td>\n",
       "      <td>0</td>\n",
       "      <td>0</td>\n",
       "      <td>0</td>\n",
       "      <td>0</td>\n",
       "      <td>0</td>\n",
       "      <td>0</td>\n",
       "      <td>0</td>\n",
       "      <td>...</td>\n",
       "      <td>0</td>\n",
       "      <td>0</td>\n",
       "      <td>0</td>\n",
       "      <td>0</td>\n",
       "      <td>0</td>\n",
       "      <td>0</td>\n",
       "      <td>0</td>\n",
       "      <td>0</td>\n",
       "      <td>0</td>\n",
       "      <td>0</td>\n",
       "    </tr>\n",
       "    <tr>\n",
       "      <th>...</th>\n",
       "      <td>...</td>\n",
       "      <td>...</td>\n",
       "      <td>...</td>\n",
       "      <td>...</td>\n",
       "      <td>...</td>\n",
       "      <td>...</td>\n",
       "      <td>...</td>\n",
       "      <td>...</td>\n",
       "      <td>...</td>\n",
       "      <td>...</td>\n",
       "      <td>...</td>\n",
       "      <td>...</td>\n",
       "      <td>...</td>\n",
       "      <td>...</td>\n",
       "      <td>...</td>\n",
       "      <td>...</td>\n",
       "      <td>...</td>\n",
       "      <td>...</td>\n",
       "      <td>...</td>\n",
       "      <td>...</td>\n",
       "      <td>...</td>\n",
       "    </tr>\n",
       "    <tr>\n",
       "      <th>ZEPH</th>\n",
       "      <td>2.000000e+09</td>\n",
       "      <td>2.000000e+09</td>\n",
       "      <td>0</td>\n",
       "      <td>0</td>\n",
       "      <td>0</td>\n",
       "      <td>0</td>\n",
       "      <td>0</td>\n",
       "      <td>0</td>\n",
       "      <td>0</td>\n",
       "      <td>0</td>\n",
       "      <td>...</td>\n",
       "      <td>0</td>\n",
       "      <td>0</td>\n",
       "      <td>0</td>\n",
       "      <td>0</td>\n",
       "      <td>0</td>\n",
       "      <td>0</td>\n",
       "      <td>0</td>\n",
       "      <td>0</td>\n",
       "      <td>0</td>\n",
       "      <td>0</td>\n",
       "    </tr>\n",
       "    <tr>\n",
       "      <th>GAP</th>\n",
       "      <td>1.493105e+07</td>\n",
       "      <td>2.500000e+08</td>\n",
       "      <td>0</td>\n",
       "      <td>0</td>\n",
       "      <td>0</td>\n",
       "      <td>0</td>\n",
       "      <td>0</td>\n",
       "      <td>0</td>\n",
       "      <td>0</td>\n",
       "      <td>0</td>\n",
       "      <td>...</td>\n",
       "      <td>1</td>\n",
       "      <td>0</td>\n",
       "      <td>0</td>\n",
       "      <td>0</td>\n",
       "      <td>0</td>\n",
       "      <td>0</td>\n",
       "      <td>0</td>\n",
       "      <td>0</td>\n",
       "      <td>0</td>\n",
       "      <td>0</td>\n",
       "    </tr>\n",
       "    <tr>\n",
       "      <th>BDX</th>\n",
       "      <td>9.802226e+08</td>\n",
       "      <td>1.400223e+09</td>\n",
       "      <td>0</td>\n",
       "      <td>0</td>\n",
       "      <td>0</td>\n",
       "      <td>0</td>\n",
       "      <td>0</td>\n",
       "      <td>0</td>\n",
       "      <td>0</td>\n",
       "      <td>0</td>\n",
       "      <td>...</td>\n",
       "      <td>0</td>\n",
       "      <td>0</td>\n",
       "      <td>0</td>\n",
       "      <td>0</td>\n",
       "      <td>0</td>\n",
       "      <td>0</td>\n",
       "      <td>0</td>\n",
       "      <td>0</td>\n",
       "      <td>0</td>\n",
       "      <td>0</td>\n",
       "    </tr>\n",
       "    <tr>\n",
       "      <th>ZEN</th>\n",
       "      <td>7.296538e+06</td>\n",
       "      <td>2.100000e+07</td>\n",
       "      <td>0</td>\n",
       "      <td>0</td>\n",
       "      <td>0</td>\n",
       "      <td>0</td>\n",
       "      <td>0</td>\n",
       "      <td>0</td>\n",
       "      <td>0</td>\n",
       "      <td>0</td>\n",
       "      <td>...</td>\n",
       "      <td>0</td>\n",
       "      <td>0</td>\n",
       "      <td>0</td>\n",
       "      <td>0</td>\n",
       "      <td>0</td>\n",
       "      <td>0</td>\n",
       "      <td>0</td>\n",
       "      <td>0</td>\n",
       "      <td>0</td>\n",
       "      <td>0</td>\n",
       "    </tr>\n",
       "    <tr>\n",
       "      <th>XBC</th>\n",
       "      <td>1.283270e+05</td>\n",
       "      <td>1.000000e+06</td>\n",
       "      <td>0</td>\n",
       "      <td>0</td>\n",
       "      <td>0</td>\n",
       "      <td>0</td>\n",
       "      <td>0</td>\n",
       "      <td>0</td>\n",
       "      <td>0</td>\n",
       "      <td>0</td>\n",
       "      <td>...</td>\n",
       "      <td>0</td>\n",
       "      <td>0</td>\n",
       "      <td>0</td>\n",
       "      <td>0</td>\n",
       "      <td>0</td>\n",
       "      <td>0</td>\n",
       "      <td>0</td>\n",
       "      <td>0</td>\n",
       "      <td>0</td>\n",
       "      <td>0</td>\n",
       "    </tr>\n",
       "  </tbody>\n",
       "</table>\n",
       "<p>532 rows × 98 columns</p>\n",
       "</div>"
      ],
      "text/plain": [
       "            TotalCoinsMined  TotalCoinSupply  \\\n",
       "Unnamed: 0                                     \n",
       "42             4.199995e+01     4.200000e+01   \n",
       "404            1.055185e+09     5.320000e+08   \n",
       "1337           2.927942e+10     3.141593e+11   \n",
       "BTC            1.792718e+07     2.100000e+07   \n",
       "ETH            1.076842e+08     0.000000e+00   \n",
       "...                     ...              ...   \n",
       "ZEPH           2.000000e+09     2.000000e+09   \n",
       "GAP            1.493105e+07     2.500000e+08   \n",
       "BDX            9.802226e+08     1.400223e+09   \n",
       "ZEN            7.296538e+06     2.100000e+07   \n",
       "XBC            1.283270e+05     1.000000e+06   \n",
       "\n",
       "            Algorithm_1GB AES Pattern Search  Algorithm_536  \\\n",
       "Unnamed: 0                                                    \n",
       "42                                         0              0   \n",
       "404                                        0              0   \n",
       "1337                                       0              0   \n",
       "BTC                                        0              0   \n",
       "ETH                                        0              0   \n",
       "...                                      ...            ...   \n",
       "ZEPH                                       0              0   \n",
       "GAP                                        0              0   \n",
       "BDX                                        0              0   \n",
       "ZEN                                        0              0   \n",
       "XBC                                        0              0   \n",
       "\n",
       "            Algorithm_Argon2d  Algorithm_BLAKE256  Algorithm_Blake  \\\n",
       "Unnamed: 0                                                           \n",
       "42                          0                   0                0   \n",
       "404                         0                   0                0   \n",
       "1337                        0                   0                0   \n",
       "BTC                         0                   0                0   \n",
       "ETH                         0                   0                0   \n",
       "...                       ...                 ...              ...   \n",
       "ZEPH                        0                   0                0   \n",
       "GAP                         0                   0                0   \n",
       "BDX                         0                   0                0   \n",
       "ZEN                         0                   0                0   \n",
       "XBC                         0                   0                0   \n",
       "\n",
       "            Algorithm_Blake2S  Algorithm_Blake2b  Algorithm_C11  ...  \\\n",
       "Unnamed: 0                                                       ...   \n",
       "42                          0                  0              0  ...   \n",
       "404                         0                  0              0  ...   \n",
       "1337                        0                  0              0  ...   \n",
       "BTC                         0                  0              0  ...   \n",
       "ETH                         0                  0              0  ...   \n",
       "...                       ...                ...            ...  ...   \n",
       "ZEPH                        0                  0              0  ...   \n",
       "GAP                         0                  0              0  ...   \n",
       "BDX                         0                  0              0  ...   \n",
       "ZEN                         0                  0              0  ...   \n",
       "XBC                         0                  0              0  ...   \n",
       "\n",
       "            ProofType_PoW/PoS  ProofType_PoW/PoS   ProofType_PoW/PoW  \\\n",
       "Unnamed: 0                                                             \n",
       "42                          1                   0                  0   \n",
       "404                         1                   0                  0   \n",
       "1337                        1                   0                  0   \n",
       "BTC                         0                   0                  0   \n",
       "ETH                         0                   0                  0   \n",
       "...                       ...                 ...                ...   \n",
       "ZEPH                        0                   0                  0   \n",
       "GAP                         1                   0                  0   \n",
       "BDX                         0                   0                  0   \n",
       "ZEN                         0                   0                  0   \n",
       "XBC                         0                   0                  0   \n",
       "\n",
       "            ProofType_PoW/nPoS  ProofType_Pos  ProofType_Proof of Authority  \\\n",
       "Unnamed: 0                                                                    \n",
       "42                           0              0                             0   \n",
       "404                          0              0                             0   \n",
       "1337                         0              0                             0   \n",
       "BTC                          0              0                             0   \n",
       "ETH                          0              0                             0   \n",
       "...                        ...            ...                           ...   \n",
       "ZEPH                         0              0                             0   \n",
       "GAP                          0              0                             0   \n",
       "BDX                          0              0                             0   \n",
       "ZEN                          0              0                             0   \n",
       "XBC                          0              0                             0   \n",
       "\n",
       "            ProofType_Proof of Trust  ProofType_TPoS  \\\n",
       "Unnamed: 0                                             \n",
       "42                                 0               0   \n",
       "404                                0               0   \n",
       "1337                               0               0   \n",
       "BTC                                0               0   \n",
       "ETH                                0               0   \n",
       "...                              ...             ...   \n",
       "ZEPH                               0               0   \n",
       "GAP                                0               0   \n",
       "BDX                                0               0   \n",
       "ZEN                                0               0   \n",
       "XBC                                0               0   \n",
       "\n",
       "            ProofType_Zero-Knowledge Proof  ProofType_dPoW/PoW  \n",
       "Unnamed: 0                                                      \n",
       "42                                       0                   0  \n",
       "404                                      0                   0  \n",
       "1337                                     0                   0  \n",
       "BTC                                      0                   0  \n",
       "ETH                                      0                   0  \n",
       "...                                    ...                 ...  \n",
       "ZEPH                                     0                   0  \n",
       "GAP                                      0                   0  \n",
       "BDX                                      0                   0  \n",
       "ZEN                                      0                   0  \n",
       "XBC                                      0                   0  \n",
       "\n",
       "[532 rows x 98 columns]"
      ]
     },
     "execution_count": 66,
     "metadata": {},
     "output_type": "execute_result"
    }
   ],
   "source": [
    "# Use get_dummies() to create variables for text features\n",
    "X = pd.get_dummies(crypto_df)\n",
    "X"
   ]
  },
  {
   "cell_type": "code",
   "execution_count": 67,
   "metadata": {},
   "outputs": [
    {
     "data": {
      "text/plain": [
       "array([[-0.11710817, -0.1528703 , -0.0433963 , ..., -0.0433963 ,\n",
       "        -0.0433963 , -0.0433963 ],\n",
       "       [-0.09396955, -0.145009  , -0.0433963 , ..., -0.0433963 ,\n",
       "        -0.0433963 , -0.0433963 ],\n",
       "       [ 0.52494561,  4.48942416, -0.0433963 , ..., -0.0433963 ,\n",
       "        -0.0433963 , -0.0433963 ],\n",
       "       ...,\n",
       "       [-0.09561336, -0.13217937, -0.0433963 , ..., -0.0433963 ,\n",
       "        -0.0433963 , -0.0433963 ],\n",
       "       [-0.11694817, -0.15255998, -0.0433963 , ..., -0.0433963 ,\n",
       "        -0.0433963 , -0.0433963 ],\n",
       "       [-0.11710536, -0.15285552, -0.0433963 , ..., -0.0433963 ,\n",
       "        -0.0433963 , -0.0433963 ]])"
      ]
     },
     "execution_count": 67,
     "metadata": {},
     "output_type": "execute_result"
    }
   ],
   "source": [
    "# Standardize the data with StandardScaler()\n",
    "crypto_scaled = StandardScaler().fit_transform(X)\n",
    "crypto_scaled"
   ]
  },
  {
   "cell_type": "markdown",
   "metadata": {},
   "source": [
    "### Deliverable 2: Reducing Data Dimensions Using PCA"
   ]
  },
  {
   "cell_type": "code",
   "execution_count": 68,
   "metadata": {},
   "outputs": [],
   "source": [
    "# Using PCA to reduce dimension to three principal components.\n",
    "pca = PCA(n_components=3)\n",
    "crypto_pca = pca.fit_transform(crypto_scaled)"
   ]
  },
  {
   "cell_type": "code",
   "execution_count": 69,
   "metadata": {},
   "outputs": [],
   "source": [
    "# Create a DataFrame with the three principal components.\n",
    "pcs_df = pd.DataFrame(\n",
    "    data=crypto_pca, index=crypto_df.index , columns=[\"PC 1\", \"PC 2\", \"PC 3\"]\n",
    ")"
   ]
  },
  {
   "cell_type": "code",
   "execution_count": 70,
   "metadata": {},
   "outputs": [
    {
     "data": {
      "text/html": [
       "<div>\n",
       "<style scoped>\n",
       "    .dataframe tbody tr th:only-of-type {\n",
       "        vertical-align: middle;\n",
       "    }\n",
       "\n",
       "    .dataframe tbody tr th {\n",
       "        vertical-align: top;\n",
       "    }\n",
       "\n",
       "    .dataframe thead th {\n",
       "        text-align: right;\n",
       "    }\n",
       "</style>\n",
       "<table border=\"1\" class=\"dataframe\">\n",
       "  <thead>\n",
       "    <tr style=\"text-align: right;\">\n",
       "      <th></th>\n",
       "      <th>PC 1</th>\n",
       "      <th>PC 2</th>\n",
       "      <th>PC 3</th>\n",
       "    </tr>\n",
       "    <tr>\n",
       "      <th>Unnamed: 0</th>\n",
       "      <th></th>\n",
       "      <th></th>\n",
       "      <th></th>\n",
       "    </tr>\n",
       "  </thead>\n",
       "  <tbody>\n",
       "    <tr>\n",
       "      <th>42</th>\n",
       "      <td>-0.336514</td>\n",
       "      <td>0.989688</td>\n",
       "      <td>-0.514403</td>\n",
       "    </tr>\n",
       "    <tr>\n",
       "      <th>404</th>\n",
       "      <td>-0.319824</td>\n",
       "      <td>0.989830</td>\n",
       "      <td>-0.514652</td>\n",
       "    </tr>\n",
       "    <tr>\n",
       "      <th>1337</th>\n",
       "      <td>2.302560</td>\n",
       "      <td>1.691287</td>\n",
       "      <td>-0.534451</td>\n",
       "    </tr>\n",
       "    <tr>\n",
       "      <th>BTC</th>\n",
       "      <td>-0.144390</td>\n",
       "      <td>-1.310380</td>\n",
       "      <td>0.161611</td>\n",
       "    </tr>\n",
       "    <tr>\n",
       "      <th>ETH</th>\n",
       "      <td>-0.161413</td>\n",
       "      <td>-2.019652</td>\n",
       "      <td>0.289605</td>\n",
       "    </tr>\n",
       "    <tr>\n",
       "      <th>...</th>\n",
       "      <td>...</td>\n",
       "      <td>...</td>\n",
       "      <td>...</td>\n",
       "    </tr>\n",
       "    <tr>\n",
       "      <th>ZEPH</th>\n",
       "      <td>2.454857</td>\n",
       "      <td>0.836845</td>\n",
       "      <td>0.044342</td>\n",
       "    </tr>\n",
       "    <tr>\n",
       "      <th>GAP</th>\n",
       "      <td>-0.334555</td>\n",
       "      <td>0.989571</td>\n",
       "      <td>-0.514414</td>\n",
       "    </tr>\n",
       "    <tr>\n",
       "      <th>BDX</th>\n",
       "      <td>0.326673</td>\n",
       "      <td>-2.285696</td>\n",
       "      <td>0.363193</td>\n",
       "    </tr>\n",
       "    <tr>\n",
       "      <th>ZEN</th>\n",
       "      <td>-0.139296</td>\n",
       "      <td>-2.050044</td>\n",
       "      <td>0.348581</td>\n",
       "    </tr>\n",
       "    <tr>\n",
       "      <th>XBC</th>\n",
       "      <td>-0.284817</td>\n",
       "      <td>0.756652</td>\n",
       "      <td>-0.265388</td>\n",
       "    </tr>\n",
       "  </tbody>\n",
       "</table>\n",
       "<p>532 rows × 3 columns</p>\n",
       "</div>"
      ],
      "text/plain": [
       "                PC 1      PC 2      PC 3\n",
       "Unnamed: 0                              \n",
       "42         -0.336514  0.989688 -0.514403\n",
       "404        -0.319824  0.989830 -0.514652\n",
       "1337        2.302560  1.691287 -0.534451\n",
       "BTC        -0.144390 -1.310380  0.161611\n",
       "ETH        -0.161413 -2.019652  0.289605\n",
       "...              ...       ...       ...\n",
       "ZEPH        2.454857  0.836845  0.044342\n",
       "GAP        -0.334555  0.989571 -0.514414\n",
       "BDX         0.326673 -2.285696  0.363193\n",
       "ZEN        -0.139296 -2.050044  0.348581\n",
       "XBC        -0.284817  0.756652 -0.265388\n",
       "\n",
       "[532 rows x 3 columns]"
      ]
     },
     "execution_count": 70,
     "metadata": {},
     "output_type": "execute_result"
    }
   ],
   "source": [
    "pcs_df"
   ]
  },
  {
   "cell_type": "markdown",
   "metadata": {},
   "source": [
    "### Deliverable 3: Clustering Crytocurrencies Using K-Means\n",
    "\n",
    "#### Finding the Best Value for `k` Using the Elbow Curve"
   ]
  },
  {
   "cell_type": "code",
   "execution_count": 71,
   "metadata": {},
   "outputs": [],
   "source": [
    "# Store Values of K to plot\n",
    "inertia = []\n",
    "k = list(range(1, 11))"
   ]
  },
  {
   "cell_type": "code",
   "execution_count": 72,
   "metadata": {},
   "outputs": [
    {
     "name": "stderr",
     "output_type": "stream",
     "text": [
      "C:\\Users\\seanb\\.conda\\envs\\mlenv\\lib\\site-packages\\sklearn\\cluster\\_kmeans.py:882: UserWarning:\n",
      "\n",
      "KMeans is known to have a memory leak on Windows with MKL, when there are less chunks than available threads. You can avoid it by setting the environment variable OMP_NUM_THREADS=3.\n",
      "\n"
     ]
    }
   ],
   "source": [
    "# Looking for the best K\n",
    "for i in k:\n",
    "    km = KMeans(n_clusters=i, random_state=0)\n",
    "    km.fit(pcs_df)\n",
    "    inertia.append(km.inertia_)"
   ]
  },
  {
   "cell_type": "code",
   "execution_count": 73,
   "metadata": {},
   "outputs": [],
   "source": [
    "elbow_data = {\"k\": k, \"inertia\": inertia}"
   ]
  },
  {
   "cell_type": "code",
   "execution_count": 74,
   "metadata": {},
   "outputs": [
    {
     "data": {
      "text/html": [
       "<div>\n",
       "<style scoped>\n",
       "    .dataframe tbody tr th:only-of-type {\n",
       "        vertical-align: middle;\n",
       "    }\n",
       "\n",
       "    .dataframe tbody tr th {\n",
       "        vertical-align: top;\n",
       "    }\n",
       "\n",
       "    .dataframe thead th {\n",
       "        text-align: right;\n",
       "    }\n",
       "</style>\n",
       "<table border=\"1\" class=\"dataframe\">\n",
       "  <thead>\n",
       "    <tr style=\"text-align: right;\">\n",
       "      <th></th>\n",
       "      <th>k</th>\n",
       "      <th>inertia</th>\n",
       "    </tr>\n",
       "  </thead>\n",
       "  <tbody>\n",
       "    <tr>\n",
       "      <th>0</th>\n",
       "      <td>1</td>\n",
       "      <td>3640.397605</td>\n",
       "    </tr>\n",
       "    <tr>\n",
       "      <th>1</th>\n",
       "      <td>2</td>\n",
       "      <td>2472.711784</td>\n",
       "    </tr>\n",
       "    <tr>\n",
       "      <th>2</th>\n",
       "      <td>3</td>\n",
       "      <td>1481.001942</td>\n",
       "    </tr>\n",
       "    <tr>\n",
       "      <th>3</th>\n",
       "      <td>4</td>\n",
       "      <td>492.042654</td>\n",
       "    </tr>\n",
       "    <tr>\n",
       "      <th>4</th>\n",
       "      <td>5</td>\n",
       "      <td>304.622773</td>\n",
       "    </tr>\n",
       "    <tr>\n",
       "      <th>5</th>\n",
       "      <td>6</td>\n",
       "      <td>246.238979</td>\n",
       "    </tr>\n",
       "    <tr>\n",
       "      <th>6</th>\n",
       "      <td>7</td>\n",
       "      <td>190.786116</td>\n",
       "    </tr>\n",
       "    <tr>\n",
       "      <th>7</th>\n",
       "      <td>8</td>\n",
       "      <td>141.296557</td>\n",
       "    </tr>\n",
       "    <tr>\n",
       "      <th>8</th>\n",
       "      <td>9</td>\n",
       "      <td>107.783590</td>\n",
       "    </tr>\n",
       "    <tr>\n",
       "      <th>9</th>\n",
       "      <td>10</td>\n",
       "      <td>81.027630</td>\n",
       "    </tr>\n",
       "  </tbody>\n",
       "</table>\n",
       "</div>"
      ],
      "text/plain": [
       "    k      inertia\n",
       "0   1  3640.397605\n",
       "1   2  2472.711784\n",
       "2   3  1481.001942\n",
       "3   4   492.042654\n",
       "4   5   304.622773\n",
       "5   6   246.238979\n",
       "6   7   190.786116\n",
       "7   8   141.296557\n",
       "8   9   107.783590\n",
       "9  10    81.027630"
      ]
     },
     "execution_count": 74,
     "metadata": {},
     "output_type": "execute_result"
    }
   ],
   "source": [
    "# Define a DataFrame to plot the Elbow Curve using hvPlot\n",
    "df_elbow = pd.DataFrame(elbow_data)\n",
    "df_elbow"
   ]
  },
  {
   "cell_type": "code",
   "execution_count": 75,
   "metadata": {},
   "outputs": [
    {
     "data": {},
     "metadata": {},
     "output_type": "display_data"
    },
    {
     "data": {
      "application/vnd.holoviews_exec.v0+json": "",
      "text/html": [
       "<div id='1226'>\n",
       "\n",
       "\n",
       "\n",
       "\n",
       "\n",
       "  <div class=\"bk-root\" id=\"dfbe3be1-af08-4b1d-958c-36427a308e2f\" data-root-id=\"1226\"></div>\n",
       "</div>\n",
       "<script type=\"application/javascript\">(function(root) {\n",
       "  function embed_document(root) {\n",
       "    var docs_json = {\"ea510212-e845-43b9-9065-6fa812cc3882\":{\"defs\":[{\"extends\":null,\"module\":null,\"name\":\"ReactiveHTML1\",\"overrides\":[],\"properties\":[]},{\"extends\":null,\"module\":null,\"name\":\"FlexBox1\",\"overrides\":[],\"properties\":[{\"default\":\"flex-start\",\"kind\":null,\"name\":\"align_content\"},{\"default\":\"flex-start\",\"kind\":null,\"name\":\"align_items\"},{\"default\":\"row\",\"kind\":null,\"name\":\"flex_direction\"},{\"default\":\"wrap\",\"kind\":null,\"name\":\"flex_wrap\"},{\"default\":\"flex-start\",\"kind\":null,\"name\":\"justify_content\"}]},{\"extends\":null,\"module\":null,\"name\":\"TemplateActions1\",\"overrides\":[],\"properties\":[{\"default\":0,\"kind\":null,\"name\":\"open_modal\"},{\"default\":0,\"kind\":null,\"name\":\"close_modal\"}]},{\"extends\":null,\"module\":null,\"name\":\"MaterialTemplateActions1\",\"overrides\":[],\"properties\":[{\"default\":0,\"kind\":null,\"name\":\"open_modal\"},{\"default\":0,\"kind\":null,\"name\":\"close_modal\"}]}],\"roots\":{\"references\":[{\"attributes\":{\"callback\":null,\"renderers\":[{\"id\":\"1267\"}],\"tags\":[\"hv_created\"],\"tooltips\":[[\"k\",\"@{k}\"],[\"inertia\",\"@{inertia}\"]]},\"id\":\"1230\",\"type\":\"HoverTool\"},{\"attributes\":{\"overlay\":{\"id\":\"1253\"}},\"id\":\"1251\",\"type\":\"BoxZoomTool\"},{\"attributes\":{\"text\":\"Elbow Curve\",\"text_color\":\"black\",\"text_font_size\":\"12pt\"},\"id\":\"1232\",\"type\":\"Title\"},{\"attributes\":{\"ticks\":[1,2,3,4,5,6,7,8,9,10]},\"id\":\"1270\",\"type\":\"FixedTicker\"},{\"attributes\":{\"axis\":{\"id\":\"1240\"},\"grid_line_color\":null,\"ticker\":null},\"id\":\"1243\",\"type\":\"Grid\"},{\"attributes\":{},\"id\":\"1236\",\"type\":\"LinearScale\"},{\"attributes\":{\"margin\":[5,5,5,5],\"name\":\"HSpacer02055\",\"sizing_mode\":\"stretch_width\"},\"id\":\"1227\",\"type\":\"Spacer\"},{\"attributes\":{},\"id\":\"1238\",\"type\":\"LinearScale\"},{\"attributes\":{\"children\":[{\"id\":\"1227\"},{\"id\":\"1231\"},{\"id\":\"1297\"}],\"margin\":[0,0,0,0],\"name\":\"Row02051\",\"tags\":[\"embedded\"]},\"id\":\"1226\",\"type\":\"Row\"},{\"attributes\":{\"margin\":[5,5,5,5],\"name\":\"HSpacer02056\",\"sizing_mode\":\"stretch_width\"},\"id\":\"1297\",\"type\":\"Spacer\"},{\"attributes\":{\"end\":10.0,\"reset_end\":10.0,\"reset_start\":1.0,\"start\":1.0,\"tags\":[[[\"k\",\"k\",null]]]},\"id\":\"1228\",\"type\":\"Range1d\"},{\"attributes\":{\"axis_label\":\"inertia\",\"formatter\":{\"id\":\"1278\"},\"major_label_policy\":{\"id\":\"1277\"},\"ticker\":{\"id\":\"1245\"}},\"id\":\"1244\",\"type\":\"LinearAxis\"},{\"attributes\":{\"axis_label\":\"k\",\"formatter\":{\"id\":\"1273\"},\"major_label_policy\":{\"id\":\"1272\"},\"ticker\":{\"id\":\"1270\"}},\"id\":\"1240\",\"type\":\"LinearAxis\"},{\"attributes\":{\"line_color\":\"#30a2da\",\"line_width\":2,\"x\":{\"field\":\"k\"},\"y\":{\"field\":\"inertia\"}},\"id\":\"1269\",\"type\":\"Line\"},{\"attributes\":{\"data\":{\"inertia\":{\"__ndarray__\":\"x5TxkstwrEApqvdubFGjQK6xB/0BJJdAtSGAta7AfkArlXrg9glzQCECS7elx25A2jWg3CfZZ0BpE4hlfalhQPyhLlcm8lpAiWVCscRBVEA=\",\"dtype\":\"float64\",\"order\":\"little\",\"shape\":[10]},\"k\":[1,2,3,4,5,6,7,8,9,10]},\"selected\":{\"id\":\"1262\"},\"selection_policy\":{\"id\":\"1285\"}},\"id\":\"1261\",\"type\":\"ColumnDataSource\"},{\"attributes\":{},\"id\":\"1245\",\"type\":\"BasicTicker\"},{\"attributes\":{},\"id\":\"1262\",\"type\":\"Selection\"},{\"attributes\":{\"axis\":{\"id\":\"1244\"},\"dimension\":1,\"grid_line_color\":null,\"ticker\":null},\"id\":\"1247\",\"type\":\"Grid\"},{\"attributes\":{\"line_alpha\":0.1,\"line_color\":\"#30a2da\",\"line_width\":2,\"x\":{\"field\":\"k\"},\"y\":{\"field\":\"inertia\"}},\"id\":\"1265\",\"type\":\"Line\"},{\"attributes\":{},\"id\":\"1285\",\"type\":\"UnionRenderers\"},{\"attributes\":{\"end\":3996.334602997654,\"reset_end\":3996.334602997654,\"reset_start\":-274.909367378823,\"start\":-274.909367378823,\"tags\":[[[\"inertia\",\"inertia\",null]]]},\"id\":\"1229\",\"type\":\"Range1d\"},{\"attributes\":{\"below\":[{\"id\":\"1240\"}],\"center\":[{\"id\":\"1243\"},{\"id\":\"1247\"}],\"height\":300,\"left\":[{\"id\":\"1244\"}],\"margin\":[5,5,5,5],\"min_border_bottom\":10,\"min_border_left\":10,\"min_border_right\":10,\"min_border_top\":10,\"renderers\":[{\"id\":\"1267\"}],\"sizing_mode\":\"fixed\",\"title\":{\"id\":\"1232\"},\"toolbar\":{\"id\":\"1254\"},\"width\":700,\"x_range\":{\"id\":\"1228\"},\"x_scale\":{\"id\":\"1236\"},\"y_range\":{\"id\":\"1229\"},\"y_scale\":{\"id\":\"1238\"}},\"id\":\"1231\",\"subtype\":\"Figure\",\"type\":\"Plot\"},{\"attributes\":{\"bottom_units\":\"screen\",\"fill_alpha\":0.5,\"fill_color\":\"lightgrey\",\"left_units\":\"screen\",\"level\":\"overlay\",\"line_alpha\":1.0,\"line_color\":\"black\",\"line_dash\":[4,4],\"line_width\":2,\"right_units\":\"screen\",\"syncable\":false,\"top_units\":\"screen\"},\"id\":\"1253\",\"type\":\"BoxAnnotation\"},{\"attributes\":{},\"id\":\"1272\",\"type\":\"AllLabels\"},{\"attributes\":{\"line_alpha\":0.2,\"line_color\":\"#30a2da\",\"line_width\":2,\"x\":{\"field\":\"k\"},\"y\":{\"field\":\"inertia\"}},\"id\":\"1266\",\"type\":\"Line\"},{\"attributes\":{},\"id\":\"1278\",\"type\":\"BasicTickFormatter\"},{\"attributes\":{},\"id\":\"1250\",\"type\":\"WheelZoomTool\"},{\"attributes\":{\"data_source\":{\"id\":\"1261\"},\"glyph\":{\"id\":\"1264\"},\"hover_glyph\":null,\"muted_glyph\":{\"id\":\"1266\"},\"nonselection_glyph\":{\"id\":\"1265\"},\"selection_glyph\":{\"id\":\"1269\"},\"view\":{\"id\":\"1268\"}},\"id\":\"1267\",\"type\":\"GlyphRenderer\"},{\"attributes\":{\"active_multi\":null,\"tools\":[{\"id\":\"1230\"},{\"id\":\"1248\"},{\"id\":\"1249\"},{\"id\":\"1250\"},{\"id\":\"1251\"},{\"id\":\"1252\"}]},\"id\":\"1254\",\"type\":\"Toolbar\"},{\"attributes\":{},\"id\":\"1273\",\"type\":\"BasicTickFormatter\"},{\"attributes\":{\"source\":{\"id\":\"1261\"}},\"id\":\"1268\",\"type\":\"CDSView\"},{\"attributes\":{},\"id\":\"1248\",\"type\":\"SaveTool\"},{\"attributes\":{\"line_color\":\"#30a2da\",\"line_width\":2,\"x\":{\"field\":\"k\"},\"y\":{\"field\":\"inertia\"}},\"id\":\"1264\",\"type\":\"Line\"},{\"attributes\":{},\"id\":\"1249\",\"type\":\"PanTool\"},{\"attributes\":{},\"id\":\"1252\",\"type\":\"ResetTool\"},{\"attributes\":{},\"id\":\"1277\",\"type\":\"AllLabels\"}],\"root_ids\":[\"1226\"]},\"title\":\"Bokeh Application\",\"version\":\"2.3.2\"}};\n",
       "    var render_items = [{\"docid\":\"ea510212-e845-43b9-9065-6fa812cc3882\",\"root_ids\":[\"1226\"],\"roots\":{\"1226\":\"dfbe3be1-af08-4b1d-958c-36427a308e2f\"}}];\n",
       "    root.Bokeh.embed.embed_items_notebook(docs_json, render_items);\n",
       "  }\n",
       "  if (root.Bokeh !== undefined && root.Bokeh.Panel !== undefined) {\n",
       "    embed_document(root);\n",
       "  } else {\n",
       "    var attempts = 0;\n",
       "    var timer = setInterval(function(root) {\n",
       "      if (root.Bokeh !== undefined && root.Bokeh.Panel !== undefined) {\n",
       "        clearInterval(timer);\n",
       "        embed_document(root);\n",
       "      } else if (document.readyState == \"complete\") {\n",
       "        attempts++;\n",
       "        if (attempts > 200) {\n",
       "          clearInterval(timer);\n",
       "          console.log(\"Bokeh: ERROR: Unable to run BokehJS code because BokehJS library is missing\");\n",
       "        }\n",
       "      }\n",
       "    }, 25, root)\n",
       "  }\n",
       "})(window);</script>"
      ],
      "text/plain": [
       ":Curve   [k]   (inertia)"
      ]
     },
     "execution_count": 75,
     "metadata": {
      "application/vnd.holoviews_exec.v0+json": {
       "id": "1226"
      }
     },
     "output_type": "execute_result"
    }
   ],
   "source": [
    "# Plot the Elbow Curve using hvPlot\n",
    "df_elbow.hvplot.line(x=\"k\", y=\"inertia\", title=\"Elbow Curve\", xticks=k)"
   ]
  },
  {
   "cell_type": "markdown",
   "metadata": {},
   "source": [
    "Running K-Means with `k=4`"
   ]
  },
  {
   "cell_type": "code",
   "execution_count": 76,
   "metadata": {},
   "outputs": [
    {
     "data": {
      "text/html": [
       "<div>\n",
       "<style scoped>\n",
       "    .dataframe tbody tr th:only-of-type {\n",
       "        vertical-align: middle;\n",
       "    }\n",
       "\n",
       "    .dataframe tbody tr th {\n",
       "        vertical-align: top;\n",
       "    }\n",
       "\n",
       "    .dataframe thead th {\n",
       "        text-align: right;\n",
       "    }\n",
       "</style>\n",
       "<table border=\"1\" class=\"dataframe\">\n",
       "  <thead>\n",
       "    <tr style=\"text-align: right;\">\n",
       "      <th></th>\n",
       "      <th>PC 1</th>\n",
       "      <th>PC 2</th>\n",
       "      <th>PC 3</th>\n",
       "      <th>class</th>\n",
       "    </tr>\n",
       "    <tr>\n",
       "      <th>Unnamed: 0</th>\n",
       "      <th></th>\n",
       "      <th></th>\n",
       "      <th></th>\n",
       "      <th></th>\n",
       "    </tr>\n",
       "  </thead>\n",
       "  <tbody>\n",
       "    <tr>\n",
       "      <th>42</th>\n",
       "      <td>-0.336514</td>\n",
       "      <td>0.989688</td>\n",
       "      <td>-0.514403</td>\n",
       "      <td>0</td>\n",
       "    </tr>\n",
       "    <tr>\n",
       "      <th>404</th>\n",
       "      <td>-0.319824</td>\n",
       "      <td>0.989830</td>\n",
       "      <td>-0.514652</td>\n",
       "      <td>0</td>\n",
       "    </tr>\n",
       "    <tr>\n",
       "      <th>1337</th>\n",
       "      <td>2.302560</td>\n",
       "      <td>1.691287</td>\n",
       "      <td>-0.534451</td>\n",
       "      <td>0</td>\n",
       "    </tr>\n",
       "    <tr>\n",
       "      <th>BTC</th>\n",
       "      <td>-0.144390</td>\n",
       "      <td>-1.310380</td>\n",
       "      <td>0.161611</td>\n",
       "      <td>2</td>\n",
       "    </tr>\n",
       "    <tr>\n",
       "      <th>ETH</th>\n",
       "      <td>-0.161413</td>\n",
       "      <td>-2.019652</td>\n",
       "      <td>0.289605</td>\n",
       "      <td>2</td>\n",
       "    </tr>\n",
       "  </tbody>\n",
       "</table>\n",
       "</div>"
      ],
      "text/plain": [
       "                PC 1      PC 2      PC 3  class\n",
       "Unnamed: 0                                     \n",
       "42         -0.336514  0.989688 -0.514403      0\n",
       "404        -0.319824  0.989830 -0.514652      0\n",
       "1337        2.302560  1.691287 -0.534451      0\n",
       "BTC        -0.144390 -1.310380  0.161611      2\n",
       "ETH        -0.161413 -2.019652  0.289605      2"
      ]
     },
     "execution_count": 76,
     "metadata": {},
     "output_type": "execute_result"
    }
   ],
   "source": [
    "def get_clusters(k, pcs_df):\n",
    "    # Create a copy of the DataFrame\n",
    "    new_pcs_df = pcs_df.copy()\n",
    "\n",
    "    # Initialize the K-Means model\n",
    "    model = KMeans(n_clusters=4, random_state=0)\n",
    "\n",
    "    # Fit the model\n",
    "    model.fit(new_pcs_df)\n",
    "\n",
    "    # Predict clusters\n",
    "    predictions = model.predict(new_pcs_df)\n",
    "\n",
    "    # Create return DataFrame with predicted clusters\n",
    "    new_pcs_df[\"class\"] = model.labels_\n",
    "\n",
    "    return new_pcs_df\n",
    "\n",
    "four_clusters = get_clusters(4, pcs_df)\n",
    "four_clusters.head()"
   ]
  },
  {
   "cell_type": "code",
   "execution_count": 77,
   "metadata": {},
   "outputs": [
    {
     "name": "stdout",
     "output_type": "stream",
     "text": [
      "(532, 9)\n"
     ]
    },
    {
     "data": {
      "text/html": [
       "<div>\n",
       "<style scoped>\n",
       "    .dataframe tbody tr th:only-of-type {\n",
       "        vertical-align: middle;\n",
       "    }\n",
       "\n",
       "    .dataframe tbody tr th {\n",
       "        vertical-align: top;\n",
       "    }\n",
       "\n",
       "    .dataframe thead th {\n",
       "        text-align: right;\n",
       "    }\n",
       "</style>\n",
       "<table border=\"1\" class=\"dataframe\">\n",
       "  <thead>\n",
       "    <tr style=\"text-align: right;\">\n",
       "      <th></th>\n",
       "      <th>Algorithm</th>\n",
       "      <th>ProofType</th>\n",
       "      <th>TotalCoinsMined</th>\n",
       "      <th>TotalCoinSupply</th>\n",
       "      <th>PC 1</th>\n",
       "      <th>PC 2</th>\n",
       "      <th>PC 3</th>\n",
       "      <th>CoinName</th>\n",
       "      <th>Class</th>\n",
       "    </tr>\n",
       "  </thead>\n",
       "  <tbody>\n",
       "    <tr>\n",
       "      <th>42</th>\n",
       "      <td>Scrypt</td>\n",
       "      <td>PoW/PoS</td>\n",
       "      <td>4.199995e+01</td>\n",
       "      <td>4.200000e+01</td>\n",
       "      <td>-0.336514</td>\n",
       "      <td>0.989688</td>\n",
       "      <td>-0.514403</td>\n",
       "      <td>42 Coin</td>\n",
       "      <td>0</td>\n",
       "    </tr>\n",
       "    <tr>\n",
       "      <th>404</th>\n",
       "      <td>Scrypt</td>\n",
       "      <td>PoW/PoS</td>\n",
       "      <td>1.055185e+09</td>\n",
       "      <td>5.320000e+08</td>\n",
       "      <td>-0.319824</td>\n",
       "      <td>0.989830</td>\n",
       "      <td>-0.514652</td>\n",
       "      <td>404Coin</td>\n",
       "      <td>0</td>\n",
       "    </tr>\n",
       "    <tr>\n",
       "      <th>1337</th>\n",
       "      <td>X13</td>\n",
       "      <td>PoW/PoS</td>\n",
       "      <td>2.927942e+10</td>\n",
       "      <td>3.141593e+11</td>\n",
       "      <td>2.302560</td>\n",
       "      <td>1.691287</td>\n",
       "      <td>-0.534451</td>\n",
       "      <td>EliteCoin</td>\n",
       "      <td>0</td>\n",
       "    </tr>\n",
       "    <tr>\n",
       "      <th>BTC</th>\n",
       "      <td>SHA-256</td>\n",
       "      <td>PoW</td>\n",
       "      <td>1.792718e+07</td>\n",
       "      <td>2.100000e+07</td>\n",
       "      <td>-0.144390</td>\n",
       "      <td>-1.310380</td>\n",
       "      <td>0.161611</td>\n",
       "      <td>Bitcoin</td>\n",
       "      <td>2</td>\n",
       "    </tr>\n",
       "    <tr>\n",
       "      <th>ETH</th>\n",
       "      <td>Ethash</td>\n",
       "      <td>PoW</td>\n",
       "      <td>1.076842e+08</td>\n",
       "      <td>0.000000e+00</td>\n",
       "      <td>-0.161413</td>\n",
       "      <td>-2.019652</td>\n",
       "      <td>0.289605</td>\n",
       "      <td>Ethereum</td>\n",
       "      <td>2</td>\n",
       "    </tr>\n",
       "    <tr>\n",
       "      <th>LTC</th>\n",
       "      <td>Scrypt</td>\n",
       "      <td>PoW</td>\n",
       "      <td>6.303924e+07</td>\n",
       "      <td>8.400000e+07</td>\n",
       "      <td>-0.166368</td>\n",
       "      <td>-1.178342</td>\n",
       "      <td>-0.039184</td>\n",
       "      <td>Litecoin</td>\n",
       "      <td>2</td>\n",
       "    </tr>\n",
       "    <tr>\n",
       "      <th>DASH</th>\n",
       "      <td>X11</td>\n",
       "      <td>PoW/PoS</td>\n",
       "      <td>9.031294e+06</td>\n",
       "      <td>2.200000e+07</td>\n",
       "      <td>-0.398873</td>\n",
       "      <td>1.297777</td>\n",
       "      <td>-0.412098</td>\n",
       "      <td>Dash</td>\n",
       "      <td>0</td>\n",
       "    </tr>\n",
       "    <tr>\n",
       "      <th>XMR</th>\n",
       "      <td>CryptoNight-V7</td>\n",
       "      <td>PoW</td>\n",
       "      <td>1.720114e+07</td>\n",
       "      <td>0.000000e+00</td>\n",
       "      <td>-0.150930</td>\n",
       "      <td>-2.218055</td>\n",
       "      <td>0.377219</td>\n",
       "      <td>Monero</td>\n",
       "      <td>2</td>\n",
       "    </tr>\n",
       "    <tr>\n",
       "      <th>ETC</th>\n",
       "      <td>Ethash</td>\n",
       "      <td>PoW</td>\n",
       "      <td>1.133597e+08</td>\n",
       "      <td>2.100000e+08</td>\n",
       "      <td>-0.159852</td>\n",
       "      <td>-2.019753</td>\n",
       "      <td>0.289597</td>\n",
       "      <td>Ethereum Classic</td>\n",
       "      <td>2</td>\n",
       "    </tr>\n",
       "    <tr>\n",
       "      <th>ZEC</th>\n",
       "      <td>Equihash</td>\n",
       "      <td>PoW</td>\n",
       "      <td>7.383056e+06</td>\n",
       "      <td>2.100000e+07</td>\n",
       "      <td>-0.139295</td>\n",
       "      <td>-2.050044</td>\n",
       "      <td>0.348581</td>\n",
       "      <td>ZCash</td>\n",
       "      <td>2</td>\n",
       "    </tr>\n",
       "  </tbody>\n",
       "</table>\n",
       "</div>"
      ],
      "text/plain": [
       "           Algorithm ProofType  TotalCoinsMined  TotalCoinSupply      PC 1  \\\n",
       "42            Scrypt   PoW/PoS     4.199995e+01     4.200000e+01 -0.336514   \n",
       "404           Scrypt   PoW/PoS     1.055185e+09     5.320000e+08 -0.319824   \n",
       "1337             X13   PoW/PoS     2.927942e+10     3.141593e+11  2.302560   \n",
       "BTC          SHA-256       PoW     1.792718e+07     2.100000e+07 -0.144390   \n",
       "ETH           Ethash       PoW     1.076842e+08     0.000000e+00 -0.161413   \n",
       "LTC           Scrypt       PoW     6.303924e+07     8.400000e+07 -0.166368   \n",
       "DASH             X11   PoW/PoS     9.031294e+06     2.200000e+07 -0.398873   \n",
       "XMR   CryptoNight-V7       PoW     1.720114e+07     0.000000e+00 -0.150930   \n",
       "ETC           Ethash       PoW     1.133597e+08     2.100000e+08 -0.159852   \n",
       "ZEC         Equihash       PoW     7.383056e+06     2.100000e+07 -0.139295   \n",
       "\n",
       "          PC 2      PC 3          CoinName  Class  \n",
       "42    0.989688 -0.514403           42 Coin      0  \n",
       "404   0.989830 -0.514652           404Coin      0  \n",
       "1337  1.691287 -0.534451         EliteCoin      0  \n",
       "BTC  -1.310380  0.161611           Bitcoin      2  \n",
       "ETH  -2.019652  0.289605          Ethereum      2  \n",
       "LTC  -1.178342 -0.039184          Litecoin      2  \n",
       "DASH  1.297777 -0.412098              Dash      0  \n",
       "XMR  -2.218055  0.377219            Monero      2  \n",
       "ETC  -2.019753  0.289597  Ethereum Classic      2  \n",
       "ZEC  -2.050044  0.348581             ZCash      2  "
      ]
     },
     "execution_count": 77,
     "metadata": {},
     "output_type": "execute_result"
    }
   ],
   "source": [
    "# Create a new DataFrame including predicted clusters and cryptocurrencies features.\n",
    "# Concatentate the crypto_df and pcs_df DataFrames on the same columns.\n",
    "clustered_df = pd.concat([crypto_df, pcs_df], axis=1)\n",
    "\n",
    "# Add a new column, \"CoinName\" to the clustered_df DataFrame that holds the names of the cryptocurrencies. \n",
    "clustered_df['CoinName'] = crypto_coins_df['CoinName']\n",
    "\n",
    "#  Add a new column, \"Class\" to the clustered_df DataFrame that holds the predictions.\n",
    "clustered_df['Class'] = four_clusters['class']\n",
    "\n",
    "# Print the shape of the clustered_df\n",
    "clustered_df.index.name = None\n",
    "print(clustered_df.shape)\n",
    "clustered_df.head(10)"
   ]
  },
  {
   "cell_type": "markdown",
   "metadata": {},
   "source": [
    "### Deliverable 4: Visualizing Cryptocurrencies Results\n",
    "\n",
    "#### 3D-Scatter with Clusters"
   ]
  },
  {
   "cell_type": "code",
   "execution_count": 78,
   "metadata": {},
   "outputs": [
    {
     "data": {
      "application/vnd.plotly.v1+json": {
       "config": {
        "plotlyServerURL": "https://plot.ly"
       },
       "data": [
        {
         "customdata": [
          [
           "42 Coin",
           "Scrypt"
          ],
          [
           "404Coin",
           "Scrypt"
          ],
          [
           "EliteCoin",
           "X13"
          ],
          [
           "Dash",
           "X11"
          ],
          [
           "Bitshares",
           "SHA-512"
          ],
          [
           "BitcoinDark",
           "SHA-256"
          ],
          [
           "PayCoin",
           "SHA-256"
          ],
          [
           "KoboCoin",
           "X15"
          ],
          [
           "Aurora Coin",
           "Scrypt"
          ],
          [
           "BlueCoin",
           "Scrypt"
          ],
          [
           "EnergyCoin",
           "Scrypt"
          ],
          [
           "BitBar",
           "Scrypt"
          ],
          [
           "CryptoBullion",
           "Scrypt"
          ],
          [
           "CasinoCoin",
           "Scrypt"
          ],
          [
           "Diamond",
           "Groestl"
          ],
          [
           "Exclusive Coin",
           "PoS"
          ],
          [
           "FlutterCoin",
           "Scrypt"
          ],
          [
           "HoboNickels",
           "Scrypt"
          ],
          [
           "HyperStake",
           "X11"
          ],
          [
           "IOCoin",
           "X11"
          ],
          [
           "MaxCoin",
           "SHA3"
          ],
          [
           "MintCoin",
           "Scrypt"
          ],
          [
           "MazaCoin",
           "SHA-256"
          ],
          [
           "Nautilus Coin",
           "Scrypt"
          ],
          [
           "NavCoin",
           "X13"
          ],
          [
           "OpalCoin",
           "X13"
          ],
          [
           "Orbitcoin",
           "NeoScrypt"
          ],
          [
           "PotCoin",
           "Scrypt"
          ],
          [
           "PhoenixCoin",
           "Scrypt"
          ],
          [
           "Reddcoin",
           "Scrypt"
          ],
          [
           "SuperCoin",
           "X11"
          ],
          [
           "SyncCoin",
           "X11"
          ],
          [
           "TeslaCoin",
           "Multiple"
          ],
          [
           "TittieCoin",
           "PHI1612"
          ],
          [
           "TorCoin",
           "X11"
          ],
          [
           "UnitaryStatus Dollar",
           "Scrypt"
          ],
          [
           "UltraCoin",
           "Scrypt"
          ],
          [
           "VeriCoin",
           "Scrypt"
          ],
          [
           "X11 Coin",
           "X11"
          ],
          [
           "Crypti",
           "Multiple"
          ],
          [
           "StealthCoin",
           "X13"
          ],
          [
           "ZCC Coin",
           "Scrypt"
          ],
          [
           "BurstCoin",
           "Shabal256"
          ],
          [
           "StorjCoin",
           "Counterparty"
          ],
          [
           "Neutron",
           "SHA-256"
          ],
          [
           "FairCoin",
           "Groestl"
          ],
          [
           "RubyCoin",
           "Scrypt"
          ],
          [
           "Kore",
           "X13"
          ],
          [
           "Dnotes",
           "Scrypt"
          ],
          [
           "8BIT Coin",
           "Scrypt"
          ],
          [
           "Sativa Coin",
           "X13"
          ],
          [
           "Ucoin",
           "X11"
          ],
          [
           "Vtorrent",
           "Scrypt"
          ],
          [
           "IslaCoin",
           "X11"
          ],
          [
           "Nexus",
           "SHA3"
          ],
          [
           "Droidz",
           "QUAIT"
          ],
          [
           "Squall Coin",
           "X11"
          ],
          [
           "Diggits",
           "Scrypt"
          ],
          [
           "Paycon",
           "X13"
          ],
          [
           "Emercoin",
           "SHA-256"
          ],
          [
           "EverGreenCoin",
           "X15"
          ],
          [
           "Decred",
           "BLAKE256"
          ],
          [
           "EDRCoin",
           "SHA-256"
          ],
          [
           "Hitcoin",
           "X11"
          ],
          [
           "DubaiCoin",
           "SHA-256"
          ],
          [
           "PWR Coin",
           "NIST5"
          ],
          [
           "BillaryCoin",
           "Scrypt"
          ],
          [
           "GPU Coin",
           "Scrypt"
          ],
          [
           "EuropeCoin",
           "X11"
          ],
          [
           "ZeitCoin",
           "Scrypt"
          ],
          [
           "SwingCoin",
           "SHA-256"
          ],
          [
           "SafeExchangeCoin",
           "Scrypt"
          ],
          [
           "Nebuchadnezzar",
           "PoS"
          ],
          [
           "Ratecoin",
           "X11"
          ],
          [
           "Revenu",
           "SHA-256"
          ],
          [
           "Clockcoin",
           "SHA-256"
          ],
          [
           "VIP Tokens",
           "NIST5"
          ],
          [
           "BitSend",
           "X11"
          ],
          [
           "Let it Ride",
           "POS 3.0"
          ],
          [
           "PutinCoin",
           "Scrypt"
          ],
          [
           "iBankCoin",
           "Scrypt"
          ],
          [
           "Frankywillcoin",
           "Scrypt"
          ],
          [
           "MudraCoin",
           "X13"
          ],
          [
           "Lutetium Coin",
           "X11"
          ],
          [
           "GoldBlocks",
           "X11"
          ],
          [
           "CarterCoin",
           "Scrypt"
          ],
          [
           "BitTokens",
           "SHA-256"
          ],
          [
           "MustangCoin",
           "X11"
          ],
          [
           "ZoneCoin",
           "Scrypt"
          ],
          [
           "RootCoin",
           "Scrypt"
          ],
          [
           "BitCurrency",
           "Scrypt"
          ],
          [
           "Swiscoin",
           "Scrypt"
          ],
          [
           "BuzzCoin",
           "SHA-256D"
          ],
          [
           "Opair",
           "PoS"
          ],
          [
           "PesoBit",
           "Scrypt"
          ],
          [
           "Halloween Coin",
           "X11"
          ],
          [
           "CoffeeCoin",
           "PoS"
          ],
          [
           "RoyalCoin",
           "X13"
          ],
          [
           "GanjaCoin V2",
           "X14"
          ],
          [
           "TeamUP",
           "PoS"
          ],
          [
           "LanaCoin",
           "SHA-256D"
          ],
          [
           "ARK",
           "DPoS"
          ],
          [
           "InsaneCoin",
           "X11"
          ],
          [
           "EmberCoin",
           "X13"
          ],
          [
           "XenixCoin",
           "X11"
          ],
          [
           "FreeCoin",
           "PoS"
          ],
          [
           "PLNCoin",
           "Scrypt"
          ],
          [
           "AquariusCoin",
           "Scrypt"
          ],
          [
           "Creatio",
           "PoS"
          ],
          [
           "Eternity",
           "X11"
          ],
          [
           "Eurocoin",
           "SHA-256"
          ],
          [
           "BitcoinFast",
           "Scrypt"
          ],
          [
           "Stakenet",
           "X11"
          ],
          [
           "BitConnect Coin",
           "Scrypt"
          ],
          [
           "MoneyCoin",
           "Scrypt"
          ],
          [
           "Enigma",
           "X11"
          ],
          [
           "Russiacoin",
           "Scrypt"
          ],
          [
           "PandaCoin",
           "Scrypt"
          ],
          [
           "GameUnits",
           "Scrypt"
          ],
          [
           "GAKHcoin",
           "Scrypt"
          ],
          [
           "Allsafe",
           "Quark"
          ],
          [
           "LiteCreed",
           "QuBit"
          ],
          [
           "Klingon Empire Darsek",
           "Scrypt"
          ],
          [
           "Internet of People",
           "SHA-256"
          ],
          [
           "KushCoin",
           "X11"
          ],
          [
           "Printerium",
           "Scrypt"
          ],
          [
           "Impeach",
           "Scrypt"
          ],
          [
           "Zilbercoin",
           "Scrypt"
          ],
          [
           "FirstCoin",
           "Scrypt"
          ],
          [
           "FindCoin",
           "X13"
          ],
          [
           "OpenChat",
           "Scrypt"
          ],
          [
           "RenosCoin",
           "Scrypt"
          ],
          [
           "VirtacoinPlus",
           "X11"
          ],
          [
           "TajCoin",
           "Blake2S"
          ],
          [
           "Impact",
           "X11"
          ],
          [
           "Atmos",
           "PoS"
          ],
          [
           "HappyCoin",
           "X11"
          ],
          [
           "MacronCoin",
           "PoS"
          ],
          [
           "Condensate",
           "X11"
          ],
          [
           "Independent Money System",
           "Scrypt"
          ],
          [
           "ArgusCoin",
           "Scrypt"
          ],
          [
           "LomoCoin",
           "Scrypt"
          ],
          [
           "ProCurrency",
           "SHA-256"
          ],
          [
           "GoldReserve",
           "X11"
          ],
          [
           "GrowthCoin",
           "Scrypt"
          ],
          [
           "Phreak",
           "PoS"
          ],
          [
           "Degas Coin",
           "Scrypt"
          ],
          [
           "HTML5 Coin",
           "X15"
          ],
          [
           "Ultimate Secure Cash",
           "SHA-256"
          ],
          [
           "QTUM",
           "POS 3.0"
          ],
          [
           "Espers",
           "536"
          ],
          [
           "Denarius",
           "NIST5"
          ],
          [
           "Virta Unique Coin",
           "NIST5"
          ],
          [
           "Bitcoin Planet",
           "Skein"
          ],
          [
           "BritCoin",
           "X13"
          ],
          [
           "Linda",
           "Scrypt"
          ],
          [
           "DeepOnion",
           "X13"
          ],
          [
           "Signatum",
           "SkunkHash v2 Raptor"
          ],
          [
           "Cream",
           "Skein"
          ],
          [
           "Monoeci",
           "X11"
          ],
          [
           "Draftcoin",
           "Scrypt"
          ],
          [
           "Vechain",
           "VeChainThor Authority"
          ],
          [
           "Stakecoin",
           "PoS"
          ],
          [
           "CoinonatX",
           "Scrypt"
          ],
          [
           "Ethereum Dark",
           "Scrypt"
          ],
          [
           "Obsidian",
           "SHA-512"
          ],
          [
           "Cardano",
           "Ouroboros"
          ],
          [
           "Regalcoin",
           "X11"
          ],
          [
           "TrezarCoin",
           "NeoScrypt"
          ],
          [
           "TerraNovaCoin",
           "Scrypt"
          ],
          [
           "Rupee",
           "Lyra2REv2"
          ],
          [
           "WomenCoin",
           "Scrypt"
          ],
          [
           "Theresa May Coin",
           "SHA-256"
          ],
          [
           "NamoCoin",
           "NIST5"
          ],
          [
           "LUXCoin",
           "PHI1612"
          ],
          [
           "Xios",
           "Scrypt"
          ],
          [
           "Bitcloud 2.0",
           "Quark"
          ],
          [
           "KekCoin",
           "POS 2.0"
          ],
          [
           "BlackholeCoin",
           "Scrypt"
          ],
          [
           "Infinity Economics",
           "SHA-256"
          ],
          [
           "Magnet",
           "X11"
          ],
          [
           "Lamden Tau",
           "DPoS"
          ],
          [
           "Electra",
           "NIST5"
          ],
          [
           "Bitcoin Diamond",
           "X13"
          ],
          [
           "Cash & Back Coin",
           "Scrypt"
          ],
          [
           "Bulwark",
           "NIST5"
          ],
          [
           "Kalkulus",
           "Quark"
          ],
          [
           "GermanCoin",
           "Scrypt"
          ],
          [
           "LiteCoin Ultra",
           "Scrypt"
          ],
          [
           "PhantomX",
           "X11"
          ],
          [
           "Digiwage",
           "Quark"
          ],
          [
           "Trollcoin",
           "Scrypt"
          ],
          [
           "Litecoin Plus",
           "Scrypt"
          ],
          [
           "Monkey Project",
           "X11"
          ],
          [
           "TokenPay",
           "POS 3.0"
          ],
          [
           "1717 Masonic Commemorative Token",
           "Ethash"
          ],
          [
           "My Big Coin",
           "Scrypt"
          ],
          [
           "Unified Society USDEX",
           "Scrypt"
          ],
          [
           "Tokyo Coin",
           "X13"
          ],
          [
           "BiblePay",
           "Proof-of-BibleHash"
          ],
          [
           "Stipend",
           "C11"
          ],
          [
           "Pushi",
           "X11"
          ],
          [
           "Ellerium",
           "XEVAN"
          ],
          [
           "Velox",
           "Scrypt"
          ],
          [
           "Ontology",
           "VBFT"
          ],
          [
           "Bitspace",
           "NIST5"
          ],
          [
           "Briacoin",
           "Scrypt"
          ],
          [
           "Ignition",
           "Scrypt"
          ],
          [
           "MedicCoin",
           "Scrypt"
          ],
          [
           "Bitcoin Green",
           "Green Protocol"
          ],
          [
           "Deviant Coin",
           "PoS"
          ],
          [
           "Abjcoin",
           "Scrypt"
          ],
          [
           "Semux",
           "Semux BFT consensus"
          ],
          [
           "Carebit",
           "Quark"
          ],
          [
           "Zealium",
           "PoS"
          ],
          [
           "Proton",
           "X16R"
          ],
          [
           "iDealCash",
           "Scrypt"
          ],
          [
           "Bitcoin Incognito",
           "XEVAN"
          ],
          [
           "HollyWoodCoin",
           "Scrypt"
          ],
          [
           "Swisscoin",
           "Scrypt"
          ],
          [
           "Xt3ch",
           "Scrypt"
          ],
          [
           "TheVig",
           "SHA-256D"
          ],
          [
           "EmaratCoin",
           "Scrypt"
          ],
          [
           "Dekado",
           "X15"
          ],
          [
           "Lynx",
           "Scrypt"
          ],
          [
           "Poseidon Quark",
           "Quark"
          ],
          [
           "BitcoinWSpectrum",
           "SHA-256"
          ],
          [
           "Muse",
           "DPoS"
          ],
          [
           "Trivechain",
           "X16R"
          ],
          [
           "Dystem",
           "Quark"
          ],
          [
           "Giant",
           "Quark"
          ],
          [
           "Peony Coin",
           "Scrypt"
          ],
          [
           "Absolute Coin",
           "Lyra2REv2"
          ],
          [
           "Vitae",
           "Quark"
          ],
          [
           "TPCash",
           "Scrypt"
          ],
          [
           "ARENON",
           "X11"
          ],
          [
           "EUNO",
           "X11"
          ],
          [
           "MMOCoin",
           "Scrypt"
          ],
          [
           "Ketan",
           "PoS"
          ],
          [
           "XDNA",
           "Keccak"
          ],
          [
           "PAXEX",
           "X11"
          ],
          [
           "ThunderStake",
           "Scrypt"
          ],
          [
           "Kcash",
           "SHA-512"
          ],
          [
           "Acute Angle Cloud",
           "ECC 256K1"
          ],
          [
           "Bettex coin",
           "XEVAN"
          ],
          [
           "BitMoney",
           "XEVAN"
          ],
          [
           "Junson Ming Chan Coin",
           "X11"
          ],
          [
           "HerbCoin",
           "Quark"
          ],
          [
           "PirateCash",
           "Equihash"
          ],
          [
           "Oduwa",
           "Scrypt"
          ],
          [
           "Galilel",
           "Quark"
          ],
          [
           "Crypto Sports",
           "Quark"
          ],
          [
           "Credit",
           "Scrypt"
          ],
          [
           "Dash Platinum",
           "X11"
          ],
          [
           "Nasdacoin",
           "Scrypt"
          ],
          [
           "Beetle Coin",
           "XEVAN"
          ],
          [
           "Titan Coin",
           "SHA-256D"
          ],
          [
           "Award",
           "X11"
          ],
          [
           "Insane Coin",
           "X11"
          ],
          [
           "ALAX",
           "DPoS"
          ],
          [
           "LiteDoge",
           "Scrypt"
          ],
          [
           "TruckCoin",
           "X11"
          ],
          [
           "OrangeCoin",
           "Scrypt"
          ],
          [
           "BitstarCoin",
           "Scrypt"
          ],
          [
           "NeosCoin",
           "SHA-256"
          ],
          [
           "HyperCoin",
           "Scrypt"
          ],
          [
           "PinkCoin",
           "X11"
          ],
          [
           "AudioCoin",
           "Scrypt"
          ],
          [
           "IncaKoin",
           "SHA-256"
          ],
          [
           "Piggy Coin",
           "X11"
          ],
          [
           "Genstake",
           "Scrypt"
          ],
          [
           "XiaoMiCoin",
           "Scrypt"
          ],
          [
           "CapriCoin",
           "X11"
          ],
          [
           " ClubCoin",
           "Scrypt"
          ],
          [
           "Radium",
           "PoS"
          ],
          [
           "Creditbit ",
           "X11"
          ],
          [
           "OKCash",
           "SHA-256"
          ],
          [
           "Lisk",
           "DPoS"
          ],
          [
           "HiCoin",
           "Scrypt"
          ],
          [
           "WhiteCoin",
           "Scrypt"
          ],
          [
           "FriendshipCoin",
           "NeoScrypt"
          ],
          [
           "Triangles Coin",
           "X13"
          ],
          [
           "EOS",
           "DPoS"
          ],
          [
           "Oxycoin",
           "DPoS"
          ],
          [
           "TigerCash",
           "SHA-256"
          ],
          [
           "Particl",
           "PoS"
          ],
          [
           "Nxt",
           "PoS"
          ],
          [
           "ZEPHYR",
           "SHA-256"
          ],
          [
           "Gapcoin",
           "Scrypt"
          ],
          [
           "BitcoinPlus",
           "Scrypt"
          ]
         ],
         "hovertemplate": "<b>%{hovertext}</b><br><br>Class=%{marker.color}<br>PC 1=%{x}<br>PC 2=%{y}<br>PC 3=%{z}<br>CoinName=%{customdata[0]}<br>Algorithm=%{customdata[1]}<extra></extra>",
         "hovertext": [
          "42 Coin",
          "404Coin",
          "EliteCoin",
          "Dash",
          "Bitshares",
          "BitcoinDark",
          "PayCoin",
          "KoboCoin",
          "Aurora Coin",
          "BlueCoin",
          "EnergyCoin",
          "BitBar",
          "CryptoBullion",
          "CasinoCoin",
          "Diamond",
          "Exclusive Coin",
          "FlutterCoin",
          "HoboNickels",
          "HyperStake",
          "IOCoin",
          "MaxCoin",
          "MintCoin",
          "MazaCoin",
          "Nautilus Coin",
          "NavCoin",
          "OpalCoin",
          "Orbitcoin",
          "PotCoin",
          "PhoenixCoin",
          "Reddcoin",
          "SuperCoin",
          "SyncCoin",
          "TeslaCoin",
          "TittieCoin",
          "TorCoin",
          "UnitaryStatus Dollar",
          "UltraCoin",
          "VeriCoin",
          "X11 Coin",
          "Crypti",
          "StealthCoin",
          "ZCC Coin",
          "BurstCoin",
          "StorjCoin",
          "Neutron",
          "FairCoin",
          "RubyCoin",
          "Kore",
          "Dnotes",
          "8BIT Coin",
          "Sativa Coin",
          "Ucoin",
          "Vtorrent",
          "IslaCoin",
          "Nexus",
          "Droidz",
          "Squall Coin",
          "Diggits",
          "Paycon",
          "Emercoin",
          "EverGreenCoin",
          "Decred",
          "EDRCoin",
          "Hitcoin",
          "DubaiCoin",
          "PWR Coin",
          "BillaryCoin",
          "GPU Coin",
          "EuropeCoin",
          "ZeitCoin",
          "SwingCoin",
          "SafeExchangeCoin",
          "Nebuchadnezzar",
          "Ratecoin",
          "Revenu",
          "Clockcoin",
          "VIP Tokens",
          "BitSend",
          "Let it Ride",
          "PutinCoin",
          "iBankCoin",
          "Frankywillcoin",
          "MudraCoin",
          "Lutetium Coin",
          "GoldBlocks",
          "CarterCoin",
          "BitTokens",
          "MustangCoin",
          "ZoneCoin",
          "RootCoin",
          "BitCurrency",
          "Swiscoin",
          "BuzzCoin",
          "Opair",
          "PesoBit",
          "Halloween Coin",
          "CoffeeCoin",
          "RoyalCoin",
          "GanjaCoin V2",
          "TeamUP",
          "LanaCoin",
          "ARK",
          "InsaneCoin",
          "EmberCoin",
          "XenixCoin",
          "FreeCoin",
          "PLNCoin",
          "AquariusCoin",
          "Creatio",
          "Eternity",
          "Eurocoin",
          "BitcoinFast",
          "Stakenet",
          "BitConnect Coin",
          "MoneyCoin",
          "Enigma",
          "Russiacoin",
          "PandaCoin",
          "GameUnits",
          "GAKHcoin",
          "Allsafe",
          "LiteCreed",
          "Klingon Empire Darsek",
          "Internet of People",
          "KushCoin",
          "Printerium",
          "Impeach",
          "Zilbercoin",
          "FirstCoin",
          "FindCoin",
          "OpenChat",
          "RenosCoin",
          "VirtacoinPlus",
          "TajCoin",
          "Impact",
          "Atmos",
          "HappyCoin",
          "MacronCoin",
          "Condensate",
          "Independent Money System",
          "ArgusCoin",
          "LomoCoin",
          "ProCurrency",
          "GoldReserve",
          "GrowthCoin",
          "Phreak",
          "Degas Coin",
          "HTML5 Coin",
          "Ultimate Secure Cash",
          "QTUM",
          "Espers",
          "Denarius",
          "Virta Unique Coin",
          "Bitcoin Planet",
          "BritCoin",
          "Linda",
          "DeepOnion",
          "Signatum",
          "Cream",
          "Monoeci",
          "Draftcoin",
          "Vechain",
          "Stakecoin",
          "CoinonatX",
          "Ethereum Dark",
          "Obsidian",
          "Cardano",
          "Regalcoin",
          "TrezarCoin",
          "TerraNovaCoin",
          "Rupee",
          "WomenCoin",
          "Theresa May Coin",
          "NamoCoin",
          "LUXCoin",
          "Xios",
          "Bitcloud 2.0",
          "KekCoin",
          "BlackholeCoin",
          "Infinity Economics",
          "Magnet",
          "Lamden Tau",
          "Electra",
          "Bitcoin Diamond",
          "Cash & Back Coin",
          "Bulwark",
          "Kalkulus",
          "GermanCoin",
          "LiteCoin Ultra",
          "PhantomX",
          "Digiwage",
          "Trollcoin",
          "Litecoin Plus",
          "Monkey Project",
          "TokenPay",
          "1717 Masonic Commemorative Token",
          "My Big Coin",
          "Unified Society USDEX",
          "Tokyo Coin",
          "BiblePay",
          "Stipend",
          "Pushi",
          "Ellerium",
          "Velox",
          "Ontology",
          "Bitspace",
          "Briacoin",
          "Ignition",
          "MedicCoin",
          "Bitcoin Green",
          "Deviant Coin",
          "Abjcoin",
          "Semux",
          "Carebit",
          "Zealium",
          "Proton",
          "iDealCash",
          "Bitcoin Incognito",
          "HollyWoodCoin",
          "Swisscoin",
          "Xt3ch",
          "TheVig",
          "EmaratCoin",
          "Dekado",
          "Lynx",
          "Poseidon Quark",
          "BitcoinWSpectrum",
          "Muse",
          "Trivechain",
          "Dystem",
          "Giant",
          "Peony Coin",
          "Absolute Coin",
          "Vitae",
          "TPCash",
          "ARENON",
          "EUNO",
          "MMOCoin",
          "Ketan",
          "XDNA",
          "PAXEX",
          "ThunderStake",
          "Kcash",
          "Acute Angle Cloud",
          "Bettex coin",
          "BitMoney",
          "Junson Ming Chan Coin",
          "HerbCoin",
          "PirateCash",
          "Oduwa",
          "Galilel",
          "Crypto Sports",
          "Credit",
          "Dash Platinum",
          "Nasdacoin",
          "Beetle Coin",
          "Titan Coin",
          "Award",
          "Insane Coin",
          "ALAX",
          "LiteDoge",
          "TruckCoin",
          "OrangeCoin",
          "BitstarCoin",
          "NeosCoin",
          "HyperCoin",
          "PinkCoin",
          "AudioCoin",
          "IncaKoin",
          "Piggy Coin",
          "Genstake",
          "XiaoMiCoin",
          "CapriCoin",
          " ClubCoin",
          "Radium",
          "Creditbit ",
          "OKCash",
          "Lisk",
          "HiCoin",
          "WhiteCoin",
          "FriendshipCoin",
          "Triangles Coin",
          "EOS",
          "Oxycoin",
          "TigerCash",
          "Particl",
          "Nxt",
          "ZEPHYR",
          "Gapcoin",
          "BitcoinPlus"
         ],
         "legendgroup": "0",
         "marker": {
          "color": [
           0,
           0,
           0,
           0,
           0,
           0,
           0,
           0,
           0,
           0,
           0,
           0,
           0,
           0,
           0,
           0,
           0,
           0,
           0,
           0,
           0,
           0,
           0,
           0,
           0,
           0,
           0,
           0,
           0,
           0,
           0,
           0,
           0,
           0,
           0,
           0,
           0,
           0,
           0,
           0,
           0,
           0,
           0,
           0,
           0,
           0,
           0,
           0,
           0,
           0,
           0,
           0,
           0,
           0,
           0,
           0,
           0,
           0,
           0,
           0,
           0,
           0,
           0,
           0,
           0,
           0,
           0,
           0,
           0,
           0,
           0,
           0,
           0,
           0,
           0,
           0,
           0,
           0,
           0,
           0,
           0,
           0,
           0,
           0,
           0,
           0,
           0,
           0,
           0,
           0,
           0,
           0,
           0,
           0,
           0,
           0,
           0,
           0,
           0,
           0,
           0,
           0,
           0,
           0,
           0,
           0,
           0,
           0,
           0,
           0,
           0,
           0,
           0,
           0,
           0,
           0,
           0,
           0,
           0,
           0,
           0,
           0,
           0,
           0,
           0,
           0,
           0,
           0,
           0,
           0,
           0,
           0,
           0,
           0,
           0,
           0,
           0,
           0,
           0,
           0,
           0,
           0,
           0,
           0,
           0,
           0,
           0,
           0,
           0,
           0,
           0,
           0,
           0,
           0,
           0,
           0,
           0,
           0,
           0,
           0,
           0,
           0,
           0,
           0,
           0,
           0,
           0,
           0,
           0,
           0,
           0,
           0,
           0,
           0,
           0,
           0,
           0,
           0,
           0,
           0,
           0,
           0,
           0,
           0,
           0,
           0,
           0,
           0,
           0,
           0,
           0,
           0,
           0,
           0,
           0,
           0,
           0,
           0,
           0,
           0,
           0,
           0,
           0,
           0,
           0,
           0,
           0,
           0,
           0,
           0,
           0,
           0,
           0,
           0,
           0,
           0,
           0,
           0,
           0,
           0,
           0,
           0,
           0,
           0,
           0,
           0,
           0,
           0,
           0,
           0,
           0,
           0,
           0,
           0,
           0,
           0,
           0,
           0,
           0,
           0,
           0,
           0,
           0,
           0,
           0,
           0,
           0,
           0,
           0,
           0,
           0,
           0,
           0,
           0,
           0,
           0,
           0,
           0,
           0,
           0,
           0,
           0,
           0,
           0,
           0,
           0,
           0,
           0,
           0,
           0,
           0,
           0,
           0,
           0,
           0,
           0,
           0,
           0,
           0,
           0,
           0,
           0,
           0,
           0,
           0,
           0,
           0,
           0,
           0,
           0
          ],
          "coloraxis": "coloraxis",
          "symbol": "circle"
         },
         "mode": "markers",
         "name": "0",
         "scene": "scene",
         "showlegend": true,
         "type": "scatter3d",
         "x": [
          -0.33651368335093457,
          -0.3198243245197073,
          2.302560177912533,
          -0.39887348913999043,
          -0.33411124775275314,
          -0.31336426149796404,
          -0.2616126032104529,
          -0.24668245075592174,
          -0.33617268169909337,
          -0.3287392895712938,
          -0.3350080140497857,
          -0.3365096113244041,
          -0.3364938668384729,
          0.6693923059098363,
          -0.3569900136504597,
          -0.3210467046749194,
          -0.2910208887332637,
          -0.33456905439628637,
          -0.3269154700449086,
          -0.3987680283224285,
          -0.4021192335628325,
          -0.024294919558921206,
          -0.27660565532893056,
          -0.28451263286020106,
          -0.28657624782277324,
          -0.28719938397875494,
          -0.3514519283545339,
          -0.3308056550099542,
          -0.33491262591898896,
          0.022161503938758296,
          -0.34683171201309176,
          -0.3991402480026435,
          -0.2324879685043771,
          -0.31582917552319406,
          -0.39905171324815786,
          -0.3117020123327276,
          -0.33518868168759575,
          -0.269551173175313,
          -0.39901615559268255,
          -0.23295683179817592,
          -0.28697992084086243,
          -0.32759926754631274,
          0.011854390635184224,
          -0.34052472642397713,
          -0.3125746048413867,
          -0.3564107333254085,
          -0.28449293204800524,
          -0.28727483177100777,
          -0.27913686300159785,
          -0.33649572516739357,
          -0.2872269545192154,
          -0.3472771339338948,
          -0.3362296254972881,
          -0.3991217493786068,
          -0.37830757523349623,
          -0.436923327697735,
          -0.3580402759060257,
          -0.28289166021858,
          -0.28674770804652866,
          -0.3059057179868779,
          -0.24912891831400505,
          -0.06251263880998464,
          -0.3133351321078502,
          -0.07599578142386758,
          -0.31339897057961963,
          -0.237899356093673,
          -0.3361052268589814,
          -0.28275999319176703,
          -0.39628509300679193,
          0.8707887979379259,
          -0.31319860953328477,
          -0.06262738695146362,
          -0.32072942104529173,
          -0.39696121136667895,
          -0.3119395012529781,
          -0.30960297026216044,
          -0.35943844651361756,
          -0.3978544637070937,
          -0.33779406501573017,
          -0.31235800098230604,
          -0.336143371352407,
          -0.3345798108135798,
          -0.23421474423769392,
          -0.3347465710052025,
          -0.3985946579342273,
          -0.33534621701596334,
          -0.313379849392332,
          -0.399110912063772,
          -0.3363329148691317,
          -0.3364899496726125,
          -0.2827504989920029,
          -0.23299988046943973,
          0.04361625478408013,
          -0.31968471581127517,
          -0.33610353167188284,
          -0.3852462956174471,
          -0.31901249973478124,
          -0.23564832186829074,
          -0.43634591010333934,
          -0.31875995285864783,
          -0.27143159987113163,
          3.6785880070304726,
          -0.3987027328763804,
          0.8466301192348582,
          -0.39906575104735315,
          -0.3201492590404165,
          -0.33603081445027444,
          -0.3361853557294533,
          -0.32072942104529173,
          -0.3986397839560406,
          -0.313242322000928,
          -0.3360315749908062,
          -0.40004627545285026,
          -0.3361792065390127,
          -0.3317580152698011,
          -0.3990947832289847,
          -0.33538823967263154,
          0.3598555510004522,
          -0.336378843428458,
          -0.33644956100336393,
          -0.3555623619149174,
          -0.36265335911177266,
          -0.3326685884844728,
          -0.3133562279471216,
          -0.39900458203474193,
          -0.3362269704346239,
          -0.33635410446820435,
          -0.2843990686651452,
          -0.25975326008034294,
          -0.2354157788681427,
          -0.31717495066732637,
          -0.28413990126118005,
          -0.3982688476230589,
          -0.41445241919243775,
          -0.397005296043766,
          -0.3189729777928987,
          -0.39816658070464916,
          -0.3133633115132742,
          -0.39409981594071736,
          -0.33629730958171505,
          -0.3362964669141824,
          -0.32940380670276,
          0.2721640097361917,
          -0.39864602770391205,
          -0.2670070390044808,
          -0.32076372380279206,
          -0.3355064654539242,
          0.8873191517728872,
          -0.2603002649698178,
          -0.3365703129125162,
          0.5757257834489647,
          -0.3609767240343094,
          -0.35947625256447274,
          -0.4157412718594173,
          -0.28691149435333646,
          0.12933880511960408,
          -0.2869824193707136,
          -0.330021973407445,
          -0.41524541969825374,
          -0.39891894754145835,
          -0.2844735413460707,
          4.367211340925327,
          -0.3206296644553748,
          -0.33593184719510055,
          -0.3364324614824809,
          -0.3922767932516981,
          0.6790919937205572,
          -0.39885961269097964,
          -0.34644203370694315,
          -0.3363879614804431,
          -0.31161780733755984,
          0.4339806775521083,
          -0.3116996983117668,
          -0.34571581025977977,
          -0.40317724917323283,
          -0.33633820382795593,
          -0.40568924657821687,
          -0.36667520421556493,
          -0.33620843649536664,
          -0.08779956147464449,
          -0.39764996927438107,
          3.6834528478530837,
          0.1994768516746134,
          -0.28364749816561996,
          -0.333664094189941,
          -0.309051680233533,
          -0.3554480744514,
          0.07876639026943703,
          -0.3353451090026469,
          -0.3982323761947895,
          -0.35461114092669677,
          -0.3228891525140906,
          -0.3364546268005859,
          -0.3472490173409953,
          -0.33807643768824663,
          -0.27978903840311364,
          -0.30774831069859737,
          -0.3319922740056475,
          -0.22719596187155447,
          -0.17316537003479526,
          -0.37135494419880194,
          -0.398936152200457,
          -0.2956119729702177,
          -0.28363181889776556,
          -0.30674228945240595,
          -0.360574916347386,
          -0.3364820265269853,
          -0.33646370174652346,
          -0.278003273589115,
          -0.3523910304901829,
          -0.3202234053766251,
          -0.3361796836790494,
          3.8817929814490557,
          -0.40435529132250797,
          -0.32041238947673756,
          -0.30548791110460155,
          -0.2829487419056424,
          -0.25466476165020957,
          -0.2841672590198972,
          -0.13925860250562572,
          -0.2844196152811606,
          -0.33687560913065684,
          -0.3356527009763839,
          -0.19678326365996274,
          2.235060056904021,
          -0.35114692557285127,
          -0.2604286081095425,
          0.9987000511846703,
          -0.35651146689435753,
          -0.35556177114443044,
          -0.40737673731229584,
          -0.16490131621831766,
          -0.3632340159103492,
          -0.3542790595443465,
          -0.32934380880906455,
          -0.3468256501695155,
          -0.3984085975967197,
          -0.28166006790439474,
          -0.3195102889126151,
          -0.3279309305542809,
          -0.3466866287757111,
          -0.1956774945287444,
          -0.5055840961026351,
          -0.37877088096916284,
          -0.2439169460754637,
          0.6013275686473353,
          -0.1368891577769012,
          -0.4066701068843362,
          -0.2557128724383941,
          -0.33618370227815747,
          -0.4071270544837344,
          -0.3556789546908806,
          0.5719993075184983,
          -0.3473034187661582,
          -0.3356655820968041,
          -0.29005744547614726,
          -0.2915068984007773,
          -0.39596802415674764,
          -0.39863625846276884,
          3.6957149208968185,
          0.09954409274002252,
          -0.39617238175238356,
          -0.33504965523184105,
          -0.3358765083924876,
          -0.26164524469203315,
          -0.3363958466862608,
          -0.39024961447819356,
          -0.2499249679154968,
          -0.09269453808972121,
          -0.3859894880708734,
          -0.3356730293522272,
          -0.3287253788008207,
          -0.3951990002180596,
          -0.3341092716561565,
          -0.32100550903497654,
          -0.3698099399672596,
          -0.31187675893520433,
          3.6789805546851926,
          -0.09137243875435525,
          -0.33129927476572896,
          -0.3510769857435257,
          -0.2873822468317515,
          3.68886252261899,
          3.690108504919794,
          -0.24250942931899105,
          -0.32094128191487054,
          -0.24491196693424713,
          2.454856503705635,
          -0.33455506321539197,
          -0.28481685973078763
         ],
         "y": [
          0.9896876834544621,
          0.9898299484043738,
          1.6912866882780266,
          1.2977769772718084,
          1.6309711222169743,
          0.8576257384194309,
          0.6245993596941177,
          1.9133975735442232,
          0.9896863888774866,
          0.9899304702887601,
          0.9897347040815386,
          0.9896874545148427,
          0.9896875900649342,
          0.38513360999251117,
          0.9718954696189609,
          1.5669676562436365,
          0.12325600910953462,
          0.9896629399701568,
          1.0653905270413173,
          1.2977802707112198,
          2.1451552340327993,
          0.7647886741776935,
          0.8570662205788513,
          0.7566508019435652,
          1.8341966723534648,
          1.8341772124135267,
          0.6042474285099096,
          0.9895667863031054,
          0.9896678805030141,
          1.000888762951343,
          1.0647685620521732,
          1.2977843158775344,
          0.12671817408548658,
          1.6382678846450844,
          1.2977799587448633,
          0.9893228960298335,
          0.9896578350081947,
          0.1382175607790059,
          1.2977842743909727,
          0.12677475893555842,
          1.834184066035229,
          0.9892538020986916,
          0.8719709242320248,
          1.4876111236961584,
          0.8576176342147697,
          0.971916679726178,
          0.7566629417091051,
          1.8341663090121756,
          0.7564740715811115,
          0.9896882443010945,
          1.8341692287124314,
          1.0647404065565294,
          0.9896823089371034,
          1.2977848942839556,
          2.480858404541607,
          2.004874593021076,
          0.9844725859222188,
          0.756641720883215,
          1.8341557043175722,
          0.8571620614884821,
          1.9135517359425327,
          0.9617580627723082,
          0.8576266481021328,
          1.288965038119518,
          0.8576328455930802,
          1.592025060144488,
          0.9896705238468806,
          0.756559610561907,
          1.2975999686501891,
          0.7222265460049813,
          0.857618090710627,
          0.3892345533459291,
          1.5669633193052366,
          1.2977989455498617,
          0.8575272619139943,
          0.8573849281117144,
          1.5881654075110387,
          1.2977254648640555,
          1.4993334845658217,
          0.9890175021478043,
          0.9896676706681744,
          0.9896768494571634,
          1.6010401179474198,
          1.064678007952146,
          1.297765741341562,
          0.9896600380318975,
          0.8576259638945305,
          1.297783095912896,
          0.989678371039866,
          0.9896884246642148,
          0.756717356209516,
          0.14730317607555302,
          1.9755989448443925,
          1.5669574818613545,
          0.9897004921249338,
          1.2971498063311067,
          1.567002691771619,
          1.6011360219354303,
          1.9622093430622956,
          1.5668246760300626,
          1.9746594058953284,
          1.887197766939004,
          1.2977766116650882,
          1.8689801825597934,
          1.2977838984487513,
          1.5669600691046812,
          0.9896753121286083,
          0.9896680214996939,
          1.5669633193052366,
          1.29775720939975,
          0.8576309710120305,
          0.9896792343533305,
          0.7848253546845728,
          0.9896781853126347,
          0.9893727529388203,
          1.297782175060867,
          0.9896202631262284,
          0.7536259230373289,
          0.9896826348951542,
          0.9896873242263705,
          1.4828269823671105,
          0.6260758135137175,
          0.9894516270929858,
          0.8576267015694361,
          1.2977818907335144,
          0.9896823918521447,
          0.9896770445240916,
          0.7566266981231509,
          0.0983361897660786,
          1.6011347191762322,
          0.9895793434405188,
          0.7566494456119105,
          1.2977403025839012,
          2.0427155301222064,
          1.2977726393788347,
          1.5669538604530246,
          1.2977434962809298,
          1.5669226931961975,
          1.2975855894238246,
          0.9896793318711626,
          0.9896740960224562,
          0.9891974480847845,
          0.5878573426245934,
          1.2977712598130613,
          0.7557844692977487,
          1.566955125363509,
          0.9896443495784053,
          1.8849563443023656,
          0.6245067321554357,
          1.4993243352079277,
          1.8940704452750186,
          1.588174350188788,
          1.5881428587653221,
          2.0176842322776967,
          1.8341648348290203,
          0.9686223076803399,
          1.8341705273969102,
          1.5005858090327044,
          2.017699717261487,
          1.2977844558456488,
          0.7566511495682788,
          2.439898269722385,
          1.5669368042010536,
          0.9896714852143343,
          0.989687228430935,
          1.6316541531068345,
          1.4545275884528917,
          1.297773849270019,
          0.6041216599454189,
          0.9896804032761717,
          0.7219279027633682,
          0.9959427283474902,
          0.8576221640609224,
          1.5878033325058263,
          1.8717848730312157,
          0.9896782058707932,
          1.7157790978216705,
          1.5150004966546724,
          0.9896866828036919,
          0.6236258465997583,
          1.2977282896776803,
          1.8870825899753367,
          1.5843157971375554,
          1.8341385576798517,
          0.9896270967049713,
          1.3551340008996346,
          1.4828269901042652,
          0.9670429800389341,
          0.9896173364355126,
          1.297777055050167,
          1.482781899731793,
          0.9894721214367987,
          0.9896866786834669,
          1.064740572340577,
          1.4993307206349482,
          -0.08471668782893546,
          0.11983387278188631,
          0.9896636360941652,
          1.6008319457518998,
          3.1180163077000396,
          0.9885409355968402,
          1.2977728835550597,
          1.5300136085202534,
          0.7566015119635426,
          1.4708058251148155,
          1.5881584074554875,
          0.9896865352864672,
          0.9896856830116995,
          0.7565094724829361,
          1.4745327650911793,
          1.566930687327164,
          0.9896767458720606,
          1.9675062085684414,
          1.7158207559551406,
          1.5669304836961655,
          0.6919051527673865,
          0.9877122527659161,
          1.2167248858103161,
          0.7566545931436545,
          0.9885826152703732,
          0.7566338914419272,
          1.9778907241762484,
          0.9896547404538635,
          1.6804917675628994,
          0.09760406244936772,
          1.4825125807420274,
          0.6245738243332154,
          1.6747548563002301,
          0.9249342927045772,
          1.482822727196445,
          1.7158651842094612,
          0.7483745550976725,
          0.9549449783228231,
          1.4828065157119563,
          0.9891993217610214,
          1.0647295765090006,
          1.297771551826089,
          0.756566219124761,
          1.5668660603280706,
          0.9845292267256164,
          1.0647018658638483,
          0.9812650019829448,
          1.9473640474260747,
          2.511717834087337,
          1.2969858173862625,
          1.222433898040233,
          1.0713248651275742,
          1.7158524579187568,
          -0.11510559789630577,
          0.98968303080488,
          1.715863091694991,
          1.4828245022874564,
          0.9647818719639106,
          1.0647397993876129,
          0.9896543381889212,
          1.529873672256356,
          1.9758174222837532,
          1.2975842286848118,
          1.2977786875967825,
          1.887109387678056,
          0.9783758972495018,
          1.2978770001845847,
          0.9895909496724331,
          0.9896689368379626,
          0.6245922860373962,
          0.9896913634095349,
          1.2977058274945752,
          0.9849129306363378,
          0.864397379265092,
          1.2974827321371072,
          0.9897032522466871,
          0.9896459967182121,
          1.2977592457941607,
          0.9896488077417396,
          1.566962532313874,
          0.9041551300121081,
          0.857613073278887,
          1.8871851544949578,
          0.7555649149593262,
          0.9896368434323178,
          0.6042189668999035,
          1.8341714163109533,
          1.8876076638783221,
          1.8876465747014304,
          0.6244925667515318,
          1.5669647986558577,
          1.816757512474057,
          0.8368451823698021,
          0.9895707818043132,
          0.7566521134906468
         ],
         "z": [
          -0.5144027118555409,
          -0.5146516624098748,
          -0.5344509467845792,
          -0.4120980926941544,
          0.02273202151326413,
          -0.31362080448716034,
          -0.06460783194035233,
          -0.5596597436853687,
          -0.5144072236598273,
          -0.5145428308358247,
          -0.5144298487460532,
          -0.5144027365246996,
          -0.5144029715641154,
          -0.3275991282022789,
          -0.33721128439888337,
          -0.10444349531843197,
          -0.34968310653009155,
          -0.5144260660241801,
          -0.1634505203285439,
          -0.4120999934290798,
          -0.43336717169296607,
          -0.27008324825448365,
          -0.31404969975192915,
          -0.26539173159441926,
          -0.5184018019882097,
          -0.5183905711189386,
          -0.26804157755488034,
          -0.5144646589114088,
          -0.514422017714989,
          -0.5208671644525469,
          -0.16309156714027057,
          -0.4120954286927256,
          0.06437576584859965,
          -0.23748484490787697,
          -0.4120960499516129,
          -0.5146939740102668,
          -0.5144168474210837,
          -0.4121173172886611,
          -0.41209712934288334,
          0.06437447110959908,
          -0.5183945265334784,
          -0.5144659263396961,
          -0.2135117740078277,
          -0.11601524045113812,
          -0.3136305538200169,
          -0.3372221516850049,
          -0.26539366342645226,
          -0.5183880418976736,
          -0.2654414709654139,
          -0.5144030355224667,
          -0.5183890996985577,
          -0.16308159021386073,
          -0.5144058824482672,
          -0.4120957621934409,
          -0.1437031871128604,
          -0.5985236178717571,
          0.1607763750414102,
          -0.2654127782433782,
          -0.5183938391732908,
          -0.31365992350713306,
          -0.5596471958329599,
          -0.3400437641817619,
          -0.31362132949019406,
          -0.4153321750353282,
          -0.31362129961018975,
          -0.4968080231067063,
          -0.5144059805741973,
          -0.26540335456359443,
          -0.4121094663561574,
          -0.2765677902718101,
          -0.3136220359325913,
          -0.31809461169094344,
          -0.10444726473982614,
          -0.4121273930240328,
          -0.31362692223207084,
          -0.3136395767708813,
          -0.4946087366271318,
          -0.4121050569320007,
          -0.15416747789913537,
          -0.5146431705275405,
          -0.5144050657044409,
          -0.5144278211852018,
          -0.26937940472641037,
          -0.16324535382591665,
          -0.4121003894720171,
          -0.5144149826527451,
          -0.3136206209956517,
          -0.4120956651620545,
          -0.514403923398337,
          -0.5144031396150093,
          -0.2654250675388246,
          -0.31876385492916876,
          -0.6229620981973735,
          -0.10446083123836111,
          -0.5144101040801724,
          -0.41219966451239975,
          -0.10447626003499486,
          -0.26937281377210426,
          -0.6224075781388813,
          -0.10445537693065358,
          -0.6185015032450822,
          0.08223389985482003,
          -0.41210039064778226,
          -0.5387429037605506,
          -0.41209639594753095,
          -0.10445479754188722,
          -0.5144076589007465,
          -0.5144045364004636,
          -0.10444726473982614,
          -0.4120986016467634,
          -0.3136231971221515,
          -0.5144081850734608,
          -0.18319469477822395,
          -0.5144060115459691,
          -0.5144250162966001,
          -0.41209576095173633,
          -0.5144089629039464,
          -0.27383822542811853,
          -0.5144038752317177,
          -0.5144035444177385,
          -0.19386661053028217,
          -0.2313982087214046,
          -0.5144232869016164,
          -0.31362104672823127,
          -0.4120969623575228,
          -0.5144059303008292,
          -0.5144034505407703,
          -0.2653899953192992,
          -0.4284265160550949,
          -0.26937583310183666,
          -0.5146538052470352,
          -0.2653966712505551,
          -0.4121013890328428,
          -0.6644846076810388,
          -0.41212318768530415,
          -0.10447012248172441,
          -0.4121032322036816,
          -0.10454299366946271,
          -0.4121375475600377,
          -0.5144045444459041,
          -0.514403839675219,
          -0.514433402880471,
          -0.06692053460091942,
          -0.41210043814025127,
          -0.2655139115572885,
          -0.10444567198376516,
          -0.5144106327038808,
          -0.5713615052294443,
          -0.06461320407556558,
          -0.154183053243312,
          -0.5056663123983194,
          -0.4945888081399391,
          -0.49460513170530884,
          -0.6399714637602398,
          -0.518392836255412,
          -0.5179262722490999,
          -0.5183926398497246,
          -0.09463613918030452,
          -0.639980400572438,
          -0.412098490823406,
          -0.26539231668153923,
          1.0434060529950848,
          -0.10444500869720308,
          -0.5144084961545538,
          -0.5144037664372864,
          0.023438372995392327,
          -0.1460475999408952,
          -0.41209785553496187,
          -0.26809325846308635,
          -0.5144034445290283,
          -0.08765618172566246,
          -0.5258531566980473,
          -0.3136432039409407,
          -0.4947478906906856,
          -0.48607547496310516,
          -0.5144038280746994,
          -0.4428917638991562,
          -0.10060618190932111,
          -0.514406772229713,
          -0.0668646451739865,
          -0.41210825530713796,
          0.08218276438131461,
          -0.5017673769644191,
          -0.5184341224821262,
          -0.5144336056329634,
          -0.24557630829867463,
          -0.19386818309271586,
          -0.5170147986097379,
          -0.5144091555463608,
          -0.41210691892599893,
          -0.19387352213448097,
          -0.5145605625225841,
          -0.5144033864389413,
          -0.16308199951183863,
          -0.15416321699314148,
          0.06340824774986573,
          -0.37501329153674806,
          -0.5144615931518036,
          -0.26944743445078995,
          6.8564277600108365,
          -0.44529353619556306,
          -0.4120966709553205,
          -0.09573690635383812,
          -0.2653970994304537,
          -0.09373025584042487,
          -0.4945921519247074,
          -0.5144029900611475,
          -0.5144031254286625,
          -0.2654619018044474,
          -0.08293788727773757,
          -0.10444975804389828,
          -0.5144058080438662,
          0.1744698790195655,
          -0.44291580595954155,
          -0.10444713156744707,
          -0.0670182883150809,
          -0.5148689795638851,
          0.4771338501068197,
          -0.26539699934351124,
          -0.5169638645457791,
          -0.2653906969687735,
          -0.6180437209125436,
          -0.5144100435574911,
          -0.3106377953370191,
          -0.35096115092585645,
          -0.19388430899410536,
          -0.06462061870966641,
          -0.027191595292492574,
          -0.3160416503807704,
          -0.1938660364701942,
          -0.4428803383025724,
          -0.2659041022323202,
          -0.3366697439272953,
          -0.19388145630866382,
          -0.5144344842308212,
          -0.16308631657381045,
          -0.4121037428632577,
          -0.26541938319892217,
          -0.10445072158566132,
          -0.3569703897554216,
          -0.16308443686845553,
          -0.51518689912431,
          0.3060688186834321,
          -0.12724304106650605,
          0.15327703814277235,
          0.783273719373827,
          -0.16687539088160486,
          -0.4428883136035366,
          0.12235689185407848,
          -0.5144066126775365,
          -0.44288348525998283,
          -0.1938646680080997,
          -0.5234876122903975,
          -0.1630811457140684,
          -0.5144098113992731,
          -0.09579413781315908,
          -0.6183838962435626,
          -0.41211167268621296,
          -0.41210158872534813,
          0.08201048897552159,
          -0.5188510470854252,
          -0.41214891905478634,
          -0.514409607987054,
          -0.5144089084244322,
          -0.06460641530260398,
          -0.5144048356461698,
          -0.41220694027442006,
          -0.5149400739284989,
          -0.31758159367113736,
          -0.41223499548736114,
          -0.5144164013140576,
          -0.514504101043157,
          -0.4121461925806619,
          -0.5144304547013647,
          -0.10444336073171906,
          -0.14641517010647473,
          -0.31363952549643864,
          0.08223022775651576,
          -0.2678989270786723,
          -0.5144674564866857,
          -0.2680428391265908,
          -0.5183872636622519,
          0.08203653942801471,
          0.08201408291638282,
          -0.0648558979598927,
          -0.10444455395952464,
          0.02216204477818232,
          0.044341621140380524,
          -0.5144136495239381,
          -0.265387727781676
         ]
        },
        {
         "customdata": [
          [
           "Bitcoin",
           "SHA-256"
          ],
          [
           "Ethereum",
           "Ethash"
          ],
          [
           "Litecoin",
           "Scrypt"
          ],
          [
           "Monero",
           "CryptoNight-V7"
          ],
          [
           "Ethereum Classic",
           "Ethash"
          ],
          [
           "ZCash",
           "Equihash"
          ],
          [
           "DigiByte",
           "Multiple"
          ],
          [
           "ProsperCoin",
           "Scrypt"
          ],
          [
           "Spreadcoin",
           "X11"
          ],
          [
           "Argentum",
           "Scrypt"
          ],
          [
           "MyriadCoin",
           "Multiple"
          ],
          [
           "MoonCoin",
           "Scrypt"
          ],
          [
           "ZetaCoin",
           "SHA-256"
          ],
          [
           "SexCoin",
           "Scrypt"
          ],
          [
           "Quatloo",
           "Scrypt"
          ],
          [
           "QuarkCoin",
           "Quark"
          ],
          [
           "Riecoin",
           "Groestl"
          ],
          [
           "Digitalcoin ",
           "Scrypt"
          ],
          [
           "Catcoin",
           "Scrypt"
          ],
          [
           "CannaCoin",
           "Scrypt"
          ],
          [
           "CryptCoin",
           "X11"
          ],
          [
           "Verge",
           "Multiple"
          ],
          [
           "DevCoin",
           "SHA-256"
          ],
          [
           "EarthCoin",
           "Scrypt"
          ],
          [
           "E-Gulden",
           "Scrypt"
          ],
          [
           "Einsteinium",
           "Scrypt"
          ],
          [
           "Emerald",
           "Scrypt"
          ],
          [
           "Franko",
           "Scrypt"
          ],
          [
           "FeatherCoin",
           "NeoScrypt"
          ],
          [
           "GrandCoin",
           "Scrypt"
          ],
          [
           "GlobalCoin",
           "Scrypt"
          ],
          [
           "GoldCoin",
           "Scrypt"
          ],
          [
           "Infinite Coin",
           "Scrypt"
          ],
          [
           "IXcoin",
           "SHA-256"
          ],
          [
           "KrugerCoin",
           "Scrypt"
          ],
          [
           "LuckyCoin",
           "Scrypt"
          ],
          [
           "Litebar ",
           "Scrypt"
          ],
          [
           "MegaCoin",
           "Scrypt"
          ],
          [
           "MediterraneanCoin",
           "HybridScryptHash256"
          ],
          [
           "MinCoin",
           "Scrypt"
          ],
          [
           "NobleCoin",
           "Scrypt"
          ],
          [
           "Namecoin",
           "SHA-256"
          ],
          [
           "NyanCoin",
           "Scrypt"
          ],
          [
           "RonPaulCoin",
           "Scrypt"
          ],
          [
           "StableCoin",
           "Scrypt"
          ],
          [
           "SmartCoin",
           "Scrypt"
          ],
          [
           "SysCoin",
           "SHA-256"
          ],
          [
           "TigerCoin",
           "SHA-256"
          ],
          [
           "TerraCoin",
           "SHA-256"
          ],
          [
           "UnbreakableCoin",
           "SHA-256"
          ],
          [
           "Unobtanium",
           "SHA-256"
          ],
          [
           "UroCoin",
           "X11"
          ],
          [
           "ViaCoin",
           "Scrypt"
          ],
          [
           "Vertcoin",
           "Lyra2REv2"
          ],
          [
           "WorldCoin",
           "Scrypt"
          ],
          [
           "JouleCoin",
           "SHA-256"
          ],
          [
           "ByteCoin",
           "CryptoNight"
          ],
          [
           "DigitalNote ",
           "CryptoNight"
          ],
          [
           "MonaCoin",
           "Scrypt"
          ],
          [
           "Gulden",
           "Scrypt"
          ],
          [
           "PesetaCoin",
           "Scrypt"
          ],
          [
           "Wild Beast Coin",
           "Scrypt"
          ],
          [
           "Flo",
           "Scrypt"
          ],
          [
           "ArtByte",
           "Scrypt"
          ],
          [
           "Folding Coin",
           "Stanford Folding"
          ],
          [
           "Unitus",
           "Multiple"
          ],
          [
           "CypherPunkCoin",
           "QuBit"
          ],
          [
           "OmniCron",
           "Scrypt"
          ],
          [
           "GreenCoin",
           "Scrypt"
          ],
          [
           "Cryptonite",
           "M7 POW"
          ],
          [
           "MasterCoin",
           "Scrypt"
          ],
          [
           "SoonCoin",
           "SHA-256"
          ],
          [
           "1Credit",
           "Scrypt"
          ],
          [
           "MarsCoin ",
           "X11"
          ],
          [
           "Crypto",
           "Lyra2RE"
          ],
          [
           "Anarchists Prime",
           "SHA-256"
          ],
          [
           "BowsCoin",
           "X11"
          ],
          [
           "Song Coin",
           "Scrypt"
          ],
          [
           "BitZeny",
           "Scrypt"
          ],
          [
           "Expanse",
           "Ethash"
          ],
          [
           "Siacoin",
           "Blake2b"
          ],
          [
           "MindCoin",
           "X11"
          ],
          [
           "I0coin",
           "SHA-256"
          ],
          [
           "Revolution VR",
           "Scrypt"
          ],
          [
           "HOdlcoin",
           "1GB AES Pattern Search"
          ],
          [
           "Gamecredits",
           "Scrypt"
          ],
          [
           "CarpeDiemCoin",
           "SHA-256"
          ],
          [
           "Adzcoin",
           "X11"
          ],
          [
           "SoilCoin",
           "Dagger"
          ],
          [
           "YoCoin",
           "Scrypt"
          ],
          [
           "SibCoin",
           "X11GOST"
          ],
          [
           "Francs",
           "Scrypt"
          ],
          [
           "BolivarCoin",
           "X11"
          ],
          [
           "Omni",
           "Scrypt"
          ],
          [
           "PizzaCoin",
           "X11"
          ],
          [
           "Komodo",
           "Equihash"
          ],
          [
           "Karbo",
           "CryptoNight"
          ],
          [
           "ZayedCoin",
           "SHA-256"
          ],
          [
           "Circuits of Value",
           "Multiple"
          ],
          [
           "DopeCoin",
           "Scrypt"
          ],
          [
           "DollarCoin",
           "SHA-256"
          ],
          [
           "Shilling",
           "Scrypt"
          ],
          [
           "ZCoin",
           "Lyra2Z"
          ],
          [
           "Elementrem",
           "Ethash"
          ],
          [
           "ZClassic",
           "Equihash"
          ],
          [
           "KiloCoin",
           "Scrypt"
          ],
          [
           "ArtexCoin",
           "X11"
          ],
          [
           "Kurrent",
           "X11"
          ],
          [
           "Cannabis Industry Coin",
           "CryptoNight"
          ],
          [
           "OsmiumCoin",
           "Scrypt"
          ],
          [
           "Bikercoins",
           "CryptoNight"
          ],
          [
           "HexxCoin",
           "Lyra2RE"
          ],
          [
           "PacCoin",
           "X11"
          ],
          [
           "Citadel",
           "CryptoNight-V7"
          ],
          [
           "BeaverCoin",
           "Scrypt"
          ],
          [
           "VaultCoin",
           "X11"
          ],
          [
           "Zero",
           "Equihash"
          ],
          [
           "Canada eCoin",
           "Scrypt"
          ],
          [
           "Zoin",
           "Lyra2RE"
          ],
          [
           "DubaiCoin",
           "Dagger-Hashimoto"
          ],
          [
           "EB3coin",
           "Scrypt"
          ],
          [
           "Coinonat",
           "NIST5"
          ],
          [
           "BenjiRolls",
           "Scrypt"
          ],
          [
           "ILCoin",
           "SHA-256"
          ],
          [
           "EquiTrader",
           "Scrypt"
          ],
          [
           "Quantum Resistant Ledger",
           "CryptoNight-V7"
          ],
          [
           "Dynamic",
           "Argon2d"
          ],
          [
           "Nano",
           "Blake2b"
          ],
          [
           "ChanCoin",
           "Cloverhash"
          ],
          [
           "Dinastycoin",
           "CryptoNight"
          ],
          [
           "DigitalPrice",
           "X11"
          ],
          [
           "Unify",
           "Scrypt"
          ],
          [
           "SocialCoin",
           "Scrypt"
          ],
          [
           "ArcticCoin",
           "X11"
          ],
          [
           "DAS",
           "X11"
          ],
          [
           "LeviarCoin",
           "CryptoNight"
          ],
          [
           "Bitcore",
           "Time Travel"
          ],
          [
           "gCn Coin",
           "Scrypt"
          ],
          [
           "SmartCash",
           "Keccak"
          ],
          [
           "Onix",
           "X11"
          ],
          [
           "Bitcoin Cash",
           "SHA-256"
          ],
          [
           "Sojourn Coin",
           "Scrypt"
          ],
          [
           "NewYorkCoin",
           "Scrypt"
          ],
          [
           "FrazCoin",
           "Scrypt"
          ],
          [
           "Kronecoin",
           "Scrypt"
          ],
          [
           "AdCoin",
           "Scrypt"
          ],
          [
           "Linx",
           "Scrypt"
          ],
          [
           "Sumokoin",
           "CryptoNight"
          ],
          [
           "BitcoinZ",
           "Equihash"
          ],
          [
           "Elements",
           "X11"
          ],
          [
           "VIVO Coin",
           "NeoScrypt"
          ],
          [
           "Bitcoin Gold",
           "Equihash"
          ],
          [
           "Pirl",
           "Dagger"
          ],
          [
           "eBoost",
           "Scrypt"
          ],
          [
           "Pura",
           "X11"
          ],
          [
           "Innova",
           "NeoScrypt"
          ],
          [
           "Ellaism",
           "Ethash"
          ],
          [
           "GoByte",
           "NeoScrypt"
          ],
          [
           "SHIELD",
           "Multiple"
          ],
          [
           "UltraNote",
           "CryptoNight"
          ],
          [
           "BitCoal",
           "CryptoNight"
          ],
          [
           "DaxxCoin",
           "Ethash"
          ],
          [
           "AC3",
           "X11"
          ],
          [
           "Lethean",
           "CryptoNight-V7"
          ],
          [
           "PopularCoin",
           "Scrypt"
          ],
          [
           "Photon",
           "BLAKE256"
          ],
          [
           "Sucre",
           "X11"
          ],
          [
           "SparksPay",
           "NeoScrypt"
          ],
          [
           "GunCoin",
           "NeoScrypt"
          ],
          [
           "IrishCoin",
           "Scrypt"
          ],
          [
           "Pioneer Coin",
           "X11"
          ],
          [
           "UnitedBitcoin",
           "SHA-256"
          ],
          [
           "Interzone",
           "C11"
          ],
          [
           "TurtleCoin",
           "CryptoNight"
          ],
          [
           "MUNcoin",
           "SkunkHash"
          ],
          [
           "Niobio Cash",
           "CryptoNight"
          ],
          [
           "ShareChain",
           "Scrypt"
          ],
          [
           "Travelflex",
           "Dagger"
          ],
          [
           "KREDS",
           "Lyra2REv2"
          ],
          [
           "BitFlip",
           "Scrypt"
          ],
          [
           "LottoCoin",
           "Scrypt"
          ],
          [
           "Crypto Improvement Fund",
           "X11"
          ],
          [
           "Callisto Network",
           "Ethash"
          ],
          [
           "BitTube",
           "CryptoNight"
          ],
          [
           "Poseidon",
           "Scrypt"
          ],
          [
           "Aidos Kuneen",
           "IMesh"
          ],
          [
           "Bitrolium",
           "Equihash"
          ],
          [
           "Alpenschillling",
           "Lyra2Z"
          ],
          [
           "FuturoCoin",
           "X11"
          ],
          [
           "Monero Classic",
           "CryptoNight"
          ],
          [
           "Jumpcoin",
           "NIST5"
          ],
          [
           "Infinex",
           "Lyra2RE"
          ],
          [
           "KEYCO",
           "Tribus"
          ],
          [
           "GINcoin",
           "Lyra2Z"
          ],
          [
           "PlatinCoin",
           "CryptoNight"
          ],
          [
           "Loki",
           "CryptoNight Heavy"
          ],
          [
           "Newton Coin",
           "CryptoNight"
          ],
          [
           "MassGrid",
           "Jump Consistent Hash"
          ],
          [
           "PluraCoin",
           "CryptoNight"
          ],
          [
           "Motion",
           "X16R"
          ],
          [
           "PlusOneCoin",
           "HMQ1725"
          ],
          [
           "Axe",
           "X11"
          ],
          [
           "HexCoin",
           "Scrypt"
          ],
          [
           "Webchain",
           "CryptoNight-V7"
          ],
          [
           "Ryo",
           "Cryptonight-GPU"
          ],
          [
           "Urals Coin",
           "XEVAN"
          ],
          [
           "Qwertycoin",
           "CryptoNight Heavy"
          ],
          [
           "Project Pai",
           "SHA-256"
          ],
          [
           "Azart",
           "X11"
          ],
          [
           "Xchange",
           "X16R"
          ],
          [
           "CrypticCoin",
           "Equihash"
          ],
          [
           "Actinium",
           "Lyra2Z"
          ],
          [
           "Bitcoin SV",
           "SHA-256"
          ],
          [
           "FREDEnergy",
           "CryptoNight"
          ],
          [
           "Universal Molecule",
           "Blake"
          ],
          [
           "Lithium",
           "Blake"
          ],
          [
           "Exosis",
           "Exosis"
          ],
          [
           "Block-Logic",
           "Scrypt"
          ],
          [
           "Beam",
           "Equihash"
          ],
          [
           "Bithereum",
           "Equihash"
          ],
          [
           "SLICE",
           "QuBit"
          ],
          [
           "BLAST",
           "SHA-256"
          ],
          [
           "Bitcoin Rhodium",
           "X13"
          ],
          [
           "GlobalToken",
           "SHA-256"
          ],
          [
           "SolarCoin",
           "Scrypt"
          ],
          [
           "UFO Coin",
           "NeoScrypt"
          ],
          [
           "BlakeCoin",
           "Blake"
          ],
          [
           "Crypto Escudo",
           "Scrypt"
          ],
          [
           "Crown Coin",
           "SHA-256"
          ],
          [
           "SmileyCoin",
           "Scrypt"
          ],
          [
           "Groestlcoin",
           "Groestl"
          ],
          [
           "Bata",
           "Scrypt"
          ],
          [
           "Pakcoin",
           "Scrypt"
          ],
          [
           "JoinCoin",
           "Multiple"
          ],
          [
           "Vollar",
           "Equihash+Scrypt"
          ],
          [
           "Reality Clash",
           "Ethash"
          ],
          [
           "Beldex",
           "CryptoNight"
          ],
          [
           "Horizen",
           "Equihash"
          ]
         ],
         "hovertemplate": "<b>%{hovertext}</b><br><br>Class=%{marker.color}<br>PC 1=%{x}<br>PC 2=%{y}<br>PC 3=%{z}<br>CoinName=%{customdata[0]}<br>Algorithm=%{customdata[1]}<extra></extra>",
         "hovertext": [
          "Bitcoin",
          "Ethereum",
          "Litecoin",
          "Monero",
          "Ethereum Classic",
          "ZCash",
          "DigiByte",
          "ProsperCoin",
          "Spreadcoin",
          "Argentum",
          "MyriadCoin",
          "MoonCoin",
          "ZetaCoin",
          "SexCoin",
          "Quatloo",
          "QuarkCoin",
          "Riecoin",
          "Digitalcoin ",
          "Catcoin",
          "CannaCoin",
          "CryptCoin",
          "Verge",
          "DevCoin",
          "EarthCoin",
          "E-Gulden",
          "Einsteinium",
          "Emerald",
          "Franko",
          "FeatherCoin",
          "GrandCoin",
          "GlobalCoin",
          "GoldCoin",
          "Infinite Coin",
          "IXcoin",
          "KrugerCoin",
          "LuckyCoin",
          "Litebar ",
          "MegaCoin",
          "MediterraneanCoin",
          "MinCoin",
          "NobleCoin",
          "Namecoin",
          "NyanCoin",
          "RonPaulCoin",
          "StableCoin",
          "SmartCoin",
          "SysCoin",
          "TigerCoin",
          "TerraCoin",
          "UnbreakableCoin",
          "Unobtanium",
          "UroCoin",
          "ViaCoin",
          "Vertcoin",
          "WorldCoin",
          "JouleCoin",
          "ByteCoin",
          "DigitalNote ",
          "MonaCoin",
          "Gulden",
          "PesetaCoin",
          "Wild Beast Coin",
          "Flo",
          "ArtByte",
          "Folding Coin",
          "Unitus",
          "CypherPunkCoin",
          "OmniCron",
          "GreenCoin",
          "Cryptonite",
          "MasterCoin",
          "SoonCoin",
          "1Credit",
          "MarsCoin ",
          "Crypto",
          "Anarchists Prime",
          "BowsCoin",
          "Song Coin",
          "BitZeny",
          "Expanse",
          "Siacoin",
          "MindCoin",
          "I0coin",
          "Revolution VR",
          "HOdlcoin",
          "Gamecredits",
          "CarpeDiemCoin",
          "Adzcoin",
          "SoilCoin",
          "YoCoin",
          "SibCoin",
          "Francs",
          "BolivarCoin",
          "Omni",
          "PizzaCoin",
          "Komodo",
          "Karbo",
          "ZayedCoin",
          "Circuits of Value",
          "DopeCoin",
          "DollarCoin",
          "Shilling",
          "ZCoin",
          "Elementrem",
          "ZClassic",
          "KiloCoin",
          "ArtexCoin",
          "Kurrent",
          "Cannabis Industry Coin",
          "OsmiumCoin",
          "Bikercoins",
          "HexxCoin",
          "PacCoin",
          "Citadel",
          "BeaverCoin",
          "VaultCoin",
          "Zero",
          "Canada eCoin",
          "Zoin",
          "DubaiCoin",
          "EB3coin",
          "Coinonat",
          "BenjiRolls",
          "ILCoin",
          "EquiTrader",
          "Quantum Resistant Ledger",
          "Dynamic",
          "Nano",
          "ChanCoin",
          "Dinastycoin",
          "DigitalPrice",
          "Unify",
          "SocialCoin",
          "ArcticCoin",
          "DAS",
          "LeviarCoin",
          "Bitcore",
          "gCn Coin",
          "SmartCash",
          "Onix",
          "Bitcoin Cash",
          "Sojourn Coin",
          "NewYorkCoin",
          "FrazCoin",
          "Kronecoin",
          "AdCoin",
          "Linx",
          "Sumokoin",
          "BitcoinZ",
          "Elements",
          "VIVO Coin",
          "Bitcoin Gold",
          "Pirl",
          "eBoost",
          "Pura",
          "Innova",
          "Ellaism",
          "GoByte",
          "SHIELD",
          "UltraNote",
          "BitCoal",
          "DaxxCoin",
          "AC3",
          "Lethean",
          "PopularCoin",
          "Photon",
          "Sucre",
          "SparksPay",
          "GunCoin",
          "IrishCoin",
          "Pioneer Coin",
          "UnitedBitcoin",
          "Interzone",
          "TurtleCoin",
          "MUNcoin",
          "Niobio Cash",
          "ShareChain",
          "Travelflex",
          "KREDS",
          "BitFlip",
          "LottoCoin",
          "Crypto Improvement Fund",
          "Callisto Network",
          "BitTube",
          "Poseidon",
          "Aidos Kuneen",
          "Bitrolium",
          "Alpenschillling",
          "FuturoCoin",
          "Monero Classic",
          "Jumpcoin",
          "Infinex",
          "KEYCO",
          "GINcoin",
          "PlatinCoin",
          "Loki",
          "Newton Coin",
          "MassGrid",
          "PluraCoin",
          "Motion",
          "PlusOneCoin",
          "Axe",
          "HexCoin",
          "Webchain",
          "Ryo",
          "Urals Coin",
          "Qwertycoin",
          "Project Pai",
          "Azart",
          "Xchange",
          "CrypticCoin",
          "Actinium",
          "Bitcoin SV",
          "FREDEnergy",
          "Universal Molecule",
          "Lithium",
          "Exosis",
          "Block-Logic",
          "Beam",
          "Bithereum",
          "SLICE",
          "BLAST",
          "Bitcoin Rhodium",
          "GlobalToken",
          "SolarCoin",
          "UFO Coin",
          "BlakeCoin",
          "Crypto Escudo",
          "Crown Coin",
          "SmileyCoin",
          "Groestlcoin",
          "Bata",
          "Pakcoin",
          "JoinCoin",
          "Vollar",
          "Reality Clash",
          "Beldex",
          "Horizen"
         ],
         "legendgroup": "2",
         "marker": {
          "color": [
           2,
           2,
           2,
           2,
           2,
           2,
           2,
           2,
           2,
           2,
           2,
           2,
           2,
           2,
           2,
           2,
           2,
           2,
           2,
           2,
           2,
           2,
           2,
           2,
           2,
           2,
           2,
           2,
           2,
           2,
           2,
           2,
           2,
           2,
           2,
           2,
           2,
           2,
           2,
           2,
           2,
           2,
           2,
           2,
           2,
           2,
           2,
           2,
           2,
           2,
           2,
           2,
           2,
           2,
           2,
           2,
           2,
           2,
           2,
           2,
           2,
           2,
           2,
           2,
           2,
           2,
           2,
           2,
           2,
           2,
           2,
           2,
           2,
           2,
           2,
           2,
           2,
           2,
           2,
           2,
           2,
           2,
           2,
           2,
           2,
           2,
           2,
           2,
           2,
           2,
           2,
           2,
           2,
           2,
           2,
           2,
           2,
           2,
           2,
           2,
           2,
           2,
           2,
           2,
           2,
           2,
           2,
           2,
           2,
           2,
           2,
           2,
           2,
           2,
           2,
           2,
           2,
           2,
           2,
           2,
           2,
           2,
           2,
           2,
           2,
           2,
           2,
           2,
           2,
           2,
           2,
           2,
           2,
           2,
           2,
           2,
           2,
           2,
           2,
           2,
           2,
           2,
           2,
           2,
           2,
           2,
           2,
           2,
           2,
           2,
           2,
           2,
           2,
           2,
           2,
           2,
           2,
           2,
           2,
           2,
           2,
           2,
           2,
           2,
           2,
           2,
           2,
           2,
           2,
           2,
           2,
           2,
           2,
           2,
           2,
           2,
           2,
           2,
           2,
           2,
           2,
           2,
           2,
           2,
           2,
           2,
           2,
           2,
           2,
           2,
           2,
           2,
           2,
           2,
           2,
           2,
           2,
           2,
           2,
           2,
           2,
           2,
           2,
           2,
           2,
           2,
           2,
           2,
           2,
           2,
           2,
           2,
           2,
           2,
           2,
           2,
           2,
           2,
           2,
           2,
           2,
           2,
           2,
           2,
           2,
           2,
           2,
           2,
           2,
           2,
           2,
           2,
           2,
           2,
           2,
           2,
           2,
           2
          ],
          "coloraxis": "coloraxis",
          "symbol": "diamond"
         },
         "mode": "markers",
         "name": "2",
         "scene": "scene",
         "showlegend": true,
         "type": "scatter3d",
         "x": [
          -0.1443902258392887,
          -0.1614133959941182,
          -0.16636811475310093,
          -0.1509303440493447,
          -0.15985216704829286,
          -0.13929471479819375,
          0.17164283897922097,
          -0.1675163599839574,
          -0.23008420750761227,
          -0.1671321358411223,
          -0.08222764365098609,
          2.560107716891816,
          -0.14147011000643872,
          -0.16438258494646008,
          -0.16693571564168946,
          -0.23377787972713854,
          -0.1870810468745441,
          -0.16698478028373903,
          -0.1674985991256768,
          -0.16758521881611077,
          -0.23017369373388172,
          0.19540922267557448,
          0.23411786555825945,
          0.08157916438581424,
          -0.16733109594954432,
          -0.16292856854155152,
          -0.1672702510800914,
          -0.16764231624727344,
          -0.17780061940590078,
          -0.14682718857165786,
          -0.16643534686927508,
          -0.16671320549634383,
          1.58430117895472,
          -0.14435153672413656,
          -0.1639976704230081,
          -0.16735758186104352,
          -0.1677130123651515,
          -0.16697096743489448,
          -0.15720442211372168,
          -0.16759406217066386,
          -0.03223095585609719,
          -0.14442926488692717,
          -0.16124698846545374,
          -0.1675734257672564,
          -0.16566390196287065,
          -0.16705926285668424,
          -0.13155819678670183,
          -0.1438921099783845,
          -0.14417977142851196,
          -0.14416256940736508,
          -0.14475450921974317,
          -0.23034792800144244,
          -0.16728947703143762,
          -0.19376969244310338,
          -0.16438724065210394,
          -0.14395951527809422,
          3.8671980611314485,
          0.4602723786224532,
          -0.16615500677368902,
          -0.1507238866382502,
          -0.16487162299595806,
          -0.16771521960518243,
          -0.1647364849149619,
          -0.15093568182077646,
          -0.14331198922778274,
          -0.1162942501198407,
          -0.19472777197785449,
          -0.16758810171940916,
          -0.04029111865751117,
          -0.15144753591777435,
          -0.1677241341435731,
          -0.1444570845250224,
          0.4858108827952928,
          -0.22973404521341703,
          -0.13707692494803445,
          -0.1441964135724741,
          -0.2300194268161061,
          -0.16584418398342093,
          -0.16503503266471725,
          -0.16248240117270082,
          0.3532856392412161,
          -0.23005489841956395,
          -0.14435266077726314,
          -0.16367498002939598,
          -0.16215393679096532,
          -0.16628495539134253,
          0.2748571398571669,
          -0.2292140599498219,
          -0.17193991395106153,
          -0.16653239973450365,
          -0.15763332607450195,
          -0.16751364520634873,
          -0.2300180480701417,
          -0.16772419273993577,
          -0.23016824662997354,
          -0.2091000779370752,
          0.3048996072012752,
          -0.14461318788600586,
          -0.09633142415518792,
          -0.16488576379801853,
          -0.14457175099000177,
          -0.16738695814672452,
          -0.162792064009381,
          -0.1622241276726102,
          -0.13931636466030975,
          -0.0942968138494529,
          -0.21672920123821576,
          -0.22799224527108564,
          0.30489400888189916,
          -0.16770589404283984,
          0.30502494006754266,
          -0.13761842476417516,
          0.48658325941419167,
          -0.14969239466346584,
          -0.1676741303308655,
          -0.2228871731563256,
          -0.13932877508362593,
          -0.16580415660904743,
          -0.13733633114746102,
          -0.12632223222707756,
          -0.13853686066985527,
          -0.19185460057251702,
          -0.16723570813156283,
          -0.11087673760464203,
          -0.16705734957975937,
          -0.14955025094500013,
          -0.17725923196345,
          -0.04762356878897953,
          -0.15323371223170776,
          0.34107916487544776,
          -0.22922239898123922,
          -0.16737731714256407,
          -0.16714010447520503,
          -0.22961784617034114,
          -0.23019634740306186,
          0.30528973466758497,
          -0.17502150250399132,
          3.2479906812363253,
          -0.09887301721621378,
          -0.22105007724350653,
          -0.14438938878789334,
          -0.09314069775983472,
          1.5819467037232608,
          -0.1674753101671207,
          -0.16692585206391156,
          -0.166626306176015,
          -0.16661321726328712,
          0.30547376973152,
          0.07340795031244038,
          -0.18450656391204057,
          -0.18249777156263186,
          -0.1391745758634822,
          -0.17069659584473768,
          -0.1658023630454007,
          -0.22573262202101715,
          -0.18234287326052898,
          -0.16058578300234183,
          -0.1824432858975439,
          -0.10650846733638049,
          1.1444650345576424,
          0.3048767167247972,
          -0.08532021273479395,
          -0.22547296475577414,
          -0.13864203787048848,
          -0.08371541688582294,
          1.113473668350781,
          -0.23017030276125736,
          -0.18249535168215433,
          -0.17552064358111022,
          -0.16672498952082732,
          -0.23009558354581702,
          -0.14436875841050895,
          -0.20254323929123458,
          8.05865731280088,
          -0.16044452187019467,
          0.3087583858923989,
          0.025651220894848534,
          -0.17019929337109638,
          -0.17930155553442123,
          -0.16729968596058747,
          0.14031983031018827,
          -0.22422559840814865,
          -0.11352693797255017,
          0.31281602072774667,
          -0.16753713616619878,
          -0.15845033407101763,
          -0.13816392968545826,
          -0.16057104388763177,
          -0.22926323337437385,
          0.30505953743474046,
          -0.1919142664297522,
          -0.13746336004812587,
          -0.1539599101583302,
          -0.16287661429839298,
          0.30899615341647785,
          0.5763970162704232,
          2.1170620565142015,
          -0.16029276298214348,
          0.31868925911574303,
          -0.1885158009577438,
          -0.15603326981253268,
          -0.2301524308495012,
          -0.16756175074591317,
          -0.1385185963003874,
          -0.1422262713084369,
          -0.12559354990501517,
          3.1035573818038262,
          -0.10414740296892834,
          -0.23012373623219332,
          -0.18794232826058294,
          -0.03372917234070761,
          -0.16227314432699877,
          -0.14438942641043667,
          0.38497460987042087,
          -0.16094632709856577,
          -0.16133928103279524,
          -0.15854933763392878,
          -0.1664519552863233,
          -0.13723072127202568,
          -0.1390070993057009,
          -0.19393712837035137,
          -0.1436642889653579,
          -0.11857801520169606,
          -0.14253007259648337,
          0.5298225765891376,
          -0.10753058383777035,
          -0.11170029506276678,
          -0.1510864968336465,
          -0.14417914092257622,
          0.5494112106654279,
          -0.18664129195857707,
          -0.16763877737575525,
          -0.16559064228111778,
          -0.11703024089928814,
          -0.11844474467500239,
          -0.16225734378339687,
          0.3266727051710657,
          -0.13929577335280904
         ],
         "y": [
          -1.310379593315412,
          -2.0196524187147578,
          -1.178341605356947,
          -2.2180548320024216,
          -2.019753239738578,
          -2.0500437809380236,
          -1.8141812941336968,
          -1.1783325909373192,
          -0.8702334118827528,
          -1.1783512195976367,
          -1.8085762944127368,
          -1.3666482402339115,
          -1.3103943835499416,
          -1.1783978359959935,
          -1.1783707273037753,
          -0.452168692857598,
          -1.1961380883261108,
          -1.178335339743185,
          -1.1783320362828795,
          -1.1783291428900877,
          -0.8702347819111651,
          -1.8102730528951965,
          -1.3135018632501008,
          -1.180154265451716,
          -1.1783268053205678,
          -1.1783878941417367,
          -1.1783327401638348,
          -1.1783295696924538,
          -1.5638491862244739,
          -1.1786833880150158,
          -1.1783337331712962,
          -1.178344009972376,
          -1.1881417243647265,
          -1.3103783850917385,
          -1.1783967992602649,
          -1.1783269201800115,
          -1.1783247360961029,
          -1.1783305165245914,
          -2.186827714625184,
          -1.178327182531779,
          -1.184776850482355,
          -1.3103808124671448,
          -1.1783618818361317,
          -1.178334373046582,
          -1.1784378502881212,
          -1.1783398267890646,
          -1.3105963995186105,
          -1.3103825651822973,
          -1.310387978697054,
          -1.3104145077536524,
          -1.310376189931329,
          -0.8702274022193864,
          -1.1783269301419292,
          -1.2130681909718117,
          -1.17840896516203,
          -1.3103832371202655,
          -2.305522520410973,
          -2.287649597089236,
          -1.178349993342601,
          -1.178989834113829,
          -1.1783535524398743,
          -1.1783257153071054,
          -1.1783447836521377,
          -1.1785121046889036,
          -2.2152909757347414,
          -1.8082156216576646,
          -1.5419068205792628,
          -1.17832227499501,
          -1.1814672116962903,
          -2.1857149031804317,
          -1.1783245630896069,
          -1.3103816812475568,
          -1.2234436926736982,
          -0.8702317361624,
          -2.1973249476134002,
          -1.3103968747100458,
          -0.8702321011143388,
          -1.178415160467142,
          -1.1784182113076942,
          -2.0196978446323595,
          -2.1403334453440417,
          -0.8702296475083534,
          -1.3103784201948316,
          -1.178347247379233,
          -2.1826385476709227,
          -1.1783390083704486,
          -1.312675695525806,
          -0.8702518232939287,
          -2.241821948110021,
          -1.1784068167165895,
          -2.181031373286989,
          -1.1783317938874622,
          -0.8702349071373395,
          -1.1783245627613366,
          -0.8702395976932076,
          -1.4712040949450966,
          -2.2853861615229536,
          -1.310378533195647,
          -1.8084469258667282,
          -1.1783779362864355,
          -1.3103778818412053,
          -1.178334960272785,
          -2.2010330213894655,
          -2.0196964025002035,
          -2.0500444570422953,
          -1.1831537573647675,
          -0.870158237532109,
          -0.8703162340788696,
          -2.285394171322796,
          -1.1783254855377332,
          -2.2853929315483077,
          -2.197302121227701,
          -0.9190653317119264,
          -2.218147941985073,
          -1.1783249535104008,
          -0.8707066800319857,
          -2.0500419955279177,
          -1.178335389808751,
          -2.1973011466871224,
          -2.1204440632984105,
          -1.1802617114153648,
          -0.5798543149281865,
          -1.1783341688961593,
          -1.3110987167369783,
          -1.1783545822547792,
          -2.2180865213760237,
          -2.0605751403735386,
          -2.1530958253762207,
          -2.222737789891351,
          -2.285673726154128,
          -0.8702634800334393,
          -1.1783270213801342,
          -1.1783593034201156,
          -0.870247338667939,
          -0.8702361304063392,
          -2.2854053180981597,
          -2.1153332300837167,
          -1.2141086444293328,
          -1.1849011149152895,
          -0.8707205362996572,
          -1.3103795671751088,
          -1.1834737879646686,
          -1.1236835925102722,
          -1.178330596721235,
          -1.1783590229541554,
          -1.1783610647451832,
          -1.178360655991088,
          -2.2854244211683934,
          -2.0583439940974078,
          -0.8700779066781372,
          -1.5637757823242564,
          -2.050040029115199,
          -2.2418730849806288,
          -1.1783353337974922,
          -0.8703325651656146,
          -1.5637837658595497,
          -2.0198260087541735,
          -1.5637774996854774,
          -1.8083801193028153,
          -2.3197031698765125,
          -2.285388657045352,
          -2.024398801901446,
          -0.8704669103153928,
          -2.2183829807517395,
          -1.179261960682167,
          -1.2388893013790339,
          -0.8702359581003245,
          -1.563771433133871,
          -1.5638947970589787,
          -1.17833850481153,
          -0.8702359039553601,
          -1.310378328875201,
          -1.179472784325483,
          -2.7555066552547474,
          -2.1635690165695936,
          -2.2854978556058736,
          -1.1794078961602894,
          -2.2418174491098166,
          -1.213340031334283,
          -1.1783393575465153,
          -1.181814945636928,
          -0.8703923427710324,
          -2.022786725754405,
          -2.285844086855532,
          -1.178333239757412,
          -2.1893954771306663,
          -2.0500433688406026,
          -2.2011620994928687,
          -0.8702647552520736,
          -2.285387150124123,
          -0.5798367674538553,
          -2.197308874462401,
          -2.1162911087629284,
          -2.20102789807054,
          -2.285678469998544,
          -2.233112091388446,
          -2.3598446324616185,
          -2.256226708251683,
          -2.28566067129671,
          -1.2430592332602854,
          -2.174867138823941,
          -0.8702362547017638,
          -1.1783347956925996,
          -2.2189136975735115,
          -2.1394570847562706,
          -0.6380666607716086,
          -2.285476917486392,
          -1.3106036581292255,
          -0.8702382076765006,
          -1.2430968274014744,
          -2.0521453652174384,
          -2.201061404129789,
          -1.3103795683500246,
          -2.2886335152836,
          -2.2003888392139803,
          -2.200344206681441,
          -2.266828913286496,
          -1.1783698653349182,
          -2.0501515512951305,
          -2.0500418404851364,
          -1.5419533565411134,
          -1.3103875506173794,
          -0.33384134080413236,
          -1.310426206213834,
          -1.2264140968650508,
          -1.5642644781169548,
          -2.203761949238252,
          -1.178516814496004,
          -1.3103879590069631,
          -1.191542176900245,
          -1.1961393128745745,
          -1.1783250175945397,
          -1.1783871281006808,
          -1.8082406002943614,
          -2.162905809249431,
          -2.019696216415893,
          -2.285696422540677,
          -2.050043813995662
         ],
         "z": [
          0.16161065597529703,
          0.2896049641947776,
          -0.039184082739618674,
          0.3772186121932917,
          0.2895972907161036,
          0.3485808600907823,
          0.28745916660750453,
          -0.039169527186815975,
          0.06313660016443874,
          -0.0391722617071201,
          0.29018313533870327,
          -0.05091063222272101,
          0.16157252664224406,
          -0.039203691307417764,
          -0.0391722935698305,
          0.032291434297273186,
          0.1380111821919828,
          -0.039176460560171655,
          -0.03916984729322547,
          -0.03916905210153435,
          0.06313801808455051,
          0.286597650881727,
          0.15683318241881852,
          -0.042345464651092894,
          -0.03917286622617559,
          -0.03922504490820937,
          -0.039172890877706146,
          -0.039168208592065545,
          0.20713805745010178,
          -0.03940601725371774,
          -0.0391842353236697,
          -0.039179008592819024,
          -0.06191573871687188,
          0.16160995867600841,
          -0.03920912589864144,
          -0.03917248631819412,
          -0.039167897811180435,
          -0.03917731039559722,
          0.3421811222346361,
          -0.039169198713521106,
          -0.04014807217969156,
          0.16161135958145506,
          -0.03925172633663441,
          -0.03916849868229748,
          -0.039180597953312066,
          -0.039174822483283925,
          0.1614638727898539,
          0.1616042132634623,
          0.16160890940297973,
          0.16161230251686845,
          0.16161519939125235,
          0.06313940421001535,
          -0.039173421427160494,
          0.13855604717636405,
          -0.03920210462042966,
          0.16160523204967867,
          0.31722213861595455,
          0.3616235583490767,
          -0.03918586544341349,
          -0.039310508601790146,
          -0.03920302559747412,
          -0.039167733487063164,
          -0.03920608353364736,
          -0.03937295825217187,
          0.3962022909464807,
          0.29060221996476715,
          0.24384456293489454,
          -0.0391699521111944,
          -0.040490059103975164,
          0.37985601777648287,
          -0.03916776855212445,
          0.16161186097864677,
          -0.04198106414022743,
          0.06313155600742085,
          0.2991245230771907,
          0.16161035537359333,
          0.06313553006433181,
          -0.03918122336801469,
          -0.03919193215179875,
          0.2896258785730922,
          0.3138874654357248,
          0.06313568211760012,
          0.16160997893497356,
          -0.03922034261971378,
          0.3434930140476772,
          -0.039185581532317916,
          0.1561599646159566,
          0.06312715425579651,
          0.3080458968642938,
          -0.03917290166724133,
          0.3779038714303926,
          -0.0391696735669,
          0.06313589502008633,
          -0.03916776779131148,
          0.06313860206953932,
          0.4493746155318436,
          0.3634503251368305,
          0.161613576760032,
          0.29035936871190554,
          -0.03919949500881512,
          0.16161291786720144,
          -0.039170982352617026,
          0.33167749846555183,
          0.2896221298872249,
          0.3485812502892472,
          -0.03951670697735184,
          0.06294267764627966,
          0.06311916630359435,
          0.3634514980000977,
          -0.03916789315428494,
          0.3634495280142833,
          0.2991288458845969,
          0.059963181195381375,
          0.3772143289451381,
          -0.03916840271041653,
          0.0631023892628257,
          0.34858108415894196,
          -0.03919268781504671,
          0.2991248336363391,
          0.40484434749043086,
          -0.03930407011047471,
          -0.019356191527189873,
          -0.039173170382598585,
          0.16124821943461626,
          -0.039172829980101694,
          0.3772039709675249,
          0.44616447206418314,
          0.32114626858489465,
          0.35284942864769625,
          0.3629921839857458,
          0.06312886377165162,
          -0.039172201103240226,
          -0.03917104612334282,
          0.06313209292028658,
          0.0631385140809126,
          0.3634475816713808,
          0.34113415473429703,
          -0.08123947606059506,
          0.11762985729655512,
          0.06307902415577274,
          0.16161064088899765,
          -0.03948881818229391,
          -0.07070238883876506,
          -0.039170364484623146,
          -0.03917403056279569,
          -0.03917787009949717,
          -0.03917810600278462,
          0.36344766474840673,
          0.34679172070366926,
          0.06248861124182582,
          0.2071926024314381,
          0.34857869481011805,
          0.308035797121451,
          -0.0391927201406928,
          0.06309032985576611,
          0.20719156480075762,
          0.28961733436705406,
          0.2071920881948486,
          0.2904901672847757,
          0.3566011046473359,
          0.363450981323237,
          0.28920803892090724,
          0.06310514027110624,
          0.37709453909265817,
          -0.04019467331605944,
          0.12580683996279024,
          0.06313813238086896,
          0.20719197410997098,
          0.20711294713838263,
          -0.03917959976165863,
          0.0631370975501645,
          0.16161018779048772,
          0.029941304041542032,
          0.3211535722860631,
          0.36324154412189336,
          0.3634125469482241,
          -0.04167854702565987,
          0.30802134700740025,
          0.1383942964317467,
          -0.03917158075860861,
          -0.04292596438891031,
          0.06307778625105616,
          0.2893753331891471,
          0.3634041232773877,
          -0.03916915273480519,
          0.3500157014660841,
          0.3485652549063128,
          0.3316646186362965,
          0.06312959973557644,
          0.3634482612827521,
          -0.019357771903216532,
          0.2991276376385258,
          0.3583509063505028,
          0.33167796010827033,
          0.3634339888172275,
          0.40583271934437004,
          0.348719529604709,
          0.36310778122898324,
          0.3632982690882173,
          0.15920164786344299,
          0.2995086577536515,
          0.06313792721445259,
          -0.039168601393540455,
          0.3771654532683346,
          0.3414230452818413,
          0.379490446111617,
          0.3782475762287906,
          0.1610879551957546,
          0.06313779985247342,
          0.15919890590764957,
          0.3474168208766974,
          0.33167424635378917,
          0.16161064156707391,
          0.362793554026993,
          0.393360752020625,
          0.39336004878469877,
          0.3314785143591214,
          -0.03917906342431688,
          0.348567224166841,
          0.34857663976017955,
          0.24384005818272014,
          0.16160176271909177,
          -0.04315245239347997,
          0.16159145551252346,
          -0.04217984024176706,
          0.20622863232059604,
          0.3931450987819381,
          -0.03937024009230026,
          0.16160889803928377,
          -0.047220295044091254,
          0.13800530290489835,
          -0.03916888006153987,
          -0.03918854500913587,
          0.2906157576921112,
          0.31883163801493664,
          0.2896225611639759,
          0.3631933845359405,
          0.34858087916925923
         ]
        },
        {
         "customdata": [
          [
           "LitecoinCash",
           "SHA-256 + Hive"
          ],
          [
           "Poa Network",
           "Proof-of-Authority"
          ],
          [
           "Waves",
           "Leased POS"
          ]
         ],
         "hovertemplate": "<b>%{hovertext}</b><br><br>Class=%{marker.color}<br>PC 1=%{x}<br>PC 2=%{y}<br>PC 3=%{z}<br>CoinName=%{customdata[0]}<br>Algorithm=%{customdata[1]}<extra></extra>",
         "hovertext": [
          "LitecoinCash",
          "Poa Network",
          "Waves"
         ],
         "legendgroup": "3",
         "marker": {
          "color": [
           3,
           3,
           3
          ],
          "coloraxis": "coloraxis",
          "symbol": "square"
         },
         "mode": "markers",
         "name": "3",
         "scene": "scene",
         "showlegend": true,
         "type": "scatter3d",
         "x": [
          -0.3683008874208891,
          -0.40526620044014044,
          -0.4186638654557764
         ],
         "y": [
          3.0219301717997578,
          2.9820304283915045,
          3.0573721572692403
         ],
         "z": [
          16.08033565154923,
          19.193223373727268,
          18.34810047263936
         ]
        },
        {
         "customdata": [
          [
           "BitTorrent",
           "TRC10"
          ]
         ],
         "hovertemplate": "<b>%{hovertext}</b><br><br>Class=%{marker.color}<br>PC 1=%{x}<br>PC 2=%{y}<br>PC 3=%{z}<br>CoinName=%{customdata[0]}<br>Algorithm=%{customdata[1]}<extra></extra>",
         "hovertext": [
          "BitTorrent"
         ],
         "legendgroup": "1",
         "marker": {
          "color": [
           1
          ],
          "coloraxis": "coloraxis",
          "symbol": "x"
         },
         "mode": "markers",
         "name": "1",
         "scene": "scene",
         "showlegend": true,
         "type": "scatter3d",
         "x": [
          34.09328411700505
         ],
         "y": [
          1.7248685902586833
         ],
         "z": [
          -0.40463521222764026
         ]
        }
       ],
       "layout": {
        "coloraxis": {
         "colorbar": {
          "title": {
           "text": "Class"
          }
         },
         "colorscale": [
          [
           0,
           "#0d0887"
          ],
          [
           0.1111111111111111,
           "#46039f"
          ],
          [
           0.2222222222222222,
           "#7201a8"
          ],
          [
           0.3333333333333333,
           "#9c179e"
          ],
          [
           0.4444444444444444,
           "#bd3786"
          ],
          [
           0.5555555555555556,
           "#d8576b"
          ],
          [
           0.6666666666666666,
           "#ed7953"
          ],
          [
           0.7777777777777778,
           "#fb9f3a"
          ],
          [
           0.8888888888888888,
           "#fdca26"
          ],
          [
           1,
           "#f0f921"
          ]
         ]
        },
        "legend": {
         "title": {
          "text": "Class"
         },
         "tracegroupgap": 0,
         "x": 0,
         "y": 1
        },
        "margin": {
         "t": 60
        },
        "scene": {
         "domain": {
          "x": [
           0,
           1
          ],
          "y": [
           0,
           1
          ]
         },
         "xaxis": {
          "title": {
           "text": "PC 1"
          }
         },
         "yaxis": {
          "title": {
           "text": "PC 2"
          }
         },
         "zaxis": {
          "title": {
           "text": "PC 3"
          }
         }
        },
        "template": {
         "data": {
          "bar": [
           {
            "error_x": {
             "color": "#2a3f5f"
            },
            "error_y": {
             "color": "#2a3f5f"
            },
            "marker": {
             "line": {
              "color": "#E5ECF6",
              "width": 0.5
             },
             "pattern": {
              "fillmode": "overlay",
              "size": 10,
              "solidity": 0.2
             }
            },
            "type": "bar"
           }
          ],
          "barpolar": [
           {
            "marker": {
             "line": {
              "color": "#E5ECF6",
              "width": 0.5
             },
             "pattern": {
              "fillmode": "overlay",
              "size": 10,
              "solidity": 0.2
             }
            },
            "type": "barpolar"
           }
          ],
          "carpet": [
           {
            "aaxis": {
             "endlinecolor": "#2a3f5f",
             "gridcolor": "white",
             "linecolor": "white",
             "minorgridcolor": "white",
             "startlinecolor": "#2a3f5f"
            },
            "baxis": {
             "endlinecolor": "#2a3f5f",
             "gridcolor": "white",
             "linecolor": "white",
             "minorgridcolor": "white",
             "startlinecolor": "#2a3f5f"
            },
            "type": "carpet"
           }
          ],
          "choropleth": [
           {
            "colorbar": {
             "outlinewidth": 0,
             "ticks": ""
            },
            "type": "choropleth"
           }
          ],
          "contour": [
           {
            "colorbar": {
             "outlinewidth": 0,
             "ticks": ""
            },
            "colorscale": [
             [
              0,
              "#0d0887"
             ],
             [
              0.1111111111111111,
              "#46039f"
             ],
             [
              0.2222222222222222,
              "#7201a8"
             ],
             [
              0.3333333333333333,
              "#9c179e"
             ],
             [
              0.4444444444444444,
              "#bd3786"
             ],
             [
              0.5555555555555556,
              "#d8576b"
             ],
             [
              0.6666666666666666,
              "#ed7953"
             ],
             [
              0.7777777777777778,
              "#fb9f3a"
             ],
             [
              0.8888888888888888,
              "#fdca26"
             ],
             [
              1,
              "#f0f921"
             ]
            ],
            "type": "contour"
           }
          ],
          "contourcarpet": [
           {
            "colorbar": {
             "outlinewidth": 0,
             "ticks": ""
            },
            "type": "contourcarpet"
           }
          ],
          "heatmap": [
           {
            "colorbar": {
             "outlinewidth": 0,
             "ticks": ""
            },
            "colorscale": [
             [
              0,
              "#0d0887"
             ],
             [
              0.1111111111111111,
              "#46039f"
             ],
             [
              0.2222222222222222,
              "#7201a8"
             ],
             [
              0.3333333333333333,
              "#9c179e"
             ],
             [
              0.4444444444444444,
              "#bd3786"
             ],
             [
              0.5555555555555556,
              "#d8576b"
             ],
             [
              0.6666666666666666,
              "#ed7953"
             ],
             [
              0.7777777777777778,
              "#fb9f3a"
             ],
             [
              0.8888888888888888,
              "#fdca26"
             ],
             [
              1,
              "#f0f921"
             ]
            ],
            "type": "heatmap"
           }
          ],
          "heatmapgl": [
           {
            "colorbar": {
             "outlinewidth": 0,
             "ticks": ""
            },
            "colorscale": [
             [
              0,
              "#0d0887"
             ],
             [
              0.1111111111111111,
              "#46039f"
             ],
             [
              0.2222222222222222,
              "#7201a8"
             ],
             [
              0.3333333333333333,
              "#9c179e"
             ],
             [
              0.4444444444444444,
              "#bd3786"
             ],
             [
              0.5555555555555556,
              "#d8576b"
             ],
             [
              0.6666666666666666,
              "#ed7953"
             ],
             [
              0.7777777777777778,
              "#fb9f3a"
             ],
             [
              0.8888888888888888,
              "#fdca26"
             ],
             [
              1,
              "#f0f921"
             ]
            ],
            "type": "heatmapgl"
           }
          ],
          "histogram": [
           {
            "marker": {
             "pattern": {
              "fillmode": "overlay",
              "size": 10,
              "solidity": 0.2
             }
            },
            "type": "histogram"
           }
          ],
          "histogram2d": [
           {
            "colorbar": {
             "outlinewidth": 0,
             "ticks": ""
            },
            "colorscale": [
             [
              0,
              "#0d0887"
             ],
             [
              0.1111111111111111,
              "#46039f"
             ],
             [
              0.2222222222222222,
              "#7201a8"
             ],
             [
              0.3333333333333333,
              "#9c179e"
             ],
             [
              0.4444444444444444,
              "#bd3786"
             ],
             [
              0.5555555555555556,
              "#d8576b"
             ],
             [
              0.6666666666666666,
              "#ed7953"
             ],
             [
              0.7777777777777778,
              "#fb9f3a"
             ],
             [
              0.8888888888888888,
              "#fdca26"
             ],
             [
              1,
              "#f0f921"
             ]
            ],
            "type": "histogram2d"
           }
          ],
          "histogram2dcontour": [
           {
            "colorbar": {
             "outlinewidth": 0,
             "ticks": ""
            },
            "colorscale": [
             [
              0,
              "#0d0887"
             ],
             [
              0.1111111111111111,
              "#46039f"
             ],
             [
              0.2222222222222222,
              "#7201a8"
             ],
             [
              0.3333333333333333,
              "#9c179e"
             ],
             [
              0.4444444444444444,
              "#bd3786"
             ],
             [
              0.5555555555555556,
              "#d8576b"
             ],
             [
              0.6666666666666666,
              "#ed7953"
             ],
             [
              0.7777777777777778,
              "#fb9f3a"
             ],
             [
              0.8888888888888888,
              "#fdca26"
             ],
             [
              1,
              "#f0f921"
             ]
            ],
            "type": "histogram2dcontour"
           }
          ],
          "mesh3d": [
           {
            "colorbar": {
             "outlinewidth": 0,
             "ticks": ""
            },
            "type": "mesh3d"
           }
          ],
          "parcoords": [
           {
            "line": {
             "colorbar": {
              "outlinewidth": 0,
              "ticks": ""
             }
            },
            "type": "parcoords"
           }
          ],
          "pie": [
           {
            "automargin": true,
            "type": "pie"
           }
          ],
          "scatter": [
           {
            "marker": {
             "colorbar": {
              "outlinewidth": 0,
              "ticks": ""
             }
            },
            "type": "scatter"
           }
          ],
          "scatter3d": [
           {
            "line": {
             "colorbar": {
              "outlinewidth": 0,
              "ticks": ""
             }
            },
            "marker": {
             "colorbar": {
              "outlinewidth": 0,
              "ticks": ""
             }
            },
            "type": "scatter3d"
           }
          ],
          "scattercarpet": [
           {
            "marker": {
             "colorbar": {
              "outlinewidth": 0,
              "ticks": ""
             }
            },
            "type": "scattercarpet"
           }
          ],
          "scattergeo": [
           {
            "marker": {
             "colorbar": {
              "outlinewidth": 0,
              "ticks": ""
             }
            },
            "type": "scattergeo"
           }
          ],
          "scattergl": [
           {
            "marker": {
             "colorbar": {
              "outlinewidth": 0,
              "ticks": ""
             }
            },
            "type": "scattergl"
           }
          ],
          "scattermapbox": [
           {
            "marker": {
             "colorbar": {
              "outlinewidth": 0,
              "ticks": ""
             }
            },
            "type": "scattermapbox"
           }
          ],
          "scatterpolar": [
           {
            "marker": {
             "colorbar": {
              "outlinewidth": 0,
              "ticks": ""
             }
            },
            "type": "scatterpolar"
           }
          ],
          "scatterpolargl": [
           {
            "marker": {
             "colorbar": {
              "outlinewidth": 0,
              "ticks": ""
             }
            },
            "type": "scatterpolargl"
           }
          ],
          "scatterternary": [
           {
            "marker": {
             "colorbar": {
              "outlinewidth": 0,
              "ticks": ""
             }
            },
            "type": "scatterternary"
           }
          ],
          "surface": [
           {
            "colorbar": {
             "outlinewidth": 0,
             "ticks": ""
            },
            "colorscale": [
             [
              0,
              "#0d0887"
             ],
             [
              0.1111111111111111,
              "#46039f"
             ],
             [
              0.2222222222222222,
              "#7201a8"
             ],
             [
              0.3333333333333333,
              "#9c179e"
             ],
             [
              0.4444444444444444,
              "#bd3786"
             ],
             [
              0.5555555555555556,
              "#d8576b"
             ],
             [
              0.6666666666666666,
              "#ed7953"
             ],
             [
              0.7777777777777778,
              "#fb9f3a"
             ],
             [
              0.8888888888888888,
              "#fdca26"
             ],
             [
              1,
              "#f0f921"
             ]
            ],
            "type": "surface"
           }
          ],
          "table": [
           {
            "cells": {
             "fill": {
              "color": "#EBF0F8"
             },
             "line": {
              "color": "white"
             }
            },
            "header": {
             "fill": {
              "color": "#C8D4E3"
             },
             "line": {
              "color": "white"
             }
            },
            "type": "table"
           }
          ]
         },
         "layout": {
          "annotationdefaults": {
           "arrowcolor": "#2a3f5f",
           "arrowhead": 0,
           "arrowwidth": 1
          },
          "autotypenumbers": "strict",
          "coloraxis": {
           "colorbar": {
            "outlinewidth": 0,
            "ticks": ""
           }
          },
          "colorscale": {
           "diverging": [
            [
             0,
             "#8e0152"
            ],
            [
             0.1,
             "#c51b7d"
            ],
            [
             0.2,
             "#de77ae"
            ],
            [
             0.3,
             "#f1b6da"
            ],
            [
             0.4,
             "#fde0ef"
            ],
            [
             0.5,
             "#f7f7f7"
            ],
            [
             0.6,
             "#e6f5d0"
            ],
            [
             0.7,
             "#b8e186"
            ],
            [
             0.8,
             "#7fbc41"
            ],
            [
             0.9,
             "#4d9221"
            ],
            [
             1,
             "#276419"
            ]
           ],
           "sequential": [
            [
             0,
             "#0d0887"
            ],
            [
             0.1111111111111111,
             "#46039f"
            ],
            [
             0.2222222222222222,
             "#7201a8"
            ],
            [
             0.3333333333333333,
             "#9c179e"
            ],
            [
             0.4444444444444444,
             "#bd3786"
            ],
            [
             0.5555555555555556,
             "#d8576b"
            ],
            [
             0.6666666666666666,
             "#ed7953"
            ],
            [
             0.7777777777777778,
             "#fb9f3a"
            ],
            [
             0.8888888888888888,
             "#fdca26"
            ],
            [
             1,
             "#f0f921"
            ]
           ],
           "sequentialminus": [
            [
             0,
             "#0d0887"
            ],
            [
             0.1111111111111111,
             "#46039f"
            ],
            [
             0.2222222222222222,
             "#7201a8"
            ],
            [
             0.3333333333333333,
             "#9c179e"
            ],
            [
             0.4444444444444444,
             "#bd3786"
            ],
            [
             0.5555555555555556,
             "#d8576b"
            ],
            [
             0.6666666666666666,
             "#ed7953"
            ],
            [
             0.7777777777777778,
             "#fb9f3a"
            ],
            [
             0.8888888888888888,
             "#fdca26"
            ],
            [
             1,
             "#f0f921"
            ]
           ]
          },
          "colorway": [
           "#636efa",
           "#EF553B",
           "#00cc96",
           "#ab63fa",
           "#FFA15A",
           "#19d3f3",
           "#FF6692",
           "#B6E880",
           "#FF97FF",
           "#FECB52"
          ],
          "font": {
           "color": "#2a3f5f"
          },
          "geo": {
           "bgcolor": "white",
           "lakecolor": "white",
           "landcolor": "#E5ECF6",
           "showlakes": true,
           "showland": true,
           "subunitcolor": "white"
          },
          "hoverlabel": {
           "align": "left"
          },
          "hovermode": "closest",
          "mapbox": {
           "style": "light"
          },
          "paper_bgcolor": "white",
          "plot_bgcolor": "#E5ECF6",
          "polar": {
           "angularaxis": {
            "gridcolor": "white",
            "linecolor": "white",
            "ticks": ""
           },
           "bgcolor": "#E5ECF6",
           "radialaxis": {
            "gridcolor": "white",
            "linecolor": "white",
            "ticks": ""
           }
          },
          "scene": {
           "xaxis": {
            "backgroundcolor": "#E5ECF6",
            "gridcolor": "white",
            "gridwidth": 2,
            "linecolor": "white",
            "showbackground": true,
            "ticks": "",
            "zerolinecolor": "white"
           },
           "yaxis": {
            "backgroundcolor": "#E5ECF6",
            "gridcolor": "white",
            "gridwidth": 2,
            "linecolor": "white",
            "showbackground": true,
            "ticks": "",
            "zerolinecolor": "white"
           },
           "zaxis": {
            "backgroundcolor": "#E5ECF6",
            "gridcolor": "white",
            "gridwidth": 2,
            "linecolor": "white",
            "showbackground": true,
            "ticks": "",
            "zerolinecolor": "white"
           }
          },
          "shapedefaults": {
           "line": {
            "color": "#2a3f5f"
           }
          },
          "ternary": {
           "aaxis": {
            "gridcolor": "white",
            "linecolor": "white",
            "ticks": ""
           },
           "baxis": {
            "gridcolor": "white",
            "linecolor": "white",
            "ticks": ""
           },
           "bgcolor": "#E5ECF6",
           "caxis": {
            "gridcolor": "white",
            "linecolor": "white",
            "ticks": ""
           }
          },
          "title": {
           "x": 0.05
          },
          "xaxis": {
           "automargin": true,
           "gridcolor": "white",
           "linecolor": "white",
           "ticks": "",
           "title": {
            "standoff": 15
           },
           "zerolinecolor": "white",
           "zerolinewidth": 2
          },
          "yaxis": {
           "automargin": true,
           "gridcolor": "white",
           "linecolor": "white",
           "ticks": "",
           "title": {
            "standoff": 15
           },
           "zerolinecolor": "white",
           "zerolinewidth": 2
          }
         }
        },
        "width": 1000
       }
      },
      "text/html": [
       "<div>                            <div id=\"08753c57-2800-4817-8635-5ea0eda18109\" class=\"plotly-graph-div\" style=\"height:525px; width:1000px;\"></div>            <script type=\"text/javascript\">                require([\"plotly\"], function(Plotly) {                    window.PLOTLYENV=window.PLOTLYENV || {};                                    if (document.getElementById(\"08753c57-2800-4817-8635-5ea0eda18109\")) {                    Plotly.newPlot(                        \"08753c57-2800-4817-8635-5ea0eda18109\",                        [{\"customdata\":[[\"42 Coin\",\"Scrypt\"],[\"404Coin\",\"Scrypt\"],[\"EliteCoin\",\"X13\"],[\"Dash\",\"X11\"],[\"Bitshares\",\"SHA-512\"],[\"BitcoinDark\",\"SHA-256\"],[\"PayCoin\",\"SHA-256\"],[\"KoboCoin\",\"X15\"],[\"Aurora Coin\",\"Scrypt\"],[\"BlueCoin\",\"Scrypt\"],[\"EnergyCoin\",\"Scrypt\"],[\"BitBar\",\"Scrypt\"],[\"CryptoBullion\",\"Scrypt\"],[\"CasinoCoin\",\"Scrypt\"],[\"Diamond\",\"Groestl\"],[\"Exclusive Coin\",\"PoS\"],[\"FlutterCoin\",\"Scrypt\"],[\"HoboNickels\",\"Scrypt\"],[\"HyperStake\",\"X11\"],[\"IOCoin\",\"X11\"],[\"MaxCoin\",\"SHA3\"],[\"MintCoin\",\"Scrypt\"],[\"MazaCoin\",\"SHA-256\"],[\"Nautilus Coin\",\"Scrypt\"],[\"NavCoin\",\"X13\"],[\"OpalCoin\",\"X13\"],[\"Orbitcoin\",\"NeoScrypt\"],[\"PotCoin\",\"Scrypt\"],[\"PhoenixCoin\",\"Scrypt\"],[\"Reddcoin\",\"Scrypt\"],[\"SuperCoin\",\"X11\"],[\"SyncCoin\",\"X11\"],[\"TeslaCoin\",\"Multiple\"],[\"TittieCoin\",\"PHI1612\"],[\"TorCoin\",\"X11\"],[\"UnitaryStatus Dollar\",\"Scrypt\"],[\"UltraCoin\",\"Scrypt\"],[\"VeriCoin\",\"Scrypt\"],[\"X11 Coin\",\"X11\"],[\"Crypti\",\"Multiple\"],[\"StealthCoin\",\"X13\"],[\"ZCC Coin\",\"Scrypt\"],[\"BurstCoin\",\"Shabal256\"],[\"StorjCoin\",\"Counterparty\"],[\"Neutron\",\"SHA-256\"],[\"FairCoin\",\"Groestl\"],[\"RubyCoin\",\"Scrypt\"],[\"Kore\",\"X13\"],[\"Dnotes\",\"Scrypt\"],[\"8BIT Coin\",\"Scrypt\"],[\"Sativa Coin\",\"X13\"],[\"Ucoin\",\"X11\"],[\"Vtorrent\",\"Scrypt\"],[\"IslaCoin\",\"X11\"],[\"Nexus\",\"SHA3\"],[\"Droidz\",\"QUAIT\"],[\"Squall Coin\",\"X11\"],[\"Diggits\",\"Scrypt\"],[\"Paycon\",\"X13\"],[\"Emercoin\",\"SHA-256\"],[\"EverGreenCoin\",\"X15\"],[\"Decred\",\"BLAKE256\"],[\"EDRCoin\",\"SHA-256\"],[\"Hitcoin\",\"X11\"],[\"DubaiCoin\",\"SHA-256\"],[\"PWR Coin\",\"NIST5\"],[\"BillaryCoin\",\"Scrypt\"],[\"GPU Coin\",\"Scrypt\"],[\"EuropeCoin\",\"X11\"],[\"ZeitCoin\",\"Scrypt\"],[\"SwingCoin\",\"SHA-256\"],[\"SafeExchangeCoin\",\"Scrypt\"],[\"Nebuchadnezzar\",\"PoS\"],[\"Ratecoin\",\"X11\"],[\"Revenu\",\"SHA-256\"],[\"Clockcoin\",\"SHA-256\"],[\"VIP Tokens\",\"NIST5\"],[\"BitSend\",\"X11\"],[\"Let it Ride\",\"POS 3.0\"],[\"PutinCoin\",\"Scrypt\"],[\"iBankCoin\",\"Scrypt\"],[\"Frankywillcoin\",\"Scrypt\"],[\"MudraCoin\",\"X13\"],[\"Lutetium Coin\",\"X11\"],[\"GoldBlocks\",\"X11\"],[\"CarterCoin\",\"Scrypt\"],[\"BitTokens\",\"SHA-256\"],[\"MustangCoin\",\"X11\"],[\"ZoneCoin\",\"Scrypt\"],[\"RootCoin\",\"Scrypt\"],[\"BitCurrency\",\"Scrypt\"],[\"Swiscoin\",\"Scrypt\"],[\"BuzzCoin\",\"SHA-256D\"],[\"Opair\",\"PoS\"],[\"PesoBit\",\"Scrypt\"],[\"Halloween Coin\",\"X11\"],[\"CoffeeCoin\",\"PoS\"],[\"RoyalCoin\",\"X13\"],[\"GanjaCoin V2\",\"X14\"],[\"TeamUP\",\"PoS\"],[\"LanaCoin\",\"SHA-256D\"],[\"ARK\",\"DPoS\"],[\"InsaneCoin\",\"X11\"],[\"EmberCoin\",\"X13\"],[\"XenixCoin\",\"X11\"],[\"FreeCoin\",\"PoS\"],[\"PLNCoin\",\"Scrypt\"],[\"AquariusCoin\",\"Scrypt\"],[\"Creatio\",\"PoS\"],[\"Eternity\",\"X11\"],[\"Eurocoin\",\"SHA-256\"],[\"BitcoinFast\",\"Scrypt\"],[\"Stakenet\",\"X11\"],[\"BitConnect Coin\",\"Scrypt\"],[\"MoneyCoin\",\"Scrypt\"],[\"Enigma\",\"X11\"],[\"Russiacoin\",\"Scrypt\"],[\"PandaCoin\",\"Scrypt\"],[\"GameUnits\",\"Scrypt\"],[\"GAKHcoin\",\"Scrypt\"],[\"Allsafe\",\"Quark\"],[\"LiteCreed\",\"QuBit\"],[\"Klingon Empire Darsek\",\"Scrypt\"],[\"Internet of People\",\"SHA-256\"],[\"KushCoin\",\"X11\"],[\"Printerium\",\"Scrypt\"],[\"Impeach\",\"Scrypt\"],[\"Zilbercoin\",\"Scrypt\"],[\"FirstCoin\",\"Scrypt\"],[\"FindCoin\",\"X13\"],[\"OpenChat\",\"Scrypt\"],[\"RenosCoin\",\"Scrypt\"],[\"VirtacoinPlus\",\"X11\"],[\"TajCoin\",\"Blake2S\"],[\"Impact\",\"X11\"],[\"Atmos\",\"PoS\"],[\"HappyCoin\",\"X11\"],[\"MacronCoin\",\"PoS\"],[\"Condensate\",\"X11\"],[\"Independent Money System\",\"Scrypt\"],[\"ArgusCoin\",\"Scrypt\"],[\"LomoCoin\",\"Scrypt\"],[\"ProCurrency\",\"SHA-256\"],[\"GoldReserve\",\"X11\"],[\"GrowthCoin\",\"Scrypt\"],[\"Phreak\",\"PoS\"],[\"Degas Coin\",\"Scrypt\"],[\"HTML5 Coin\",\"X15\"],[\"Ultimate Secure Cash\",\"SHA-256\"],[\"QTUM\",\"POS 3.0\"],[\"Espers\",\"536\"],[\"Denarius\",\"NIST5\"],[\"Virta Unique Coin\",\"NIST5\"],[\"Bitcoin Planet\",\"Skein\"],[\"BritCoin\",\"X13\"],[\"Linda\",\"Scrypt\"],[\"DeepOnion\",\"X13\"],[\"Signatum\",\"SkunkHash v2 Raptor\"],[\"Cream\",\"Skein\"],[\"Monoeci\",\"X11\"],[\"Draftcoin\",\"Scrypt\"],[\"Vechain\",\"VeChainThor Authority\"],[\"Stakecoin\",\"PoS\"],[\"CoinonatX\",\"Scrypt\"],[\"Ethereum Dark\",\"Scrypt\"],[\"Obsidian\",\"SHA-512\"],[\"Cardano\",\"Ouroboros\"],[\"Regalcoin\",\"X11\"],[\"TrezarCoin\",\"NeoScrypt\"],[\"TerraNovaCoin\",\"Scrypt\"],[\"Rupee\",\"Lyra2REv2\"],[\"WomenCoin\",\"Scrypt\"],[\"Theresa May Coin\",\"SHA-256\"],[\"NamoCoin\",\"NIST5\"],[\"LUXCoin\",\"PHI1612\"],[\"Xios\",\"Scrypt\"],[\"Bitcloud 2.0\",\"Quark\"],[\"KekCoin\",\"POS 2.0\"],[\"BlackholeCoin\",\"Scrypt\"],[\"Infinity Economics\",\"SHA-256\"],[\"Magnet\",\"X11\"],[\"Lamden Tau\",\"DPoS\"],[\"Electra\",\"NIST5\"],[\"Bitcoin Diamond\",\"X13\"],[\"Cash & Back Coin\",\"Scrypt\"],[\"Bulwark\",\"NIST5\"],[\"Kalkulus\",\"Quark\"],[\"GermanCoin\",\"Scrypt\"],[\"LiteCoin Ultra\",\"Scrypt\"],[\"PhantomX\",\"X11\"],[\"Digiwage\",\"Quark\"],[\"Trollcoin\",\"Scrypt\"],[\"Litecoin Plus\",\"Scrypt\"],[\"Monkey Project\",\"X11\"],[\"TokenPay\",\"POS 3.0\"],[\"1717 Masonic Commemorative Token\",\"Ethash\"],[\"My Big Coin\",\"Scrypt\"],[\"Unified Society USDEX\",\"Scrypt\"],[\"Tokyo Coin\",\"X13\"],[\"BiblePay\",\"Proof-of-BibleHash\"],[\"Stipend\",\"C11\"],[\"Pushi\",\"X11\"],[\"Ellerium\",\"XEVAN\"],[\"Velox\",\"Scrypt\"],[\"Ontology\",\"VBFT\"],[\"Bitspace\",\"NIST5\"],[\"Briacoin\",\"Scrypt\"],[\"Ignition\",\"Scrypt\"],[\"MedicCoin\",\"Scrypt\"],[\"Bitcoin Green\",\"Green Protocol\"],[\"Deviant Coin\",\"PoS\"],[\"Abjcoin\",\"Scrypt\"],[\"Semux\",\"Semux BFT consensus\"],[\"Carebit\",\"Quark\"],[\"Zealium\",\"PoS\"],[\"Proton\",\"X16R\"],[\"iDealCash\",\"Scrypt\"],[\"Bitcoin Incognito\",\"XEVAN\"],[\"HollyWoodCoin\",\"Scrypt\"],[\"Swisscoin\",\"Scrypt\"],[\"Xt3ch\",\"Scrypt\"],[\"TheVig\",\"SHA-256D\"],[\"EmaratCoin\",\"Scrypt\"],[\"Dekado\",\"X15\"],[\"Lynx\",\"Scrypt\"],[\"Poseidon Quark\",\"Quark\"],[\"BitcoinWSpectrum\",\"SHA-256\"],[\"Muse\",\"DPoS\"],[\"Trivechain\",\"X16R\"],[\"Dystem\",\"Quark\"],[\"Giant\",\"Quark\"],[\"Peony Coin\",\"Scrypt\"],[\"Absolute Coin\",\"Lyra2REv2\"],[\"Vitae\",\"Quark\"],[\"TPCash\",\"Scrypt\"],[\"ARENON\",\"X11\"],[\"EUNO\",\"X11\"],[\"MMOCoin\",\"Scrypt\"],[\"Ketan\",\"PoS\"],[\"XDNA\",\"Keccak\"],[\"PAXEX\",\"X11\"],[\"ThunderStake\",\"Scrypt\"],[\"Kcash\",\"SHA-512\"],[\"Acute Angle Cloud\",\"ECC 256K1\"],[\"Bettex coin\",\"XEVAN\"],[\"BitMoney\",\"XEVAN\"],[\"Junson Ming Chan Coin\",\"X11\"],[\"HerbCoin\",\"Quark\"],[\"PirateCash\",\"Equihash\"],[\"Oduwa\",\"Scrypt\"],[\"Galilel\",\"Quark\"],[\"Crypto Sports\",\"Quark\"],[\"Credit\",\"Scrypt\"],[\"Dash Platinum\",\"X11\"],[\"Nasdacoin\",\"Scrypt\"],[\"Beetle Coin\",\"XEVAN\"],[\"Titan Coin\",\"SHA-256D\"],[\"Award\",\"X11\"],[\"Insane Coin\",\"X11\"],[\"ALAX\",\"DPoS\"],[\"LiteDoge\",\"Scrypt\"],[\"TruckCoin\",\"X11\"],[\"OrangeCoin\",\"Scrypt\"],[\"BitstarCoin\",\"Scrypt\"],[\"NeosCoin\",\"SHA-256\"],[\"HyperCoin\",\"Scrypt\"],[\"PinkCoin\",\"X11\"],[\"AudioCoin\",\"Scrypt\"],[\"IncaKoin\",\"SHA-256\"],[\"Piggy Coin\",\"X11\"],[\"Genstake\",\"Scrypt\"],[\"XiaoMiCoin\",\"Scrypt\"],[\"CapriCoin\",\"X11\"],[\" ClubCoin\",\"Scrypt\"],[\"Radium\",\"PoS\"],[\"Creditbit \",\"X11\"],[\"OKCash\",\"SHA-256\"],[\"Lisk\",\"DPoS\"],[\"HiCoin\",\"Scrypt\"],[\"WhiteCoin\",\"Scrypt\"],[\"FriendshipCoin\",\"NeoScrypt\"],[\"Triangles Coin\",\"X13\"],[\"EOS\",\"DPoS\"],[\"Oxycoin\",\"DPoS\"],[\"TigerCash\",\"SHA-256\"],[\"Particl\",\"PoS\"],[\"Nxt\",\"PoS\"],[\"ZEPHYR\",\"SHA-256\"],[\"Gapcoin\",\"Scrypt\"],[\"BitcoinPlus\",\"Scrypt\"]],\"hovertemplate\":\"<b>%{hovertext}</b><br><br>Class=%{marker.color}<br>PC 1=%{x}<br>PC 2=%{y}<br>PC 3=%{z}<br>CoinName=%{customdata[0]}<br>Algorithm=%{customdata[1]}<extra></extra>\",\"hovertext\":[\"42 Coin\",\"404Coin\",\"EliteCoin\",\"Dash\",\"Bitshares\",\"BitcoinDark\",\"PayCoin\",\"KoboCoin\",\"Aurora Coin\",\"BlueCoin\",\"EnergyCoin\",\"BitBar\",\"CryptoBullion\",\"CasinoCoin\",\"Diamond\",\"Exclusive Coin\",\"FlutterCoin\",\"HoboNickels\",\"HyperStake\",\"IOCoin\",\"MaxCoin\",\"MintCoin\",\"MazaCoin\",\"Nautilus Coin\",\"NavCoin\",\"OpalCoin\",\"Orbitcoin\",\"PotCoin\",\"PhoenixCoin\",\"Reddcoin\",\"SuperCoin\",\"SyncCoin\",\"TeslaCoin\",\"TittieCoin\",\"TorCoin\",\"UnitaryStatus Dollar\",\"UltraCoin\",\"VeriCoin\",\"X11 Coin\",\"Crypti\",\"StealthCoin\",\"ZCC Coin\",\"BurstCoin\",\"StorjCoin\",\"Neutron\",\"FairCoin\",\"RubyCoin\",\"Kore\",\"Dnotes\",\"8BIT Coin\",\"Sativa Coin\",\"Ucoin\",\"Vtorrent\",\"IslaCoin\",\"Nexus\",\"Droidz\",\"Squall Coin\",\"Diggits\",\"Paycon\",\"Emercoin\",\"EverGreenCoin\",\"Decred\",\"EDRCoin\",\"Hitcoin\",\"DubaiCoin\",\"PWR Coin\",\"BillaryCoin\",\"GPU Coin\",\"EuropeCoin\",\"ZeitCoin\",\"SwingCoin\",\"SafeExchangeCoin\",\"Nebuchadnezzar\",\"Ratecoin\",\"Revenu\",\"Clockcoin\",\"VIP Tokens\",\"BitSend\",\"Let it Ride\",\"PutinCoin\",\"iBankCoin\",\"Frankywillcoin\",\"MudraCoin\",\"Lutetium Coin\",\"GoldBlocks\",\"CarterCoin\",\"BitTokens\",\"MustangCoin\",\"ZoneCoin\",\"RootCoin\",\"BitCurrency\",\"Swiscoin\",\"BuzzCoin\",\"Opair\",\"PesoBit\",\"Halloween Coin\",\"CoffeeCoin\",\"RoyalCoin\",\"GanjaCoin V2\",\"TeamUP\",\"LanaCoin\",\"ARK\",\"InsaneCoin\",\"EmberCoin\",\"XenixCoin\",\"FreeCoin\",\"PLNCoin\",\"AquariusCoin\",\"Creatio\",\"Eternity\",\"Eurocoin\",\"BitcoinFast\",\"Stakenet\",\"BitConnect Coin\",\"MoneyCoin\",\"Enigma\",\"Russiacoin\",\"PandaCoin\",\"GameUnits\",\"GAKHcoin\",\"Allsafe\",\"LiteCreed\",\"Klingon Empire Darsek\",\"Internet of People\",\"KushCoin\",\"Printerium\",\"Impeach\",\"Zilbercoin\",\"FirstCoin\",\"FindCoin\",\"OpenChat\",\"RenosCoin\",\"VirtacoinPlus\",\"TajCoin\",\"Impact\",\"Atmos\",\"HappyCoin\",\"MacronCoin\",\"Condensate\",\"Independent Money System\",\"ArgusCoin\",\"LomoCoin\",\"ProCurrency\",\"GoldReserve\",\"GrowthCoin\",\"Phreak\",\"Degas Coin\",\"HTML5 Coin\",\"Ultimate Secure Cash\",\"QTUM\",\"Espers\",\"Denarius\",\"Virta Unique Coin\",\"Bitcoin Planet\",\"BritCoin\",\"Linda\",\"DeepOnion\",\"Signatum\",\"Cream\",\"Monoeci\",\"Draftcoin\",\"Vechain\",\"Stakecoin\",\"CoinonatX\",\"Ethereum Dark\",\"Obsidian\",\"Cardano\",\"Regalcoin\",\"TrezarCoin\",\"TerraNovaCoin\",\"Rupee\",\"WomenCoin\",\"Theresa May Coin\",\"NamoCoin\",\"LUXCoin\",\"Xios\",\"Bitcloud 2.0\",\"KekCoin\",\"BlackholeCoin\",\"Infinity Economics\",\"Magnet\",\"Lamden Tau\",\"Electra\",\"Bitcoin Diamond\",\"Cash & Back Coin\",\"Bulwark\",\"Kalkulus\",\"GermanCoin\",\"LiteCoin Ultra\",\"PhantomX\",\"Digiwage\",\"Trollcoin\",\"Litecoin Plus\",\"Monkey Project\",\"TokenPay\",\"1717 Masonic Commemorative Token\",\"My Big Coin\",\"Unified Society USDEX\",\"Tokyo Coin\",\"BiblePay\",\"Stipend\",\"Pushi\",\"Ellerium\",\"Velox\",\"Ontology\",\"Bitspace\",\"Briacoin\",\"Ignition\",\"MedicCoin\",\"Bitcoin Green\",\"Deviant Coin\",\"Abjcoin\",\"Semux\",\"Carebit\",\"Zealium\",\"Proton\",\"iDealCash\",\"Bitcoin Incognito\",\"HollyWoodCoin\",\"Swisscoin\",\"Xt3ch\",\"TheVig\",\"EmaratCoin\",\"Dekado\",\"Lynx\",\"Poseidon Quark\",\"BitcoinWSpectrum\",\"Muse\",\"Trivechain\",\"Dystem\",\"Giant\",\"Peony Coin\",\"Absolute Coin\",\"Vitae\",\"TPCash\",\"ARENON\",\"EUNO\",\"MMOCoin\",\"Ketan\",\"XDNA\",\"PAXEX\",\"ThunderStake\",\"Kcash\",\"Acute Angle Cloud\",\"Bettex coin\",\"BitMoney\",\"Junson Ming Chan Coin\",\"HerbCoin\",\"PirateCash\",\"Oduwa\",\"Galilel\",\"Crypto Sports\",\"Credit\",\"Dash Platinum\",\"Nasdacoin\",\"Beetle Coin\",\"Titan Coin\",\"Award\",\"Insane Coin\",\"ALAX\",\"LiteDoge\",\"TruckCoin\",\"OrangeCoin\",\"BitstarCoin\",\"NeosCoin\",\"HyperCoin\",\"PinkCoin\",\"AudioCoin\",\"IncaKoin\",\"Piggy Coin\",\"Genstake\",\"XiaoMiCoin\",\"CapriCoin\",\" ClubCoin\",\"Radium\",\"Creditbit \",\"OKCash\",\"Lisk\",\"HiCoin\",\"WhiteCoin\",\"FriendshipCoin\",\"Triangles Coin\",\"EOS\",\"Oxycoin\",\"TigerCash\",\"Particl\",\"Nxt\",\"ZEPHYR\",\"Gapcoin\",\"BitcoinPlus\"],\"legendgroup\":\"0\",\"marker\":{\"color\":[0,0,0,0,0,0,0,0,0,0,0,0,0,0,0,0,0,0,0,0,0,0,0,0,0,0,0,0,0,0,0,0,0,0,0,0,0,0,0,0,0,0,0,0,0,0,0,0,0,0,0,0,0,0,0,0,0,0,0,0,0,0,0,0,0,0,0,0,0,0,0,0,0,0,0,0,0,0,0,0,0,0,0,0,0,0,0,0,0,0,0,0,0,0,0,0,0,0,0,0,0,0,0,0,0,0,0,0,0,0,0,0,0,0,0,0,0,0,0,0,0,0,0,0,0,0,0,0,0,0,0,0,0,0,0,0,0,0,0,0,0,0,0,0,0,0,0,0,0,0,0,0,0,0,0,0,0,0,0,0,0,0,0,0,0,0,0,0,0,0,0,0,0,0,0,0,0,0,0,0,0,0,0,0,0,0,0,0,0,0,0,0,0,0,0,0,0,0,0,0,0,0,0,0,0,0,0,0,0,0,0,0,0,0,0,0,0,0,0,0,0,0,0,0,0,0,0,0,0,0,0,0,0,0,0,0,0,0,0,0,0,0,0,0,0,0,0,0,0,0,0,0,0,0,0,0,0,0,0,0,0,0,0,0,0,0,0,0,0,0,0,0,0,0,0,0,0,0,0,0,0,0,0,0,0,0,0,0,0,0],\"coloraxis\":\"coloraxis\",\"symbol\":\"circle\"},\"mode\":\"markers\",\"name\":\"0\",\"scene\":\"scene\",\"showlegend\":true,\"type\":\"scatter3d\",\"x\":[-0.33651368335093457,-0.3198243245197073,2.302560177912533,-0.39887348913999043,-0.33411124775275314,-0.31336426149796404,-0.2616126032104529,-0.24668245075592174,-0.33617268169909337,-0.3287392895712938,-0.3350080140497857,-0.3365096113244041,-0.3364938668384729,0.6693923059098363,-0.3569900136504597,-0.3210467046749194,-0.2910208887332637,-0.33456905439628637,-0.3269154700449086,-0.3987680283224285,-0.4021192335628325,-0.024294919558921206,-0.27660565532893056,-0.28451263286020106,-0.28657624782277324,-0.28719938397875494,-0.3514519283545339,-0.3308056550099542,-0.33491262591898896,0.022161503938758296,-0.34683171201309176,-0.3991402480026435,-0.2324879685043771,-0.31582917552319406,-0.39905171324815786,-0.3117020123327276,-0.33518868168759575,-0.269551173175313,-0.39901615559268255,-0.23295683179817592,-0.28697992084086243,-0.32759926754631274,0.011854390635184224,-0.34052472642397713,-0.3125746048413867,-0.3564107333254085,-0.28449293204800524,-0.28727483177100777,-0.27913686300159785,-0.33649572516739357,-0.2872269545192154,-0.3472771339338948,-0.3362296254972881,-0.3991217493786068,-0.37830757523349623,-0.436923327697735,-0.3580402759060257,-0.28289166021858,-0.28674770804652866,-0.3059057179868779,-0.24912891831400505,-0.06251263880998464,-0.3133351321078502,-0.07599578142386758,-0.31339897057961963,-0.237899356093673,-0.3361052268589814,-0.28275999319176703,-0.39628509300679193,0.8707887979379259,-0.31319860953328477,-0.06262738695146362,-0.32072942104529173,-0.39696121136667895,-0.3119395012529781,-0.30960297026216044,-0.35943844651361756,-0.3978544637070937,-0.33779406501573017,-0.31235800098230604,-0.336143371352407,-0.3345798108135798,-0.23421474423769392,-0.3347465710052025,-0.3985946579342273,-0.33534621701596334,-0.313379849392332,-0.399110912063772,-0.3363329148691317,-0.3364899496726125,-0.2827504989920029,-0.23299988046943973,0.04361625478408013,-0.31968471581127517,-0.33610353167188284,-0.3852462956174471,-0.31901249973478124,-0.23564832186829074,-0.43634591010333934,-0.31875995285864783,-0.27143159987113163,3.6785880070304726,-0.3987027328763804,0.8466301192348582,-0.39906575104735315,-0.3201492590404165,-0.33603081445027444,-0.3361853557294533,-0.32072942104529173,-0.3986397839560406,-0.313242322000928,-0.3360315749908062,-0.40004627545285026,-0.3361792065390127,-0.3317580152698011,-0.3990947832289847,-0.33538823967263154,0.3598555510004522,-0.336378843428458,-0.33644956100336393,-0.3555623619149174,-0.36265335911177266,-0.3326685884844728,-0.3133562279471216,-0.39900458203474193,-0.3362269704346239,-0.33635410446820435,-0.2843990686651452,-0.25975326008034294,-0.2354157788681427,-0.31717495066732637,-0.28413990126118005,-0.3982688476230589,-0.41445241919243775,-0.397005296043766,-0.3189729777928987,-0.39816658070464916,-0.3133633115132742,-0.39409981594071736,-0.33629730958171505,-0.3362964669141824,-0.32940380670276,0.2721640097361917,-0.39864602770391205,-0.2670070390044808,-0.32076372380279206,-0.3355064654539242,0.8873191517728872,-0.2603002649698178,-0.3365703129125162,0.5757257834489647,-0.3609767240343094,-0.35947625256447274,-0.4157412718594173,-0.28691149435333646,0.12933880511960408,-0.2869824193707136,-0.330021973407445,-0.41524541969825374,-0.39891894754145835,-0.2844735413460707,4.367211340925327,-0.3206296644553748,-0.33593184719510055,-0.3364324614824809,-0.3922767932516981,0.6790919937205572,-0.39885961269097964,-0.34644203370694315,-0.3363879614804431,-0.31161780733755984,0.4339806775521083,-0.3116996983117668,-0.34571581025977977,-0.40317724917323283,-0.33633820382795593,-0.40568924657821687,-0.36667520421556493,-0.33620843649536664,-0.08779956147464449,-0.39764996927438107,3.6834528478530837,0.1994768516746134,-0.28364749816561996,-0.333664094189941,-0.309051680233533,-0.3554480744514,0.07876639026943703,-0.3353451090026469,-0.3982323761947895,-0.35461114092669677,-0.3228891525140906,-0.3364546268005859,-0.3472490173409953,-0.33807643768824663,-0.27978903840311364,-0.30774831069859737,-0.3319922740056475,-0.22719596187155447,-0.17316537003479526,-0.37135494419880194,-0.398936152200457,-0.2956119729702177,-0.28363181889776556,-0.30674228945240595,-0.360574916347386,-0.3364820265269853,-0.33646370174652346,-0.278003273589115,-0.3523910304901829,-0.3202234053766251,-0.3361796836790494,3.8817929814490557,-0.40435529132250797,-0.32041238947673756,-0.30548791110460155,-0.2829487419056424,-0.25466476165020957,-0.2841672590198972,-0.13925860250562572,-0.2844196152811606,-0.33687560913065684,-0.3356527009763839,-0.19678326365996274,2.235060056904021,-0.35114692557285127,-0.2604286081095425,0.9987000511846703,-0.35651146689435753,-0.35556177114443044,-0.40737673731229584,-0.16490131621831766,-0.3632340159103492,-0.3542790595443465,-0.32934380880906455,-0.3468256501695155,-0.3984085975967197,-0.28166006790439474,-0.3195102889126151,-0.3279309305542809,-0.3466866287757111,-0.1956774945287444,-0.5055840961026351,-0.37877088096916284,-0.2439169460754637,0.6013275686473353,-0.1368891577769012,-0.4066701068843362,-0.2557128724383941,-0.33618370227815747,-0.4071270544837344,-0.3556789546908806,0.5719993075184983,-0.3473034187661582,-0.3356655820968041,-0.29005744547614726,-0.2915068984007773,-0.39596802415674764,-0.39863625846276884,3.6957149208968185,0.09954409274002252,-0.39617238175238356,-0.33504965523184105,-0.3358765083924876,-0.26164524469203315,-0.3363958466862608,-0.39024961447819356,-0.2499249679154968,-0.09269453808972121,-0.3859894880708734,-0.3356730293522272,-0.3287253788008207,-0.3951990002180596,-0.3341092716561565,-0.32100550903497654,-0.3698099399672596,-0.31187675893520433,3.6789805546851926,-0.09137243875435525,-0.33129927476572896,-0.3510769857435257,-0.2873822468317515,3.68886252261899,3.690108504919794,-0.24250942931899105,-0.32094128191487054,-0.24491196693424713,2.454856503705635,-0.33455506321539197,-0.28481685973078763],\"y\":[0.9896876834544621,0.9898299484043738,1.6912866882780266,1.2977769772718084,1.6309711222169743,0.8576257384194309,0.6245993596941177,1.9133975735442232,0.9896863888774866,0.9899304702887601,0.9897347040815386,0.9896874545148427,0.9896875900649342,0.38513360999251117,0.9718954696189609,1.5669676562436365,0.12325600910953462,0.9896629399701568,1.0653905270413173,1.2977802707112198,2.1451552340327993,0.7647886741776935,0.8570662205788513,0.7566508019435652,1.8341966723534648,1.8341772124135267,0.6042474285099096,0.9895667863031054,0.9896678805030141,1.000888762951343,1.0647685620521732,1.2977843158775344,0.12671817408548658,1.6382678846450844,1.2977799587448633,0.9893228960298335,0.9896578350081947,0.1382175607790059,1.2977842743909727,0.12677475893555842,1.834184066035229,0.9892538020986916,0.8719709242320248,1.4876111236961584,0.8576176342147697,0.971916679726178,0.7566629417091051,1.8341663090121756,0.7564740715811115,0.9896882443010945,1.8341692287124314,1.0647404065565294,0.9896823089371034,1.2977848942839556,2.480858404541607,2.004874593021076,0.9844725859222188,0.756641720883215,1.8341557043175722,0.8571620614884821,1.9135517359425327,0.9617580627723082,0.8576266481021328,1.288965038119518,0.8576328455930802,1.592025060144488,0.9896705238468806,0.756559610561907,1.2975999686501891,0.7222265460049813,0.857618090710627,0.3892345533459291,1.5669633193052366,1.2977989455498617,0.8575272619139943,0.8573849281117144,1.5881654075110387,1.2977254648640555,1.4993334845658217,0.9890175021478043,0.9896676706681744,0.9896768494571634,1.6010401179474198,1.064678007952146,1.297765741341562,0.9896600380318975,0.8576259638945305,1.297783095912896,0.989678371039866,0.9896884246642148,0.756717356209516,0.14730317607555302,1.9755989448443925,1.5669574818613545,0.9897004921249338,1.2971498063311067,1.567002691771619,1.6011360219354303,1.9622093430622956,1.5668246760300626,1.9746594058953284,1.887197766939004,1.2977766116650882,1.8689801825597934,1.2977838984487513,1.5669600691046812,0.9896753121286083,0.9896680214996939,1.5669633193052366,1.29775720939975,0.8576309710120305,0.9896792343533305,0.7848253546845728,0.9896781853126347,0.9893727529388203,1.297782175060867,0.9896202631262284,0.7536259230373289,0.9896826348951542,0.9896873242263705,1.4828269823671105,0.6260758135137175,0.9894516270929858,0.8576267015694361,1.2977818907335144,0.9896823918521447,0.9896770445240916,0.7566266981231509,0.0983361897660786,1.6011347191762322,0.9895793434405188,0.7566494456119105,1.2977403025839012,2.0427155301222064,1.2977726393788347,1.5669538604530246,1.2977434962809298,1.5669226931961975,1.2975855894238246,0.9896793318711626,0.9896740960224562,0.9891974480847845,0.5878573426245934,1.2977712598130613,0.7557844692977487,1.566955125363509,0.9896443495784053,1.8849563443023656,0.6245067321554357,1.4993243352079277,1.8940704452750186,1.588174350188788,1.5881428587653221,2.0176842322776967,1.8341648348290203,0.9686223076803399,1.8341705273969102,1.5005858090327044,2.017699717261487,1.2977844558456488,0.7566511495682788,2.439898269722385,1.5669368042010536,0.9896714852143343,0.989687228430935,1.6316541531068345,1.4545275884528917,1.297773849270019,0.6041216599454189,0.9896804032761717,0.7219279027633682,0.9959427283474902,0.8576221640609224,1.5878033325058263,1.8717848730312157,0.9896782058707932,1.7157790978216705,1.5150004966546724,0.9896866828036919,0.6236258465997583,1.2977282896776803,1.8870825899753367,1.5843157971375554,1.8341385576798517,0.9896270967049713,1.3551340008996346,1.4828269901042652,0.9670429800389341,0.9896173364355126,1.297777055050167,1.482781899731793,0.9894721214367987,0.9896866786834669,1.064740572340577,1.4993307206349482,-0.08471668782893546,0.11983387278188631,0.9896636360941652,1.6008319457518998,3.1180163077000396,0.9885409355968402,1.2977728835550597,1.5300136085202534,0.7566015119635426,1.4708058251148155,1.5881584074554875,0.9896865352864672,0.9896856830116995,0.7565094724829361,1.4745327650911793,1.566930687327164,0.9896767458720606,1.9675062085684414,1.7158207559551406,1.5669304836961655,0.6919051527673865,0.9877122527659161,1.2167248858103161,0.7566545931436545,0.9885826152703732,0.7566338914419272,1.9778907241762484,0.9896547404538635,1.6804917675628994,0.09760406244936772,1.4825125807420274,0.6245738243332154,1.6747548563002301,0.9249342927045772,1.482822727196445,1.7158651842094612,0.7483745550976725,0.9549449783228231,1.4828065157119563,0.9891993217610214,1.0647295765090006,1.297771551826089,0.756566219124761,1.5668660603280706,0.9845292267256164,1.0647018658638483,0.9812650019829448,1.9473640474260747,2.511717834087337,1.2969858173862625,1.222433898040233,1.0713248651275742,1.7158524579187568,-0.11510559789630577,0.98968303080488,1.715863091694991,1.4828245022874564,0.9647818719639106,1.0647397993876129,0.9896543381889212,1.529873672256356,1.9758174222837532,1.2975842286848118,1.2977786875967825,1.887109387678056,0.9783758972495018,1.2978770001845847,0.9895909496724331,0.9896689368379626,0.6245922860373962,0.9896913634095349,1.2977058274945752,0.9849129306363378,0.864397379265092,1.2974827321371072,0.9897032522466871,0.9896459967182121,1.2977592457941607,0.9896488077417396,1.566962532313874,0.9041551300121081,0.857613073278887,1.8871851544949578,0.7555649149593262,0.9896368434323178,0.6042189668999035,1.8341714163109533,1.8876076638783221,1.8876465747014304,0.6244925667515318,1.5669647986558577,1.816757512474057,0.8368451823698021,0.9895707818043132,0.7566521134906468],\"z\":[-0.5144027118555409,-0.5146516624098748,-0.5344509467845792,-0.4120980926941544,0.02273202151326413,-0.31362080448716034,-0.06460783194035233,-0.5596597436853687,-0.5144072236598273,-0.5145428308358247,-0.5144298487460532,-0.5144027365246996,-0.5144029715641154,-0.3275991282022789,-0.33721128439888337,-0.10444349531843197,-0.34968310653009155,-0.5144260660241801,-0.1634505203285439,-0.4120999934290798,-0.43336717169296607,-0.27008324825448365,-0.31404969975192915,-0.26539173159441926,-0.5184018019882097,-0.5183905711189386,-0.26804157755488034,-0.5144646589114088,-0.514422017714989,-0.5208671644525469,-0.16309156714027057,-0.4120954286927256,0.06437576584859965,-0.23748484490787697,-0.4120960499516129,-0.5146939740102668,-0.5144168474210837,-0.4121173172886611,-0.41209712934288334,0.06437447110959908,-0.5183945265334784,-0.5144659263396961,-0.2135117740078277,-0.11601524045113812,-0.3136305538200169,-0.3372221516850049,-0.26539366342645226,-0.5183880418976736,-0.2654414709654139,-0.5144030355224667,-0.5183890996985577,-0.16308159021386073,-0.5144058824482672,-0.4120957621934409,-0.1437031871128604,-0.5985236178717571,0.1607763750414102,-0.2654127782433782,-0.5183938391732908,-0.31365992350713306,-0.5596471958329599,-0.3400437641817619,-0.31362132949019406,-0.4153321750353282,-0.31362129961018975,-0.4968080231067063,-0.5144059805741973,-0.26540335456359443,-0.4121094663561574,-0.2765677902718101,-0.3136220359325913,-0.31809461169094344,-0.10444726473982614,-0.4121273930240328,-0.31362692223207084,-0.3136395767708813,-0.4946087366271318,-0.4121050569320007,-0.15416747789913537,-0.5146431705275405,-0.5144050657044409,-0.5144278211852018,-0.26937940472641037,-0.16324535382591665,-0.4121003894720171,-0.5144149826527451,-0.3136206209956517,-0.4120956651620545,-0.514403923398337,-0.5144031396150093,-0.2654250675388246,-0.31876385492916876,-0.6229620981973735,-0.10446083123836111,-0.5144101040801724,-0.41219966451239975,-0.10447626003499486,-0.26937281377210426,-0.6224075781388813,-0.10445537693065358,-0.6185015032450822,0.08223389985482003,-0.41210039064778226,-0.5387429037605506,-0.41209639594753095,-0.10445479754188722,-0.5144076589007465,-0.5144045364004636,-0.10444726473982614,-0.4120986016467634,-0.3136231971221515,-0.5144081850734608,-0.18319469477822395,-0.5144060115459691,-0.5144250162966001,-0.41209576095173633,-0.5144089629039464,-0.27383822542811853,-0.5144038752317177,-0.5144035444177385,-0.19386661053028217,-0.2313982087214046,-0.5144232869016164,-0.31362104672823127,-0.4120969623575228,-0.5144059303008292,-0.5144034505407703,-0.2653899953192992,-0.4284265160550949,-0.26937583310183666,-0.5146538052470352,-0.2653966712505551,-0.4121013890328428,-0.6644846076810388,-0.41212318768530415,-0.10447012248172441,-0.4121032322036816,-0.10454299366946271,-0.4121375475600377,-0.5144045444459041,-0.514403839675219,-0.514433402880471,-0.06692053460091942,-0.41210043814025127,-0.2655139115572885,-0.10444567198376516,-0.5144106327038808,-0.5713615052294443,-0.06461320407556558,-0.154183053243312,-0.5056663123983194,-0.4945888081399391,-0.49460513170530884,-0.6399714637602398,-0.518392836255412,-0.5179262722490999,-0.5183926398497246,-0.09463613918030452,-0.639980400572438,-0.412098490823406,-0.26539231668153923,1.0434060529950848,-0.10444500869720308,-0.5144084961545538,-0.5144037664372864,0.023438372995392327,-0.1460475999408952,-0.41209785553496187,-0.26809325846308635,-0.5144034445290283,-0.08765618172566246,-0.5258531566980473,-0.3136432039409407,-0.4947478906906856,-0.48607547496310516,-0.5144038280746994,-0.4428917638991562,-0.10060618190932111,-0.514406772229713,-0.0668646451739865,-0.41210825530713796,0.08218276438131461,-0.5017673769644191,-0.5184341224821262,-0.5144336056329634,-0.24557630829867463,-0.19386818309271586,-0.5170147986097379,-0.5144091555463608,-0.41210691892599893,-0.19387352213448097,-0.5145605625225841,-0.5144033864389413,-0.16308199951183863,-0.15416321699314148,0.06340824774986573,-0.37501329153674806,-0.5144615931518036,-0.26944743445078995,6.8564277600108365,-0.44529353619556306,-0.4120966709553205,-0.09573690635383812,-0.2653970994304537,-0.09373025584042487,-0.4945921519247074,-0.5144029900611475,-0.5144031254286625,-0.2654619018044474,-0.08293788727773757,-0.10444975804389828,-0.5144058080438662,0.1744698790195655,-0.44291580595954155,-0.10444713156744707,-0.0670182883150809,-0.5148689795638851,0.4771338501068197,-0.26539699934351124,-0.5169638645457791,-0.2653906969687735,-0.6180437209125436,-0.5144100435574911,-0.3106377953370191,-0.35096115092585645,-0.19388430899410536,-0.06462061870966641,-0.027191595292492574,-0.3160416503807704,-0.1938660364701942,-0.4428803383025724,-0.2659041022323202,-0.3366697439272953,-0.19388145630866382,-0.5144344842308212,-0.16308631657381045,-0.4121037428632577,-0.26541938319892217,-0.10445072158566132,-0.3569703897554216,-0.16308443686845553,-0.51518689912431,0.3060688186834321,-0.12724304106650605,0.15327703814277235,0.783273719373827,-0.16687539088160486,-0.4428883136035366,0.12235689185407848,-0.5144066126775365,-0.44288348525998283,-0.1938646680080997,-0.5234876122903975,-0.1630811457140684,-0.5144098113992731,-0.09579413781315908,-0.6183838962435626,-0.41211167268621296,-0.41210158872534813,0.08201048897552159,-0.5188510470854252,-0.41214891905478634,-0.514409607987054,-0.5144089084244322,-0.06460641530260398,-0.5144048356461698,-0.41220694027442006,-0.5149400739284989,-0.31758159367113736,-0.41223499548736114,-0.5144164013140576,-0.514504101043157,-0.4121461925806619,-0.5144304547013647,-0.10444336073171906,-0.14641517010647473,-0.31363952549643864,0.08223022775651576,-0.2678989270786723,-0.5144674564866857,-0.2680428391265908,-0.5183872636622519,0.08203653942801471,0.08201408291638282,-0.0648558979598927,-0.10444455395952464,0.02216204477818232,0.044341621140380524,-0.5144136495239381,-0.265387727781676]},{\"customdata\":[[\"Bitcoin\",\"SHA-256\"],[\"Ethereum\",\"Ethash\"],[\"Litecoin\",\"Scrypt\"],[\"Monero\",\"CryptoNight-V7\"],[\"Ethereum Classic\",\"Ethash\"],[\"ZCash\",\"Equihash\"],[\"DigiByte\",\"Multiple\"],[\"ProsperCoin\",\"Scrypt\"],[\"Spreadcoin\",\"X11\"],[\"Argentum\",\"Scrypt\"],[\"MyriadCoin\",\"Multiple\"],[\"MoonCoin\",\"Scrypt\"],[\"ZetaCoin\",\"SHA-256\"],[\"SexCoin\",\"Scrypt\"],[\"Quatloo\",\"Scrypt\"],[\"QuarkCoin\",\"Quark\"],[\"Riecoin\",\"Groestl\"],[\"Digitalcoin \",\"Scrypt\"],[\"Catcoin\",\"Scrypt\"],[\"CannaCoin\",\"Scrypt\"],[\"CryptCoin\",\"X11\"],[\"Verge\",\"Multiple\"],[\"DevCoin\",\"SHA-256\"],[\"EarthCoin\",\"Scrypt\"],[\"E-Gulden\",\"Scrypt\"],[\"Einsteinium\",\"Scrypt\"],[\"Emerald\",\"Scrypt\"],[\"Franko\",\"Scrypt\"],[\"FeatherCoin\",\"NeoScrypt\"],[\"GrandCoin\",\"Scrypt\"],[\"GlobalCoin\",\"Scrypt\"],[\"GoldCoin\",\"Scrypt\"],[\"Infinite Coin\",\"Scrypt\"],[\"IXcoin\",\"SHA-256\"],[\"KrugerCoin\",\"Scrypt\"],[\"LuckyCoin\",\"Scrypt\"],[\"Litebar \",\"Scrypt\"],[\"MegaCoin\",\"Scrypt\"],[\"MediterraneanCoin\",\"HybridScryptHash256\"],[\"MinCoin\",\"Scrypt\"],[\"NobleCoin\",\"Scrypt\"],[\"Namecoin\",\"SHA-256\"],[\"NyanCoin\",\"Scrypt\"],[\"RonPaulCoin\",\"Scrypt\"],[\"StableCoin\",\"Scrypt\"],[\"SmartCoin\",\"Scrypt\"],[\"SysCoin\",\"SHA-256\"],[\"TigerCoin\",\"SHA-256\"],[\"TerraCoin\",\"SHA-256\"],[\"UnbreakableCoin\",\"SHA-256\"],[\"Unobtanium\",\"SHA-256\"],[\"UroCoin\",\"X11\"],[\"ViaCoin\",\"Scrypt\"],[\"Vertcoin\",\"Lyra2REv2\"],[\"WorldCoin\",\"Scrypt\"],[\"JouleCoin\",\"SHA-256\"],[\"ByteCoin\",\"CryptoNight\"],[\"DigitalNote \",\"CryptoNight\"],[\"MonaCoin\",\"Scrypt\"],[\"Gulden\",\"Scrypt\"],[\"PesetaCoin\",\"Scrypt\"],[\"Wild Beast Coin\",\"Scrypt\"],[\"Flo\",\"Scrypt\"],[\"ArtByte\",\"Scrypt\"],[\"Folding Coin\",\"Stanford Folding\"],[\"Unitus\",\"Multiple\"],[\"CypherPunkCoin\",\"QuBit\"],[\"OmniCron\",\"Scrypt\"],[\"GreenCoin\",\"Scrypt\"],[\"Cryptonite\",\"M7 POW\"],[\"MasterCoin\",\"Scrypt\"],[\"SoonCoin\",\"SHA-256\"],[\"1Credit\",\"Scrypt\"],[\"MarsCoin \",\"X11\"],[\"Crypto\",\"Lyra2RE\"],[\"Anarchists Prime\",\"SHA-256\"],[\"BowsCoin\",\"X11\"],[\"Song Coin\",\"Scrypt\"],[\"BitZeny\",\"Scrypt\"],[\"Expanse\",\"Ethash\"],[\"Siacoin\",\"Blake2b\"],[\"MindCoin\",\"X11\"],[\"I0coin\",\"SHA-256\"],[\"Revolution VR\",\"Scrypt\"],[\"HOdlcoin\",\"1GB AES Pattern Search\"],[\"Gamecredits\",\"Scrypt\"],[\"CarpeDiemCoin\",\"SHA-256\"],[\"Adzcoin\",\"X11\"],[\"SoilCoin\",\"Dagger\"],[\"YoCoin\",\"Scrypt\"],[\"SibCoin\",\"X11GOST\"],[\"Francs\",\"Scrypt\"],[\"BolivarCoin\",\"X11\"],[\"Omni\",\"Scrypt\"],[\"PizzaCoin\",\"X11\"],[\"Komodo\",\"Equihash\"],[\"Karbo\",\"CryptoNight\"],[\"ZayedCoin\",\"SHA-256\"],[\"Circuits of Value\",\"Multiple\"],[\"DopeCoin\",\"Scrypt\"],[\"DollarCoin\",\"SHA-256\"],[\"Shilling\",\"Scrypt\"],[\"ZCoin\",\"Lyra2Z\"],[\"Elementrem\",\"Ethash\"],[\"ZClassic\",\"Equihash\"],[\"KiloCoin\",\"Scrypt\"],[\"ArtexCoin\",\"X11\"],[\"Kurrent\",\"X11\"],[\"Cannabis Industry Coin\",\"CryptoNight\"],[\"OsmiumCoin\",\"Scrypt\"],[\"Bikercoins\",\"CryptoNight\"],[\"HexxCoin\",\"Lyra2RE\"],[\"PacCoin\",\"X11\"],[\"Citadel\",\"CryptoNight-V7\"],[\"BeaverCoin\",\"Scrypt\"],[\"VaultCoin\",\"X11\"],[\"Zero\",\"Equihash\"],[\"Canada eCoin\",\"Scrypt\"],[\"Zoin\",\"Lyra2RE\"],[\"DubaiCoin\",\"Dagger-Hashimoto\"],[\"EB3coin\",\"Scrypt\"],[\"Coinonat\",\"NIST5\"],[\"BenjiRolls\",\"Scrypt\"],[\"ILCoin\",\"SHA-256\"],[\"EquiTrader\",\"Scrypt\"],[\"Quantum Resistant Ledger\",\"CryptoNight-V7\"],[\"Dynamic\",\"Argon2d\"],[\"Nano\",\"Blake2b\"],[\"ChanCoin\",\"Cloverhash\"],[\"Dinastycoin\",\"CryptoNight\"],[\"DigitalPrice\",\"X11\"],[\"Unify\",\"Scrypt\"],[\"SocialCoin\",\"Scrypt\"],[\"ArcticCoin\",\"X11\"],[\"DAS\",\"X11\"],[\"LeviarCoin\",\"CryptoNight\"],[\"Bitcore\",\"Time Travel\"],[\"gCn Coin\",\"Scrypt\"],[\"SmartCash\",\"Keccak\"],[\"Onix\",\"X11\"],[\"Bitcoin Cash\",\"SHA-256\"],[\"Sojourn Coin\",\"Scrypt\"],[\"NewYorkCoin\",\"Scrypt\"],[\"FrazCoin\",\"Scrypt\"],[\"Kronecoin\",\"Scrypt\"],[\"AdCoin\",\"Scrypt\"],[\"Linx\",\"Scrypt\"],[\"Sumokoin\",\"CryptoNight\"],[\"BitcoinZ\",\"Equihash\"],[\"Elements\",\"X11\"],[\"VIVO Coin\",\"NeoScrypt\"],[\"Bitcoin Gold\",\"Equihash\"],[\"Pirl\",\"Dagger\"],[\"eBoost\",\"Scrypt\"],[\"Pura\",\"X11\"],[\"Innova\",\"NeoScrypt\"],[\"Ellaism\",\"Ethash\"],[\"GoByte\",\"NeoScrypt\"],[\"SHIELD\",\"Multiple\"],[\"UltraNote\",\"CryptoNight\"],[\"BitCoal\",\"CryptoNight\"],[\"DaxxCoin\",\"Ethash\"],[\"AC3\",\"X11\"],[\"Lethean\",\"CryptoNight-V7\"],[\"PopularCoin\",\"Scrypt\"],[\"Photon\",\"BLAKE256\"],[\"Sucre\",\"X11\"],[\"SparksPay\",\"NeoScrypt\"],[\"GunCoin\",\"NeoScrypt\"],[\"IrishCoin\",\"Scrypt\"],[\"Pioneer Coin\",\"X11\"],[\"UnitedBitcoin\",\"SHA-256\"],[\"Interzone\",\"C11\"],[\"TurtleCoin\",\"CryptoNight\"],[\"MUNcoin\",\"SkunkHash\"],[\"Niobio Cash\",\"CryptoNight\"],[\"ShareChain\",\"Scrypt\"],[\"Travelflex\",\"Dagger\"],[\"KREDS\",\"Lyra2REv2\"],[\"BitFlip\",\"Scrypt\"],[\"LottoCoin\",\"Scrypt\"],[\"Crypto Improvement Fund\",\"X11\"],[\"Callisto Network\",\"Ethash\"],[\"BitTube\",\"CryptoNight\"],[\"Poseidon\",\"Scrypt\"],[\"Aidos Kuneen\",\"IMesh\"],[\"Bitrolium\",\"Equihash\"],[\"Alpenschillling\",\"Lyra2Z\"],[\"FuturoCoin\",\"X11\"],[\"Monero Classic\",\"CryptoNight\"],[\"Jumpcoin\",\"NIST5\"],[\"Infinex\",\"Lyra2RE\"],[\"KEYCO\",\"Tribus\"],[\"GINcoin\",\"Lyra2Z\"],[\"PlatinCoin\",\"CryptoNight\"],[\"Loki\",\"CryptoNight Heavy\"],[\"Newton Coin\",\"CryptoNight\"],[\"MassGrid\",\"Jump Consistent Hash\"],[\"PluraCoin\",\"CryptoNight\"],[\"Motion\",\"X16R\"],[\"PlusOneCoin\",\"HMQ1725\"],[\"Axe\",\"X11\"],[\"HexCoin\",\"Scrypt\"],[\"Webchain\",\"CryptoNight-V7\"],[\"Ryo\",\"Cryptonight-GPU\"],[\"Urals Coin\",\"XEVAN\"],[\"Qwertycoin\",\"CryptoNight Heavy\"],[\"Project Pai\",\"SHA-256\"],[\"Azart\",\"X11\"],[\"Xchange\",\"X16R\"],[\"CrypticCoin\",\"Equihash\"],[\"Actinium\",\"Lyra2Z\"],[\"Bitcoin SV\",\"SHA-256\"],[\"FREDEnergy\",\"CryptoNight\"],[\"Universal Molecule\",\"Blake\"],[\"Lithium\",\"Blake\"],[\"Exosis\",\"Exosis\"],[\"Block-Logic\",\"Scrypt\"],[\"Beam\",\"Equihash\"],[\"Bithereum\",\"Equihash\"],[\"SLICE\",\"QuBit\"],[\"BLAST\",\"SHA-256\"],[\"Bitcoin Rhodium\",\"X13\"],[\"GlobalToken\",\"SHA-256\"],[\"SolarCoin\",\"Scrypt\"],[\"UFO Coin\",\"NeoScrypt\"],[\"BlakeCoin\",\"Blake\"],[\"Crypto Escudo\",\"Scrypt\"],[\"Crown Coin\",\"SHA-256\"],[\"SmileyCoin\",\"Scrypt\"],[\"Groestlcoin\",\"Groestl\"],[\"Bata\",\"Scrypt\"],[\"Pakcoin\",\"Scrypt\"],[\"JoinCoin\",\"Multiple\"],[\"Vollar\",\"Equihash+Scrypt\"],[\"Reality Clash\",\"Ethash\"],[\"Beldex\",\"CryptoNight\"],[\"Horizen\",\"Equihash\"]],\"hovertemplate\":\"<b>%{hovertext}</b><br><br>Class=%{marker.color}<br>PC 1=%{x}<br>PC 2=%{y}<br>PC 3=%{z}<br>CoinName=%{customdata[0]}<br>Algorithm=%{customdata[1]}<extra></extra>\",\"hovertext\":[\"Bitcoin\",\"Ethereum\",\"Litecoin\",\"Monero\",\"Ethereum Classic\",\"ZCash\",\"DigiByte\",\"ProsperCoin\",\"Spreadcoin\",\"Argentum\",\"MyriadCoin\",\"MoonCoin\",\"ZetaCoin\",\"SexCoin\",\"Quatloo\",\"QuarkCoin\",\"Riecoin\",\"Digitalcoin \",\"Catcoin\",\"CannaCoin\",\"CryptCoin\",\"Verge\",\"DevCoin\",\"EarthCoin\",\"E-Gulden\",\"Einsteinium\",\"Emerald\",\"Franko\",\"FeatherCoin\",\"GrandCoin\",\"GlobalCoin\",\"GoldCoin\",\"Infinite Coin\",\"IXcoin\",\"KrugerCoin\",\"LuckyCoin\",\"Litebar \",\"MegaCoin\",\"MediterraneanCoin\",\"MinCoin\",\"NobleCoin\",\"Namecoin\",\"NyanCoin\",\"RonPaulCoin\",\"StableCoin\",\"SmartCoin\",\"SysCoin\",\"TigerCoin\",\"TerraCoin\",\"UnbreakableCoin\",\"Unobtanium\",\"UroCoin\",\"ViaCoin\",\"Vertcoin\",\"WorldCoin\",\"JouleCoin\",\"ByteCoin\",\"DigitalNote \",\"MonaCoin\",\"Gulden\",\"PesetaCoin\",\"Wild Beast Coin\",\"Flo\",\"ArtByte\",\"Folding Coin\",\"Unitus\",\"CypherPunkCoin\",\"OmniCron\",\"GreenCoin\",\"Cryptonite\",\"MasterCoin\",\"SoonCoin\",\"1Credit\",\"MarsCoin \",\"Crypto\",\"Anarchists Prime\",\"BowsCoin\",\"Song Coin\",\"BitZeny\",\"Expanse\",\"Siacoin\",\"MindCoin\",\"I0coin\",\"Revolution VR\",\"HOdlcoin\",\"Gamecredits\",\"CarpeDiemCoin\",\"Adzcoin\",\"SoilCoin\",\"YoCoin\",\"SibCoin\",\"Francs\",\"BolivarCoin\",\"Omni\",\"PizzaCoin\",\"Komodo\",\"Karbo\",\"ZayedCoin\",\"Circuits of Value\",\"DopeCoin\",\"DollarCoin\",\"Shilling\",\"ZCoin\",\"Elementrem\",\"ZClassic\",\"KiloCoin\",\"ArtexCoin\",\"Kurrent\",\"Cannabis Industry Coin\",\"OsmiumCoin\",\"Bikercoins\",\"HexxCoin\",\"PacCoin\",\"Citadel\",\"BeaverCoin\",\"VaultCoin\",\"Zero\",\"Canada eCoin\",\"Zoin\",\"DubaiCoin\",\"EB3coin\",\"Coinonat\",\"BenjiRolls\",\"ILCoin\",\"EquiTrader\",\"Quantum Resistant Ledger\",\"Dynamic\",\"Nano\",\"ChanCoin\",\"Dinastycoin\",\"DigitalPrice\",\"Unify\",\"SocialCoin\",\"ArcticCoin\",\"DAS\",\"LeviarCoin\",\"Bitcore\",\"gCn Coin\",\"SmartCash\",\"Onix\",\"Bitcoin Cash\",\"Sojourn Coin\",\"NewYorkCoin\",\"FrazCoin\",\"Kronecoin\",\"AdCoin\",\"Linx\",\"Sumokoin\",\"BitcoinZ\",\"Elements\",\"VIVO Coin\",\"Bitcoin Gold\",\"Pirl\",\"eBoost\",\"Pura\",\"Innova\",\"Ellaism\",\"GoByte\",\"SHIELD\",\"UltraNote\",\"BitCoal\",\"DaxxCoin\",\"AC3\",\"Lethean\",\"PopularCoin\",\"Photon\",\"Sucre\",\"SparksPay\",\"GunCoin\",\"IrishCoin\",\"Pioneer Coin\",\"UnitedBitcoin\",\"Interzone\",\"TurtleCoin\",\"MUNcoin\",\"Niobio Cash\",\"ShareChain\",\"Travelflex\",\"KREDS\",\"BitFlip\",\"LottoCoin\",\"Crypto Improvement Fund\",\"Callisto Network\",\"BitTube\",\"Poseidon\",\"Aidos Kuneen\",\"Bitrolium\",\"Alpenschillling\",\"FuturoCoin\",\"Monero Classic\",\"Jumpcoin\",\"Infinex\",\"KEYCO\",\"GINcoin\",\"PlatinCoin\",\"Loki\",\"Newton Coin\",\"MassGrid\",\"PluraCoin\",\"Motion\",\"PlusOneCoin\",\"Axe\",\"HexCoin\",\"Webchain\",\"Ryo\",\"Urals Coin\",\"Qwertycoin\",\"Project Pai\",\"Azart\",\"Xchange\",\"CrypticCoin\",\"Actinium\",\"Bitcoin SV\",\"FREDEnergy\",\"Universal Molecule\",\"Lithium\",\"Exosis\",\"Block-Logic\",\"Beam\",\"Bithereum\",\"SLICE\",\"BLAST\",\"Bitcoin Rhodium\",\"GlobalToken\",\"SolarCoin\",\"UFO Coin\",\"BlakeCoin\",\"Crypto Escudo\",\"Crown Coin\",\"SmileyCoin\",\"Groestlcoin\",\"Bata\",\"Pakcoin\",\"JoinCoin\",\"Vollar\",\"Reality Clash\",\"Beldex\",\"Horizen\"],\"legendgroup\":\"2\",\"marker\":{\"color\":[2,2,2,2,2,2,2,2,2,2,2,2,2,2,2,2,2,2,2,2,2,2,2,2,2,2,2,2,2,2,2,2,2,2,2,2,2,2,2,2,2,2,2,2,2,2,2,2,2,2,2,2,2,2,2,2,2,2,2,2,2,2,2,2,2,2,2,2,2,2,2,2,2,2,2,2,2,2,2,2,2,2,2,2,2,2,2,2,2,2,2,2,2,2,2,2,2,2,2,2,2,2,2,2,2,2,2,2,2,2,2,2,2,2,2,2,2,2,2,2,2,2,2,2,2,2,2,2,2,2,2,2,2,2,2,2,2,2,2,2,2,2,2,2,2,2,2,2,2,2,2,2,2,2,2,2,2,2,2,2,2,2,2,2,2,2,2,2,2,2,2,2,2,2,2,2,2,2,2,2,2,2,2,2,2,2,2,2,2,2,2,2,2,2,2,2,2,2,2,2,2,2,2,2,2,2,2,2,2,2,2,2,2,2,2,2,2,2,2,2,2,2,2,2,2,2,2,2,2,2,2,2,2,2,2,2,2,2],\"coloraxis\":\"coloraxis\",\"symbol\":\"diamond\"},\"mode\":\"markers\",\"name\":\"2\",\"scene\":\"scene\",\"showlegend\":true,\"type\":\"scatter3d\",\"x\":[-0.1443902258392887,-0.1614133959941182,-0.16636811475310093,-0.1509303440493447,-0.15985216704829286,-0.13929471479819375,0.17164283897922097,-0.1675163599839574,-0.23008420750761227,-0.1671321358411223,-0.08222764365098609,2.560107716891816,-0.14147011000643872,-0.16438258494646008,-0.16693571564168946,-0.23377787972713854,-0.1870810468745441,-0.16698478028373903,-0.1674985991256768,-0.16758521881611077,-0.23017369373388172,0.19540922267557448,0.23411786555825945,0.08157916438581424,-0.16733109594954432,-0.16292856854155152,-0.1672702510800914,-0.16764231624727344,-0.17780061940590078,-0.14682718857165786,-0.16643534686927508,-0.16671320549634383,1.58430117895472,-0.14435153672413656,-0.1639976704230081,-0.16735758186104352,-0.1677130123651515,-0.16697096743489448,-0.15720442211372168,-0.16759406217066386,-0.03223095585609719,-0.14442926488692717,-0.16124698846545374,-0.1675734257672564,-0.16566390196287065,-0.16705926285668424,-0.13155819678670183,-0.1438921099783845,-0.14417977142851196,-0.14416256940736508,-0.14475450921974317,-0.23034792800144244,-0.16728947703143762,-0.19376969244310338,-0.16438724065210394,-0.14395951527809422,3.8671980611314485,0.4602723786224532,-0.16615500677368902,-0.1507238866382502,-0.16487162299595806,-0.16771521960518243,-0.1647364849149619,-0.15093568182077646,-0.14331198922778274,-0.1162942501198407,-0.19472777197785449,-0.16758810171940916,-0.04029111865751117,-0.15144753591777435,-0.1677241341435731,-0.1444570845250224,0.4858108827952928,-0.22973404521341703,-0.13707692494803445,-0.1441964135724741,-0.2300194268161061,-0.16584418398342093,-0.16503503266471725,-0.16248240117270082,0.3532856392412161,-0.23005489841956395,-0.14435266077726314,-0.16367498002939598,-0.16215393679096532,-0.16628495539134253,0.2748571398571669,-0.2292140599498219,-0.17193991395106153,-0.16653239973450365,-0.15763332607450195,-0.16751364520634873,-0.2300180480701417,-0.16772419273993577,-0.23016824662997354,-0.2091000779370752,0.3048996072012752,-0.14461318788600586,-0.09633142415518792,-0.16488576379801853,-0.14457175099000177,-0.16738695814672452,-0.162792064009381,-0.1622241276726102,-0.13931636466030975,-0.0942968138494529,-0.21672920123821576,-0.22799224527108564,0.30489400888189916,-0.16770589404283984,0.30502494006754266,-0.13761842476417516,0.48658325941419167,-0.14969239466346584,-0.1676741303308655,-0.2228871731563256,-0.13932877508362593,-0.16580415660904743,-0.13733633114746102,-0.12632223222707756,-0.13853686066985527,-0.19185460057251702,-0.16723570813156283,-0.11087673760464203,-0.16705734957975937,-0.14955025094500013,-0.17725923196345,-0.04762356878897953,-0.15323371223170776,0.34107916487544776,-0.22922239898123922,-0.16737731714256407,-0.16714010447520503,-0.22961784617034114,-0.23019634740306186,0.30528973466758497,-0.17502150250399132,3.2479906812363253,-0.09887301721621378,-0.22105007724350653,-0.14438938878789334,-0.09314069775983472,1.5819467037232608,-0.1674753101671207,-0.16692585206391156,-0.166626306176015,-0.16661321726328712,0.30547376973152,0.07340795031244038,-0.18450656391204057,-0.18249777156263186,-0.1391745758634822,-0.17069659584473768,-0.1658023630454007,-0.22573262202101715,-0.18234287326052898,-0.16058578300234183,-0.1824432858975439,-0.10650846733638049,1.1444650345576424,0.3048767167247972,-0.08532021273479395,-0.22547296475577414,-0.13864203787048848,-0.08371541688582294,1.113473668350781,-0.23017030276125736,-0.18249535168215433,-0.17552064358111022,-0.16672498952082732,-0.23009558354581702,-0.14436875841050895,-0.20254323929123458,8.05865731280088,-0.16044452187019467,0.3087583858923989,0.025651220894848534,-0.17019929337109638,-0.17930155553442123,-0.16729968596058747,0.14031983031018827,-0.22422559840814865,-0.11352693797255017,0.31281602072774667,-0.16753713616619878,-0.15845033407101763,-0.13816392968545826,-0.16057104388763177,-0.22926323337437385,0.30505953743474046,-0.1919142664297522,-0.13746336004812587,-0.1539599101583302,-0.16287661429839298,0.30899615341647785,0.5763970162704232,2.1170620565142015,-0.16029276298214348,0.31868925911574303,-0.1885158009577438,-0.15603326981253268,-0.2301524308495012,-0.16756175074591317,-0.1385185963003874,-0.1422262713084369,-0.12559354990501517,3.1035573818038262,-0.10414740296892834,-0.23012373623219332,-0.18794232826058294,-0.03372917234070761,-0.16227314432699877,-0.14438942641043667,0.38497460987042087,-0.16094632709856577,-0.16133928103279524,-0.15854933763392878,-0.1664519552863233,-0.13723072127202568,-0.1390070993057009,-0.19393712837035137,-0.1436642889653579,-0.11857801520169606,-0.14253007259648337,0.5298225765891376,-0.10753058383777035,-0.11170029506276678,-0.1510864968336465,-0.14417914092257622,0.5494112106654279,-0.18664129195857707,-0.16763877737575525,-0.16559064228111778,-0.11703024089928814,-0.11844474467500239,-0.16225734378339687,0.3266727051710657,-0.13929577335280904],\"y\":[-1.310379593315412,-2.0196524187147578,-1.178341605356947,-2.2180548320024216,-2.019753239738578,-2.0500437809380236,-1.8141812941336968,-1.1783325909373192,-0.8702334118827528,-1.1783512195976367,-1.8085762944127368,-1.3666482402339115,-1.3103943835499416,-1.1783978359959935,-1.1783707273037753,-0.452168692857598,-1.1961380883261108,-1.178335339743185,-1.1783320362828795,-1.1783291428900877,-0.8702347819111651,-1.8102730528951965,-1.3135018632501008,-1.180154265451716,-1.1783268053205678,-1.1783878941417367,-1.1783327401638348,-1.1783295696924538,-1.5638491862244739,-1.1786833880150158,-1.1783337331712962,-1.178344009972376,-1.1881417243647265,-1.3103783850917385,-1.1783967992602649,-1.1783269201800115,-1.1783247360961029,-1.1783305165245914,-2.186827714625184,-1.178327182531779,-1.184776850482355,-1.3103808124671448,-1.1783618818361317,-1.178334373046582,-1.1784378502881212,-1.1783398267890646,-1.3105963995186105,-1.3103825651822973,-1.310387978697054,-1.3104145077536524,-1.310376189931329,-0.8702274022193864,-1.1783269301419292,-1.2130681909718117,-1.17840896516203,-1.3103832371202655,-2.305522520410973,-2.287649597089236,-1.178349993342601,-1.178989834113829,-1.1783535524398743,-1.1783257153071054,-1.1783447836521377,-1.1785121046889036,-2.2152909757347414,-1.8082156216576646,-1.5419068205792628,-1.17832227499501,-1.1814672116962903,-2.1857149031804317,-1.1783245630896069,-1.3103816812475568,-1.2234436926736982,-0.8702317361624,-2.1973249476134002,-1.3103968747100458,-0.8702321011143388,-1.178415160467142,-1.1784182113076942,-2.0196978446323595,-2.1403334453440417,-0.8702296475083534,-1.3103784201948316,-1.178347247379233,-2.1826385476709227,-1.1783390083704486,-1.312675695525806,-0.8702518232939287,-2.241821948110021,-1.1784068167165895,-2.181031373286989,-1.1783317938874622,-0.8702349071373395,-1.1783245627613366,-0.8702395976932076,-1.4712040949450966,-2.2853861615229536,-1.310378533195647,-1.8084469258667282,-1.1783779362864355,-1.3103778818412053,-1.178334960272785,-2.2010330213894655,-2.0196964025002035,-2.0500444570422953,-1.1831537573647675,-0.870158237532109,-0.8703162340788696,-2.285394171322796,-1.1783254855377332,-2.2853929315483077,-2.197302121227701,-0.9190653317119264,-2.218147941985073,-1.1783249535104008,-0.8707066800319857,-2.0500419955279177,-1.178335389808751,-2.1973011466871224,-2.1204440632984105,-1.1802617114153648,-0.5798543149281865,-1.1783341688961593,-1.3110987167369783,-1.1783545822547792,-2.2180865213760237,-2.0605751403735386,-2.1530958253762207,-2.222737789891351,-2.285673726154128,-0.8702634800334393,-1.1783270213801342,-1.1783593034201156,-0.870247338667939,-0.8702361304063392,-2.2854053180981597,-2.1153332300837167,-1.2141086444293328,-1.1849011149152895,-0.8707205362996572,-1.3103795671751088,-1.1834737879646686,-1.1236835925102722,-1.178330596721235,-1.1783590229541554,-1.1783610647451832,-1.178360655991088,-2.2854244211683934,-2.0583439940974078,-0.8700779066781372,-1.5637757823242564,-2.050040029115199,-2.2418730849806288,-1.1783353337974922,-0.8703325651656146,-1.5637837658595497,-2.0198260087541735,-1.5637774996854774,-1.8083801193028153,-2.3197031698765125,-2.285388657045352,-2.024398801901446,-0.8704669103153928,-2.2183829807517395,-1.179261960682167,-1.2388893013790339,-0.8702359581003245,-1.563771433133871,-1.5638947970589787,-1.17833850481153,-0.8702359039553601,-1.310378328875201,-1.179472784325483,-2.7555066552547474,-2.1635690165695936,-2.2854978556058736,-1.1794078961602894,-2.2418174491098166,-1.213340031334283,-1.1783393575465153,-1.181814945636928,-0.8703923427710324,-2.022786725754405,-2.285844086855532,-1.178333239757412,-2.1893954771306663,-2.0500433688406026,-2.2011620994928687,-0.8702647552520736,-2.285387150124123,-0.5798367674538553,-2.197308874462401,-2.1162911087629284,-2.20102789807054,-2.285678469998544,-2.233112091388446,-2.3598446324616185,-2.256226708251683,-2.28566067129671,-1.2430592332602854,-2.174867138823941,-0.8702362547017638,-1.1783347956925996,-2.2189136975735115,-2.1394570847562706,-0.6380666607716086,-2.285476917486392,-1.3106036581292255,-0.8702382076765006,-1.2430968274014744,-2.0521453652174384,-2.201061404129789,-1.3103795683500246,-2.2886335152836,-2.2003888392139803,-2.200344206681441,-2.266828913286496,-1.1783698653349182,-2.0501515512951305,-2.0500418404851364,-1.5419533565411134,-1.3103875506173794,-0.33384134080413236,-1.310426206213834,-1.2264140968650508,-1.5642644781169548,-2.203761949238252,-1.178516814496004,-1.3103879590069631,-1.191542176900245,-1.1961393128745745,-1.1783250175945397,-1.1783871281006808,-1.8082406002943614,-2.162905809249431,-2.019696216415893,-2.285696422540677,-2.050043813995662],\"z\":[0.16161065597529703,0.2896049641947776,-0.039184082739618674,0.3772186121932917,0.2895972907161036,0.3485808600907823,0.28745916660750453,-0.039169527186815975,0.06313660016443874,-0.0391722617071201,0.29018313533870327,-0.05091063222272101,0.16157252664224406,-0.039203691307417764,-0.0391722935698305,0.032291434297273186,0.1380111821919828,-0.039176460560171655,-0.03916984729322547,-0.03916905210153435,0.06313801808455051,0.286597650881727,0.15683318241881852,-0.042345464651092894,-0.03917286622617559,-0.03922504490820937,-0.039172890877706146,-0.039168208592065545,0.20713805745010178,-0.03940601725371774,-0.0391842353236697,-0.039179008592819024,-0.06191573871687188,0.16160995867600841,-0.03920912589864144,-0.03917248631819412,-0.039167897811180435,-0.03917731039559722,0.3421811222346361,-0.039169198713521106,-0.04014807217969156,0.16161135958145506,-0.03925172633663441,-0.03916849868229748,-0.039180597953312066,-0.039174822483283925,0.1614638727898539,0.1616042132634623,0.16160890940297973,0.16161230251686845,0.16161519939125235,0.06313940421001535,-0.039173421427160494,0.13855604717636405,-0.03920210462042966,0.16160523204967867,0.31722213861595455,0.3616235583490767,-0.03918586544341349,-0.039310508601790146,-0.03920302559747412,-0.039167733487063164,-0.03920608353364736,-0.03937295825217187,0.3962022909464807,0.29060221996476715,0.24384456293489454,-0.0391699521111944,-0.040490059103975164,0.37985601777648287,-0.03916776855212445,0.16161186097864677,-0.04198106414022743,0.06313155600742085,0.2991245230771907,0.16161035537359333,0.06313553006433181,-0.03918122336801469,-0.03919193215179875,0.2896258785730922,0.3138874654357248,0.06313568211760012,0.16160997893497356,-0.03922034261971378,0.3434930140476772,-0.039185581532317916,0.1561599646159566,0.06312715425579651,0.3080458968642938,-0.03917290166724133,0.3779038714303926,-0.0391696735669,0.06313589502008633,-0.03916776779131148,0.06313860206953932,0.4493746155318436,0.3634503251368305,0.161613576760032,0.29035936871190554,-0.03919949500881512,0.16161291786720144,-0.039170982352617026,0.33167749846555183,0.2896221298872249,0.3485812502892472,-0.03951670697735184,0.06294267764627966,0.06311916630359435,0.3634514980000977,-0.03916789315428494,0.3634495280142833,0.2991288458845969,0.059963181195381375,0.3772143289451381,-0.03916840271041653,0.0631023892628257,0.34858108415894196,-0.03919268781504671,0.2991248336363391,0.40484434749043086,-0.03930407011047471,-0.019356191527189873,-0.039173170382598585,0.16124821943461626,-0.039172829980101694,0.3772039709675249,0.44616447206418314,0.32114626858489465,0.35284942864769625,0.3629921839857458,0.06312886377165162,-0.039172201103240226,-0.03917104612334282,0.06313209292028658,0.0631385140809126,0.3634475816713808,0.34113415473429703,-0.08123947606059506,0.11762985729655512,0.06307902415577274,0.16161064088899765,-0.03948881818229391,-0.07070238883876506,-0.039170364484623146,-0.03917403056279569,-0.03917787009949717,-0.03917810600278462,0.36344766474840673,0.34679172070366926,0.06248861124182582,0.2071926024314381,0.34857869481011805,0.308035797121451,-0.0391927201406928,0.06309032985576611,0.20719156480075762,0.28961733436705406,0.2071920881948486,0.2904901672847757,0.3566011046473359,0.363450981323237,0.28920803892090724,0.06310514027110624,0.37709453909265817,-0.04019467331605944,0.12580683996279024,0.06313813238086896,0.20719197410997098,0.20711294713838263,-0.03917959976165863,0.0631370975501645,0.16161018779048772,0.029941304041542032,0.3211535722860631,0.36324154412189336,0.3634125469482241,-0.04167854702565987,0.30802134700740025,0.1383942964317467,-0.03917158075860861,-0.04292596438891031,0.06307778625105616,0.2893753331891471,0.3634041232773877,-0.03916915273480519,0.3500157014660841,0.3485652549063128,0.3316646186362965,0.06312959973557644,0.3634482612827521,-0.019357771903216532,0.2991276376385258,0.3583509063505028,0.33167796010827033,0.3634339888172275,0.40583271934437004,0.348719529604709,0.36310778122898324,0.3632982690882173,0.15920164786344299,0.2995086577536515,0.06313792721445259,-0.039168601393540455,0.3771654532683346,0.3414230452818413,0.379490446111617,0.3782475762287906,0.1610879551957546,0.06313779985247342,0.15919890590764957,0.3474168208766974,0.33167424635378917,0.16161064156707391,0.362793554026993,0.393360752020625,0.39336004878469877,0.3314785143591214,-0.03917906342431688,0.348567224166841,0.34857663976017955,0.24384005818272014,0.16160176271909177,-0.04315245239347997,0.16159145551252346,-0.04217984024176706,0.20622863232059604,0.3931450987819381,-0.03937024009230026,0.16160889803928377,-0.047220295044091254,0.13800530290489835,-0.03916888006153987,-0.03918854500913587,0.2906157576921112,0.31883163801493664,0.2896225611639759,0.3631933845359405,0.34858087916925923]},{\"customdata\":[[\"LitecoinCash\",\"SHA-256 + Hive\"],[\"Poa Network\",\"Proof-of-Authority\"],[\"Waves\",\"Leased POS\"]],\"hovertemplate\":\"<b>%{hovertext}</b><br><br>Class=%{marker.color}<br>PC 1=%{x}<br>PC 2=%{y}<br>PC 3=%{z}<br>CoinName=%{customdata[0]}<br>Algorithm=%{customdata[1]}<extra></extra>\",\"hovertext\":[\"LitecoinCash\",\"Poa Network\",\"Waves\"],\"legendgroup\":\"3\",\"marker\":{\"color\":[3,3,3],\"coloraxis\":\"coloraxis\",\"symbol\":\"square\"},\"mode\":\"markers\",\"name\":\"3\",\"scene\":\"scene\",\"showlegend\":true,\"type\":\"scatter3d\",\"x\":[-0.3683008874208891,-0.40526620044014044,-0.4186638654557764],\"y\":[3.0219301717997578,2.9820304283915045,3.0573721572692403],\"z\":[16.08033565154923,19.193223373727268,18.34810047263936]},{\"customdata\":[[\"BitTorrent\",\"TRC10\"]],\"hovertemplate\":\"<b>%{hovertext}</b><br><br>Class=%{marker.color}<br>PC 1=%{x}<br>PC 2=%{y}<br>PC 3=%{z}<br>CoinName=%{customdata[0]}<br>Algorithm=%{customdata[1]}<extra></extra>\",\"hovertext\":[\"BitTorrent\"],\"legendgroup\":\"1\",\"marker\":{\"color\":[1],\"coloraxis\":\"coloraxis\",\"symbol\":\"x\"},\"mode\":\"markers\",\"name\":\"1\",\"scene\":\"scene\",\"showlegend\":true,\"type\":\"scatter3d\",\"x\":[34.09328411700505],\"y\":[1.7248685902586833],\"z\":[-0.40463521222764026]}],                        {\"coloraxis\":{\"colorbar\":{\"title\":{\"text\":\"Class\"}},\"colorscale\":[[0.0,\"#0d0887\"],[0.1111111111111111,\"#46039f\"],[0.2222222222222222,\"#7201a8\"],[0.3333333333333333,\"#9c179e\"],[0.4444444444444444,\"#bd3786\"],[0.5555555555555556,\"#d8576b\"],[0.6666666666666666,\"#ed7953\"],[0.7777777777777778,\"#fb9f3a\"],[0.8888888888888888,\"#fdca26\"],[1.0,\"#f0f921\"]]},\"legend\":{\"title\":{\"text\":\"Class\"},\"tracegroupgap\":0,\"x\":0,\"y\":1},\"margin\":{\"t\":60},\"scene\":{\"domain\":{\"x\":[0.0,1.0],\"y\":[0.0,1.0]},\"xaxis\":{\"title\":{\"text\":\"PC 1\"}},\"yaxis\":{\"title\":{\"text\":\"PC 2\"}},\"zaxis\":{\"title\":{\"text\":\"PC 3\"}}},\"template\":{\"data\":{\"bar\":[{\"error_x\":{\"color\":\"#2a3f5f\"},\"error_y\":{\"color\":\"#2a3f5f\"},\"marker\":{\"line\":{\"color\":\"#E5ECF6\",\"width\":0.5},\"pattern\":{\"fillmode\":\"overlay\",\"size\":10,\"solidity\":0.2}},\"type\":\"bar\"}],\"barpolar\":[{\"marker\":{\"line\":{\"color\":\"#E5ECF6\",\"width\":0.5},\"pattern\":{\"fillmode\":\"overlay\",\"size\":10,\"solidity\":0.2}},\"type\":\"barpolar\"}],\"carpet\":[{\"aaxis\":{\"endlinecolor\":\"#2a3f5f\",\"gridcolor\":\"white\",\"linecolor\":\"white\",\"minorgridcolor\":\"white\",\"startlinecolor\":\"#2a3f5f\"},\"baxis\":{\"endlinecolor\":\"#2a3f5f\",\"gridcolor\":\"white\",\"linecolor\":\"white\",\"minorgridcolor\":\"white\",\"startlinecolor\":\"#2a3f5f\"},\"type\":\"carpet\"}],\"choropleth\":[{\"colorbar\":{\"outlinewidth\":0,\"ticks\":\"\"},\"type\":\"choropleth\"}],\"contour\":[{\"colorbar\":{\"outlinewidth\":0,\"ticks\":\"\"},\"colorscale\":[[0.0,\"#0d0887\"],[0.1111111111111111,\"#46039f\"],[0.2222222222222222,\"#7201a8\"],[0.3333333333333333,\"#9c179e\"],[0.4444444444444444,\"#bd3786\"],[0.5555555555555556,\"#d8576b\"],[0.6666666666666666,\"#ed7953\"],[0.7777777777777778,\"#fb9f3a\"],[0.8888888888888888,\"#fdca26\"],[1.0,\"#f0f921\"]],\"type\":\"contour\"}],\"contourcarpet\":[{\"colorbar\":{\"outlinewidth\":0,\"ticks\":\"\"},\"type\":\"contourcarpet\"}],\"heatmap\":[{\"colorbar\":{\"outlinewidth\":0,\"ticks\":\"\"},\"colorscale\":[[0.0,\"#0d0887\"],[0.1111111111111111,\"#46039f\"],[0.2222222222222222,\"#7201a8\"],[0.3333333333333333,\"#9c179e\"],[0.4444444444444444,\"#bd3786\"],[0.5555555555555556,\"#d8576b\"],[0.6666666666666666,\"#ed7953\"],[0.7777777777777778,\"#fb9f3a\"],[0.8888888888888888,\"#fdca26\"],[1.0,\"#f0f921\"]],\"type\":\"heatmap\"}],\"heatmapgl\":[{\"colorbar\":{\"outlinewidth\":0,\"ticks\":\"\"},\"colorscale\":[[0.0,\"#0d0887\"],[0.1111111111111111,\"#46039f\"],[0.2222222222222222,\"#7201a8\"],[0.3333333333333333,\"#9c179e\"],[0.4444444444444444,\"#bd3786\"],[0.5555555555555556,\"#d8576b\"],[0.6666666666666666,\"#ed7953\"],[0.7777777777777778,\"#fb9f3a\"],[0.8888888888888888,\"#fdca26\"],[1.0,\"#f0f921\"]],\"type\":\"heatmapgl\"}],\"histogram\":[{\"marker\":{\"pattern\":{\"fillmode\":\"overlay\",\"size\":10,\"solidity\":0.2}},\"type\":\"histogram\"}],\"histogram2d\":[{\"colorbar\":{\"outlinewidth\":0,\"ticks\":\"\"},\"colorscale\":[[0.0,\"#0d0887\"],[0.1111111111111111,\"#46039f\"],[0.2222222222222222,\"#7201a8\"],[0.3333333333333333,\"#9c179e\"],[0.4444444444444444,\"#bd3786\"],[0.5555555555555556,\"#d8576b\"],[0.6666666666666666,\"#ed7953\"],[0.7777777777777778,\"#fb9f3a\"],[0.8888888888888888,\"#fdca26\"],[1.0,\"#f0f921\"]],\"type\":\"histogram2d\"}],\"histogram2dcontour\":[{\"colorbar\":{\"outlinewidth\":0,\"ticks\":\"\"},\"colorscale\":[[0.0,\"#0d0887\"],[0.1111111111111111,\"#46039f\"],[0.2222222222222222,\"#7201a8\"],[0.3333333333333333,\"#9c179e\"],[0.4444444444444444,\"#bd3786\"],[0.5555555555555556,\"#d8576b\"],[0.6666666666666666,\"#ed7953\"],[0.7777777777777778,\"#fb9f3a\"],[0.8888888888888888,\"#fdca26\"],[1.0,\"#f0f921\"]],\"type\":\"histogram2dcontour\"}],\"mesh3d\":[{\"colorbar\":{\"outlinewidth\":0,\"ticks\":\"\"},\"type\":\"mesh3d\"}],\"parcoords\":[{\"line\":{\"colorbar\":{\"outlinewidth\":0,\"ticks\":\"\"}},\"type\":\"parcoords\"}],\"pie\":[{\"automargin\":true,\"type\":\"pie\"}],\"scatter\":[{\"marker\":{\"colorbar\":{\"outlinewidth\":0,\"ticks\":\"\"}},\"type\":\"scatter\"}],\"scatter3d\":[{\"line\":{\"colorbar\":{\"outlinewidth\":0,\"ticks\":\"\"}},\"marker\":{\"colorbar\":{\"outlinewidth\":0,\"ticks\":\"\"}},\"type\":\"scatter3d\"}],\"scattercarpet\":[{\"marker\":{\"colorbar\":{\"outlinewidth\":0,\"ticks\":\"\"}},\"type\":\"scattercarpet\"}],\"scattergeo\":[{\"marker\":{\"colorbar\":{\"outlinewidth\":0,\"ticks\":\"\"}},\"type\":\"scattergeo\"}],\"scattergl\":[{\"marker\":{\"colorbar\":{\"outlinewidth\":0,\"ticks\":\"\"}},\"type\":\"scattergl\"}],\"scattermapbox\":[{\"marker\":{\"colorbar\":{\"outlinewidth\":0,\"ticks\":\"\"}},\"type\":\"scattermapbox\"}],\"scatterpolar\":[{\"marker\":{\"colorbar\":{\"outlinewidth\":0,\"ticks\":\"\"}},\"type\":\"scatterpolar\"}],\"scatterpolargl\":[{\"marker\":{\"colorbar\":{\"outlinewidth\":0,\"ticks\":\"\"}},\"type\":\"scatterpolargl\"}],\"scatterternary\":[{\"marker\":{\"colorbar\":{\"outlinewidth\":0,\"ticks\":\"\"}},\"type\":\"scatterternary\"}],\"surface\":[{\"colorbar\":{\"outlinewidth\":0,\"ticks\":\"\"},\"colorscale\":[[0.0,\"#0d0887\"],[0.1111111111111111,\"#46039f\"],[0.2222222222222222,\"#7201a8\"],[0.3333333333333333,\"#9c179e\"],[0.4444444444444444,\"#bd3786\"],[0.5555555555555556,\"#d8576b\"],[0.6666666666666666,\"#ed7953\"],[0.7777777777777778,\"#fb9f3a\"],[0.8888888888888888,\"#fdca26\"],[1.0,\"#f0f921\"]],\"type\":\"surface\"}],\"table\":[{\"cells\":{\"fill\":{\"color\":\"#EBF0F8\"},\"line\":{\"color\":\"white\"}},\"header\":{\"fill\":{\"color\":\"#C8D4E3\"},\"line\":{\"color\":\"white\"}},\"type\":\"table\"}]},\"layout\":{\"annotationdefaults\":{\"arrowcolor\":\"#2a3f5f\",\"arrowhead\":0,\"arrowwidth\":1},\"autotypenumbers\":\"strict\",\"coloraxis\":{\"colorbar\":{\"outlinewidth\":0,\"ticks\":\"\"}},\"colorscale\":{\"diverging\":[[0,\"#8e0152\"],[0.1,\"#c51b7d\"],[0.2,\"#de77ae\"],[0.3,\"#f1b6da\"],[0.4,\"#fde0ef\"],[0.5,\"#f7f7f7\"],[0.6,\"#e6f5d0\"],[0.7,\"#b8e186\"],[0.8,\"#7fbc41\"],[0.9,\"#4d9221\"],[1,\"#276419\"]],\"sequential\":[[0.0,\"#0d0887\"],[0.1111111111111111,\"#46039f\"],[0.2222222222222222,\"#7201a8\"],[0.3333333333333333,\"#9c179e\"],[0.4444444444444444,\"#bd3786\"],[0.5555555555555556,\"#d8576b\"],[0.6666666666666666,\"#ed7953\"],[0.7777777777777778,\"#fb9f3a\"],[0.8888888888888888,\"#fdca26\"],[1.0,\"#f0f921\"]],\"sequentialminus\":[[0.0,\"#0d0887\"],[0.1111111111111111,\"#46039f\"],[0.2222222222222222,\"#7201a8\"],[0.3333333333333333,\"#9c179e\"],[0.4444444444444444,\"#bd3786\"],[0.5555555555555556,\"#d8576b\"],[0.6666666666666666,\"#ed7953\"],[0.7777777777777778,\"#fb9f3a\"],[0.8888888888888888,\"#fdca26\"],[1.0,\"#f0f921\"]]},\"colorway\":[\"#636efa\",\"#EF553B\",\"#00cc96\",\"#ab63fa\",\"#FFA15A\",\"#19d3f3\",\"#FF6692\",\"#B6E880\",\"#FF97FF\",\"#FECB52\"],\"font\":{\"color\":\"#2a3f5f\"},\"geo\":{\"bgcolor\":\"white\",\"lakecolor\":\"white\",\"landcolor\":\"#E5ECF6\",\"showlakes\":true,\"showland\":true,\"subunitcolor\":\"white\"},\"hoverlabel\":{\"align\":\"left\"},\"hovermode\":\"closest\",\"mapbox\":{\"style\":\"light\"},\"paper_bgcolor\":\"white\",\"plot_bgcolor\":\"#E5ECF6\",\"polar\":{\"angularaxis\":{\"gridcolor\":\"white\",\"linecolor\":\"white\",\"ticks\":\"\"},\"bgcolor\":\"#E5ECF6\",\"radialaxis\":{\"gridcolor\":\"white\",\"linecolor\":\"white\",\"ticks\":\"\"}},\"scene\":{\"xaxis\":{\"backgroundcolor\":\"#E5ECF6\",\"gridcolor\":\"white\",\"gridwidth\":2,\"linecolor\":\"white\",\"showbackground\":true,\"ticks\":\"\",\"zerolinecolor\":\"white\"},\"yaxis\":{\"backgroundcolor\":\"#E5ECF6\",\"gridcolor\":\"white\",\"gridwidth\":2,\"linecolor\":\"white\",\"showbackground\":true,\"ticks\":\"\",\"zerolinecolor\":\"white\"},\"zaxis\":{\"backgroundcolor\":\"#E5ECF6\",\"gridcolor\":\"white\",\"gridwidth\":2,\"linecolor\":\"white\",\"showbackground\":true,\"ticks\":\"\",\"zerolinecolor\":\"white\"}},\"shapedefaults\":{\"line\":{\"color\":\"#2a3f5f\"}},\"ternary\":{\"aaxis\":{\"gridcolor\":\"white\",\"linecolor\":\"white\",\"ticks\":\"\"},\"baxis\":{\"gridcolor\":\"white\",\"linecolor\":\"white\",\"ticks\":\"\"},\"bgcolor\":\"#E5ECF6\",\"caxis\":{\"gridcolor\":\"white\",\"linecolor\":\"white\",\"ticks\":\"\"}},\"title\":{\"x\":0.05},\"xaxis\":{\"automargin\":true,\"gridcolor\":\"white\",\"linecolor\":\"white\",\"ticks\":\"\",\"title\":{\"standoff\":15},\"zerolinecolor\":\"white\",\"zerolinewidth\":2},\"yaxis\":{\"automargin\":true,\"gridcolor\":\"white\",\"linecolor\":\"white\",\"ticks\":\"\",\"title\":{\"standoff\":15},\"zerolinecolor\":\"white\",\"zerolinewidth\":2}}},\"width\":1000},                        {\"responsive\": true}                    ).then(function(){\n",
       "                            \n",
       "var gd = document.getElementById('08753c57-2800-4817-8635-5ea0eda18109');\n",
       "var x = new MutationObserver(function (mutations, observer) {{\n",
       "        var display = window.getComputedStyle(gd).display;\n",
       "        if (!display || display === 'none') {{\n",
       "            console.log([gd, 'removed!']);\n",
       "            Plotly.purge(gd);\n",
       "            observer.disconnect();\n",
       "        }}\n",
       "}});\n",
       "\n",
       "// Listen for the removal of the full notebook cells\n",
       "var notebookContainer = gd.closest('#notebook-container');\n",
       "if (notebookContainer) {{\n",
       "    x.observe(notebookContainer, {childList: true});\n",
       "}}\n",
       "\n",
       "// Listen for the clearing of the current output cell\n",
       "var outputEl = gd.closest('.output');\n",
       "if (outputEl) {{\n",
       "    x.observe(outputEl, {childList: true});\n",
       "}}\n",
       "\n",
       "                        })                };                });            </script>        </div>"
      ]
     },
     "metadata": {},
     "output_type": "display_data"
    }
   ],
   "source": [
    "# Creating a 3D-Scatter with the PCA data and the clusters\n",
    "fig = px.scatter_3d(\n",
    "    clustered_df,\n",
    "    x=\"PC 1\",\n",
    "    y=\"PC 2\",\n",
    "    z=\"PC 3\",\n",
    "    color=\"Class\",\n",
    "    symbol=\"Class\",\n",
    "    hover_name=(\"CoinName\"),\n",
    "    hover_data=(\"CoinName\", \"Algorithm\"),\n",
    "    width=1000,\n",
    ")\n",
    "\n",
    "fig.update_layout(legend=dict(x=0, y=1))\n",
    "fig.show()"
   ]
  },
  {
   "cell_type": "code",
   "execution_count": 79,
   "metadata": {},
   "outputs": [
    {
     "data": {},
     "metadata": {},
     "output_type": "display_data"
    },
    {
     "data": {
      "application/vnd.holoviews_exec.v0+json": "",
      "text/html": [
       "<div id='1344'>\n",
       "\n",
       "\n",
       "\n",
       "\n",
       "\n",
       "  <div class=\"bk-root\" id=\"03542b73-2d15-4da1-a43d-07fed3976d03\" data-root-id=\"1344\"></div>\n",
       "</div>\n",
       "<script type=\"application/javascript\">(function(root) {\n",
       "  function embed_document(root) {\n",
       "    var docs_json = {\"26c3eb3f-48b0-44be-8040-c77ea5fab493\":{\"defs\":[{\"extends\":null,\"module\":null,\"name\":\"ReactiveHTML1\",\"overrides\":[],\"properties\":[]},{\"extends\":null,\"module\":null,\"name\":\"FlexBox1\",\"overrides\":[],\"properties\":[{\"default\":\"flex-start\",\"kind\":null,\"name\":\"align_content\"},{\"default\":\"flex-start\",\"kind\":null,\"name\":\"align_items\"},{\"default\":\"row\",\"kind\":null,\"name\":\"flex_direction\"},{\"default\":\"wrap\",\"kind\":null,\"name\":\"flex_wrap\"},{\"default\":\"flex-start\",\"kind\":null,\"name\":\"justify_content\"}]},{\"extends\":null,\"module\":null,\"name\":\"TemplateActions1\",\"overrides\":[],\"properties\":[{\"default\":0,\"kind\":null,\"name\":\"open_modal\"},{\"default\":0,\"kind\":null,\"name\":\"close_modal\"}]},{\"extends\":null,\"module\":null,\"name\":\"MaterialTemplateActions1\",\"overrides\":[],\"properties\":[{\"default\":0,\"kind\":null,\"name\":\"open_modal\"},{\"default\":0,\"kind\":null,\"name\":\"close_modal\"}]}],\"roots\":{\"references\":[{\"attributes\":{},\"id\":\"1354\",\"type\":\"StringEditor\"},{\"attributes\":{},\"id\":\"1373\",\"type\":\"NumberFormatter\"},{\"attributes\":{\"children\":[{\"id\":\"1345\"},{\"id\":\"1378\"},{\"id\":\"1385\"}],\"margin\":[0,0,0,0],\"name\":\"Row02220\",\"tags\":[\"embedded\"]},\"id\":\"1344\",\"type\":\"Row\"},{\"attributes\":{\"source\":{\"id\":\"1346\"}},\"id\":\"1380\",\"type\":\"CDSView\"},{\"attributes\":{},\"id\":\"1359\",\"type\":\"StringEditor\"},{\"attributes\":{\"margin\":[5,5,5,5],\"name\":\"HSpacer02225\",\"sizing_mode\":\"stretch_width\"},\"id\":\"1385\",\"type\":\"Spacer\"},{\"attributes\":{\"editor\":{\"id\":\"1369\"},\"field\":\"TotalCoinsMined\",\"formatter\":{\"id\":\"1368\"},\"title\":\"TotalCoinsMined\"},\"id\":\"1370\",\"type\":\"TableColumn\"},{\"attributes\":{},\"id\":\"1353\",\"type\":\"StringFormatter\"},{\"attributes\":{},\"id\":\"1348\",\"type\":\"StringFormatter\"},{\"attributes\":{},\"id\":\"1381\",\"type\":\"UnionRenderers\"},{\"attributes\":{},\"id\":\"1358\",\"type\":\"StringFormatter\"},{\"attributes\":{\"editor\":{\"id\":\"1364\"},\"field\":\"TotalCoinSupply\",\"formatter\":{\"id\":\"1363\"},\"title\":\"TotalCoinSupply\"},\"id\":\"1365\",\"type\":\"TableColumn\"},{\"attributes\":{},\"id\":\"1364\",\"type\":\"NumberEditor\"},{\"attributes\":{\"format\":\"0,0.0[00000]\"},\"id\":\"1368\",\"type\":\"NumberFormatter\"},{\"attributes\":{\"editor\":{\"id\":\"1359\"},\"field\":\"ProofType\",\"formatter\":{\"id\":\"1358\"},\"title\":\"ProofType\"},\"id\":\"1360\",\"type\":\"TableColumn\"},{\"attributes\":{\"data\":{\"Algorithm\":[\"Scrypt\",\"Scrypt\",\"X13\",\"SHA-256\",\"Ethash\",\"Scrypt\",\"X11\",\"CryptoNight-V7\",\"Ethash\",\"Equihash\",\"SHA-512\",\"Multiple\",\"SHA-256\",\"SHA-256\",\"Scrypt\",\"X15\",\"X11\",\"Scrypt\",\"Scrypt\",\"Scrypt\",\"Multiple\",\"Scrypt\",\"SHA-256\",\"Scrypt\",\"Scrypt\",\"Scrypt\",\"Quark\",\"Groestl\",\"Scrypt\",\"Scrypt\",\"Scrypt\",\"Scrypt\",\"Scrypt\",\"X11\",\"Scrypt\",\"Groestl\",\"Multiple\",\"SHA-256\",\"Scrypt\",\"Scrypt\",\"Scrypt\",\"Scrypt\",\"PoS\",\"Scrypt\",\"Scrypt\",\"NeoScrypt\",\"Scrypt\",\"Scrypt\",\"Scrypt\",\"Scrypt\",\"X11\",\"Scrypt\",\"X11\",\"SHA-256\",\"Scrypt\",\"Scrypt\",\"Scrypt\",\"SHA3\",\"Scrypt\",\"HybridScryptHash256\",\"Scrypt\",\"Scrypt\",\"SHA-256\",\"Scrypt\",\"X13\",\"Scrypt\",\"SHA-256\",\"Scrypt\",\"X13\",\"NeoScrypt\",\"Scrypt\",\"Scrypt\",\"Scrypt\",\"Scrypt\",\"Scrypt\",\"Scrypt\",\"X11\",\"X11\",\"SHA-256\",\"Multiple\",\"SHA-256\",\"PHI1612\",\"X11\",\"SHA-256\",\"SHA-256\",\"SHA-256\",\"X11\",\"Scrypt\",\"Scrypt\",\"Scrypt\",\"Scrypt\",\"Lyra2REv2\",\"Scrypt\",\"X11\",\"Multiple\",\"SHA-256\",\"X13\",\"Scrypt\",\"CryptoNight\",\"CryptoNight\",\"Shabal256\",\"Counterparty\",\"Scrypt\",\"SHA-256\",\"Groestl\",\"Scrypt\",\"Scrypt\",\"Scrypt\",\"X13\",\"Scrypt\",\"Scrypt\",\"Scrypt\",\"Scrypt\",\"X13\",\"Scrypt\",\"Stanford Folding\",\"X11\",\"Multiple\",\"QuBit\",\"Scrypt\",\"Scrypt\",\"Scrypt\",\"M7 POW\",\"Scrypt\",\"SHA-256\",\"Scrypt\",\"X11\",\"SHA3\",\"X11\",\"Lyra2RE\",\"SHA-256\",\"QUAIT\",\"X11\",\"X11\",\"Scrypt\",\"Scrypt\",\"Scrypt\",\"Ethash\",\"X13\",\"Blake2b\",\"SHA-256\",\"X15\",\"X11\",\"SHA-256\",\"BLAKE256\",\"Scrypt\",\"1GB AES Pattern Search\",\"SHA-256\",\"X11\",\"Scrypt\",\"SHA-256\",\"SHA-256\",\"NIST5\",\"Scrypt\",\"Scrypt\",\"X11\",\"Dagger\",\"Scrypt\",\"X11GOST\",\"X11\",\"Scrypt\",\"SHA-256\",\"Scrypt\",\"PoS\",\"Scrypt\",\"X11\",\"X11\",\"SHA-256\",\"SHA-256\",\"NIST5\",\"X11\",\"Scrypt\",\"POS 3.0\",\"Scrypt\",\"Scrypt\",\"Scrypt\",\"X13\",\"X11\",\"X11\",\"Equihash\",\"X11\",\"Scrypt\",\"CryptoNight\",\"SHA-256\",\"SHA-256\",\"X11\",\"Scrypt\",\"Multiple\",\"Scrypt\",\"Scrypt\",\"Scrypt\",\"SHA-256\",\"Scrypt\",\"Scrypt\",\"SHA-256D\",\"PoS\",\"Scrypt\",\"X11\",\"Lyra2Z\",\"PoS\",\"X13\",\"X14\",\"PoS\",\"SHA-256D\",\"Ethash\",\"Equihash\",\"DPoS\",\"X11\",\"Scrypt\",\"X11\",\"X13\",\"X11\",\"PoS\",\"Scrypt\",\"Scrypt\",\"X11\",\"PoS\",\"X11\",\"SHA-256\",\"Scrypt\",\"X11\",\"Scrypt\",\"Scrypt\",\"X11\",\"CryptoNight\",\"Scrypt\",\"Scrypt\",\"Scrypt\",\"Scrypt\",\"Quark\",\"QuBit\",\"Scrypt\",\"CryptoNight\",\"Lyra2RE\",\"Scrypt\",\"SHA-256\",\"X11\",\"Scrypt\",\"X11\",\"Scrypt\",\"CryptoNight-V7\",\"Scrypt\",\"Scrypt\",\"Scrypt\",\"X13\",\"X11\",\"Equihash\",\"Scrypt\",\"Scrypt\",\"Lyra2RE\",\"Scrypt\",\"Dagger-Hashimoto\",\"X11\",\"Blake2S\",\"X11\",\"Scrypt\",\"PoS\",\"X11\",\"NIST5\",\"PoS\",\"X11\",\"Scrypt\",\"Scrypt\",\"Scrypt\",\"SHA-256\",\"X11\",\"Scrypt\",\"Scrypt\",\"SHA-256\",\"PoS\",\"Scrypt\",\"X15\",\"SHA-256\",\"Scrypt\",\"POS 3.0\",\"CryptoNight-V7\",\"536\",\"Argon2d\",\"Blake2b\",\"Cloverhash\",\"CryptoNight\",\"NIST5\",\"X11\",\"NIST5\",\"Skein\",\"Scrypt\",\"X13\",\"Scrypt\",\"X11\",\"X11\",\"Scrypt\",\"CryptoNight\",\"X13\",\"Time Travel\",\"Scrypt\",\"Keccak\",\"SkunkHash v2 Raptor\",\"X11\",\"Skein\",\"SHA-256\",\"X11\",\"Scrypt\",\"VeChainThor Authority\",\"Scrypt\",\"PoS\",\"Scrypt\",\"Scrypt\",\"Scrypt\",\"Scrypt\",\"Scrypt\",\"Scrypt\",\"Scrypt\",\"CryptoNight\",\"SHA-512\",\"Ouroboros\",\"X11\",\"Equihash\",\"NeoScrypt\",\"X11\",\"Scrypt\",\"NeoScrypt\",\"Lyra2REv2\",\"Equihash\",\"Scrypt\",\"SHA-256\",\"NIST5\",\"PHI1612\",\"Dagger\",\"Scrypt\",\"Quark\",\"Scrypt\",\"POS 2.0\",\"Scrypt\",\"SHA-256\",\"X11\",\"NeoScrypt\",\"Ethash\",\"NeoScrypt\",\"X11\",\"DPoS\",\"NIST5\",\"X13\",\"Multiple\",\"Scrypt\",\"CryptoNight\",\"CryptoNight\",\"Ethash\",\"NIST5\",\"Quark\",\"X11\",\"CryptoNight-V7\",\"Scrypt\",\"Scrypt\",\"Scrypt\",\"X11\",\"BLAKE256\",\"X11\",\"NeoScrypt\",\"Quark\",\"NeoScrypt\",\"Scrypt\",\"Scrypt\",\"Scrypt\",\"X11\",\"X11\",\"SHA-256\",\"C11\",\"POS 3.0\",\"Ethash\",\"Scrypt\",\"CryptoNight\",\"SkunkHash\",\"Scrypt\",\"CryptoNight\",\"Scrypt\",\"Dagger\",\"Lyra2REv2\",\"X13\",\"Proof-of-BibleHash\",\"SHA-256 + Hive\",\"Scrypt\",\"Scrypt\",\"X11\",\"C11\",\"Proof-of-Authority\",\"X11\",\"XEVAN\",\"Scrypt\",\"VBFT\",\"Ethash\",\"CryptoNight\",\"Scrypt\",\"IMesh\",\"NIST5\",\"Scrypt\",\"Scrypt\",\"Equihash\",\"Scrypt\",\"Lyra2Z\",\"Green Protocol\",\"PoS\",\"Scrypt\",\"Semux BFT consensus\",\"X11\",\"Quark\",\"PoS\",\"CryptoNight\",\"X16R\",\"Scrypt\",\"NIST5\",\"Lyra2RE\",\"XEVAN\",\"Tribus\",\"Scrypt\",\"Lyra2Z\",\"CryptoNight\",\"CryptoNight Heavy\",\"CryptoNight\",\"Scrypt\",\"Scrypt\",\"Jump Consistent Hash\",\"SHA-256D\",\"CryptoNight\",\"Scrypt\",\"X15\",\"Scrypt\",\"Quark\",\"SHA-256\",\"DPoS\",\"X16R\",\"HMQ1725\",\"X11\",\"X16R\",\"Quark\",\"Quark\",\"Scrypt\",\"Lyra2REv2\",\"Quark\",\"Scrypt\",\"Scrypt\",\"CryptoNight-V7\",\"Cryptonight-GPU\",\"XEVAN\",\"CryptoNight Heavy\",\"X11\",\"X11\",\"Scrypt\",\"PoS\",\"SHA-256\",\"Keccak\",\"X11\",\"X11\",\"Scrypt\",\"SHA-512\",\"X16R\",\"ECC 256K1\",\"Equihash\",\"XEVAN\",\"Lyra2Z\",\"SHA-256\",\"XEVAN\",\"X11\",\"CryptoNight\",\"Quark\",\"Blake\",\"Blake\",\"Equihash\",\"Exosis\",\"Scrypt\",\"Scrypt\",\"Equihash\",\"Quark\",\"Equihash\",\"Quark\",\"Scrypt\",\"QuBit\",\"X11\",\"Scrypt\",\"XEVAN\",\"SHA-256D\",\"X11\",\"SHA-256\",\"X13\",\"SHA-256\",\"X11\",\"DPoS\",\"Scrypt\",\"Scrypt\",\"X11\",\"NeoScrypt\",\"Scrypt\",\"Blake\",\"Scrypt\",\"SHA-256\",\"Scrypt\",\"X11\",\"Scrypt\",\"Scrypt\",\"SHA-256\",\"X11\",\"SHA-256\",\"Scrypt\",\"Scrypt\",\"Scrypt\",\"Groestl\",\"X11\",\"Scrypt\",\"PoS\",\"Scrypt\",\"Scrypt\",\"X11\",\"SHA-256\",\"DPoS\",\"Scrypt\",\"Scrypt\",\"NeoScrypt\",\"Multiple\",\"X13\",\"Equihash+Scrypt\",\"DPoS\",\"Ethash\",\"DPoS\",\"SHA-256\",\"Leased POS\",\"PoS\",\"TRC10\",\"PoS\",\"SHA-256\",\"Scrypt\",\"CryptoNight\",\"Equihash\",\"Scrypt\"],\"Class\":{\"__ndarray__\":\"AAAAAAAAAAAAAAAAAgAAAAIAAAACAAAAAAAAAAIAAAACAAAAAgAAAAAAAAACAAAAAAAAAAAAAAACAAAAAAAAAAIAAAACAAAAAAAAAAAAAAACAAAAAgAAAAIAAAACAAAAAgAAAAAAAAACAAAAAgAAAAIAAAAAAAAAAgAAAAAAAAACAAAAAgAAAAAAAAAAAAAAAgAAAAIAAAACAAAAAgAAAAIAAAACAAAAAAAAAAAAAAACAAAAAgAAAAIAAAACAAAAAgAAAAAAAAAAAAAAAgAAAAAAAAACAAAAAgAAAAIAAAACAAAAAAAAAAIAAAACAAAAAAAAAAIAAAAAAAAAAAAAAAAAAAACAAAAAgAAAAIAAAAAAAAAAAAAAAAAAAAAAAAAAAAAAAIAAAACAAAAAgAAAAAAAAAAAAAAAgAAAAAAAAACAAAAAAAAAAAAAAACAAAAAgAAAAIAAAACAAAAAAAAAAAAAAACAAAAAAAAAAIAAAACAAAAAAAAAAAAAAACAAAAAAAAAAAAAAACAAAAAgAAAAAAAAAAAAAAAgAAAAAAAAAAAAAAAgAAAAAAAAACAAAAAAAAAAIAAAAAAAAAAgAAAAAAAAAAAAAAAgAAAAIAAAAAAAAAAgAAAAIAAAACAAAAAAAAAAIAAAACAAAAAgAAAAIAAAACAAAAAAAAAAAAAAACAAAAAgAAAAIAAAAAAAAAAgAAAAAAAAACAAAAAgAAAAAAAAACAAAAAAAAAAIAAAAAAAAAAAAAAAIAAAACAAAAAAAAAAIAAAACAAAAAAAAAAAAAAACAAAAAAAAAAIAAAAAAAAAAAAAAAAAAAACAAAAAgAAAAIAAAACAAAAAAAAAAAAAAAAAAAAAAAAAAAAAAACAAAAAgAAAAAAAAAAAAAAAAAAAAAAAAAAAAAAAgAAAAAAAAAAAAAAAAAAAAAAAAAAAAAAAgAAAAAAAAACAAAAAAAAAAAAAAACAAAAAAAAAAIAAAAAAAAAAAAAAAIAAAAAAAAAAgAAAAAAAAACAAAAAAAAAAIAAAAAAAAAAAAAAAAAAAAAAAAAAgAAAAAAAAAAAAAAAAAAAAAAAAAAAAAAAgAAAAIAAAAAAAAAAAAAAAIAAAACAAAAAAAAAAAAAAAAAAAAAAAAAAAAAAACAAAAAAAAAAAAAAAAAAAAAAAAAAAAAAAAAAAAAAAAAAAAAAACAAAAAAAAAAAAAAAAAAAAAAAAAAAAAAAAAAAAAgAAAAIAAAACAAAAAAAAAAAAAAAAAAAAAAAAAAIAAAAAAAAAAgAAAAAAAAAAAAAAAgAAAAAAAAACAAAAAgAAAAAAAAACAAAAAgAAAAAAAAACAAAAAAAAAAAAAAAAAAAAAgAAAAAAAAAAAAAAAgAAAAAAAAAAAAAAAAAAAAAAAAAAAAAAAAAAAAAAAAACAAAAAAAAAAIAAAAAAAAAAAAAAAAAAAAAAAAAAgAAAAAAAAACAAAAAAAAAAIAAAACAAAAAgAAAAIAAAAAAAAAAgAAAAAAAAAAAAAAAgAAAAAAAAACAAAAAgAAAAIAAAAAAAAAAgAAAAAAAAACAAAAAgAAAAIAAAAAAAAAAgAAAAAAAAACAAAAAAAAAAAAAAAAAAAAAgAAAAAAAAACAAAAAgAAAAIAAAACAAAAAgAAAAAAAAAAAAAAAgAAAAAAAAAAAAAAAAAAAAIAAAAAAAAAAgAAAAAAAAACAAAAAAAAAAIAAAAAAAAAAAAAAAAAAAAAAAAAAgAAAAAAAAAAAAAAAgAAAAAAAAAAAAAAAAAAAAIAAAACAAAAAgAAAAIAAAAAAAAAAAAAAAAAAAAAAAAAAgAAAAAAAAACAAAAAgAAAAIAAAAAAAAAAAAAAAIAAAACAAAAAAAAAAAAAAACAAAAAAAAAAIAAAACAAAAAgAAAAAAAAACAAAAAgAAAAAAAAAAAAAAAAAAAAIAAAACAAAAAgAAAAAAAAAAAAAAAAAAAAIAAAACAAAAAAAAAAIAAAACAAAAAgAAAAIAAAAAAAAAAAAAAAMAAAACAAAAAgAAAAIAAAAAAAAAAwAAAAAAAAAAAAAAAAAAAAAAAAACAAAAAgAAAAIAAAACAAAAAAAAAAAAAAAAAAAAAgAAAAAAAAACAAAAAAAAAAAAAAAAAAAAAAAAAAIAAAAAAAAAAAAAAAIAAAAAAAAAAAAAAAIAAAACAAAAAAAAAAIAAAAAAAAAAgAAAAIAAAACAAAAAgAAAAAAAAAAAAAAAgAAAAAAAAACAAAAAAAAAAAAAAAAAAAAAAAAAAAAAAAAAAAAAgAAAAIAAAACAAAAAAAAAAAAAAAAAAAAAAAAAAAAAAAAAAAAAgAAAAAAAAACAAAAAgAAAAIAAAACAAAAAAAAAAAAAAAAAAAAAAAAAAIAAAAAAAAAAAAAAAIAAAAAAAAAAAAAAAIAAAAAAAAAAgAAAAAAAAACAAAAAgAAAAAAAAAAAAAAAgAAAAAAAAACAAAAAgAAAAAAAAACAAAAAgAAAAAAAAACAAAAAAAAAAIAAAAAAAAAAAAAAAIAAAAAAAAAAAAAAAAAAAAAAAAAAAAAAAIAAAACAAAAAgAAAAAAAAAAAAAAAAAAAAIAAAAAAAAAAgAAAAAAAAACAAAAAAAAAAAAAAAAAAAAAAAAAAIAAAAAAAAAAAAAAAAAAAACAAAAAAAAAAIAAAAAAAAAAgAAAAAAAAAAAAAAAAAAAAIAAAACAAAAAAAAAAAAAAAAAAAAAAAAAAAAAAAAAAAAAgAAAAAAAAACAAAAAAAAAAIAAAAAAAAAAAAAAAMAAAAAAAAAAQAAAAAAAAAAAAAAAAAAAAIAAAACAAAAAAAAAA==\",\"dtype\":\"int32\",\"order\":\"little\",\"shape\":[532]},\"CoinName\":[\"42 Coin\",\"404Coin\",\"EliteCoin\",\"Bitcoin\",\"Ethereum\",\"Litecoin\",\"Dash\",\"Monero\",\"Ethereum Classic\",\"ZCash\",\"Bitshares\",\"DigiByte\",\"BitcoinDark\",\"PayCoin\",\"ProsperCoin\",\"KoboCoin\",\"Spreadcoin\",\"Argentum\",\"Aurora Coin\",\"BlueCoin\",\"MyriadCoin\",\"MoonCoin\",\"ZetaCoin\",\"SexCoin\",\"Quatloo\",\"EnergyCoin\",\"QuarkCoin\",\"Riecoin\",\"Digitalcoin \",\"BitBar\",\"Catcoin\",\"CryptoBullion\",\"CannaCoin\",\"CryptCoin\",\"CasinoCoin\",\"Diamond\",\"Verge\",\"DevCoin\",\"EarthCoin\",\"E-Gulden\",\"Einsteinium\",\"Emerald\",\"Exclusive Coin\",\"FlutterCoin\",\"Franko\",\"FeatherCoin\",\"GrandCoin\",\"GlobalCoin\",\"GoldCoin\",\"HoboNickels\",\"HyperStake\",\"Infinite Coin\",\"IOCoin\",\"IXcoin\",\"KrugerCoin\",\"LuckyCoin\",\"Litebar \",\"MaxCoin\",\"MegaCoin\",\"MediterraneanCoin\",\"MintCoin\",\"MinCoin\",\"MazaCoin\",\"Nautilus Coin\",\"NavCoin\",\"NobleCoin\",\"Namecoin\",\"NyanCoin\",\"OpalCoin\",\"Orbitcoin\",\"PotCoin\",\"PhoenixCoin\",\"Reddcoin\",\"RonPaulCoin\",\"StableCoin\",\"SmartCoin\",\"SuperCoin\",\"SyncCoin\",\"SysCoin\",\"TeslaCoin\",\"TigerCoin\",\"TittieCoin\",\"TorCoin\",\"TerraCoin\",\"UnbreakableCoin\",\"Unobtanium\",\"UroCoin\",\"UnitaryStatus Dollar\",\"UltraCoin\",\"ViaCoin\",\"VeriCoin\",\"Vertcoin\",\"WorldCoin\",\"X11 Coin\",\"Crypti\",\"JouleCoin\",\"StealthCoin\",\"ZCC Coin\",\"ByteCoin\",\"DigitalNote \",\"BurstCoin\",\"StorjCoin\",\"MonaCoin\",\"Neutron\",\"FairCoin\",\"Gulden\",\"RubyCoin\",\"PesetaCoin\",\"Kore\",\"Wild Beast Coin\",\"Dnotes\",\"Flo\",\"8BIT Coin\",\"Sativa Coin\",\"ArtByte\",\"Folding Coin\",\"Ucoin\",\"Unitus\",\"CypherPunkCoin\",\"OmniCron\",\"Vtorrent\",\"GreenCoin\",\"Cryptonite\",\"MasterCoin\",\"SoonCoin\",\"1Credit\",\"IslaCoin\",\"Nexus\",\"MarsCoin \",\"Crypto\",\"Anarchists Prime\",\"Droidz\",\"BowsCoin\",\"Squall Coin\",\"Song Coin\",\"BitZeny\",\"Diggits\",\"Expanse\",\"Paycon\",\"Siacoin\",\"Emercoin\",\"EverGreenCoin\",\"MindCoin\",\"I0coin\",\"Decred\",\"Revolution VR\",\"HOdlcoin\",\"EDRCoin\",\"Hitcoin\",\"Gamecredits\",\"DubaiCoin\",\"CarpeDiemCoin\",\"PWR Coin\",\"BillaryCoin\",\"GPU Coin\",\"Adzcoin\",\"SoilCoin\",\"YoCoin\",\"SibCoin\",\"EuropeCoin\",\"ZeitCoin\",\"SwingCoin\",\"SafeExchangeCoin\",\"Nebuchadnezzar\",\"Francs\",\"BolivarCoin\",\"Ratecoin\",\"Revenu\",\"Clockcoin\",\"VIP Tokens\",\"BitSend\",\"Omni\",\"Let it Ride\",\"PutinCoin\",\"iBankCoin\",\"Frankywillcoin\",\"MudraCoin\",\"PizzaCoin\",\"Lutetium Coin\",\"Komodo\",\"GoldBlocks\",\"CarterCoin\",\"Karbo\",\"BitTokens\",\"ZayedCoin\",\"MustangCoin\",\"ZoneCoin\",\"Circuits of Value\",\"RootCoin\",\"DopeCoin\",\"BitCurrency\",\"DollarCoin\",\"Swiscoin\",\"Shilling\",\"BuzzCoin\",\"Opair\",\"PesoBit\",\"Halloween Coin\",\"ZCoin\",\"CoffeeCoin\",\"RoyalCoin\",\"GanjaCoin V2\",\"TeamUP\",\"LanaCoin\",\"Elementrem\",\"ZClassic\",\"ARK\",\"InsaneCoin\",\"KiloCoin\",\"ArtexCoin\",\"EmberCoin\",\"XenixCoin\",\"FreeCoin\",\"PLNCoin\",\"AquariusCoin\",\"Kurrent\",\"Creatio\",\"Eternity\",\"Eurocoin\",\"BitcoinFast\",\"Stakenet\",\"BitConnect Coin\",\"MoneyCoin\",\"Enigma\",\"Cannabis Industry Coin\",\"Russiacoin\",\"PandaCoin\",\"GameUnits\",\"GAKHcoin\",\"Allsafe\",\"LiteCreed\",\"OsmiumCoin\",\"Bikercoins\",\"HexxCoin\",\"Klingon Empire Darsek\",\"Internet of People\",\"KushCoin\",\"Printerium\",\"PacCoin\",\"Impeach\",\"Citadel\",\"Zilbercoin\",\"FirstCoin\",\"BeaverCoin\",\"FindCoin\",\"VaultCoin\",\"Zero\",\"OpenChat\",\"Canada eCoin\",\"Zoin\",\"RenosCoin\",\"DubaiCoin\",\"VirtacoinPlus\",\"TajCoin\",\"Impact\",\"EB3coin\",\"Atmos\",\"HappyCoin\",\"Coinonat\",\"MacronCoin\",\"Condensate\",\"Independent Money System\",\"ArgusCoin\",\"LomoCoin\",\"ProCurrency\",\"GoldReserve\",\"BenjiRolls\",\"GrowthCoin\",\"ILCoin\",\"Phreak\",\"Degas Coin\",\"HTML5 Coin\",\"Ultimate Secure Cash\",\"EquiTrader\",\"QTUM\",\"Quantum Resistant Ledger\",\"Espers\",\"Dynamic\",\"Nano\",\"ChanCoin\",\"Dinastycoin\",\"Denarius\",\"DigitalPrice\",\"Virta Unique Coin\",\"Bitcoin Planet\",\"Unify\",\"BritCoin\",\"SocialCoin\",\"ArcticCoin\",\"DAS\",\"Linda\",\"LeviarCoin\",\"DeepOnion\",\"Bitcore\",\"gCn Coin\",\"SmartCash\",\"Signatum\",\"Onix\",\"Cream\",\"Bitcoin Cash\",\"Monoeci\",\"Draftcoin\",\"Vechain\",\"Sojourn Coin\",\"Stakecoin\",\"NewYorkCoin\",\"FrazCoin\",\"Kronecoin\",\"AdCoin\",\"Linx\",\"CoinonatX\",\"Ethereum Dark\",\"Sumokoin\",\"Obsidian\",\"Cardano\",\"Regalcoin\",\"BitcoinZ\",\"TrezarCoin\",\"Elements\",\"TerraNovaCoin\",\"VIVO Coin\",\"Rupee\",\"Bitcoin Gold\",\"WomenCoin\",\"Theresa May Coin\",\"NamoCoin\",\"LUXCoin\",\"Pirl\",\"Xios\",\"Bitcloud 2.0\",\"eBoost\",\"KekCoin\",\"BlackholeCoin\",\"Infinity Economics\",\"Pura\",\"Innova\",\"Ellaism\",\"GoByte\",\"Magnet\",\"Lamden Tau\",\"Electra\",\"Bitcoin Diamond\",\"SHIELD\",\"Cash & Back Coin\",\"UltraNote\",\"BitCoal\",\"DaxxCoin\",\"Bulwark\",\"Kalkulus\",\"AC3\",\"Lethean\",\"GermanCoin\",\"LiteCoin Ultra\",\"PopularCoin\",\"PhantomX\",\"Photon\",\"Sucre\",\"SparksPay\",\"Digiwage\",\"GunCoin\",\"IrishCoin\",\"Trollcoin\",\"Litecoin Plus\",\"Monkey Project\",\"Pioneer Coin\",\"UnitedBitcoin\",\"Interzone\",\"TokenPay\",\"1717 Masonic Commemorative Token\",\"My Big Coin\",\"TurtleCoin\",\"MUNcoin\",\"Unified Society USDEX\",\"Niobio Cash\",\"ShareChain\",\"Travelflex\",\"KREDS\",\"Tokyo Coin\",\"BiblePay\",\"LitecoinCash\",\"BitFlip\",\"LottoCoin\",\"Crypto Improvement Fund\",\"Stipend\",\"Poa Network\",\"Pushi\",\"Ellerium\",\"Velox\",\"Ontology\",\"Callisto Network\",\"BitTube\",\"Poseidon\",\"Aidos Kuneen\",\"Bitspace\",\"Briacoin\",\"Ignition\",\"Bitrolium\",\"MedicCoin\",\"Alpenschillling\",\"Bitcoin Green\",\"Deviant Coin\",\"Abjcoin\",\"Semux\",\"FuturoCoin\",\"Carebit\",\"Zealium\",\"Monero Classic\",\"Proton\",\"iDealCash\",\"Jumpcoin\",\"Infinex\",\"Bitcoin Incognito\",\"KEYCO\",\"HollyWoodCoin\",\"GINcoin\",\"PlatinCoin\",\"Loki\",\"Newton Coin\",\"Swisscoin\",\"Xt3ch\",\"MassGrid\",\"TheVig\",\"PluraCoin\",\"EmaratCoin\",\"Dekado\",\"Lynx\",\"Poseidon Quark\",\"BitcoinWSpectrum\",\"Muse\",\"Motion\",\"PlusOneCoin\",\"Axe\",\"Trivechain\",\"Dystem\",\"Giant\",\"Peony Coin\",\"Absolute Coin\",\"Vitae\",\"HexCoin\",\"TPCash\",\"Webchain\",\"Ryo\",\"Urals Coin\",\"Qwertycoin\",\"ARENON\",\"EUNO\",\"MMOCoin\",\"Ketan\",\"Project Pai\",\"XDNA\",\"PAXEX\",\"Azart\",\"ThunderStake\",\"Kcash\",\"Xchange\",\"Acute Angle Cloud\",\"CrypticCoin\",\"Bettex coin\",\"Actinium\",\"Bitcoin SV\",\"BitMoney\",\"Junson Ming Chan Coin\",\"FREDEnergy\",\"HerbCoin\",\"Universal Molecule\",\"Lithium\",\"PirateCash\",\"Exosis\",\"Block-Logic\",\"Oduwa\",\"Beam\",\"Galilel\",\"Bithereum\",\"Crypto Sports\",\"Credit\",\"SLICE\",\"Dash Platinum\",\"Nasdacoin\",\"Beetle Coin\",\"Titan Coin\",\"Award\",\"BLAST\",\"Bitcoin Rhodium\",\"GlobalToken\",\"Insane Coin\",\"ALAX\",\"LiteDoge\",\"SolarCoin\",\"TruckCoin\",\"UFO Coin\",\"OrangeCoin\",\"BlakeCoin\",\"BitstarCoin\",\"NeosCoin\",\"HyperCoin\",\"PinkCoin\",\"Crypto Escudo\",\"AudioCoin\",\"IncaKoin\",\"Piggy Coin\",\"Crown Coin\",\"Genstake\",\"SmileyCoin\",\"XiaoMiCoin\",\"Groestlcoin\",\"CapriCoin\",\" ClubCoin\",\"Radium\",\"Bata\",\"Pakcoin\",\"Creditbit \",\"OKCash\",\"Lisk\",\"HiCoin\",\"WhiteCoin\",\"FriendshipCoin\",\"JoinCoin\",\"Triangles Coin\",\"Vollar\",\"EOS\",\"Reality Clash\",\"Oxycoin\",\"TigerCash\",\"Waves\",\"Particl\",\"BitTorrent\",\"Nxt\",\"ZEPHYR\",\"Gapcoin\",\"Beldex\",\"Horizen\",\"BitcoinPlus\"],\"ProofType\":[\"PoW/PoS\",\"PoW/PoS\",\"PoW/PoS\",\"PoW\",\"PoW\",\"PoW\",\"PoW/PoS\",\"PoW\",\"PoW\",\"PoW\",\"PoS\",\"PoW\",\"PoW/PoS\",\"PoS\",\"PoW\",\"PoW/PoS\",\"PoW\",\"PoW\",\"PoW/PoS\",\"PoW/PoS\",\"PoW\",\"PoW\",\"PoW\",\"PoW\",\"PoW\",\"PoW/PoS\",\"PoW\",\"PoW\",\"PoW\",\"PoW/PoS\",\"PoW\",\"PoW/PoS\",\"PoW\",\"PoW\",\"PoC\",\"PoW/PoS\",\"PoW\",\"PoW\",\"PoW\",\"PoW\",\"PoW\",\"PoW\",\"PoS\",\"PoS/PoW/PoT\",\"PoW\",\"PoW\",\"PoW\",\"PoW\",\"PoW\",\"PoW/PoS\",\"PoS\",\"PoW\",\"PoW/PoS\",\"PoW\",\"PoW\",\"PoW\",\"PoW\",\"PoW/PoS\",\"PoW\",\"PoW\",\"PoS\",\"PoW\",\"PoW/PoS\",\"PoS\",\"PoW/PoS\",\"PoW\",\"PoW\",\"PoW\",\"PoW/PoS\",\"PoW/PoS\",\"PoW/PoS\",\"PoW/PoS\",\"PoW/PoS\",\"PoW\",\"PoW\",\"PoW\",\"PoS\",\"PoW/PoS\",\"PoW\",\"PoS\",\"PoW\",\"PoS\",\"PoW/PoS\",\"PoW\",\"PoW\",\"PoW\",\"PoW\",\"PoW/PoS\",\"PoW/PoS\",\"PoW\",\"PoST\",\"PoW\",\"PoW\",\"PoW/PoS\",\"PoS\",\"PoW\",\"PoW/PoS\",\"PoW/PoS\",\"PoW\",\"PoW\",\"PoC\",\"PoS\",\"PoW\",\"PoW/PoS\",\"PoW/PoS\",\"PoW\",\"PoS\",\"PoW\",\"PoW/PoS\",\"PoW\",\"PoS\",\"PoW\",\"PoW/PoS\",\"PoW/PoS\",\"PoW\",\"PoW\",\"PoS\",\"PoW\",\"PoW\",\"PoW\",\"PoW/PoS\",\"PoW\",\"PoW\",\"PoW\",\"PoW\",\"PoW\",\"PoW/PoS\",\"PoW/nPoS\",\"PoW\",\"PoW\",\"PoW\",\"PoW/PoS\",\"PoW\",\"PoS/PoW\",\"PoW\",\"PoW\",\"PoS\",\"PoW\",\"PoW/PoS\",\"PoW\",\"PoW/PoS\",\"PoW/PoS\",\"PoW\",\"PoW\",\"PoW/PoS\",\"PoW\",\"PoW\",\"PoW/PoS\",\"PoW/PoS\",\"PoW\",\"PoW/PoS\",\"PoW\",\"PoW/PoS\",\"PoW/PoS\",\"PoS\",\"PoW\",\"PoW\",\"PoW\",\"PoW\",\"PoW/PoS\",\"PoS\",\"PoW/PoS\",\"PoC\",\"PoS\",\"PoW\",\"PoW\",\"PoW/PoS\",\"PoW/PoS\",\"PoW/PoS\",\"PoW/PoS\",\"PoW/PoS\",\"PoW\",\"PoS\",\"PoW/PoS\",\"PoW/PoS\",\"PoW/PoS\",\"PoS\",\"PoW\",\"PoS\",\"dPoW/PoW\",\"PoW/PoS\",\"PoW/PoS\",\"PoW\",\"PoW/PoS\",\"PoW\",\"PoW/PoS\",\"PoW/PoS\",\"PoW\",\"PoW/PoS\",\"PoW\",\"PoS\",\"PoW\",\"PoW/PoW\",\"PoW\",\"PoW/PoS\",\"PoS\",\"PoW/PoS\",\"PoW/PoS\",\"PoW\",\"PoS\",\"PoS\",\"PoW/PoS\",\"PoS\",\"PoW/PoS\",\"PoW\",\"PoW\",\"DPoS\",\"PoW/PoS\",\"PoW\",\"PoW\",\"PoW/PoS\",\"PoW/PoS\",\"PoS\",\"PoW/PoS\",\"PoW/PoS\",\"PoW\",\"PoS\",\"PoW/PoS\",\"PoW/PoS\",\"PoW/PoS\",\"TPoS\",\"PoW/PoS\",\"PoW/PoS\",\"PoW/PoS\",\"PoW\",\"PoW/PoS\",\"PoS\",\"PoW/PoS\",\"PoW/PoS\",\"PoS\",\"PoW/PoS\",\"PoW\",\"PoW\",\"PoW\",\"PoW/PoS\",\"PoW/PoS\",\"PoW/PoS\",\"PoW/PoS\",\"PoW\",\"PoW/PoS\",\"PoW\",\"PoS\",\"PoW/PoS \",\"PoW\",\"PoS\",\"PoW\",\"PoW\",\"PoW/PoS\",\"PoW\",\"PoW\",\"PoS\",\"PoW\",\"PoW/PoS\",\"PoW/PoS\",\"PoW/PoS\",\"PoW\",\"PoS\",\"PoW/PoS\",\"PoW\",\"PoS\",\"PoW/PoS\",\"PoW/PoS\",\"PoW/PoS\",\"PoW/PoS\",\"PoS\",\"PoW/PoS\",\"PoW\",\"PoS\",\"PoW\",\"PoS\",\"PoW/PoS\",\"PoW/PoS\",\"PoS\",\"PoW\",\"PoS\",\"PoW\",\"PoW/PoS\",\"PoW\",\"PoW\",\"PoW\",\"PoW\",\"PoW/PoS\",\"PoW\",\"PoW/PoS\",\"PoW/PoS\",\"PoW\",\"PoW/PoS\",\"PoW\",\"PoW\",\"PoW\",\"PoW/PoS\",\"PoW\",\"PoW/PoS\",\"PoW\",\"PoW\",\"PoW\",\"PoS\",\"PoW\",\"PoW/PoS\",\"PoW\",\"PoW/PoS\",\"PoS\",\"Proof of Authority\",\"PoW\",\"PoS\",\"PoW\",\"PoW\",\"PoW\",\"PoW\",\"PoW\",\"PoW/PoS\",\"PoW/PoS\",\"PoW\",\"PoS\",\"PoS\",\"PoW/PoS\",\"PoW\",\"PoW/PoS\",\"PoW\",\"PoW/PoS\",\"PoW\",\"PoS\",\"PoW\",\"PoW/PoS\",\"PoW/PoS\",\"PoW/PoS\",\"PoW/PoS\",\"PoW\",\"PoW/PoS\",\"PoW/PoS\",\"PoW\",\"PoS\",\"PoW/PoS\",\"PoS\",\"PoW\",\"PoW\",\"PoW\",\"PoW\",\"PoW/PoS\",\"DPoS\",\"PoW/PoS\",\"PoW/PoS\",\"PoW\",\"PoW/PoS\",\"PoW\",\"PoW\",\"PoW\",\"PoS\",\"PoS\",\"PoW\",\"PoW\",\"PoW/PoS\",\"PoW/PoS\",\"PoW\",\"PoW/PoS\",\"PoW\",\"PoW\",\"PoW\",\"PoS\",\"PoW\",\"PoW\",\"PoW/PoS\",\"PoW/PoS\",\"PoS\",\"PoW\",\"PoW\",\"PoW\",\"PoS\",\"PoS\",\"PoW and PoS\",\"PoW\",\"PoW\",\"PoW/PoS\",\"PoW\",\"PoW\",\"PoW\",\"PoW\",\"PoS\",\"POBh\",\"PoW + Hive\",\"PoW\",\"PoW\",\"PoW\",\"PoW/PoS\",\"PoA\",\"PoW/PoS\",\"PoW/PoS\",\"PoS\",\"PoS\",\"PoW\",\"PoW\",\"PoW\",\"PoW\",\"PoW/PoS\",\"PoW/PoS\",\"PoW/PoS\",\"PoW\",\"PoS\",\"PoW\",\"PoS\",\"PoS\",\"PoW/PoS\",\"DPoS\",\"PoW\",\"PoW/PoS\",\"PoS\",\"PoW\",\"PoS\",\"PoW/PoS\",\"PoW\",\"PoW\",\"PoS/PoW\",\"PoW\",\"PoS\",\"PoW\",\"PoW\",\"PoW\",\"PoW\",\"PoW/PoS\",\"PoS\",\"PoW\",\"PoW/PoS\",\"PoW\",\"PoW/PoS\",\"PoS\",\"HPoW\",\"PoS\",\"PoS\",\"PoS\",\"PoW\",\"PoW\",\"PoW\",\"PoW/PoS\",\"PoS\",\"PoW/PoS\",\"PoS\",\"PoW/PoS\",\"PoS\",\"PoW\",\"PoW/PoS\",\"PoW\",\"PoW\",\"PoW\",\"PoW\",\"PoS\",\"PoW/PoS\",\"PoS\",\"PoS\",\"PoW\",\"PoW/PoS\",\"PoS\",\"PoW\",\"PoW/PoS\",\"Zero-Knowledge Proof\",\"PoW\",\"DPOS\",\"PoW\",\"PoS\",\"PoW\",\"PoW\",\"Pos\",\"PoS\",\"PoW\",\"PoW/PoS\",\"PoW\",\"PoW\",\"PoS\",\"PoW\",\"PoW\",\"PoW/PoS\",\"PoW\",\"PoW/PoS\",\"PoW\",\"PoS\",\"PoW/PoS\",\"PoW\",\"PoS\",\"PoW/PoS\",\"PoW/PoS\",\"PoW/PoS\",\"PoW/PoS\",\"PoW\",\"PoW\",\"PoW\",\"PoW/PoS\",\"DPoS\",\"PoW/PoS\",\"PoW\",\"PoW/PoS\",\"PoW\",\"PoW/PoS\",\"PoW\",\"PoW/PoS\",\"PoS\",\"PoW/PoS\",\"PoW/PoS\",\"PoW\",\"PoW/PoS\",\"PoW/PoS\",\"PoW/PoS\",\"PoW\",\"PoW/PoS\",\"PoW\",\"PoW/PoS\",\"PoW\",\"PoW/PoS\",\"PoW/PoS\",\"PoS\",\"PoW\",\"PoW\",\"Proof of Trust\",\"PoW/PoS\",\"DPoS\",\"PoS\",\"PoW/PoS\",\"PoW/PoS\",\"PoW\",\"PoW/PoS\",\"PoW\",\"DPoS\",\"PoW\",\"DPoS\",\"PoS\",\"LPoS\",\"PoS\",\"DPoS\",\"PoS/LPoS\",\"DPoS\",\"PoW/PoS\",\"PoW\",\"PoW\",\"PoS\"],\"TotalCoinSupply\":{\"__ndarray__\":\"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\",\"dtype\":\"float64\",\"order\":\"little\",\"shape\":[532]},\"TotalCoinsMined\":{\"__ndarray__\":\"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\",\"dtype\":\"float64\",\"order\":\"little\",\"shape\":[532]}},\"selected\":{\"id\":\"1347\"},\"selection_policy\":{\"id\":\"1381\"}},\"id\":\"1346\",\"type\":\"ColumnDataSource\"},{\"attributes\":{\"editor\":{\"id\":\"1374\"},\"field\":\"Class\",\"formatter\":{\"id\":\"1373\"},\"title\":\"Class\"},\"id\":\"1375\",\"type\":\"TableColumn\"},{\"attributes\":{\"editor\":{\"id\":\"1349\"},\"field\":\"CoinName\",\"formatter\":{\"id\":\"1348\"},\"title\":\"CoinName\"},\"id\":\"1350\",\"type\":\"TableColumn\"},{\"attributes\":{},\"id\":\"1347\",\"type\":\"Selection\"},{\"attributes\":{},\"id\":\"1369\",\"type\":\"NumberEditor\"},{\"attributes\":{\"format\":\"0,0.0[00000]\"},\"id\":\"1363\",\"type\":\"NumberFormatter\"},{\"attributes\":{},\"id\":\"1349\",\"type\":\"StringEditor\"},{\"attributes\":{\"margin\":[5,5,5,5],\"name\":\"HSpacer02224\",\"sizing_mode\":\"stretch_width\"},\"id\":\"1345\",\"type\":\"Spacer\"},{\"attributes\":{},\"id\":\"1374\",\"type\":\"IntEditor\"},{\"attributes\":{\"editor\":{\"id\":\"1354\"},\"field\":\"Algorithm\",\"formatter\":{\"id\":\"1353\"},\"title\":\"Algorithm\"},\"id\":\"1355\",\"type\":\"TableColumn\"},{\"attributes\":{\"columns\":[{\"id\":\"1350\"},{\"id\":\"1355\"},{\"id\":\"1360\"},{\"id\":\"1365\"},{\"id\":\"1370\"},{\"id\":\"1375\"}],\"height\":300,\"reorderable\":false,\"source\":{\"id\":\"1346\"},\"view\":{\"id\":\"1380\"},\"width\":700},\"id\":\"1378\",\"type\":\"DataTable\"}],\"root_ids\":[\"1344\"]},\"title\":\"Bokeh Application\",\"version\":\"2.3.2\"}};\n",
       "    var render_items = [{\"docid\":\"26c3eb3f-48b0-44be-8040-c77ea5fab493\",\"root_ids\":[\"1344\"],\"roots\":{\"1344\":\"03542b73-2d15-4da1-a43d-07fed3976d03\"}}];\n",
       "    root.Bokeh.embed.embed_items_notebook(docs_json, render_items);\n",
       "  }\n",
       "  if (root.Bokeh !== undefined && root.Bokeh.Panel !== undefined) {\n",
       "    embed_document(root);\n",
       "  } else {\n",
       "    var attempts = 0;\n",
       "    var timer = setInterval(function(root) {\n",
       "      if (root.Bokeh !== undefined && root.Bokeh.Panel !== undefined) {\n",
       "        clearInterval(timer);\n",
       "        embed_document(root);\n",
       "      } else if (document.readyState == \"complete\") {\n",
       "        attempts++;\n",
       "        if (attempts > 200) {\n",
       "          clearInterval(timer);\n",
       "          console.log(\"Bokeh: ERROR: Unable to run BokehJS code because BokehJS library is missing\");\n",
       "        }\n",
       "      }\n",
       "    }, 25, root)\n",
       "  }\n",
       "})(window);</script>"
      ],
      "text/plain": [
       ":Table   [CoinName,Algorithm,ProofType,TotalCoinSupply,TotalCoinsMined,Class]"
      ]
     },
     "execution_count": 79,
     "metadata": {
      "application/vnd.holoviews_exec.v0+json": {
       "id": "1344"
      }
     },
     "output_type": "execute_result"
    }
   ],
   "source": [
    "# Create a table with tradable cryptocurrencies\n",
    "clustered_df.hvplot.table(columns=[\"CoinName\", \"Algorithm\", \"ProofType\", \"TotalCoinSupply\", \"TotalCoinsMined\", \"Class\"], sortable=True, selectable=True)"
   ]
  },
  {
   "cell_type": "code",
   "execution_count": 80,
   "metadata": {},
   "outputs": [
    {
     "name": "stdout",
     "output_type": "stream",
     "text": [
      "There are 532 tradable cryptocurrencies.\n"
     ]
    }
   ],
   "source": [
    "# Print the total number of tradable cryptocurrencies\n",
    "print(f'There are {len(clustered_df.index)} tradable cryptocurrencies.')"
   ]
  },
  {
   "cell_type": "code",
   "execution_count": 81,
   "metadata": {},
   "outputs": [],
   "source": [
    "# Create new df to scale coins mined and coin supply\n",
    "min_max_X = X[['TotalCoinsMined','TotalCoinSupply']]"
   ]
  },
  {
   "cell_type": "code",
   "execution_count": 82,
   "metadata": {},
   "outputs": [
    {
     "data": {
      "text/plain": [
       "array([[0.00000000e+00, 4.20000000e-11],\n",
       "       [1.06585544e-03, 5.32000000e-04],\n",
       "       [2.95755135e-02, 3.14159265e-01],\n",
       "       ...,\n",
       "       [9.90135079e-04, 1.40022261e-03],\n",
       "       [7.37028150e-06, 2.10000000e-05],\n",
       "       [1.29582282e-07, 1.00000000e-06]])"
      ]
     },
     "execution_count": 82,
     "metadata": {},
     "output_type": "execute_result"
    }
   ],
   "source": [
    "# Scaling data to create the scatter plot with tradable cryptocurrencies.\n",
    "min_max_scaled = MinMaxScaler().fit_transform(min_max_X)\n",
    "min_max_scaled"
   ]
  },
  {
   "cell_type": "code",
   "execution_count": 83,
   "metadata": {},
   "outputs": [
    {
     "data": {
      "text/html": [
       "<div>\n",
       "<style scoped>\n",
       "    .dataframe tbody tr th:only-of-type {\n",
       "        vertical-align: middle;\n",
       "    }\n",
       "\n",
       "    .dataframe tbody tr th {\n",
       "        vertical-align: top;\n",
       "    }\n",
       "\n",
       "    .dataframe thead th {\n",
       "        text-align: right;\n",
       "    }\n",
       "</style>\n",
       "<table border=\"1\" class=\"dataframe\">\n",
       "  <thead>\n",
       "    <tr style=\"text-align: right;\">\n",
       "      <th></th>\n",
       "      <th>TotalCoinsMined</th>\n",
       "      <th>TotalCoinSupply</th>\n",
       "      <th>CoinName</th>\n",
       "      <th>Class</th>\n",
       "    </tr>\n",
       "    <tr>\n",
       "      <th>Unnamed: 0</th>\n",
       "      <th></th>\n",
       "      <th></th>\n",
       "      <th></th>\n",
       "      <th></th>\n",
       "    </tr>\n",
       "  </thead>\n",
       "  <tbody>\n",
       "    <tr>\n",
       "      <th>42</th>\n",
       "      <td>0.000000</td>\n",
       "      <td>4.200000e-11</td>\n",
       "      <td>42 Coin</td>\n",
       "      <td>0</td>\n",
       "    </tr>\n",
       "    <tr>\n",
       "      <th>404</th>\n",
       "      <td>0.001066</td>\n",
       "      <td>5.320000e-04</td>\n",
       "      <td>404Coin</td>\n",
       "      <td>0</td>\n",
       "    </tr>\n",
       "    <tr>\n",
       "      <th>1337</th>\n",
       "      <td>0.029576</td>\n",
       "      <td>3.141593e-01</td>\n",
       "      <td>EliteCoin</td>\n",
       "      <td>0</td>\n",
       "    </tr>\n",
       "    <tr>\n",
       "      <th>BTC</th>\n",
       "      <td>0.000018</td>\n",
       "      <td>2.100000e-05</td>\n",
       "      <td>Bitcoin</td>\n",
       "      <td>2</td>\n",
       "    </tr>\n",
       "    <tr>\n",
       "      <th>ETH</th>\n",
       "      <td>0.000109</td>\n",
       "      <td>0.000000e+00</td>\n",
       "      <td>Ethereum</td>\n",
       "      <td>2</td>\n",
       "    </tr>\n",
       "    <tr>\n",
       "      <th>LTC</th>\n",
       "      <td>0.000064</td>\n",
       "      <td>8.400000e-05</td>\n",
       "      <td>Litecoin</td>\n",
       "      <td>2</td>\n",
       "    </tr>\n",
       "    <tr>\n",
       "      <th>DASH</th>\n",
       "      <td>0.000009</td>\n",
       "      <td>2.200000e-05</td>\n",
       "      <td>Dash</td>\n",
       "      <td>0</td>\n",
       "    </tr>\n",
       "    <tr>\n",
       "      <th>XMR</th>\n",
       "      <td>0.000017</td>\n",
       "      <td>0.000000e+00</td>\n",
       "      <td>Monero</td>\n",
       "      <td>2</td>\n",
       "    </tr>\n",
       "    <tr>\n",
       "      <th>ETC</th>\n",
       "      <td>0.000115</td>\n",
       "      <td>2.100000e-04</td>\n",
       "      <td>Ethereum Classic</td>\n",
       "      <td>2</td>\n",
       "    </tr>\n",
       "    <tr>\n",
       "      <th>ZEC</th>\n",
       "      <td>0.000007</td>\n",
       "      <td>2.100000e-05</td>\n",
       "      <td>ZCash</td>\n",
       "      <td>2</td>\n",
       "    </tr>\n",
       "  </tbody>\n",
       "</table>\n",
       "</div>"
      ],
      "text/plain": [
       "            TotalCoinsMined  TotalCoinSupply          CoinName  Class\n",
       "Unnamed: 0                                                           \n",
       "42                 0.000000     4.200000e-11           42 Coin      0\n",
       "404                0.001066     5.320000e-04           404Coin      0\n",
       "1337               0.029576     3.141593e-01         EliteCoin      0\n",
       "BTC                0.000018     2.100000e-05           Bitcoin      2\n",
       "ETH                0.000109     0.000000e+00          Ethereum      2\n",
       "LTC                0.000064     8.400000e-05          Litecoin      2\n",
       "DASH               0.000009     2.200000e-05              Dash      0\n",
       "XMR                0.000017     0.000000e+00            Monero      2\n",
       "ETC                0.000115     2.100000e-04  Ethereum Classic      2\n",
       "ZEC                0.000007     2.100000e-05             ZCash      2"
      ]
     },
     "execution_count": 83,
     "metadata": {},
     "output_type": "execute_result"
    }
   ],
   "source": [
    "# Create a new DataFrame that has the scaled data with the clustered_df DataFrame index.\n",
    "plot_df = pd.DataFrame(data=min_max_scaled, index=crypto_df.index , columns=[\"TotalCoinsMined\", \"TotalCoinSupply\"])\n",
    "\n",
    "# Add the \"CoinName\" column from the clustered_df DataFrame to the new DataFrame.\n",
    "plot_df[\"CoinName\"] = clustered_df[\"CoinName\"]\n",
    "\n",
    "# Add the \"Class\" column from the clustered_df DataFrame to the new DataFrame. \n",
    "plot_df[\"Class\"] = clustered_df[\"Class\"]\n",
    "\n",
    "plot_df.head(10)"
   ]
  },
  {
   "cell_type": "code",
   "execution_count": 89,
   "metadata": {},
   "outputs": [
    {
     "data": {
      "application/vnd.plotly.v1+json": {
       "config": {
        "plotlyServerURL": "https://plot.ly"
       },
       "data": [
        {
         "hovertemplate": "<b>%{hovertext}</b><br><br>Class=%{marker.color}<br>TotalCoinsMined=%{x}<br>TotalCoinSupply=%{y}<extra></extra>",
         "hovertext": [
          "42 Coin",
          "404Coin",
          "EliteCoin",
          "Dash",
          "Bitshares",
          "BitcoinDark",
          "PayCoin",
          "KoboCoin",
          "Aurora Coin",
          "BlueCoin",
          "EnergyCoin",
          "BitBar",
          "CryptoBullion",
          "CasinoCoin",
          "Diamond",
          "Exclusive Coin",
          "FlutterCoin",
          "HoboNickels",
          "HyperStake",
          "IOCoin",
          "MaxCoin",
          "MintCoin",
          "MazaCoin",
          "Nautilus Coin",
          "NavCoin",
          "OpalCoin",
          "Orbitcoin",
          "PotCoin",
          "PhoenixCoin",
          "Reddcoin",
          "SuperCoin",
          "SyncCoin",
          "TeslaCoin",
          "TittieCoin",
          "TorCoin",
          "UnitaryStatus Dollar",
          "UltraCoin",
          "VeriCoin",
          "X11 Coin",
          "Crypti",
          "StealthCoin",
          "ZCC Coin",
          "BurstCoin",
          "StorjCoin",
          "Neutron",
          "FairCoin",
          "RubyCoin",
          "Kore",
          "Dnotes",
          "8BIT Coin",
          "Sativa Coin",
          "Ucoin",
          "Vtorrent",
          "IslaCoin",
          "Nexus",
          "Droidz",
          "Squall Coin",
          "Diggits",
          "Paycon",
          "Emercoin",
          "EverGreenCoin",
          "Decred",
          "EDRCoin",
          "Hitcoin",
          "DubaiCoin",
          "PWR Coin",
          "BillaryCoin",
          "GPU Coin",
          "EuropeCoin",
          "ZeitCoin",
          "SwingCoin",
          "SafeExchangeCoin",
          "Nebuchadnezzar",
          "Ratecoin",
          "Revenu",
          "Clockcoin",
          "VIP Tokens",
          "BitSend",
          "Let it Ride",
          "PutinCoin",
          "iBankCoin",
          "Frankywillcoin",
          "MudraCoin",
          "Lutetium Coin",
          "GoldBlocks",
          "CarterCoin",
          "BitTokens",
          "MustangCoin",
          "ZoneCoin",
          "RootCoin",
          "BitCurrency",
          "Swiscoin",
          "BuzzCoin",
          "Opair",
          "PesoBit",
          "Halloween Coin",
          "CoffeeCoin",
          "RoyalCoin",
          "GanjaCoin V2",
          "TeamUP",
          "LanaCoin",
          "ARK",
          "InsaneCoin",
          "EmberCoin",
          "XenixCoin",
          "FreeCoin",
          "PLNCoin",
          "AquariusCoin",
          "Creatio",
          "Eternity",
          "Eurocoin",
          "BitcoinFast",
          "Stakenet",
          "BitConnect Coin",
          "MoneyCoin",
          "Enigma",
          "Russiacoin",
          "PandaCoin",
          "GameUnits",
          "GAKHcoin",
          "Allsafe",
          "LiteCreed",
          "Klingon Empire Darsek",
          "Internet of People",
          "KushCoin",
          "Printerium",
          "Impeach",
          "Zilbercoin",
          "FirstCoin",
          "FindCoin",
          "OpenChat",
          "RenosCoin",
          "VirtacoinPlus",
          "TajCoin",
          "Impact",
          "Atmos",
          "HappyCoin",
          "MacronCoin",
          "Condensate",
          "Independent Money System",
          "ArgusCoin",
          "LomoCoin",
          "ProCurrency",
          "GoldReserve",
          "GrowthCoin",
          "Phreak",
          "Degas Coin",
          "HTML5 Coin",
          "Ultimate Secure Cash",
          "QTUM",
          "Espers",
          "Denarius",
          "Virta Unique Coin",
          "Bitcoin Planet",
          "BritCoin",
          "Linda",
          "DeepOnion",
          "Signatum",
          "Cream",
          "Monoeci",
          "Draftcoin",
          "Vechain",
          "Stakecoin",
          "CoinonatX",
          "Ethereum Dark",
          "Obsidian",
          "Cardano",
          "Regalcoin",
          "TrezarCoin",
          "TerraNovaCoin",
          "Rupee",
          "WomenCoin",
          "Theresa May Coin",
          "NamoCoin",
          "LUXCoin",
          "Xios",
          "Bitcloud 2.0",
          "KekCoin",
          "BlackholeCoin",
          "Infinity Economics",
          "Magnet",
          "Lamden Tau",
          "Electra",
          "Bitcoin Diamond",
          "Cash & Back Coin",
          "Bulwark",
          "Kalkulus",
          "GermanCoin",
          "LiteCoin Ultra",
          "PhantomX",
          "Digiwage",
          "Trollcoin",
          "Litecoin Plus",
          "Monkey Project",
          "TokenPay",
          "1717 Masonic Commemorative Token",
          "My Big Coin",
          "Unified Society USDEX",
          "Tokyo Coin",
          "BiblePay",
          "Stipend",
          "Pushi",
          "Ellerium",
          "Velox",
          "Ontology",
          "Bitspace",
          "Briacoin",
          "Ignition",
          "MedicCoin",
          "Bitcoin Green",
          "Deviant Coin",
          "Abjcoin",
          "Semux",
          "Carebit",
          "Zealium",
          "Proton",
          "iDealCash",
          "Bitcoin Incognito",
          "HollyWoodCoin",
          "Swisscoin",
          "Xt3ch",
          "TheVig",
          "EmaratCoin",
          "Dekado",
          "Lynx",
          "Poseidon Quark",
          "BitcoinWSpectrum",
          "Muse",
          "Trivechain",
          "Dystem",
          "Giant",
          "Peony Coin",
          "Absolute Coin",
          "Vitae",
          "TPCash",
          "ARENON",
          "EUNO",
          "MMOCoin",
          "Ketan",
          "XDNA",
          "PAXEX",
          "ThunderStake",
          "Kcash",
          "Acute Angle Cloud",
          "Bettex coin",
          "BitMoney",
          "Junson Ming Chan Coin",
          "HerbCoin",
          "PirateCash",
          "Oduwa",
          "Galilel",
          "Crypto Sports",
          "Credit",
          "Dash Platinum",
          "Nasdacoin",
          "Beetle Coin",
          "Titan Coin",
          "Award",
          "Insane Coin",
          "ALAX",
          "LiteDoge",
          "TruckCoin",
          "OrangeCoin",
          "BitstarCoin",
          "NeosCoin",
          "HyperCoin",
          "PinkCoin",
          "AudioCoin",
          "IncaKoin",
          "Piggy Coin",
          "Genstake",
          "XiaoMiCoin",
          "CapriCoin",
          " ClubCoin",
          "Radium",
          "Creditbit ",
          "OKCash",
          "Lisk",
          "HiCoin",
          "WhiteCoin",
          "FriendshipCoin",
          "Triangles Coin",
          "EOS",
          "Oxycoin",
          "TigerCash",
          "Particl",
          "Nxt",
          "ZEPHYR",
          "Gapcoin",
          "BitcoinPlus"
         ],
         "legendgroup": "0",
         "marker": {
          "color": [
           0,
           0,
           0,
           0,
           0,
           0,
           0,
           0,
           0,
           0,
           0,
           0,
           0,
           0,
           0,
           0,
           0,
           0,
           0,
           0,
           0,
           0,
           0,
           0,
           0,
           0,
           0,
           0,
           0,
           0,
           0,
           0,
           0,
           0,
           0,
           0,
           0,
           0,
           0,
           0,
           0,
           0,
           0,
           0,
           0,
           0,
           0,
           0,
           0,
           0,
           0,
           0,
           0,
           0,
           0,
           0,
           0,
           0,
           0,
           0,
           0,
           0,
           0,
           0,
           0,
           0,
           0,
           0,
           0,
           0,
           0,
           0,
           0,
           0,
           0,
           0,
           0,
           0,
           0,
           0,
           0,
           0,
           0,
           0,
           0,
           0,
           0,
           0,
           0,
           0,
           0,
           0,
           0,
           0,
           0,
           0,
           0,
           0,
           0,
           0,
           0,
           0,
           0,
           0,
           0,
           0,
           0,
           0,
           0,
           0,
           0,
           0,
           0,
           0,
           0,
           0,
           0,
           0,
           0,
           0,
           0,
           0,
           0,
           0,
           0,
           0,
           0,
           0,
           0,
           0,
           0,
           0,
           0,
           0,
           0,
           0,
           0,
           0,
           0,
           0,
           0,
           0,
           0,
           0,
           0,
           0,
           0,
           0,
           0,
           0,
           0,
           0,
           0,
           0,
           0,
           0,
           0,
           0,
           0,
           0,
           0,
           0,
           0,
           0,
           0,
           0,
           0,
           0,
           0,
           0,
           0,
           0,
           0,
           0,
           0,
           0,
           0,
           0,
           0,
           0,
           0,
           0,
           0,
           0,
           0,
           0,
           0,
           0,
           0,
           0,
           0,
           0,
           0,
           0,
           0,
           0,
           0,
           0,
           0,
           0,
           0,
           0,
           0,
           0,
           0,
           0,
           0,
           0,
           0,
           0,
           0,
           0,
           0,
           0,
           0,
           0,
           0,
           0,
           0,
           0,
           0,
           0,
           0,
           0,
           0,
           0,
           0,
           0,
           0,
           0,
           0,
           0,
           0,
           0,
           0,
           0,
           0,
           0,
           0,
           0,
           0,
           0,
           0,
           0,
           0,
           0,
           0,
           0,
           0,
           0,
           0,
           0,
           0,
           0,
           0,
           0,
           0,
           0,
           0,
           0,
           0,
           0,
           0,
           0,
           0,
           0,
           0,
           0,
           0,
           0,
           0,
           0,
           0,
           0,
           0,
           0,
           0,
           0,
           0,
           0,
           0,
           0,
           0,
           0,
           0,
           0,
           0,
           0,
           0,
           0
          ],
          "coloraxis": "coloraxis",
          "symbol": "circle"
         },
         "mode": "markers",
         "name": "0",
         "orientation": "v",
         "showlegend": true,
         "type": "scatter",
         "x": [
          0,
          0.0010658554443703134,
          0.029575513522791114,
          9.122581150127228e-06,
          0.002769294155476739,
          1.3018532258038877e-06,
          1.2116595595934655e-05,
          2.5800792718705074e-05,
          1.831844923844183e-05,
          0.0006418495982840718,
          0.0001243072344799435,
          4.2967638288704366e-08,
          1.0495823209192735e-06,
          0.04040449827006263,
          3.3378620409334326e-06,
          5.737098739796257e-06,
          0.00046650012982872547,
          9.016960544770809e-05,
          0.001695494126403373,
          1.782936687612714e-05,
          6.206713487587533e-05,
          0.021509260777747684,
          0.0016301560170937082,
          1.634357824597457e-05,
          6.675536126159023e-05,
          1.530959103431023e-05,
          3.253142420400061e-06,
          0.00022492901282684556,
          7.470714728778826e-05,
          0.02961202156181921,
          5.1220401872430455e-05,
          1.1464777636450732e-09,
          8.107205733460473e-05,
          0.0016387322668513756,
          1.4462882058089128e-06,
          0.001110065736838991,
          5.074317359596724e-05,
          3.2344880280320785e-05,
          7.02107913256062e-06,
          0.00010101121017516,
          3.3428344146286866e-05,
          0.000149486750682716,
          0.0018313682302272918,
          5.169059132444013e-05,
          3.9517270722996776e-05,
          5.373171257426225e-05,
          2.7459351832994873e-05,
          2.0428746910438998e-06,
          0.00017641218487765833,
          1.4826421555945544e-06,
          7.1685584936518354e-06,
          2.716970369101339e-06,
          1.1722032628249687e-05,
          1.5289689463744187e-06,
          6.430091286755607e-05,
          8.65464044533528e-06,
          3.3248663543496074e-07,
          0.00010101121017516,
          2.3275580507341256e-05,
          4.3495195674547396e-05,
          1.3667342096946377e-05,
          1.0469821310022305e-05,
          3.7067592744553853e-06,
          0.011107518609238073,
          5.180838862741675e-06,
          0.010171276554625372,
          9.089700841491067e-06,
          4.088632471488365e-05,
          1.051247114981269e-05,
          0.037345108590098736,
          4.421302536434042e-06,
          0.002169200088786735,
          2.0202208095288435e-05,
          0.0001359155890671144,
          1.2075723529647756e-06,
          1.6831280775777115e-05,
          8.429425494523455e-05,
          2.4634303574462228e-05,
          3.8980006684536215e-05,
          0.0008213147135639345,
          4.572054144447702e-06,
          0.00010101121017516,
          5.0505202053125176e-06,
          0.0006636438871562658,
          1.5721220645668756e-05,
          4.360196981630424e-05,
          6.014078665632431e-07,
          6.642442854597716e-07,
          2.60803781407262e-06,
          1.9594637532670447e-06,
          0.00017131364398891228,
          0.0006719268674458666,
          0.019775768099222997,
          7.478243316626309e-05,
          3.3861916349526105e-05,
          0.00026735498365459823,
          0.00015022067624351898,
          2.5253641442697554e-06,
          0.00010101121017516,
          1.799883162737528e-05,
          0.0010931059908985078,
          0.00010929623796285102,
          1.8528262748666736e-05,
          0.09312512499722704,
          3.892251219607147e-06,
          5.050558387524027e-05,
          1.7262376599622708e-05,
          2.4743064059498467e-06,
          2.0202208095288435e-05,
          6.130817447836677e-06,
          1.2542074300456016e-05,
          2.044869943142752e-05,
          7.635473614706129e-05,
          1.1192734045396626e-05,
          1.102474791110289e-05,
          8.22866956988183e-07,
          8.462552033844294e-06,
          0.034155080075394764,
          3.5080612062000273e-06,
          3.349277577788236e-06,
          1.0624091564757174e-05,
          3.053338648306851e-05,
          2.4207680022731743e-05,
          2.5515810848300206e-06,
          5.716282297716262e-06,
          1.1941233107066495e-05,
          3.112530434702042e-07,
          2.952126549266365e-06,
          0.00011111233543514395,
          1.4671691996262168e-05,
          0.001010112483573715,
          3.641488282863465e-05,
          1.329581530346377e-05,
          1.230736649923973e-05,
          0.00011174909809914192,
          0.0001122596585042139,
          2.1738914513579824e-05,
          0.00040548074292924503,
          0.00012289575426205164,
          5.423185059979209e-06,
          1.1598940316251253e-06,
          5.050138383197423e-07,
          0.000101562474035661,
          1.7344985622223908e-05,
          0.00029811998901383135,
          1.1505367505890212e-05,
          2.1574712631564118e-05,
          0.041070185354394564,
          1.0447665574437378e-05,
          0.00010101121017516,
          0.023032467461920655,
          4.21352278424478e-06,
          6.357853594515095e-05,
          6.873128862948033e-06,
          2.1483123708606792e-05,
          0.009136398000134972,
          2.213861203943481e-05,
          0.00010906460097861412,
          4.781040413584817e-05,
          1.2696327105426492e-05,
          1.8851988003957774e-05,
          0.05601552220497439,
          4.040407679314124e-06,
          1.9737140166968463e-05,
          4.242430184513802e-06,
          2.525277072528041e-05,
          0.026189258670453058,
          7.335800847435647e-06,
          0.0001844852931436257,
          1.1522282036277493e-06,
          2.4242658199282013e-05,
          0.048949520086634876,
          9.298162368349356e-05,
          0.0005662318877113143,
          8.389725261934065e-06,
          2.171384351108982e-06,
          3.102207945790435e-05,
          1.2455459479832744e-05,
          1.6527969228952047e-05,
          0.009091012681459745,
          3.8584836692894136e-05,
          0.0002910038484228817,
          0.028686337310386032,
          0.0001853899750634157,
          0.0001120991924368031,
          1.3381098896885897e-05,
          1.712718809077933e-05,
          0.004961167901150851,
          8.504501321182602e-06,
          4.5630997097805847e-05,
          2.7575706299068398e-05,
          0.0005969994384801132,
          2.5297704851289645e-06,
          4.451778025752022e-06,
          2.0652578416072093e-05,
          1.6343529760993054e-06,
          9.494351199405258e-06,
          0.00023722111232582548,
          0.00023262778644178535,
          0.00179001182933328,
          1.1365079253614639e-05,
          2.1897068832293194e-06,
          4.2347288850128173e-07,
          2.582854813272772e-05,
          0.0006574303062166524,
          1.3927242241484136e-05,
          8.5414692316889e-07,
          1.1940656333233882e-06,
          0.00027000068858884117,
          9.902789020916682e-06,
          2.2097771981660372e-05,
          9.9803767842214e-06,
          1.2435545813658904e-06,
          0.00014115267438470172,
          1.1187210463274429e-05,
          4.448291117312275e-06,
          0.0014183570665580888,
          1.1015197390448922e-05,
          3.909819065890078e-05,
          0.010303147722758945,
          7.707116164244029e-06,
          3.357426329493798e-05,
          2.181772113210989e-05,
          3.059040366757284e-05,
          0.0786595429746288,
          2.743690828304882e-06,
          5.8395573826824245e-05,
          1.837889033865967e-05,
          3.729646421313155e-05,
          7.1539706984986e-06,
          5.979308337633273e-06,
          1.0525074056122004e-06,
          1.346740196225012e-05,
          6.67218067557149e-05,
          5.458406164457927e-06,
          1.946433093556512e-05,
          3.108225736284029e-05,
          0.0001088535904090006,
          9.421410033173454e-06,
          4.719722337372877e-06,
          4.5501498543214275e-06,
          0.0010706728512052076,
          0.001010112483573715,
          0.001010112483573715,
          6.856000566804066e-06,
          0.000210624444042156,
          0.01738395948703501,
          3.566923871543799e-05,
          1.3612153166672831e-05,
          1.4926945321837101e-05,
          1.8449674225033587e-05,
          1.9542239715577493e-06,
          0.03113743575139919,
          7.228541424170134e-07,
          2.0754263081976124e-05,
          0.00020094986909566676,
          0.0009054256011906719,
          1.557612963693045e-05,
          2.401635291295234e-05,
          0.001010112483573715,
          0.015473799682463152,
          0.00024502709974477395,
          3.5728770966557666e-06,
          2.0784570290127343e-05,
          4.436632647507646e-06,
          9.72855332874592e-06,
          0.0004407662194377845,
          0.0009906501697518394,
          0.01812114093883431,
          0.0004992386451885693,
          6.060670913522422e-05,
          0.00040840509399131834,
          0.00020340058699908338,
          0.00010466971265911428,
          3.859845763729668e-06,
          1.707188620667946e-05,
          7.54311861724345e-05,
          0.00012122572346119352,
          0.010101372369569069,
          0.000254553934587528,
          1.131672502832021e-06,
          1.4215894737644412e-07,
          0.0010308647636696072,
          0.001133732360966037,
          0.001010112483573715,
          9.376971101068528e-06,
          0.001010112483573715,
          0.002020225004830237,
          1.5081994322403278e-05,
          1.2958228174697553e-07
         ],
         "xaxis": "x",
         "y": [
          4.2e-11,
          0.000532,
          0.314159265359,
          2.2e-05,
          0.0036005705019999997,
          2.2e-05,
          1.2499999999999999e-05,
          0.00035,
          1.6768584e-05,
          0,
          0,
          5e-07,
          1e-06,
          0.04,
          4.3799999999999996e-06,
          0,
          0,
          0.00012,
          0,
          2.2e-05,
          9.999999999999999e-05,
          0,
          0.0024192,
          1.618e-05,
          0,
          0,
          3.77e-06,
          0.00042,
          9.8e-05,
          0,
          0,
          1e-09,
          9.999999999999999e-05,
          0.0023,
          9.999999999999999e-06,
          0.0015999999999999999,
          9.999999999999999e-05,
          0,
          5.5e-06,
          0,
          0,
          0.001,
          0.0021588128,
          0.0005,
          6.8e-05,
          0,
          0,
          1.2e-05,
          0.0005,
          0,
          9.999999999999999e-06,
          1.9999999999999998e-05,
          1.9999999999999998e-05,
          0,
          7.8e-05,
          5.06e-06,
          0,
          9.999999999999999e-05,
          4.9999999999999996e-05,
          0.001,
          2.6297999999999998e-05,
          2.1e-05,
          2.2e-05,
          0.02655,
          1.05e-05,
          0,
          4.2e-05,
          0.000221052632,
          0.000384,
          0.099,
          3.9999999999999996e-05,
          0.002147483647,
          1.9999999999999998e-05,
          7.5e-05,
          0.000222725,
          0.000525,
          8.999999999999999e-05,
          0.000139,
          3.35e-05,
          0.002,
          4.4333333e-05,
          9.999999999999999e-05,
          0.00019999999999999998,
          0.000657,
          4.9999999999999996e-05,
          8.999999999999999e-05,
          2.1e-05,
          3e-06,
          2.1e-05,
          0,
          0,
          0.0031,
          0.02,
          7.4e-05,
          0,
          0.0015,
          3.9999898e-05,
          2.500124e-06,
          9.999999999999999e-05,
          0.000301,
          0.007506,
          0.000125,
          3e-05,
          0.00085,
          3.85332677707314e-06,
          4.9999999999999996e-05,
          3.854e-05,
          4.2e-05,
          1.9999999999999998e-05,
          6e-05,
          1.9999999999999998e-05,
          3.3e-05,
          7.65e-05,
          2.8e-05,
          0.000650659833,
          4.9999999999999996e-06,
          0.000144,
          0.032514916898,
          1.3e-05,
          3.315789e-06,
          1.5e-05,
          7.88352e-05,
          0.0005,
          2.1e-05,
          9.354e-06,
          1.9999999999999998e-05,
          2.1933333e-05,
          5.5e-05,
          0.00011,
          1.4524851482699999e-05,
          0.001,
          3.4426423e-05,
          9.999999999999999e-05,
          3.69e-05,
          0.00011,
          0.00011029002999999999,
          9.999999999999999e-05,
          0.00039999999999999996,
          0.0005,
          2.1212121e-05,
          2.86e-05,
          0.001,
          0.075,
          3.9999999999999996e-05,
          0.002,
          3e-05,
          0.000105,
          0.09,
          0.0002000842,
          9.999999999999999e-05,
          0.049999999999999996,
          9.999999999999999e-06,
          0.00012,
          9.999999999999999e-05,
          3e-05,
          0.049999999999999996,
          1.88981876216583e-05,
          0.0001375,
          9.999999999999999e-05,
          9.507271e-06,
          1.740589119707116e-05,
          0.086712634466,
          6.1599965e-05,
          4.8252e-05,
          4.2e-06,
          9.1388946e-05,
          0.045,
          2.7e-05,
          0.00039999999999999996,
          1.5733333e-05,
          2.4e-05,
          0.024999999999999998,
          9.999999999999999e-05,
          0.0012,
          6e-05,
          2.1e-05,
          0.00019999999999999998,
          2.1e-05,
          1.4788275991e-05,
          0.009,
          0.000144,
          0.0005,
          0.03,
          0.00021,
          0.00021,
          2.7716120999999998e-05,
          1.9999999999999998e-05,
          0.049999999999999996,
          0.00015,
          4.9999999999999996e-05,
          0.00012,
          0.0009,
          4e-06,
          2.1e-05,
          2.4999999999999998e-05,
          1.618033e-06,
          3e-05,
          0.000232,
          0.0007999999999999999,
          0.0052,
          1.9340594e-05,
          2.4999999999999998e-05,
          6e-05,
          0.000124,
          0.001,
          4.9999999999999996e-05,
          3e-06,
          4.9999999999999996e-06,
          0.0005,
          2.1e-05,
          8.8e-05,
          3e-05,
          9.999999999999999e-05,
          0.00019999999999999998,
          7.999999999999999e-05,
          4.4999999999999996e-05,
          0.00512195122,
          2.1e-05,
          2.6e-05,
          0.010199999999999999,
          4.4e-05,
          9.999999999999999e-05,
          8.4e-05,
          8.999999999999999e-05,
          0.092,
          0.00065,
          0.000100262205,
          1.8081806e-05,
          8.2546564e-05,
          2.1e-05,
          5.151e-06,
          0.01688,
          5.25e-05,
          9.999999999999999e-05,
          0.001,
          5.5e-05,
          4.9999999999999996e-05,
          0.00026,
          0.00021,
          0.000366,
          9.999999999999999e-05,
          0.018,
          0.001,
          0.001,
          4.9999999999999996e-05,
          0.06999999999999999,
          0,
          5.4e-05,
          0.000105,
          2.1e-05,
          1.9035999e-05,
          1.3369999999999999e-05,
          0.0748,
          1.97e-05,
          8.4e-05,
          0.0005,
          0.005,
          0.00042,
          3e-05,
          0.001,
          0.034999999999999996,
          0,
          0.00019999999999999998,
          5.4256118999999996e-05,
          2.1e-05,
          0,
          0.0005,
          0.0105,
          0.00018999999999999998,
          0.001,
          1.5e-05,
          0.00039999999999999996,
          0.000208,
          0.00015999999999999999,
          9e-06,
          1.6504333e-05,
          0.000105,
          0.0001599184,
          0.010008835635,
          0.0003,
          6.0168145e-05,
          1.2e-07,
          0,
          0,
          0.001,
          8.63414e-06,
          0.001,
          0.002,
          0.00025,
          1e-06
         ],
         "yaxis": "y"
        },
        {
         "hovertemplate": "<b>%{hovertext}</b><br><br>Class=%{marker.color}<br>TotalCoinsMined=%{x}<br>TotalCoinSupply=%{y}<extra></extra>",
         "hovertext": [
          "Bitcoin",
          "Ethereum",
          "Litecoin",
          "Monero",
          "Ethereum Classic",
          "ZCash",
          "DigiByte",
          "ProsperCoin",
          "Spreadcoin",
          "Argentum",
          "MyriadCoin",
          "MoonCoin",
          "ZetaCoin",
          "SexCoin",
          "Quatloo",
          "QuarkCoin",
          "Riecoin",
          "Digitalcoin ",
          "Catcoin",
          "CannaCoin",
          "CryptCoin",
          "Verge",
          "DevCoin",
          "EarthCoin",
          "E-Gulden",
          "Einsteinium",
          "Emerald",
          "Franko",
          "FeatherCoin",
          "GrandCoin",
          "GlobalCoin",
          "GoldCoin",
          "Infinite Coin",
          "IXcoin",
          "KrugerCoin",
          "LuckyCoin",
          "Litebar ",
          "MegaCoin",
          "MediterraneanCoin",
          "MinCoin",
          "NobleCoin",
          "Namecoin",
          "NyanCoin",
          "RonPaulCoin",
          "StableCoin",
          "SmartCoin",
          "SysCoin",
          "TigerCoin",
          "TerraCoin",
          "UnbreakableCoin",
          "Unobtanium",
          "UroCoin",
          "ViaCoin",
          "Vertcoin",
          "WorldCoin",
          "JouleCoin",
          "ByteCoin",
          "DigitalNote ",
          "MonaCoin",
          "Gulden",
          "PesetaCoin",
          "Wild Beast Coin",
          "Flo",
          "ArtByte",
          "Folding Coin",
          "Unitus",
          "CypherPunkCoin",
          "OmniCron",
          "GreenCoin",
          "Cryptonite",
          "MasterCoin",
          "SoonCoin",
          "1Credit",
          "MarsCoin ",
          "Crypto",
          "Anarchists Prime",
          "BowsCoin",
          "Song Coin",
          "BitZeny",
          "Expanse",
          "Siacoin",
          "MindCoin",
          "I0coin",
          "Revolution VR",
          "HOdlcoin",
          "Gamecredits",
          "CarpeDiemCoin",
          "Adzcoin",
          "SoilCoin",
          "YoCoin",
          "SibCoin",
          "Francs",
          "BolivarCoin",
          "Omni",
          "PizzaCoin",
          "Komodo",
          "Karbo",
          "ZayedCoin",
          "Circuits of Value",
          "DopeCoin",
          "DollarCoin",
          "Shilling",
          "ZCoin",
          "Elementrem",
          "ZClassic",
          "KiloCoin",
          "ArtexCoin",
          "Kurrent",
          "Cannabis Industry Coin",
          "OsmiumCoin",
          "Bikercoins",
          "HexxCoin",
          "PacCoin",
          "Citadel",
          "BeaverCoin",
          "VaultCoin",
          "Zero",
          "Canada eCoin",
          "Zoin",
          "DubaiCoin",
          "EB3coin",
          "Coinonat",
          "BenjiRolls",
          "ILCoin",
          "EquiTrader",
          "Quantum Resistant Ledger",
          "Dynamic",
          "Nano",
          "ChanCoin",
          "Dinastycoin",
          "DigitalPrice",
          "Unify",
          "SocialCoin",
          "ArcticCoin",
          "DAS",
          "LeviarCoin",
          "Bitcore",
          "gCn Coin",
          "SmartCash",
          "Onix",
          "Bitcoin Cash",
          "Sojourn Coin",
          "NewYorkCoin",
          "FrazCoin",
          "Kronecoin",
          "AdCoin",
          "Linx",
          "Sumokoin",
          "BitcoinZ",
          "Elements",
          "VIVO Coin",
          "Bitcoin Gold",
          "Pirl",
          "eBoost",
          "Pura",
          "Innova",
          "Ellaism",
          "GoByte",
          "SHIELD",
          "UltraNote",
          "BitCoal",
          "DaxxCoin",
          "AC3",
          "Lethean",
          "PopularCoin",
          "Photon",
          "Sucre",
          "SparksPay",
          "GunCoin",
          "IrishCoin",
          "Pioneer Coin",
          "UnitedBitcoin",
          "Interzone",
          "TurtleCoin",
          "MUNcoin",
          "Niobio Cash",
          "ShareChain",
          "Travelflex",
          "KREDS",
          "BitFlip",
          "LottoCoin",
          "Crypto Improvement Fund",
          "Callisto Network",
          "BitTube",
          "Poseidon",
          "Aidos Kuneen",
          "Bitrolium",
          "Alpenschillling",
          "FuturoCoin",
          "Monero Classic",
          "Jumpcoin",
          "Infinex",
          "KEYCO",
          "GINcoin",
          "PlatinCoin",
          "Loki",
          "Newton Coin",
          "MassGrid",
          "PluraCoin",
          "Motion",
          "PlusOneCoin",
          "Axe",
          "HexCoin",
          "Webchain",
          "Ryo",
          "Urals Coin",
          "Qwertycoin",
          "Project Pai",
          "Azart",
          "Xchange",
          "CrypticCoin",
          "Actinium",
          "Bitcoin SV",
          "FREDEnergy",
          "Universal Molecule",
          "Lithium",
          "Exosis",
          "Block-Logic",
          "Beam",
          "Bithereum",
          "SLICE",
          "BLAST",
          "Bitcoin Rhodium",
          "GlobalToken",
          "SolarCoin",
          "UFO Coin",
          "BlakeCoin",
          "Crypto Escudo",
          "Crown Coin",
          "SmileyCoin",
          "Groestlcoin",
          "Bata",
          "Pakcoin",
          "JoinCoin",
          "Vollar",
          "Reality Clash",
          "Beldex",
          "Horizen"
         ],
         "legendgroup": "2",
         "marker": {
          "color": [
           2,
           2,
           2,
           2,
           2,
           2,
           2,
           2,
           2,
           2,
           2,
           2,
           2,
           2,
           2,
           2,
           2,
           2,
           2,
           2,
           2,
           2,
           2,
           2,
           2,
           2,
           2,
           2,
           2,
           2,
           2,
           2,
           2,
           2,
           2,
           2,
           2,
           2,
           2,
           2,
           2,
           2,
           2,
           2,
           2,
           2,
           2,
           2,
           2,
           2,
           2,
           2,
           2,
           2,
           2,
           2,
           2,
           2,
           2,
           2,
           2,
           2,
           2,
           2,
           2,
           2,
           2,
           2,
           2,
           2,
           2,
           2,
           2,
           2,
           2,
           2,
           2,
           2,
           2,
           2,
           2,
           2,
           2,
           2,
           2,
           2,
           2,
           2,
           2,
           2,
           2,
           2,
           2,
           2,
           2,
           2,
           2,
           2,
           2,
           2,
           2,
           2,
           2,
           2,
           2,
           2,
           2,
           2,
           2,
           2,
           2,
           2,
           2,
           2,
           2,
           2,
           2,
           2,
           2,
           2,
           2,
           2,
           2,
           2,
           2,
           2,
           2,
           2,
           2,
           2,
           2,
           2,
           2,
           2,
           2,
           2,
           2,
           2,
           2,
           2,
           2,
           2,
           2,
           2,
           2,
           2,
           2,
           2,
           2,
           2,
           2,
           2,
           2,
           2,
           2,
           2,
           2,
           2,
           2,
           2,
           2,
           2,
           2,
           2,
           2,
           2,
           2,
           2,
           2,
           2,
           2,
           2,
           2,
           2,
           2,
           2,
           2,
           2,
           2,
           2,
           2,
           2,
           2,
           2,
           2,
           2,
           2,
           2,
           2,
           2,
           2,
           2,
           2,
           2,
           2,
           2,
           2,
           2,
           2,
           2,
           2,
           2,
           2,
           2,
           2,
           2,
           2,
           2,
           2,
           2,
           2,
           2,
           2,
           2,
           2,
           2,
           2,
           2,
           2,
           2,
           2,
           2,
           2,
           2,
           2,
           2,
           2,
           2,
           2,
           2,
           2,
           2,
           2,
           2,
           2,
           2,
           2,
           2
          ],
          "coloraxis": "coloraxis",
          "symbol": "diamond"
         },
         "mode": "markers",
         "name": "2",
         "orientation": "v",
         "showlegend": true,
         "type": "scatter",
         "x": [
          1.8108421598585816e-05,
          0.00010877313976335468,
          6.367668686211587e-05,
          1.7375047727488684e-05,
          0.00011450601351907833,
          7.457675173596279e-06,
          0.011521564786182067,
          5.826599760162344e-06,
          1.1262443547866963e-05,
          1.2329184444043638e-05,
          0.0017053267225703456,
          4.646522283282147e-11,
          0.00017192554364660632,
          0.0001302448274794628,
          7.432158258950554e-06,
          0.00026218190106836077,
          5.004960407203722e-05,
          3.3781139008450015e-05,
          7.292926220874455e-06,
          4.751405197486568e-06,
          5.047475933992751e-06,
          0.016090618419729627,
          0.018963708579634225,
          0.012665816261468323,
          2.1121894142137528e-05,
          0.0002210852018189937,
          1.969390564401809e-05,
          1.1542456330155606e-06,
          0.00021077922221115263,
          0.000893066504733897,
          6.633679513934237e-05,
          4.2079879736249724e-05,
          0.09151190488395176,
          2.130257316436215e-05,
          0.0001529791256713188,
          1.952171462386499e-05,
          1.1154695144323575e-06,
          3.853777066024121e-05,
          4.084068267938516e-05,
          5.8628576360991e-06,
          0.0023899931703711126,
          1.4885379803443286e-05,
          0.0003380939367828343,
          1.1152808176527055e-06,
          2.446001595507046e-05,
          2.5852512043003808e-05,
          0.0005690332542950281,
          4.3977024597207445e-05,
          2.316728836365402e-05,
          2.3011454264237876e-06,
          2.0290109255462446e-07,
          1.2194765290836668e-06,
          2.3384963742223858e-05,
          5.169117700448562e-05,
          0.0001208164268757715,
          3.959206487073396e-05,
          0.18592820936339893,
          0.006976430614728428,
          6.88842528690752e-05,
          0.00041922940371274717,
          0.00013890826284479005,
          1.8371648199843193e-07,
          0.00015381046349316466,
          0.0008005517611206417,
          0.0007266920705903823,
          6.577171953463686e-05,
          6.429611685370236e-06,
          1.0242543481404855e-05,
          0.004656962788057776,
          0.0007156712681788526,
          6.257000627009784e-07,
          1.2588606144078657e-05,
          8.906263157644134e-08,
          3.254737390940308e-05,
          1.388166937063467e-05,
          1.4896289018926092e-05,
          1.6024218544473603e-05,
          3.289457501821606e-05,
          7.637911117242616e-05,
          1.0601369346955924e-05,
          0.03343300387173752,
          1.602811505354264e-05,
          2.120977197104188e-05,
          0.00021212358803498338,
          1.1564684369737338e-05,
          7.054227695219703e-05,
          0.0219598179179117,
          4.556646089956654e-05,
          5.759667683964639e-06,
          6.428563793372448e-07,
          1.743788870157756e-05,
          6.637212695356324e-06,
          1.3792117338373683e-05,
          6.226394217472033e-07,
          1.3918087968066747e-06,
          0.00011707011143822338,
          7.901494854014166e-06,
          6.306938569650361e-06,
          0.001010112483573715,
          0.00011802678598125889,
          9.198763457405489e-06,
          1.1231600774401894e-05,
          7.64477326578056e-06,
          2.6470500769759988e-05,
          5.670274745638833e-06,
          0.00019828299691049012,
          0.0008323326789979977,
          6.198532384216967e-05,
          9.879940920632446e-07,
          9.030244364887856e-07,
          9.45166937098981e-06,
          1.895076598604205e-06,
          0.0005424122767593174,
          1.1080203617022588e-05,
          3.1467187028372516e-06,
          3.06927721385458e-05,
          6.991606880143162e-06,
          0.00010085303495353078,
          1.8733259530199216e-05,
          2.2554388447348865e-06,
          6.4744182567565e-05,
          1.0225528698507492e-05,
          2.0481099301609794e-05,
          0.00133107321342839,
          1.3811636685882888e-05,
          6.973410292439654e-05,
          1.9984250712738026e-05,
          0.00013459573144297484,
          1.859336055000138e-05,
          0.0018277653841021488,
          3.549427637356498e-05,
          1.8316524981192004e-05,
          5.219991834361899e-06,
          2.6305676035663084e-05,
          2.6493675781863705e-06,
          1.4304972176342188e-05,
          1.79818445601243e-05,
          0.16470399637021482,
          0.0022636713700820437,
          0.00012371413404244978,
          1.8177528090389545e-05,
          4.900783145103299e-07,
          0.14445282836496898,
          9.802131952335057e-06,
          1.7630208474200687e-05,
          3.2976829554994085e-05,
          3.405744282107109e-05,
          9.037083836381659e-06,
          0.005264255183404156,
          0.002730188324649383,
          4.2080536057275544e-06,
          1.7376277988060767e-05,
          3.433063179417746e-05,
          0.00010100111055846874,
          0.00017698769150478906,
          6.439686588109045e-06,
          1.2885323668253108e-05,
          5.8912438052245976e-06,
          0.00048660203702011835,
          0.019476809291408066,
          4.545463942313321e-06,
          0.0005261592692429206,
          8.112836430670049e-05,
          0.0004457123454091431,
          0.00400428929463865,
          0.030393954073733687,
          4.271764361299468e-06,
          7.926732120684645e-06,
          0.00030282962516929856,
          4.594295543407392e-05,
          8.563796965572327e-06,
          2.036988677460417e-05,
          1.2037052476950459e-05,
          0.05367721313649496,
          4.867022143120781e-06,
          0.00013528682091182333,
          0.010101125217559265,
          0.00010841055314609413,
          0.0006503062720085249,
          1.2571919087957276e-05,
          0.014637555138650792,
          0.00021343434893853904,
          0.0002501163979438093,
          8.08585389130738e-05,
          4.1113298508009395e-06,
          2.525277072528041e-05,
          7.207701869161089e-05,
          2.761694076055857e-05,
          3.2123011865143136e-05,
          1.6178792528933295e-05,
          2.12823681393255e-05,
          5.149197805826263e-06,
          8.0344855378839e-07,
          7.05700742826996e-06,
          8.511006126220963e-08,
          1.934728117688423e-05,
          0.04171211188183845,
          0.0001372362858296267,
          0.000565749793734985,
          8.207995617581074e-06,
          8.732790637721589e-06,
          5.043480425424593e-06,
          1.4309466834066776e-06,
          1.5737712054640045e-05,
          4.940313898388515e-06,
          1.4895231528171468e-05,
          0.10055984390482109,
          0.002121236262171949,
          5.066562179265316e-06,
          9.852346277489665e-06,
          0.00427793913676562,
          1.3772690350429755e-05,
          1.8174421994387353e-05,
          0.001885935471805804,
          1.5941992995464667e-06,
          1.6006929204207734e-05,
          4.1015611546984553e-07,
          3.5641492369034067e-05,
          3.604836854913877e-05,
          2.540508306779439e-05,
          1.3056460389715756e-05,
          5.2822616985570724e-05,
          1.1820846886525212e-06,
          8.546870974887076e-05,
          5.612693724123281e-05,
          0.0038633621961948403,
          2.359294387236469e-05,
          0.0007881005585632962,
          2.3219342578744854e-05,
          0.029883158141660888,
          7.403939145513336e-05,
          5.1036075982334715e-06,
          7.038909888132847e-05,
          3.366584340752429e-06,
          0.00010101121017516,
          2.4735536642457163e-05,
          0.0009901350790514718,
          7.370281500487556e-06
         ],
         "xaxis": "x",
         "y": [
          2.1e-05,
          0,
          8.4e-05,
          0,
          0.00021,
          2.1e-05,
          0.021,
          2.1e-05,
          1.9999999999999998e-05,
          6.4e-05,
          0.002,
          0.384,
          0.000169795588,
          0.00025,
          9.999999999999999e-05,
          0.000247,
          8.4e-05,
          4.8166e-05,
          2.1e-05,
          1.314e-05,
          1.8e-05,
          0.016555,
          0.021,
          0.0135,
          2.1e-05,
          0.000299792458,
          3.2e-05,
          1.1235812999999999e-05,
          0.000336,
          0.001420609614,
          7e-05,
          7.22457e-05,
          0.0906,
          2.1e-05,
          0.0002654208,
          1.9999999999999998e-05,
          1.35e-06,
          4.2e-05,
          0.00019999999999999998,
          9.999999999999999e-06,
          0.015,
          2.1e-05,
          0.000337,
          2.1e-05,
          0.00025,
          5.12e-05,
          0.000888,
          4.7011968e-05,
          4.2e-05,
          7.999999999999999e-05,
          2.5e-07,
          0,
          2.3e-05,
          8.4e-05,
          0.0002654208,
          4.4999999999999996e-05,
          0.184467440735,
          0.01,
          0.00010512,
          0.00168,
          0.000166386,
          2.628e-06,
          0.00015999999999999999,
          0.001,
          0.001,
          0,
          0,
          3.3713369999999998e-06,
          0.01,
          0.00184,
          6.19478e-07,
          2.1e-05,
          0.092,
          3.3e-05,
          6.57891e-05,
          5.376e-05,
          2.1e-05,
          0.00021024,
          0.00025,
          1.6906397e-05,
          0,
          1.6e-05,
          2.1e-05,
          0.00021,
          8.196209999999999e-05,
          8.4e-05,
          0.02162628,
          8.4e-05,
          3e-05,
          0.0001683513,
          2.4e-05,
          1.9999999999999998e-05,
          2.4999999999999998e-05,
          6.16448e-07,
          2.4999999999999998e-05,
          0.00019999999999999998,
          9.999999999999999e-06,
          9.736e-06,
          0.0012,
          0.00019999999999999998,
          1.0638297999999999e-05,
          3e-05,
          2.14e-05,
          2.6205539e-05,
          2.1e-05,
          0.01,
          0.0005,
          0.00022799999999999999,
          2.1e-05,
          2.714286e-06,
          2.4999999999999998e-05,
          9.999999e-06,
          0.09999999999999999,
          0.000185,
          3.36e-06,
          0.001,
          1.7e-05,
          9.999999999999999e-05,
          2.1e-05,
          2.232901e-06,
          0.004,
          4.8252e-05,
          3.55204e-05,
          0.0025,
          7.2e-05,
          0.000105,
          0,
          0.000340282367,
          3e-05,
          0.002,
          9.999999999999999e-05,
          1.9276799999999998e-05,
          7.5e-05,
          6e-05,
          1.89e-05,
          5.4e-05,
          2.1e-05,
          0.19999999999999998,
          0.005,
          0.0011,
          2.1e-05,
          0.0105,
          0,
          1.9999999999999998e-05,
          8.4e-05,
          9.999999999999999e-05,
          9.999999999999999e-05,
          8.8888888e-05,
          0.021,
          0.0018,
          2.7e-05,
          2.1e-05,
          0.00015630673271,
          9.999999999999999e-05,
          0.00035,
          4.4999999999999996e-05,
          0.00028,
          3.18e-05,
          0.00066,
          0.08499999999999999,
          1.2499999999999999e-05,
          0.01,
          0.00055,
          0.000999481516,
          0.004999999999,
          0.09,
          1.98e-05,
          2.1e-05,
          0.0005,
          6.4e-05,
          2.3e-05,
          2.0166e-05,
          2.3e-05,
          1,
          1.66e-05,
          0.000336,
          0.01,
          9.999999999999999e-05,
          0.0011,
          3.9999999999999996e-05,
          0.01840697984,
          0.0005,
          0.0065,
          0.001,
          2.1e-05,
          2.4999999999999998e-05,
          7e-05,
          0.0003,
          9.999999999999999e-05,
          1.84e-05,
          2.1e-05,
          2.628e-05,
          1.8e-05,
          1.05e-05,
          0.0006000005179999999,
          0.00015,
          0.184,
          0.000168,
          0.001,
          2.20757e-05,
          2.1e-05,
          2.1e-05,
          2.2105263e-05,
          0.00175,
          8.818888799999999e-05,
          0.00021,
          0.18447,
          0.0021,
          2.4999999999999998e-05,
          9.999999999999999e-05,
          0.0076,
          8.4e-05,
          2.1e-05,
          0.00808,
          0.00010512000144,
          2.5228799999999998e-05,
          2.1e-05,
          0.00012,
          0.0002628,
          3.0886e-05,
          9.999999999999999e-05,
          6.4e-05,
          2.1e-06,
          0.000168,
          0.09809999999999999,
          0.004,
          0.007,
          0.001,
          4.2e-05,
          0.049999999999999996,
          0.000105,
          4.9999999999999996e-06,
          0.000182,
          2.8e-06,
          0.0021,
          2.4487944e-05,
          0.00140022261,
          2.1e-05
         ],
         "yaxis": "y"
        },
        {
         "hovertemplate": "<b>%{hovertext}</b><br><br>Class=%{marker.color}<br>TotalCoinsMined=%{x}<br>TotalCoinSupply=%{y}<extra></extra>",
         "hovertext": [
          "LitecoinCash",
          "Poa Network",
          "Waves"
         ],
         "legendgroup": "3",
         "marker": {
          "color": [
           3,
           3,
           3
          ],
          "coloraxis": "coloraxis",
          "symbol": "square"
         },
         "mode": "markers",
         "name": "3",
         "orientation": "v",
         "showlegend": true,
         "type": "scatter",
         "x": [
          0.0006448379477152089,
          0.00020654679617333478,
          0.00010101121017516
         ],
         "xaxis": "x",
         "y": [
          0.00084,
          0.0002524608,
          9.999999999999999e-05
         ],
         "yaxis": "y"
        },
        {
         "hovertemplate": "<b>%{hovertext}</b><br><br>Class=%{marker.color}<br>TotalCoinsMined=%{x}<br>TotalCoinSupply=%{y}<extra></extra>",
         "hovertext": [
          "BitTorrent"
         ],
         "legendgroup": "1",
         "marker": {
          "color": [
           1
          ],
          "coloraxis": "coloraxis",
          "symbol": "x"
         },
         "mode": "markers",
         "name": "1",
         "orientation": "v",
         "showlegend": true,
         "type": "scatter",
         "x": [
          1
         ],
         "xaxis": "x",
         "y": [
          0.99
         ],
         "yaxis": "y"
        }
       ],
       "layout": {
        "coloraxis": {
         "colorbar": {
          "title": {
           "text": "Class"
          }
         },
         "colorscale": [
          [
           0,
           "#0d0887"
          ],
          [
           0.1111111111111111,
           "#46039f"
          ],
          [
           0.2222222222222222,
           "#7201a8"
          ],
          [
           0.3333333333333333,
           "#9c179e"
          ],
          [
           0.4444444444444444,
           "#bd3786"
          ],
          [
           0.5555555555555556,
           "#d8576b"
          ],
          [
           0.6666666666666666,
           "#ed7953"
          ],
          [
           0.7777777777777778,
           "#fb9f3a"
          ],
          [
           0.8888888888888888,
           "#fdca26"
          ],
          [
           1,
           "#f0f921"
          ]
         ]
        },
        "legend": {
         "title": {
          "text": "Class"
         },
         "tracegroupgap": 0
        },
        "margin": {
         "t": 60
        },
        "template": {
         "data": {
          "bar": [
           {
            "error_x": {
             "color": "#2a3f5f"
            },
            "error_y": {
             "color": "#2a3f5f"
            },
            "marker": {
             "line": {
              "color": "#E5ECF6",
              "width": 0.5
             },
             "pattern": {
              "fillmode": "overlay",
              "size": 10,
              "solidity": 0.2
             }
            },
            "type": "bar"
           }
          ],
          "barpolar": [
           {
            "marker": {
             "line": {
              "color": "#E5ECF6",
              "width": 0.5
             },
             "pattern": {
              "fillmode": "overlay",
              "size": 10,
              "solidity": 0.2
             }
            },
            "type": "barpolar"
           }
          ],
          "carpet": [
           {
            "aaxis": {
             "endlinecolor": "#2a3f5f",
             "gridcolor": "white",
             "linecolor": "white",
             "minorgridcolor": "white",
             "startlinecolor": "#2a3f5f"
            },
            "baxis": {
             "endlinecolor": "#2a3f5f",
             "gridcolor": "white",
             "linecolor": "white",
             "minorgridcolor": "white",
             "startlinecolor": "#2a3f5f"
            },
            "type": "carpet"
           }
          ],
          "choropleth": [
           {
            "colorbar": {
             "outlinewidth": 0,
             "ticks": ""
            },
            "type": "choropleth"
           }
          ],
          "contour": [
           {
            "colorbar": {
             "outlinewidth": 0,
             "ticks": ""
            },
            "colorscale": [
             [
              0,
              "#0d0887"
             ],
             [
              0.1111111111111111,
              "#46039f"
             ],
             [
              0.2222222222222222,
              "#7201a8"
             ],
             [
              0.3333333333333333,
              "#9c179e"
             ],
             [
              0.4444444444444444,
              "#bd3786"
             ],
             [
              0.5555555555555556,
              "#d8576b"
             ],
             [
              0.6666666666666666,
              "#ed7953"
             ],
             [
              0.7777777777777778,
              "#fb9f3a"
             ],
             [
              0.8888888888888888,
              "#fdca26"
             ],
             [
              1,
              "#f0f921"
             ]
            ],
            "type": "contour"
           }
          ],
          "contourcarpet": [
           {
            "colorbar": {
             "outlinewidth": 0,
             "ticks": ""
            },
            "type": "contourcarpet"
           }
          ],
          "heatmap": [
           {
            "colorbar": {
             "outlinewidth": 0,
             "ticks": ""
            },
            "colorscale": [
             [
              0,
              "#0d0887"
             ],
             [
              0.1111111111111111,
              "#46039f"
             ],
             [
              0.2222222222222222,
              "#7201a8"
             ],
             [
              0.3333333333333333,
              "#9c179e"
             ],
             [
              0.4444444444444444,
              "#bd3786"
             ],
             [
              0.5555555555555556,
              "#d8576b"
             ],
             [
              0.6666666666666666,
              "#ed7953"
             ],
             [
              0.7777777777777778,
              "#fb9f3a"
             ],
             [
              0.8888888888888888,
              "#fdca26"
             ],
             [
              1,
              "#f0f921"
             ]
            ],
            "type": "heatmap"
           }
          ],
          "heatmapgl": [
           {
            "colorbar": {
             "outlinewidth": 0,
             "ticks": ""
            },
            "colorscale": [
             [
              0,
              "#0d0887"
             ],
             [
              0.1111111111111111,
              "#46039f"
             ],
             [
              0.2222222222222222,
              "#7201a8"
             ],
             [
              0.3333333333333333,
              "#9c179e"
             ],
             [
              0.4444444444444444,
              "#bd3786"
             ],
             [
              0.5555555555555556,
              "#d8576b"
             ],
             [
              0.6666666666666666,
              "#ed7953"
             ],
             [
              0.7777777777777778,
              "#fb9f3a"
             ],
             [
              0.8888888888888888,
              "#fdca26"
             ],
             [
              1,
              "#f0f921"
             ]
            ],
            "type": "heatmapgl"
           }
          ],
          "histogram": [
           {
            "marker": {
             "pattern": {
              "fillmode": "overlay",
              "size": 10,
              "solidity": 0.2
             }
            },
            "type": "histogram"
           }
          ],
          "histogram2d": [
           {
            "colorbar": {
             "outlinewidth": 0,
             "ticks": ""
            },
            "colorscale": [
             [
              0,
              "#0d0887"
             ],
             [
              0.1111111111111111,
              "#46039f"
             ],
             [
              0.2222222222222222,
              "#7201a8"
             ],
             [
              0.3333333333333333,
              "#9c179e"
             ],
             [
              0.4444444444444444,
              "#bd3786"
             ],
             [
              0.5555555555555556,
              "#d8576b"
             ],
             [
              0.6666666666666666,
              "#ed7953"
             ],
             [
              0.7777777777777778,
              "#fb9f3a"
             ],
             [
              0.8888888888888888,
              "#fdca26"
             ],
             [
              1,
              "#f0f921"
             ]
            ],
            "type": "histogram2d"
           }
          ],
          "histogram2dcontour": [
           {
            "colorbar": {
             "outlinewidth": 0,
             "ticks": ""
            },
            "colorscale": [
             [
              0,
              "#0d0887"
             ],
             [
              0.1111111111111111,
              "#46039f"
             ],
             [
              0.2222222222222222,
              "#7201a8"
             ],
             [
              0.3333333333333333,
              "#9c179e"
             ],
             [
              0.4444444444444444,
              "#bd3786"
             ],
             [
              0.5555555555555556,
              "#d8576b"
             ],
             [
              0.6666666666666666,
              "#ed7953"
             ],
             [
              0.7777777777777778,
              "#fb9f3a"
             ],
             [
              0.8888888888888888,
              "#fdca26"
             ],
             [
              1,
              "#f0f921"
             ]
            ],
            "type": "histogram2dcontour"
           }
          ],
          "mesh3d": [
           {
            "colorbar": {
             "outlinewidth": 0,
             "ticks": ""
            },
            "type": "mesh3d"
           }
          ],
          "parcoords": [
           {
            "line": {
             "colorbar": {
              "outlinewidth": 0,
              "ticks": ""
             }
            },
            "type": "parcoords"
           }
          ],
          "pie": [
           {
            "automargin": true,
            "type": "pie"
           }
          ],
          "scatter": [
           {
            "marker": {
             "colorbar": {
              "outlinewidth": 0,
              "ticks": ""
             }
            },
            "type": "scatter"
           }
          ],
          "scatter3d": [
           {
            "line": {
             "colorbar": {
              "outlinewidth": 0,
              "ticks": ""
             }
            },
            "marker": {
             "colorbar": {
              "outlinewidth": 0,
              "ticks": ""
             }
            },
            "type": "scatter3d"
           }
          ],
          "scattercarpet": [
           {
            "marker": {
             "colorbar": {
              "outlinewidth": 0,
              "ticks": ""
             }
            },
            "type": "scattercarpet"
           }
          ],
          "scattergeo": [
           {
            "marker": {
             "colorbar": {
              "outlinewidth": 0,
              "ticks": ""
             }
            },
            "type": "scattergeo"
           }
          ],
          "scattergl": [
           {
            "marker": {
             "colorbar": {
              "outlinewidth": 0,
              "ticks": ""
             }
            },
            "type": "scattergl"
           }
          ],
          "scattermapbox": [
           {
            "marker": {
             "colorbar": {
              "outlinewidth": 0,
              "ticks": ""
             }
            },
            "type": "scattermapbox"
           }
          ],
          "scatterpolar": [
           {
            "marker": {
             "colorbar": {
              "outlinewidth": 0,
              "ticks": ""
             }
            },
            "type": "scatterpolar"
           }
          ],
          "scatterpolargl": [
           {
            "marker": {
             "colorbar": {
              "outlinewidth": 0,
              "ticks": ""
             }
            },
            "type": "scatterpolargl"
           }
          ],
          "scatterternary": [
           {
            "marker": {
             "colorbar": {
              "outlinewidth": 0,
              "ticks": ""
             }
            },
            "type": "scatterternary"
           }
          ],
          "surface": [
           {
            "colorbar": {
             "outlinewidth": 0,
             "ticks": ""
            },
            "colorscale": [
             [
              0,
              "#0d0887"
             ],
             [
              0.1111111111111111,
              "#46039f"
             ],
             [
              0.2222222222222222,
              "#7201a8"
             ],
             [
              0.3333333333333333,
              "#9c179e"
             ],
             [
              0.4444444444444444,
              "#bd3786"
             ],
             [
              0.5555555555555556,
              "#d8576b"
             ],
             [
              0.6666666666666666,
              "#ed7953"
             ],
             [
              0.7777777777777778,
              "#fb9f3a"
             ],
             [
              0.8888888888888888,
              "#fdca26"
             ],
             [
              1,
              "#f0f921"
             ]
            ],
            "type": "surface"
           }
          ],
          "table": [
           {
            "cells": {
             "fill": {
              "color": "#EBF0F8"
             },
             "line": {
              "color": "white"
             }
            },
            "header": {
             "fill": {
              "color": "#C8D4E3"
             },
             "line": {
              "color": "white"
             }
            },
            "type": "table"
           }
          ]
         },
         "layout": {
          "annotationdefaults": {
           "arrowcolor": "#2a3f5f",
           "arrowhead": 0,
           "arrowwidth": 1
          },
          "autotypenumbers": "strict",
          "coloraxis": {
           "colorbar": {
            "outlinewidth": 0,
            "ticks": ""
           }
          },
          "colorscale": {
           "diverging": [
            [
             0,
             "#8e0152"
            ],
            [
             0.1,
             "#c51b7d"
            ],
            [
             0.2,
             "#de77ae"
            ],
            [
             0.3,
             "#f1b6da"
            ],
            [
             0.4,
             "#fde0ef"
            ],
            [
             0.5,
             "#f7f7f7"
            ],
            [
             0.6,
             "#e6f5d0"
            ],
            [
             0.7,
             "#b8e186"
            ],
            [
             0.8,
             "#7fbc41"
            ],
            [
             0.9,
             "#4d9221"
            ],
            [
             1,
             "#276419"
            ]
           ],
           "sequential": [
            [
             0,
             "#0d0887"
            ],
            [
             0.1111111111111111,
             "#46039f"
            ],
            [
             0.2222222222222222,
             "#7201a8"
            ],
            [
             0.3333333333333333,
             "#9c179e"
            ],
            [
             0.4444444444444444,
             "#bd3786"
            ],
            [
             0.5555555555555556,
             "#d8576b"
            ],
            [
             0.6666666666666666,
             "#ed7953"
            ],
            [
             0.7777777777777778,
             "#fb9f3a"
            ],
            [
             0.8888888888888888,
             "#fdca26"
            ],
            [
             1,
             "#f0f921"
            ]
           ],
           "sequentialminus": [
            [
             0,
             "#0d0887"
            ],
            [
             0.1111111111111111,
             "#46039f"
            ],
            [
             0.2222222222222222,
             "#7201a8"
            ],
            [
             0.3333333333333333,
             "#9c179e"
            ],
            [
             0.4444444444444444,
             "#bd3786"
            ],
            [
             0.5555555555555556,
             "#d8576b"
            ],
            [
             0.6666666666666666,
             "#ed7953"
            ],
            [
             0.7777777777777778,
             "#fb9f3a"
            ],
            [
             0.8888888888888888,
             "#fdca26"
            ],
            [
             1,
             "#f0f921"
            ]
           ]
          },
          "colorway": [
           "#636efa",
           "#EF553B",
           "#00cc96",
           "#ab63fa",
           "#FFA15A",
           "#19d3f3",
           "#FF6692",
           "#B6E880",
           "#FF97FF",
           "#FECB52"
          ],
          "font": {
           "color": "#2a3f5f"
          },
          "geo": {
           "bgcolor": "white",
           "lakecolor": "white",
           "landcolor": "#E5ECF6",
           "showlakes": true,
           "showland": true,
           "subunitcolor": "white"
          },
          "hoverlabel": {
           "align": "left"
          },
          "hovermode": "closest",
          "mapbox": {
           "style": "light"
          },
          "paper_bgcolor": "white",
          "plot_bgcolor": "#E5ECF6",
          "polar": {
           "angularaxis": {
            "gridcolor": "white",
            "linecolor": "white",
            "ticks": ""
           },
           "bgcolor": "#E5ECF6",
           "radialaxis": {
            "gridcolor": "white",
            "linecolor": "white",
            "ticks": ""
           }
          },
          "scene": {
           "xaxis": {
            "backgroundcolor": "#E5ECF6",
            "gridcolor": "white",
            "gridwidth": 2,
            "linecolor": "white",
            "showbackground": true,
            "ticks": "",
            "zerolinecolor": "white"
           },
           "yaxis": {
            "backgroundcolor": "#E5ECF6",
            "gridcolor": "white",
            "gridwidth": 2,
            "linecolor": "white",
            "showbackground": true,
            "ticks": "",
            "zerolinecolor": "white"
           },
           "zaxis": {
            "backgroundcolor": "#E5ECF6",
            "gridcolor": "white",
            "gridwidth": 2,
            "linecolor": "white",
            "showbackground": true,
            "ticks": "",
            "zerolinecolor": "white"
           }
          },
          "shapedefaults": {
           "line": {
            "color": "#2a3f5f"
           }
          },
          "ternary": {
           "aaxis": {
            "gridcolor": "white",
            "linecolor": "white",
            "ticks": ""
           },
           "baxis": {
            "gridcolor": "white",
            "linecolor": "white",
            "ticks": ""
           },
           "bgcolor": "#E5ECF6",
           "caxis": {
            "gridcolor": "white",
            "linecolor": "white",
            "ticks": ""
           }
          },
          "title": {
           "x": 0.05
          },
          "xaxis": {
           "automargin": true,
           "gridcolor": "white",
           "linecolor": "white",
           "ticks": "",
           "title": {
            "standoff": 15
           },
           "zerolinecolor": "white",
           "zerolinewidth": 2
          },
          "yaxis": {
           "automargin": true,
           "gridcolor": "white",
           "linecolor": "white",
           "ticks": "",
           "title": {
            "standoff": 15
           },
           "zerolinecolor": "white",
           "zerolinewidth": 2
          }
         }
        },
        "xaxis": {
         "anchor": "y",
         "domain": [
          0,
          1
         ],
         "title": {
          "text": "TotalCoinsMined"
         }
        },
        "yaxis": {
         "anchor": "x",
         "domain": [
          0,
          1
         ],
         "title": {
          "text": "TotalCoinSupply"
         }
        }
       }
      },
      "text/html": [
       "<div>                            <div id=\"cfd3bf52-d21d-471c-84ac-b8cb3f37cc7c\" class=\"plotly-graph-div\" style=\"height:525px; width:100%;\"></div>            <script type=\"text/javascript\">                require([\"plotly\"], function(Plotly) {                    window.PLOTLYENV=window.PLOTLYENV || {};                                    if (document.getElementById(\"cfd3bf52-d21d-471c-84ac-b8cb3f37cc7c\")) {                    Plotly.newPlot(                        \"cfd3bf52-d21d-471c-84ac-b8cb3f37cc7c\",                        [{\"hovertemplate\":\"<b>%{hovertext}</b><br><br>Class=%{marker.color}<br>TotalCoinsMined=%{x}<br>TotalCoinSupply=%{y}<extra></extra>\",\"hovertext\":[\"42 Coin\",\"404Coin\",\"EliteCoin\",\"Dash\",\"Bitshares\",\"BitcoinDark\",\"PayCoin\",\"KoboCoin\",\"Aurora Coin\",\"BlueCoin\",\"EnergyCoin\",\"BitBar\",\"CryptoBullion\",\"CasinoCoin\",\"Diamond\",\"Exclusive Coin\",\"FlutterCoin\",\"HoboNickels\",\"HyperStake\",\"IOCoin\",\"MaxCoin\",\"MintCoin\",\"MazaCoin\",\"Nautilus Coin\",\"NavCoin\",\"OpalCoin\",\"Orbitcoin\",\"PotCoin\",\"PhoenixCoin\",\"Reddcoin\",\"SuperCoin\",\"SyncCoin\",\"TeslaCoin\",\"TittieCoin\",\"TorCoin\",\"UnitaryStatus Dollar\",\"UltraCoin\",\"VeriCoin\",\"X11 Coin\",\"Crypti\",\"StealthCoin\",\"ZCC Coin\",\"BurstCoin\",\"StorjCoin\",\"Neutron\",\"FairCoin\",\"RubyCoin\",\"Kore\",\"Dnotes\",\"8BIT Coin\",\"Sativa Coin\",\"Ucoin\",\"Vtorrent\",\"IslaCoin\",\"Nexus\",\"Droidz\",\"Squall Coin\",\"Diggits\",\"Paycon\",\"Emercoin\",\"EverGreenCoin\",\"Decred\",\"EDRCoin\",\"Hitcoin\",\"DubaiCoin\",\"PWR Coin\",\"BillaryCoin\",\"GPU Coin\",\"EuropeCoin\",\"ZeitCoin\",\"SwingCoin\",\"SafeExchangeCoin\",\"Nebuchadnezzar\",\"Ratecoin\",\"Revenu\",\"Clockcoin\",\"VIP Tokens\",\"BitSend\",\"Let it Ride\",\"PutinCoin\",\"iBankCoin\",\"Frankywillcoin\",\"MudraCoin\",\"Lutetium Coin\",\"GoldBlocks\",\"CarterCoin\",\"BitTokens\",\"MustangCoin\",\"ZoneCoin\",\"RootCoin\",\"BitCurrency\",\"Swiscoin\",\"BuzzCoin\",\"Opair\",\"PesoBit\",\"Halloween Coin\",\"CoffeeCoin\",\"RoyalCoin\",\"GanjaCoin V2\",\"TeamUP\",\"LanaCoin\",\"ARK\",\"InsaneCoin\",\"EmberCoin\",\"XenixCoin\",\"FreeCoin\",\"PLNCoin\",\"AquariusCoin\",\"Creatio\",\"Eternity\",\"Eurocoin\",\"BitcoinFast\",\"Stakenet\",\"BitConnect Coin\",\"MoneyCoin\",\"Enigma\",\"Russiacoin\",\"PandaCoin\",\"GameUnits\",\"GAKHcoin\",\"Allsafe\",\"LiteCreed\",\"Klingon Empire Darsek\",\"Internet of People\",\"KushCoin\",\"Printerium\",\"Impeach\",\"Zilbercoin\",\"FirstCoin\",\"FindCoin\",\"OpenChat\",\"RenosCoin\",\"VirtacoinPlus\",\"TajCoin\",\"Impact\",\"Atmos\",\"HappyCoin\",\"MacronCoin\",\"Condensate\",\"Independent Money System\",\"ArgusCoin\",\"LomoCoin\",\"ProCurrency\",\"GoldReserve\",\"GrowthCoin\",\"Phreak\",\"Degas Coin\",\"HTML5 Coin\",\"Ultimate Secure Cash\",\"QTUM\",\"Espers\",\"Denarius\",\"Virta Unique Coin\",\"Bitcoin Planet\",\"BritCoin\",\"Linda\",\"DeepOnion\",\"Signatum\",\"Cream\",\"Monoeci\",\"Draftcoin\",\"Vechain\",\"Stakecoin\",\"CoinonatX\",\"Ethereum Dark\",\"Obsidian\",\"Cardano\",\"Regalcoin\",\"TrezarCoin\",\"TerraNovaCoin\",\"Rupee\",\"WomenCoin\",\"Theresa May Coin\",\"NamoCoin\",\"LUXCoin\",\"Xios\",\"Bitcloud 2.0\",\"KekCoin\",\"BlackholeCoin\",\"Infinity Economics\",\"Magnet\",\"Lamden Tau\",\"Electra\",\"Bitcoin Diamond\",\"Cash & Back Coin\",\"Bulwark\",\"Kalkulus\",\"GermanCoin\",\"LiteCoin Ultra\",\"PhantomX\",\"Digiwage\",\"Trollcoin\",\"Litecoin Plus\",\"Monkey Project\",\"TokenPay\",\"1717 Masonic Commemorative Token\",\"My Big Coin\",\"Unified Society USDEX\",\"Tokyo Coin\",\"BiblePay\",\"Stipend\",\"Pushi\",\"Ellerium\",\"Velox\",\"Ontology\",\"Bitspace\",\"Briacoin\",\"Ignition\",\"MedicCoin\",\"Bitcoin Green\",\"Deviant Coin\",\"Abjcoin\",\"Semux\",\"Carebit\",\"Zealium\",\"Proton\",\"iDealCash\",\"Bitcoin Incognito\",\"HollyWoodCoin\",\"Swisscoin\",\"Xt3ch\",\"TheVig\",\"EmaratCoin\",\"Dekado\",\"Lynx\",\"Poseidon Quark\",\"BitcoinWSpectrum\",\"Muse\",\"Trivechain\",\"Dystem\",\"Giant\",\"Peony Coin\",\"Absolute Coin\",\"Vitae\",\"TPCash\",\"ARENON\",\"EUNO\",\"MMOCoin\",\"Ketan\",\"XDNA\",\"PAXEX\",\"ThunderStake\",\"Kcash\",\"Acute Angle Cloud\",\"Bettex coin\",\"BitMoney\",\"Junson Ming Chan Coin\",\"HerbCoin\",\"PirateCash\",\"Oduwa\",\"Galilel\",\"Crypto Sports\",\"Credit\",\"Dash Platinum\",\"Nasdacoin\",\"Beetle Coin\",\"Titan Coin\",\"Award\",\"Insane Coin\",\"ALAX\",\"LiteDoge\",\"TruckCoin\",\"OrangeCoin\",\"BitstarCoin\",\"NeosCoin\",\"HyperCoin\",\"PinkCoin\",\"AudioCoin\",\"IncaKoin\",\"Piggy Coin\",\"Genstake\",\"XiaoMiCoin\",\"CapriCoin\",\" ClubCoin\",\"Radium\",\"Creditbit \",\"OKCash\",\"Lisk\",\"HiCoin\",\"WhiteCoin\",\"FriendshipCoin\",\"Triangles Coin\",\"EOS\",\"Oxycoin\",\"TigerCash\",\"Particl\",\"Nxt\",\"ZEPHYR\",\"Gapcoin\",\"BitcoinPlus\"],\"legendgroup\":\"0\",\"marker\":{\"color\":[0,0,0,0,0,0,0,0,0,0,0,0,0,0,0,0,0,0,0,0,0,0,0,0,0,0,0,0,0,0,0,0,0,0,0,0,0,0,0,0,0,0,0,0,0,0,0,0,0,0,0,0,0,0,0,0,0,0,0,0,0,0,0,0,0,0,0,0,0,0,0,0,0,0,0,0,0,0,0,0,0,0,0,0,0,0,0,0,0,0,0,0,0,0,0,0,0,0,0,0,0,0,0,0,0,0,0,0,0,0,0,0,0,0,0,0,0,0,0,0,0,0,0,0,0,0,0,0,0,0,0,0,0,0,0,0,0,0,0,0,0,0,0,0,0,0,0,0,0,0,0,0,0,0,0,0,0,0,0,0,0,0,0,0,0,0,0,0,0,0,0,0,0,0,0,0,0,0,0,0,0,0,0,0,0,0,0,0,0,0,0,0,0,0,0,0,0,0,0,0,0,0,0,0,0,0,0,0,0,0,0,0,0,0,0,0,0,0,0,0,0,0,0,0,0,0,0,0,0,0,0,0,0,0,0,0,0,0,0,0,0,0,0,0,0,0,0,0,0,0,0,0,0,0,0,0,0,0,0,0,0,0,0,0,0,0,0,0,0,0,0,0,0,0,0,0,0,0,0,0,0,0,0,0,0,0,0,0,0,0],\"coloraxis\":\"coloraxis\",\"symbol\":\"circle\"},\"mode\":\"markers\",\"name\":\"0\",\"orientation\":\"v\",\"showlegend\":true,\"type\":\"scatter\",\"x\":[0.0,0.0010658554443703134,0.029575513522791114,9.122581150127228e-06,0.002769294155476739,1.3018532258038877e-06,1.2116595595934655e-05,2.5800792718705074e-05,1.831844923844183e-05,0.0006418495982840718,0.0001243072344799435,4.2967638288704366e-08,1.0495823209192735e-06,0.04040449827006263,3.3378620409334326e-06,5.737098739796257e-06,0.00046650012982872547,9.016960544770809e-05,0.001695494126403373,1.782936687612714e-05,6.206713487587533e-05,0.021509260777747684,0.0016301560170937082,1.634357824597457e-05,6.675536126159023e-05,1.530959103431023e-05,3.253142420400061e-06,0.00022492901282684556,7.470714728778826e-05,0.02961202156181921,5.1220401872430455e-05,1.1464777636450732e-09,8.107205733460473e-05,0.0016387322668513756,1.4462882058089128e-06,0.001110065736838991,5.074317359596724e-05,3.2344880280320785e-05,7.02107913256062e-06,0.00010101121017516,3.3428344146286866e-05,0.000149486750682716,0.0018313682302272918,5.169059132444013e-05,3.9517270722996776e-05,5.373171257426225e-05,2.7459351832994873e-05,2.0428746910438998e-06,0.00017641218487765833,1.4826421555945544e-06,7.1685584936518354e-06,2.716970369101339e-06,1.1722032628249687e-05,1.5289689463744187e-06,6.430091286755607e-05,8.65464044533528e-06,3.3248663543496074e-07,0.00010101121017516,2.3275580507341256e-05,4.3495195674547396e-05,1.3667342096946377e-05,1.0469821310022305e-05,3.7067592744553853e-06,0.011107518609238073,5.180838862741675e-06,0.010171276554625372,9.089700841491067e-06,4.088632471488365e-05,1.051247114981269e-05,0.037345108590098736,4.421302536434042e-06,0.002169200088786735,2.0202208095288435e-05,0.0001359155890671144,1.2075723529647756e-06,1.6831280775777115e-05,8.429425494523455e-05,2.4634303574462228e-05,3.8980006684536215e-05,0.0008213147135639345,4.572054144447702e-06,0.00010101121017516,5.0505202053125176e-06,0.0006636438871562658,1.5721220645668756e-05,4.360196981630424e-05,6.014078665632431e-07,6.642442854597716e-07,2.60803781407262e-06,1.9594637532670447e-06,0.00017131364398891228,0.0006719268674458666,0.019775768099222997,7.478243316626309e-05,3.3861916349526105e-05,0.00026735498365459823,0.00015022067624351898,2.5253641442697554e-06,0.00010101121017516,1.799883162737528e-05,0.0010931059908985078,0.00010929623796285102,1.8528262748666736e-05,0.09312512499722704,3.892251219607147e-06,5.050558387524027e-05,1.7262376599622708e-05,2.4743064059498467e-06,2.0202208095288435e-05,6.130817447836677e-06,1.2542074300456016e-05,2.044869943142752e-05,7.635473614706129e-05,1.1192734045396626e-05,1.102474791110289e-05,8.22866956988183e-07,8.462552033844294e-06,0.034155080075394764,3.5080612062000273e-06,3.349277577788236e-06,1.0624091564757174e-05,3.053338648306851e-05,2.4207680022731743e-05,2.5515810848300206e-06,5.716282297716262e-06,1.1941233107066495e-05,3.112530434702042e-07,2.952126549266365e-06,0.00011111233543514395,1.4671691996262168e-05,0.001010112483573715,3.641488282863465e-05,1.329581530346377e-05,1.230736649923973e-05,0.00011174909809914192,0.0001122596585042139,2.1738914513579824e-05,0.00040548074292924503,0.00012289575426205164,5.423185059979209e-06,1.1598940316251253e-06,5.050138383197423e-07,0.000101562474035661,1.7344985622223908e-05,0.00029811998901383135,1.1505367505890212e-05,2.1574712631564118e-05,0.041070185354394564,1.0447665574437378e-05,0.00010101121017516,0.023032467461920655,4.21352278424478e-06,6.357853594515095e-05,6.873128862948033e-06,2.1483123708606792e-05,0.009136398000134972,2.213861203943481e-05,0.00010906460097861412,4.781040413584817e-05,1.2696327105426492e-05,1.8851988003957774e-05,0.05601552220497439,4.040407679314124e-06,1.9737140166968463e-05,4.242430184513802e-06,2.525277072528041e-05,0.026189258670453058,7.335800847435647e-06,0.0001844852931436257,1.1522282036277493e-06,2.4242658199282013e-05,0.048949520086634876,9.298162368349356e-05,0.0005662318877113143,8.389725261934065e-06,2.171384351108982e-06,3.102207945790435e-05,1.2455459479832744e-05,1.6527969228952047e-05,0.009091012681459745,3.8584836692894136e-05,0.0002910038484228817,0.028686337310386032,0.0001853899750634157,0.0001120991924368031,1.3381098896885897e-05,1.712718809077933e-05,0.004961167901150851,8.504501321182602e-06,4.5630997097805847e-05,2.7575706299068398e-05,0.0005969994384801132,2.5297704851289645e-06,4.451778025752022e-06,2.0652578416072093e-05,1.6343529760993054e-06,9.494351199405258e-06,0.00023722111232582548,0.00023262778644178535,0.00179001182933328,1.1365079253614639e-05,2.1897068832293194e-06,4.2347288850128173e-07,2.582854813272772e-05,0.0006574303062166524,1.3927242241484136e-05,8.5414692316889e-07,1.1940656333233882e-06,0.00027000068858884117,9.902789020916682e-06,2.2097771981660372e-05,9.9803767842214e-06,1.2435545813658904e-06,0.00014115267438470172,1.1187210463274429e-05,4.448291117312275e-06,0.0014183570665580888,1.1015197390448922e-05,3.909819065890078e-05,0.010303147722758945,7.707116164244029e-06,3.357426329493798e-05,2.181772113210989e-05,3.059040366757284e-05,0.0786595429746288,2.743690828304882e-06,5.8395573826824245e-05,1.837889033865967e-05,3.729646421313155e-05,7.1539706984986e-06,5.979308337633273e-06,1.0525074056122004e-06,1.346740196225012e-05,6.67218067557149e-05,5.458406164457927e-06,1.946433093556512e-05,3.108225736284029e-05,0.0001088535904090006,9.421410033173454e-06,4.719722337372877e-06,4.5501498543214275e-06,0.0010706728512052076,0.001010112483573715,0.001010112483573715,6.856000566804066e-06,0.000210624444042156,0.01738395948703501,3.566923871543799e-05,1.3612153166672831e-05,1.4926945321837101e-05,1.8449674225033587e-05,1.9542239715577493e-06,0.03113743575139919,7.228541424170134e-07,2.0754263081976124e-05,0.00020094986909566676,0.0009054256011906719,1.557612963693045e-05,2.401635291295234e-05,0.001010112483573715,0.015473799682463152,0.00024502709974477395,3.5728770966557666e-06,2.0784570290127343e-05,4.436632647507646e-06,9.72855332874592e-06,0.0004407662194377845,0.0009906501697518394,0.01812114093883431,0.0004992386451885693,6.060670913522422e-05,0.00040840509399131834,0.00020340058699908338,0.00010466971265911428,3.859845763729668e-06,1.707188620667946e-05,7.54311861724345e-05,0.00012122572346119352,0.010101372369569069,0.000254553934587528,1.131672502832021e-06,1.4215894737644412e-07,0.0010308647636696072,0.001133732360966037,0.001010112483573715,9.376971101068528e-06,0.001010112483573715,0.002020225004830237,1.5081994322403278e-05,1.2958228174697553e-07],\"xaxis\":\"x\",\"y\":[4.2e-11,0.000532,0.314159265359,2.2e-05,0.0036005705019999997,2.2e-05,1.2499999999999999e-05,0.00035,1.6768584e-05,0.0,0.0,5e-07,1e-06,0.04,4.3799999999999996e-06,0.0,0.0,0.00012,0.0,2.2e-05,9.999999999999999e-05,0.0,0.0024192,1.618e-05,0.0,0.0,3.77e-06,0.00042,9.8e-05,0.0,0.0,1e-09,9.999999999999999e-05,0.0023,9.999999999999999e-06,0.0015999999999999999,9.999999999999999e-05,0.0,5.5e-06,0.0,0.0,0.001,0.0021588128,0.0005,6.8e-05,0.0,0.0,1.2e-05,0.0005,0.0,9.999999999999999e-06,1.9999999999999998e-05,1.9999999999999998e-05,0.0,7.8e-05,5.06e-06,0.0,9.999999999999999e-05,4.9999999999999996e-05,0.001,2.6297999999999998e-05,2.1e-05,2.2e-05,0.02655,1.05e-05,0.0,4.2e-05,0.000221052632,0.000384,0.099,3.9999999999999996e-05,0.002147483647,1.9999999999999998e-05,7.5e-05,0.000222725,0.000525,8.999999999999999e-05,0.000139,3.35e-05,0.002,4.4333333e-05,9.999999999999999e-05,0.00019999999999999998,0.000657,4.9999999999999996e-05,8.999999999999999e-05,2.1e-05,3e-06,2.1e-05,0.0,0.0,0.0031,0.02,7.4e-05,0.0,0.0015,3.9999898e-05,2.500124e-06,9.999999999999999e-05,0.000301,0.007506,0.000125,3e-05,0.00085,3.85332677707314e-06,4.9999999999999996e-05,3.854e-05,4.2e-05,1.9999999999999998e-05,6e-05,1.9999999999999998e-05,3.3e-05,7.65e-05,2.8e-05,0.000650659833,4.9999999999999996e-06,0.000144,0.032514916898,1.3e-05,3.315789e-06,1.5e-05,7.88352e-05,0.0005,2.1e-05,9.354e-06,1.9999999999999998e-05,2.1933333e-05,5.5e-05,0.00011,1.4524851482699999e-05,0.001,3.4426423e-05,9.999999999999999e-05,3.69e-05,0.00011,0.00011029002999999999,9.999999999999999e-05,0.00039999999999999996,0.0005,2.1212121e-05,2.86e-05,0.001,0.075,3.9999999999999996e-05,0.002,3e-05,0.000105,0.09,0.0002000842,9.999999999999999e-05,0.049999999999999996,9.999999999999999e-06,0.00012,9.999999999999999e-05,3e-05,0.049999999999999996,1.88981876216583e-05,0.0001375,9.999999999999999e-05,9.507271e-06,1.740589119707116e-05,0.086712634466,6.1599965e-05,4.8252e-05,4.2e-06,9.1388946e-05,0.045,2.7e-05,0.00039999999999999996,1.5733333e-05,2.4e-05,0.024999999999999998,9.999999999999999e-05,0.0012,6e-05,2.1e-05,0.00019999999999999998,2.1e-05,1.4788275991e-05,0.009,0.000144,0.0005,0.03,0.00021,0.00021,2.7716120999999998e-05,1.9999999999999998e-05,0.049999999999999996,0.00015,4.9999999999999996e-05,0.00012,0.0009,4e-06,2.1e-05,2.4999999999999998e-05,1.618033e-06,3e-05,0.000232,0.0007999999999999999,0.0052,1.9340594e-05,2.4999999999999998e-05,6e-05,0.000124,0.001,4.9999999999999996e-05,3e-06,4.9999999999999996e-06,0.0005,2.1e-05,8.8e-05,3e-05,9.999999999999999e-05,0.00019999999999999998,7.999999999999999e-05,4.4999999999999996e-05,0.00512195122,2.1e-05,2.6e-05,0.010199999999999999,4.4e-05,9.999999999999999e-05,8.4e-05,8.999999999999999e-05,0.092,0.00065,0.000100262205,1.8081806e-05,8.2546564e-05,2.1e-05,5.151e-06,0.01688,5.25e-05,9.999999999999999e-05,0.001,5.5e-05,4.9999999999999996e-05,0.00026,0.00021,0.000366,9.999999999999999e-05,0.018,0.001,0.001,4.9999999999999996e-05,0.06999999999999999,0.0,5.4e-05,0.000105,2.1e-05,1.9035999e-05,1.3369999999999999e-05,0.0748,1.97e-05,8.4e-05,0.0005,0.005,0.00042,3e-05,0.001,0.034999999999999996,0.0,0.00019999999999999998,5.4256118999999996e-05,2.1e-05,0.0,0.0005,0.0105,0.00018999999999999998,0.001,1.5e-05,0.00039999999999999996,0.000208,0.00015999999999999999,9e-06,1.6504333e-05,0.000105,0.0001599184,0.010008835635,0.0003,6.0168145e-05,1.2e-07,0.0,0.0,0.001,8.63414e-06,0.001,0.002,0.00025,1e-06],\"yaxis\":\"y\"},{\"hovertemplate\":\"<b>%{hovertext}</b><br><br>Class=%{marker.color}<br>TotalCoinsMined=%{x}<br>TotalCoinSupply=%{y}<extra></extra>\",\"hovertext\":[\"Bitcoin\",\"Ethereum\",\"Litecoin\",\"Monero\",\"Ethereum Classic\",\"ZCash\",\"DigiByte\",\"ProsperCoin\",\"Spreadcoin\",\"Argentum\",\"MyriadCoin\",\"MoonCoin\",\"ZetaCoin\",\"SexCoin\",\"Quatloo\",\"QuarkCoin\",\"Riecoin\",\"Digitalcoin \",\"Catcoin\",\"CannaCoin\",\"CryptCoin\",\"Verge\",\"DevCoin\",\"EarthCoin\",\"E-Gulden\",\"Einsteinium\",\"Emerald\",\"Franko\",\"FeatherCoin\",\"GrandCoin\",\"GlobalCoin\",\"GoldCoin\",\"Infinite Coin\",\"IXcoin\",\"KrugerCoin\",\"LuckyCoin\",\"Litebar \",\"MegaCoin\",\"MediterraneanCoin\",\"MinCoin\",\"NobleCoin\",\"Namecoin\",\"NyanCoin\",\"RonPaulCoin\",\"StableCoin\",\"SmartCoin\",\"SysCoin\",\"TigerCoin\",\"TerraCoin\",\"UnbreakableCoin\",\"Unobtanium\",\"UroCoin\",\"ViaCoin\",\"Vertcoin\",\"WorldCoin\",\"JouleCoin\",\"ByteCoin\",\"DigitalNote \",\"MonaCoin\",\"Gulden\",\"PesetaCoin\",\"Wild Beast Coin\",\"Flo\",\"ArtByte\",\"Folding Coin\",\"Unitus\",\"CypherPunkCoin\",\"OmniCron\",\"GreenCoin\",\"Cryptonite\",\"MasterCoin\",\"SoonCoin\",\"1Credit\",\"MarsCoin \",\"Crypto\",\"Anarchists Prime\",\"BowsCoin\",\"Song Coin\",\"BitZeny\",\"Expanse\",\"Siacoin\",\"MindCoin\",\"I0coin\",\"Revolution VR\",\"HOdlcoin\",\"Gamecredits\",\"CarpeDiemCoin\",\"Adzcoin\",\"SoilCoin\",\"YoCoin\",\"SibCoin\",\"Francs\",\"BolivarCoin\",\"Omni\",\"PizzaCoin\",\"Komodo\",\"Karbo\",\"ZayedCoin\",\"Circuits of Value\",\"DopeCoin\",\"DollarCoin\",\"Shilling\",\"ZCoin\",\"Elementrem\",\"ZClassic\",\"KiloCoin\",\"ArtexCoin\",\"Kurrent\",\"Cannabis Industry Coin\",\"OsmiumCoin\",\"Bikercoins\",\"HexxCoin\",\"PacCoin\",\"Citadel\",\"BeaverCoin\",\"VaultCoin\",\"Zero\",\"Canada eCoin\",\"Zoin\",\"DubaiCoin\",\"EB3coin\",\"Coinonat\",\"BenjiRolls\",\"ILCoin\",\"EquiTrader\",\"Quantum Resistant Ledger\",\"Dynamic\",\"Nano\",\"ChanCoin\",\"Dinastycoin\",\"DigitalPrice\",\"Unify\",\"SocialCoin\",\"ArcticCoin\",\"DAS\",\"LeviarCoin\",\"Bitcore\",\"gCn Coin\",\"SmartCash\",\"Onix\",\"Bitcoin Cash\",\"Sojourn Coin\",\"NewYorkCoin\",\"FrazCoin\",\"Kronecoin\",\"AdCoin\",\"Linx\",\"Sumokoin\",\"BitcoinZ\",\"Elements\",\"VIVO Coin\",\"Bitcoin Gold\",\"Pirl\",\"eBoost\",\"Pura\",\"Innova\",\"Ellaism\",\"GoByte\",\"SHIELD\",\"UltraNote\",\"BitCoal\",\"DaxxCoin\",\"AC3\",\"Lethean\",\"PopularCoin\",\"Photon\",\"Sucre\",\"SparksPay\",\"GunCoin\",\"IrishCoin\",\"Pioneer Coin\",\"UnitedBitcoin\",\"Interzone\",\"TurtleCoin\",\"MUNcoin\",\"Niobio Cash\",\"ShareChain\",\"Travelflex\",\"KREDS\",\"BitFlip\",\"LottoCoin\",\"Crypto Improvement Fund\",\"Callisto Network\",\"BitTube\",\"Poseidon\",\"Aidos Kuneen\",\"Bitrolium\",\"Alpenschillling\",\"FuturoCoin\",\"Monero Classic\",\"Jumpcoin\",\"Infinex\",\"KEYCO\",\"GINcoin\",\"PlatinCoin\",\"Loki\",\"Newton Coin\",\"MassGrid\",\"PluraCoin\",\"Motion\",\"PlusOneCoin\",\"Axe\",\"HexCoin\",\"Webchain\",\"Ryo\",\"Urals Coin\",\"Qwertycoin\",\"Project Pai\",\"Azart\",\"Xchange\",\"CrypticCoin\",\"Actinium\",\"Bitcoin SV\",\"FREDEnergy\",\"Universal Molecule\",\"Lithium\",\"Exosis\",\"Block-Logic\",\"Beam\",\"Bithereum\",\"SLICE\",\"BLAST\",\"Bitcoin Rhodium\",\"GlobalToken\",\"SolarCoin\",\"UFO Coin\",\"BlakeCoin\",\"Crypto Escudo\",\"Crown Coin\",\"SmileyCoin\",\"Groestlcoin\",\"Bata\",\"Pakcoin\",\"JoinCoin\",\"Vollar\",\"Reality Clash\",\"Beldex\",\"Horizen\"],\"legendgroup\":\"2\",\"marker\":{\"color\":[2,2,2,2,2,2,2,2,2,2,2,2,2,2,2,2,2,2,2,2,2,2,2,2,2,2,2,2,2,2,2,2,2,2,2,2,2,2,2,2,2,2,2,2,2,2,2,2,2,2,2,2,2,2,2,2,2,2,2,2,2,2,2,2,2,2,2,2,2,2,2,2,2,2,2,2,2,2,2,2,2,2,2,2,2,2,2,2,2,2,2,2,2,2,2,2,2,2,2,2,2,2,2,2,2,2,2,2,2,2,2,2,2,2,2,2,2,2,2,2,2,2,2,2,2,2,2,2,2,2,2,2,2,2,2,2,2,2,2,2,2,2,2,2,2,2,2,2,2,2,2,2,2,2,2,2,2,2,2,2,2,2,2,2,2,2,2,2,2,2,2,2,2,2,2,2,2,2,2,2,2,2,2,2,2,2,2,2,2,2,2,2,2,2,2,2,2,2,2,2,2,2,2,2,2,2,2,2,2,2,2,2,2,2,2,2,2,2,2,2,2,2,2,2,2,2,2,2,2,2,2,2,2,2,2,2,2,2],\"coloraxis\":\"coloraxis\",\"symbol\":\"diamond\"},\"mode\":\"markers\",\"name\":\"2\",\"orientation\":\"v\",\"showlegend\":true,\"type\":\"scatter\",\"x\":[1.8108421598585816e-05,0.00010877313976335468,6.367668686211587e-05,1.7375047727488684e-05,0.00011450601351907833,7.457675173596279e-06,0.011521564786182067,5.826599760162344e-06,1.1262443547866963e-05,1.2329184444043638e-05,0.0017053267225703456,4.646522283282147e-11,0.00017192554364660632,0.0001302448274794628,7.432158258950554e-06,0.00026218190106836077,5.004960407203722e-05,3.3781139008450015e-05,7.292926220874455e-06,4.751405197486568e-06,5.047475933992751e-06,0.016090618419729627,0.018963708579634225,0.012665816261468323,2.1121894142137528e-05,0.0002210852018189937,1.969390564401809e-05,1.1542456330155606e-06,0.00021077922221115263,0.000893066504733897,6.633679513934237e-05,4.2079879736249724e-05,0.09151190488395176,2.130257316436215e-05,0.0001529791256713188,1.952171462386499e-05,1.1154695144323575e-06,3.853777066024121e-05,4.084068267938516e-05,5.8628576360991e-06,0.0023899931703711126,1.4885379803443286e-05,0.0003380939367828343,1.1152808176527055e-06,2.446001595507046e-05,2.5852512043003808e-05,0.0005690332542950281,4.3977024597207445e-05,2.316728836365402e-05,2.3011454264237876e-06,2.0290109255462446e-07,1.2194765290836668e-06,2.3384963742223858e-05,5.169117700448562e-05,0.0001208164268757715,3.959206487073396e-05,0.18592820936339893,0.006976430614728428,6.88842528690752e-05,0.00041922940371274717,0.00013890826284479005,1.8371648199843193e-07,0.00015381046349316466,0.0008005517611206417,0.0007266920705903823,6.577171953463686e-05,6.429611685370236e-06,1.0242543481404855e-05,0.004656962788057776,0.0007156712681788526,6.257000627009784e-07,1.2588606144078657e-05,8.906263157644134e-08,3.254737390940308e-05,1.388166937063467e-05,1.4896289018926092e-05,1.6024218544473603e-05,3.289457501821606e-05,7.637911117242616e-05,1.0601369346955924e-05,0.03343300387173752,1.602811505354264e-05,2.120977197104188e-05,0.00021212358803498338,1.1564684369737338e-05,7.054227695219703e-05,0.0219598179179117,4.556646089956654e-05,5.759667683964639e-06,6.428563793372448e-07,1.743788870157756e-05,6.637212695356324e-06,1.3792117338373683e-05,6.226394217472033e-07,1.3918087968066747e-06,0.00011707011143822338,7.901494854014166e-06,6.306938569650361e-06,0.001010112483573715,0.00011802678598125889,9.198763457405489e-06,1.1231600774401894e-05,7.64477326578056e-06,2.6470500769759988e-05,5.670274745638833e-06,0.00019828299691049012,0.0008323326789979977,6.198532384216967e-05,9.879940920632446e-07,9.030244364887856e-07,9.45166937098981e-06,1.895076598604205e-06,0.0005424122767593174,1.1080203617022588e-05,3.1467187028372516e-06,3.06927721385458e-05,6.991606880143162e-06,0.00010085303495353078,1.8733259530199216e-05,2.2554388447348865e-06,6.4744182567565e-05,1.0225528698507492e-05,2.0481099301609794e-05,0.00133107321342839,1.3811636685882888e-05,6.973410292439654e-05,1.9984250712738026e-05,0.00013459573144297484,1.859336055000138e-05,0.0018277653841021488,3.549427637356498e-05,1.8316524981192004e-05,5.219991834361899e-06,2.6305676035663084e-05,2.6493675781863705e-06,1.4304972176342188e-05,1.79818445601243e-05,0.16470399637021482,0.0022636713700820437,0.00012371413404244978,1.8177528090389545e-05,4.900783145103299e-07,0.14445282836496898,9.802131952335057e-06,1.7630208474200687e-05,3.2976829554994085e-05,3.405744282107109e-05,9.037083836381659e-06,0.005264255183404156,0.002730188324649383,4.2080536057275544e-06,1.7376277988060767e-05,3.433063179417746e-05,0.00010100111055846874,0.00017698769150478906,6.439686588109045e-06,1.2885323668253108e-05,5.8912438052245976e-06,0.00048660203702011835,0.019476809291408066,4.545463942313321e-06,0.0005261592692429206,8.112836430670049e-05,0.0004457123454091431,0.00400428929463865,0.030393954073733687,4.271764361299468e-06,7.926732120684645e-06,0.00030282962516929856,4.594295543407392e-05,8.563796965572327e-06,2.036988677460417e-05,1.2037052476950459e-05,0.05367721313649496,4.867022143120781e-06,0.00013528682091182333,0.010101125217559265,0.00010841055314609413,0.0006503062720085249,1.2571919087957276e-05,0.014637555138650792,0.00021343434893853904,0.0002501163979438093,8.08585389130738e-05,4.1113298508009395e-06,2.525277072528041e-05,7.207701869161089e-05,2.761694076055857e-05,3.2123011865143136e-05,1.6178792528933295e-05,2.12823681393255e-05,5.149197805826263e-06,8.0344855378839e-07,7.05700742826996e-06,8.511006126220963e-08,1.934728117688423e-05,0.04171211188183845,0.0001372362858296267,0.000565749793734985,8.207995617581074e-06,8.732790637721589e-06,5.043480425424593e-06,1.4309466834066776e-06,1.5737712054640045e-05,4.940313898388515e-06,1.4895231528171468e-05,0.10055984390482109,0.002121236262171949,5.066562179265316e-06,9.852346277489665e-06,0.00427793913676562,1.3772690350429755e-05,1.8174421994387353e-05,0.001885935471805804,1.5941992995464667e-06,1.6006929204207734e-05,4.1015611546984553e-07,3.5641492369034067e-05,3.604836854913877e-05,2.540508306779439e-05,1.3056460389715756e-05,5.2822616985570724e-05,1.1820846886525212e-06,8.546870974887076e-05,5.612693724123281e-05,0.0038633621961948403,2.359294387236469e-05,0.0007881005585632962,2.3219342578744854e-05,0.029883158141660888,7.403939145513336e-05,5.1036075982334715e-06,7.038909888132847e-05,3.366584340752429e-06,0.00010101121017516,2.4735536642457163e-05,0.0009901350790514718,7.370281500487556e-06],\"xaxis\":\"x\",\"y\":[2.1e-05,0.0,8.4e-05,0.0,0.00021,2.1e-05,0.021,2.1e-05,1.9999999999999998e-05,6.4e-05,0.002,0.384,0.000169795588,0.00025,9.999999999999999e-05,0.000247,8.4e-05,4.8166e-05,2.1e-05,1.314e-05,1.8e-05,0.016555,0.021,0.0135,2.1e-05,0.000299792458,3.2e-05,1.1235812999999999e-05,0.000336,0.001420609614,7e-05,7.22457e-05,0.0906,2.1e-05,0.0002654208,1.9999999999999998e-05,1.35e-06,4.2e-05,0.00019999999999999998,9.999999999999999e-06,0.015,2.1e-05,0.000337,2.1e-05,0.00025,5.12e-05,0.000888,4.7011968e-05,4.2e-05,7.999999999999999e-05,2.5e-07,0.0,2.3e-05,8.4e-05,0.0002654208,4.4999999999999996e-05,0.184467440735,0.01,0.00010512,0.00168,0.000166386,2.628e-06,0.00015999999999999999,0.001,0.001,0.0,0.0,3.3713369999999998e-06,0.01,0.00184,6.19478e-07,2.1e-05,0.092,3.3e-05,6.57891e-05,5.376e-05,2.1e-05,0.00021024,0.00025,1.6906397e-05,0.0,1.6e-05,2.1e-05,0.00021,8.196209999999999e-05,8.4e-05,0.02162628,8.4e-05,3e-05,0.0001683513,2.4e-05,1.9999999999999998e-05,2.4999999999999998e-05,6.16448e-07,2.4999999999999998e-05,0.00019999999999999998,9.999999999999999e-06,9.736e-06,0.0012,0.00019999999999999998,1.0638297999999999e-05,3e-05,2.14e-05,2.6205539e-05,2.1e-05,0.01,0.0005,0.00022799999999999999,2.1e-05,2.714286e-06,2.4999999999999998e-05,9.999999e-06,0.09999999999999999,0.000185,3.36e-06,0.001,1.7e-05,9.999999999999999e-05,2.1e-05,2.232901e-06,0.004,4.8252e-05,3.55204e-05,0.0025,7.2e-05,0.000105,0.0,0.000340282367,3e-05,0.002,9.999999999999999e-05,1.9276799999999998e-05,7.5e-05,6e-05,1.89e-05,5.4e-05,2.1e-05,0.19999999999999998,0.005,0.0011,2.1e-05,0.0105,0.0,1.9999999999999998e-05,8.4e-05,9.999999999999999e-05,9.999999999999999e-05,8.8888888e-05,0.021,0.0018,2.7e-05,2.1e-05,0.00015630673271,9.999999999999999e-05,0.00035,4.4999999999999996e-05,0.00028,3.18e-05,0.00066,0.08499999999999999,1.2499999999999999e-05,0.01,0.00055,0.000999481516,0.004999999999,0.09,1.98e-05,2.1e-05,0.0005,6.4e-05,2.3e-05,2.0166e-05,2.3e-05,1.0,1.66e-05,0.000336,0.01,9.999999999999999e-05,0.0011,3.9999999999999996e-05,0.01840697984,0.0005,0.0065,0.001,2.1e-05,2.4999999999999998e-05,7e-05,0.0003,9.999999999999999e-05,1.84e-05,2.1e-05,2.628e-05,1.8e-05,1.05e-05,0.0006000005179999999,0.00015,0.184,0.000168,0.001,2.20757e-05,2.1e-05,2.1e-05,2.2105263e-05,0.00175,8.818888799999999e-05,0.00021,0.18447,0.0021,2.4999999999999998e-05,9.999999999999999e-05,0.0076,8.4e-05,2.1e-05,0.00808,0.00010512000144,2.5228799999999998e-05,2.1e-05,0.00012,0.0002628,3.0886e-05,9.999999999999999e-05,6.4e-05,2.1e-06,0.000168,0.09809999999999999,0.004,0.007,0.001,4.2e-05,0.049999999999999996,0.000105,4.9999999999999996e-06,0.000182,2.8e-06,0.0021,2.4487944e-05,0.00140022261,2.1e-05],\"yaxis\":\"y\"},{\"hovertemplate\":\"<b>%{hovertext}</b><br><br>Class=%{marker.color}<br>TotalCoinsMined=%{x}<br>TotalCoinSupply=%{y}<extra></extra>\",\"hovertext\":[\"LitecoinCash\",\"Poa Network\",\"Waves\"],\"legendgroup\":\"3\",\"marker\":{\"color\":[3,3,3],\"coloraxis\":\"coloraxis\",\"symbol\":\"square\"},\"mode\":\"markers\",\"name\":\"3\",\"orientation\":\"v\",\"showlegend\":true,\"type\":\"scatter\",\"x\":[0.0006448379477152089,0.00020654679617333478,0.00010101121017516],\"xaxis\":\"x\",\"y\":[0.00084,0.0002524608,9.999999999999999e-05],\"yaxis\":\"y\"},{\"hovertemplate\":\"<b>%{hovertext}</b><br><br>Class=%{marker.color}<br>TotalCoinsMined=%{x}<br>TotalCoinSupply=%{y}<extra></extra>\",\"hovertext\":[\"BitTorrent\"],\"legendgroup\":\"1\",\"marker\":{\"color\":[1],\"coloraxis\":\"coloraxis\",\"symbol\":\"x\"},\"mode\":\"markers\",\"name\":\"1\",\"orientation\":\"v\",\"showlegend\":true,\"type\":\"scatter\",\"x\":[1.0],\"xaxis\":\"x\",\"y\":[0.99],\"yaxis\":\"y\"}],                        {\"coloraxis\":{\"colorbar\":{\"title\":{\"text\":\"Class\"}},\"colorscale\":[[0.0,\"#0d0887\"],[0.1111111111111111,\"#46039f\"],[0.2222222222222222,\"#7201a8\"],[0.3333333333333333,\"#9c179e\"],[0.4444444444444444,\"#bd3786\"],[0.5555555555555556,\"#d8576b\"],[0.6666666666666666,\"#ed7953\"],[0.7777777777777778,\"#fb9f3a\"],[0.8888888888888888,\"#fdca26\"],[1.0,\"#f0f921\"]]},\"legend\":{\"title\":{\"text\":\"Class\"},\"tracegroupgap\":0},\"margin\":{\"t\":60},\"template\":{\"data\":{\"bar\":[{\"error_x\":{\"color\":\"#2a3f5f\"},\"error_y\":{\"color\":\"#2a3f5f\"},\"marker\":{\"line\":{\"color\":\"#E5ECF6\",\"width\":0.5},\"pattern\":{\"fillmode\":\"overlay\",\"size\":10,\"solidity\":0.2}},\"type\":\"bar\"}],\"barpolar\":[{\"marker\":{\"line\":{\"color\":\"#E5ECF6\",\"width\":0.5},\"pattern\":{\"fillmode\":\"overlay\",\"size\":10,\"solidity\":0.2}},\"type\":\"barpolar\"}],\"carpet\":[{\"aaxis\":{\"endlinecolor\":\"#2a3f5f\",\"gridcolor\":\"white\",\"linecolor\":\"white\",\"minorgridcolor\":\"white\",\"startlinecolor\":\"#2a3f5f\"},\"baxis\":{\"endlinecolor\":\"#2a3f5f\",\"gridcolor\":\"white\",\"linecolor\":\"white\",\"minorgridcolor\":\"white\",\"startlinecolor\":\"#2a3f5f\"},\"type\":\"carpet\"}],\"choropleth\":[{\"colorbar\":{\"outlinewidth\":0,\"ticks\":\"\"},\"type\":\"choropleth\"}],\"contour\":[{\"colorbar\":{\"outlinewidth\":0,\"ticks\":\"\"},\"colorscale\":[[0.0,\"#0d0887\"],[0.1111111111111111,\"#46039f\"],[0.2222222222222222,\"#7201a8\"],[0.3333333333333333,\"#9c179e\"],[0.4444444444444444,\"#bd3786\"],[0.5555555555555556,\"#d8576b\"],[0.6666666666666666,\"#ed7953\"],[0.7777777777777778,\"#fb9f3a\"],[0.8888888888888888,\"#fdca26\"],[1.0,\"#f0f921\"]],\"type\":\"contour\"}],\"contourcarpet\":[{\"colorbar\":{\"outlinewidth\":0,\"ticks\":\"\"},\"type\":\"contourcarpet\"}],\"heatmap\":[{\"colorbar\":{\"outlinewidth\":0,\"ticks\":\"\"},\"colorscale\":[[0.0,\"#0d0887\"],[0.1111111111111111,\"#46039f\"],[0.2222222222222222,\"#7201a8\"],[0.3333333333333333,\"#9c179e\"],[0.4444444444444444,\"#bd3786\"],[0.5555555555555556,\"#d8576b\"],[0.6666666666666666,\"#ed7953\"],[0.7777777777777778,\"#fb9f3a\"],[0.8888888888888888,\"#fdca26\"],[1.0,\"#f0f921\"]],\"type\":\"heatmap\"}],\"heatmapgl\":[{\"colorbar\":{\"outlinewidth\":0,\"ticks\":\"\"},\"colorscale\":[[0.0,\"#0d0887\"],[0.1111111111111111,\"#46039f\"],[0.2222222222222222,\"#7201a8\"],[0.3333333333333333,\"#9c179e\"],[0.4444444444444444,\"#bd3786\"],[0.5555555555555556,\"#d8576b\"],[0.6666666666666666,\"#ed7953\"],[0.7777777777777778,\"#fb9f3a\"],[0.8888888888888888,\"#fdca26\"],[1.0,\"#f0f921\"]],\"type\":\"heatmapgl\"}],\"histogram\":[{\"marker\":{\"pattern\":{\"fillmode\":\"overlay\",\"size\":10,\"solidity\":0.2}},\"type\":\"histogram\"}],\"histogram2d\":[{\"colorbar\":{\"outlinewidth\":0,\"ticks\":\"\"},\"colorscale\":[[0.0,\"#0d0887\"],[0.1111111111111111,\"#46039f\"],[0.2222222222222222,\"#7201a8\"],[0.3333333333333333,\"#9c179e\"],[0.4444444444444444,\"#bd3786\"],[0.5555555555555556,\"#d8576b\"],[0.6666666666666666,\"#ed7953\"],[0.7777777777777778,\"#fb9f3a\"],[0.8888888888888888,\"#fdca26\"],[1.0,\"#f0f921\"]],\"type\":\"histogram2d\"}],\"histogram2dcontour\":[{\"colorbar\":{\"outlinewidth\":0,\"ticks\":\"\"},\"colorscale\":[[0.0,\"#0d0887\"],[0.1111111111111111,\"#46039f\"],[0.2222222222222222,\"#7201a8\"],[0.3333333333333333,\"#9c179e\"],[0.4444444444444444,\"#bd3786\"],[0.5555555555555556,\"#d8576b\"],[0.6666666666666666,\"#ed7953\"],[0.7777777777777778,\"#fb9f3a\"],[0.8888888888888888,\"#fdca26\"],[1.0,\"#f0f921\"]],\"type\":\"histogram2dcontour\"}],\"mesh3d\":[{\"colorbar\":{\"outlinewidth\":0,\"ticks\":\"\"},\"type\":\"mesh3d\"}],\"parcoords\":[{\"line\":{\"colorbar\":{\"outlinewidth\":0,\"ticks\":\"\"}},\"type\":\"parcoords\"}],\"pie\":[{\"automargin\":true,\"type\":\"pie\"}],\"scatter\":[{\"marker\":{\"colorbar\":{\"outlinewidth\":0,\"ticks\":\"\"}},\"type\":\"scatter\"}],\"scatter3d\":[{\"line\":{\"colorbar\":{\"outlinewidth\":0,\"ticks\":\"\"}},\"marker\":{\"colorbar\":{\"outlinewidth\":0,\"ticks\":\"\"}},\"type\":\"scatter3d\"}],\"scattercarpet\":[{\"marker\":{\"colorbar\":{\"outlinewidth\":0,\"ticks\":\"\"}},\"type\":\"scattercarpet\"}],\"scattergeo\":[{\"marker\":{\"colorbar\":{\"outlinewidth\":0,\"ticks\":\"\"}},\"type\":\"scattergeo\"}],\"scattergl\":[{\"marker\":{\"colorbar\":{\"outlinewidth\":0,\"ticks\":\"\"}},\"type\":\"scattergl\"}],\"scattermapbox\":[{\"marker\":{\"colorbar\":{\"outlinewidth\":0,\"ticks\":\"\"}},\"type\":\"scattermapbox\"}],\"scatterpolar\":[{\"marker\":{\"colorbar\":{\"outlinewidth\":0,\"ticks\":\"\"}},\"type\":\"scatterpolar\"}],\"scatterpolargl\":[{\"marker\":{\"colorbar\":{\"outlinewidth\":0,\"ticks\":\"\"}},\"type\":\"scatterpolargl\"}],\"scatterternary\":[{\"marker\":{\"colorbar\":{\"outlinewidth\":0,\"ticks\":\"\"}},\"type\":\"scatterternary\"}],\"surface\":[{\"colorbar\":{\"outlinewidth\":0,\"ticks\":\"\"},\"colorscale\":[[0.0,\"#0d0887\"],[0.1111111111111111,\"#46039f\"],[0.2222222222222222,\"#7201a8\"],[0.3333333333333333,\"#9c179e\"],[0.4444444444444444,\"#bd3786\"],[0.5555555555555556,\"#d8576b\"],[0.6666666666666666,\"#ed7953\"],[0.7777777777777778,\"#fb9f3a\"],[0.8888888888888888,\"#fdca26\"],[1.0,\"#f0f921\"]],\"type\":\"surface\"}],\"table\":[{\"cells\":{\"fill\":{\"color\":\"#EBF0F8\"},\"line\":{\"color\":\"white\"}},\"header\":{\"fill\":{\"color\":\"#C8D4E3\"},\"line\":{\"color\":\"white\"}},\"type\":\"table\"}]},\"layout\":{\"annotationdefaults\":{\"arrowcolor\":\"#2a3f5f\",\"arrowhead\":0,\"arrowwidth\":1},\"autotypenumbers\":\"strict\",\"coloraxis\":{\"colorbar\":{\"outlinewidth\":0,\"ticks\":\"\"}},\"colorscale\":{\"diverging\":[[0,\"#8e0152\"],[0.1,\"#c51b7d\"],[0.2,\"#de77ae\"],[0.3,\"#f1b6da\"],[0.4,\"#fde0ef\"],[0.5,\"#f7f7f7\"],[0.6,\"#e6f5d0\"],[0.7,\"#b8e186\"],[0.8,\"#7fbc41\"],[0.9,\"#4d9221\"],[1,\"#276419\"]],\"sequential\":[[0.0,\"#0d0887\"],[0.1111111111111111,\"#46039f\"],[0.2222222222222222,\"#7201a8\"],[0.3333333333333333,\"#9c179e\"],[0.4444444444444444,\"#bd3786\"],[0.5555555555555556,\"#d8576b\"],[0.6666666666666666,\"#ed7953\"],[0.7777777777777778,\"#fb9f3a\"],[0.8888888888888888,\"#fdca26\"],[1.0,\"#f0f921\"]],\"sequentialminus\":[[0.0,\"#0d0887\"],[0.1111111111111111,\"#46039f\"],[0.2222222222222222,\"#7201a8\"],[0.3333333333333333,\"#9c179e\"],[0.4444444444444444,\"#bd3786\"],[0.5555555555555556,\"#d8576b\"],[0.6666666666666666,\"#ed7953\"],[0.7777777777777778,\"#fb9f3a\"],[0.8888888888888888,\"#fdca26\"],[1.0,\"#f0f921\"]]},\"colorway\":[\"#636efa\",\"#EF553B\",\"#00cc96\",\"#ab63fa\",\"#FFA15A\",\"#19d3f3\",\"#FF6692\",\"#B6E880\",\"#FF97FF\",\"#FECB52\"],\"font\":{\"color\":\"#2a3f5f\"},\"geo\":{\"bgcolor\":\"white\",\"lakecolor\":\"white\",\"landcolor\":\"#E5ECF6\",\"showlakes\":true,\"showland\":true,\"subunitcolor\":\"white\"},\"hoverlabel\":{\"align\":\"left\"},\"hovermode\":\"closest\",\"mapbox\":{\"style\":\"light\"},\"paper_bgcolor\":\"white\",\"plot_bgcolor\":\"#E5ECF6\",\"polar\":{\"angularaxis\":{\"gridcolor\":\"white\",\"linecolor\":\"white\",\"ticks\":\"\"},\"bgcolor\":\"#E5ECF6\",\"radialaxis\":{\"gridcolor\":\"white\",\"linecolor\":\"white\",\"ticks\":\"\"}},\"scene\":{\"xaxis\":{\"backgroundcolor\":\"#E5ECF6\",\"gridcolor\":\"white\",\"gridwidth\":2,\"linecolor\":\"white\",\"showbackground\":true,\"ticks\":\"\",\"zerolinecolor\":\"white\"},\"yaxis\":{\"backgroundcolor\":\"#E5ECF6\",\"gridcolor\":\"white\",\"gridwidth\":2,\"linecolor\":\"white\",\"showbackground\":true,\"ticks\":\"\",\"zerolinecolor\":\"white\"},\"zaxis\":{\"backgroundcolor\":\"#E5ECF6\",\"gridcolor\":\"white\",\"gridwidth\":2,\"linecolor\":\"white\",\"showbackground\":true,\"ticks\":\"\",\"zerolinecolor\":\"white\"}},\"shapedefaults\":{\"line\":{\"color\":\"#2a3f5f\"}},\"ternary\":{\"aaxis\":{\"gridcolor\":\"white\",\"linecolor\":\"white\",\"ticks\":\"\"},\"baxis\":{\"gridcolor\":\"white\",\"linecolor\":\"white\",\"ticks\":\"\"},\"bgcolor\":\"#E5ECF6\",\"caxis\":{\"gridcolor\":\"white\",\"linecolor\":\"white\",\"ticks\":\"\"}},\"title\":{\"x\":0.05},\"xaxis\":{\"automargin\":true,\"gridcolor\":\"white\",\"linecolor\":\"white\",\"ticks\":\"\",\"title\":{\"standoff\":15},\"zerolinecolor\":\"white\",\"zerolinewidth\":2},\"yaxis\":{\"automargin\":true,\"gridcolor\":\"white\",\"linecolor\":\"white\",\"ticks\":\"\",\"title\":{\"standoff\":15},\"zerolinecolor\":\"white\",\"zerolinewidth\":2}}},\"xaxis\":{\"anchor\":\"y\",\"domain\":[0.0,1.0],\"title\":{\"text\":\"TotalCoinsMined\"}},\"yaxis\":{\"anchor\":\"x\",\"domain\":[0.0,1.0],\"title\":{\"text\":\"TotalCoinSupply\"}}},                        {\"responsive\": true}                    ).then(function(){\n",
       "                            \n",
       "var gd = document.getElementById('cfd3bf52-d21d-471c-84ac-b8cb3f37cc7c');\n",
       "var x = new MutationObserver(function (mutations, observer) {{\n",
       "        var display = window.getComputedStyle(gd).display;\n",
       "        if (!display || display === 'none') {{\n",
       "            console.log([gd, 'removed!']);\n",
       "            Plotly.purge(gd);\n",
       "            observer.disconnect();\n",
       "        }}\n",
       "}});\n",
       "\n",
       "// Listen for the removal of the full notebook cells\n",
       "var notebookContainer = gd.closest('#notebook-container');\n",
       "if (notebookContainer) {{\n",
       "    x.observe(notebookContainer, {childList: true});\n",
       "}}\n",
       "\n",
       "// Listen for the clearing of the current output cell\n",
       "var outputEl = gd.closest('.output');\n",
       "if (outputEl) {{\n",
       "    x.observe(outputEl, {childList: true});\n",
       "}}\n",
       "\n",
       "                        })                };                });            </script>        </div>"
      ]
     },
     "metadata": {},
     "output_type": "display_data"
    }
   ],
   "source": [
    "# Create a hvplot.scatter plot using x=\"TotalCoinsMined\" and y=\"TotalCoinSupply\".\n",
    "new_fig = px.scatter(\n",
    "    plot_df,\n",
    "    x=\"TotalCoinsMined\",\n",
    "    y=\"TotalCoinSupply\",\n",
    "    color=\"Class\",\n",
    "    symbol=\"Class\",\n",
    "    hover_name=(\"CoinName\"),\n",
    ")\n",
    "\n",
    "new_fig.show()"
   ]
  },
  {
   "cell_type": "code",
   "execution_count": null,
   "metadata": {},
   "outputs": [],
   "source": []
  }
 ],
 "metadata": {
  "file_extension": ".py",
  "kernelspec": {
   "display_name": "mlenv",
   "language": "python",
   "name": "mlenv"
  },
  "language_info": {
   "codemirror_mode": {
    "name": "ipython",
    "version": 3
   },
   "file_extension": ".py",
   "mimetype": "text/x-python",
   "name": "python",
   "nbconvert_exporter": "python",
   "pygments_lexer": "ipython3",
   "version": "3.7.10"
  },
  "latex_envs": {
   "LaTeX_envs_menu_present": true,
   "autoclose": false,
   "autocomplete": true,
   "bibliofile": "biblio.bib",
   "cite_by": "apalike",
   "current_citInitial": 1,
   "eqLabelWithNumbers": true,
   "eqNumInitial": 1,
   "hotkeys": {
    "equation": "Ctrl-E",
    "itemize": "Ctrl-I"
   },
   "labels_anchors": false,
   "latex_user_defs": false,
   "report_style_numbering": false,
   "user_envs_cfg": false
  },
  "mimetype": "text/x-python",
  "name": "python",
  "npconvert_exporter": "python",
  "pygments_lexer": "ipython3",
  "version": 3
 },
 "nbformat": 4,
 "nbformat_minor": 2
}
